{
 "cells": [
  {
   "cell_type": "code",
   "execution_count": null,
   "metadata": {},
   "outputs": [],
   "source": [
    "import pandas as pd\n",
    "import numpy as np"
   ]
  },
  {
   "cell_type": "code",
   "execution_count": null,
   "metadata": {},
   "outputs": [],
   "source": []
  },
  {
   "cell_type": "code",
   "execution_count": null,
   "metadata": {},
   "outputs": [],
   "source": [
    "df=pd.read_csv(\"C:/Users/Administrateur.LAPTOP-FH8TB47B/Desktop/Projet_assemblee/liste_mandat.csv\") \n",
    "#on récupère le csv de la liste des mandats"
   ]
  },
  {
   "cell_type": "code",
   "execution_count": null,
   "metadata": {},
   "outputs": [],
   "source": [
    "mandat_dep=df.sort_values(by='Département')\n"
   ]
  },
  {
   "cell_type": "code",
   "execution_count": null,
   "metadata": {},
   "outputs": [],
   "source": [
    "mandat_dep['Département'].unique()"
   ]
  },
  {
   "cell_type": "code",
   "execution_count": null,
   "metadata": {},
   "outputs": [],
   "source": [
    "dep_possible=list(mandat_dep['Département'].unique())#une liste de tous les départements mentionnés\n",
    "dep_possible.remove(\" Département d'élection inconnu\")\n",
    "for dep in dep_possible :#on enlève les nan\n",
    "    if type(dep)!=str :\n",
    "        dep_possible.remove(dep)\n",
    "#dep_possible\n",
    "#attention, il y a souvent un espace avant !\n",
    "print(dep_possible)"
   ]
  },
  {
   "cell_type": "markdown",
   "metadata": {},
   "source": [
    "Voilà une autre possiblité"
   ]
  },
  {
   "cell_type": "code",
   "execution_count": null,
   "metadata": {},
   "outputs": [],
   "source": [
    "dep_possible=list(mandat_dep['Département'].unique())[:-1]#une liste de tous les départements mentionnés\n",
    "dep_possible.remove(\" Département d'élection inconnu\")\n",
    "dep_possible"
   ]
  },
  {
   "cell_type": "markdown",
   "metadata": {},
   "source": [
    "La suite"
   ]
  },
  {
   "cell_type": "code",
   "execution_count": null,
   "metadata": {},
   "outputs": [],
   "source": [
    "mandat_dep.count()#on vérifie qu'il n'y a pas trop de manques"
   ]
  },
  {
   "cell_type": "code",
   "execution_count": null,
   "metadata": {},
   "outputs": [],
   "source": [
    "mandat_dep.set_index('Département', inplace=True)#on met département en index pour pouvoir scinder par départements"
   ]
  },
  {
   "cell_type": "code",
   "execution_count": null,
   "metadata": {},
   "outputs": [],
   "source": [
    "liste_dep={}#on crée un dictionnaire où on va mettre les dataframes par départements\n",
    "for dep in dep_possible:#pour chaque département\n",
    "    mand_du_dep=mandat_dep.loc[dep]#on récupère le dataframe des mandats dans le département  \n",
    "    liste_dep[dep]=mand_du_dep#et on l'ajoute au dictionnaire"
   ]
  },
  {
   "cell_type": "code",
   "execution_count": null,
   "metadata": {},
   "outputs": [],
   "source": [
    "carac_dep={}\n",
    "for dep in dep_possible :\n",
    "    nbre_mandat=liste_dep[dep]['nom du député'].count()#on compte le nombre total de mandat dans le département\n",
    "    cpte_depute=0#on crée la variable qui va compter le nombre de députés différents\n",
    "    compte=[]#on crée une liste où on va mettre les députés déjà comptés\n",
    "    for depute in liste_dep[dep]['nom du député'] :#on boucle sur les noms de députés\n",
    "        if depute not in compte :#si on ne l'a pas déjà compté\n",
    "            cpte_depute+=1#on rajoute un au compte\n",
    "            compte.append(depute)#et on indique qu'on l'a désormais compté\n",
    "    carac_dep[dep]=pd.DataFrame(['nombre_mandat', 'nombre député','nombre moyen de mandats par député'], [nbre_mandat, cpte_depute, nbre_mandat/cpte_depute])#on crée un dataframe avec les informations\n",
    "    \n",
    "carac_dep\n"
   ]
  },
  {
   "cell_type": "markdown",
   "metadata": {},
   "source": [
    "Voilà un code plus court mais que je crois équivalent à ce que tu as fait :"
   ]
  },
  {
   "cell_type": "code",
   "execution_count": 91,
   "metadata": {},
   "outputs": [
    {
     "data": {
      "text/html": [
       "<div>\n",
       "<style scoped>\n",
       "    .dataframe tbody tr th:only-of-type {\n",
       "        vertical-align: middle;\n",
       "    }\n",
       "\n",
       "    .dataframe tbody tr th {\n",
       "        vertical-align: top;\n",
       "    }\n",
       "\n",
       "    .dataframe thead th {\n",
       "        text-align: right;\n",
       "    }\n",
       "</style>\n",
       "<table border=\"1\" class=\"dataframe\">\n",
       "  <thead>\n",
       "    <tr style=\"text-align: right;\">\n",
       "      <th></th>\n",
       "      <th>Ain</th>\n",
       "      <th>Aisne</th>\n",
       "      <th>Allier</th>\n",
       "      <th>Alpes-Maritimes</th>\n",
       "      <th>Alpes-de-Haute-Provence</th>\n",
       "      <th>Anciens départements d'Algérie</th>\n",
       "      <th>Ardennes</th>\n",
       "      <th>Ardèche</th>\n",
       "      <th>Ariège</th>\n",
       "      <th>Aube</th>\n",
       "      <th>...</th>\n",
       "      <th>Val-d'Oise</th>\n",
       "      <th>Val-de-Marne</th>\n",
       "      <th>Var</th>\n",
       "      <th>Vaucluse</th>\n",
       "      <th>Vendée</th>\n",
       "      <th>Vienne</th>\n",
       "      <th>Vosges</th>\n",
       "      <th>Wallis-et-Futuna</th>\n",
       "      <th>Yonne</th>\n",
       "      <th>Yvelines</th>\n",
       "    </tr>\n",
       "  </thead>\n",
       "  <tbody>\n",
       "    <tr>\n",
       "      <th>nombre_mandat</th>\n",
       "      <td>333.000000</td>\n",
       "      <td>454.000000</td>\n",
       "      <td>310.000000</td>\n",
       "      <td>266.000000</td>\n",
       "      <td>13.000000</td>\n",
       "      <td>314.000000</td>\n",
       "      <td>281.000000</td>\n",
       "      <td>300.000000</td>\n",
       "      <td>194.000000</td>\n",
       "      <td>275.000000</td>\n",
       "      <td>...</td>\n",
       "      <td>100.0</td>\n",
       "      <td>142.000000</td>\n",
       "      <td>349.000000</td>\n",
       "      <td>265.00</td>\n",
       "      <td>355.000000</td>\n",
       "      <td>307.000000</td>\n",
       "      <td>356.000</td>\n",
       "      <td>15.0</td>\n",
       "      <td>330.000000</td>\n",
       "      <td>182.000000</td>\n",
       "    </tr>\n",
       "    <tr>\n",
       "      <th>nombre député</th>\n",
       "      <td>149.000000</td>\n",
       "      <td>192.000000</td>\n",
       "      <td>161.000000</td>\n",
       "      <td>107.000000</td>\n",
       "      <td>11.000000</td>\n",
       "      <td>205.000000</td>\n",
       "      <td>132.000000</td>\n",
       "      <td>136.000000</td>\n",
       "      <td>90.000000</td>\n",
       "      <td>122.000000</td>\n",
       "      <td>...</td>\n",
       "      <td>50.0</td>\n",
       "      <td>57.000000</td>\n",
       "      <td>173.000000</td>\n",
       "      <td>125.00</td>\n",
       "      <td>151.000000</td>\n",
       "      <td>135.000000</td>\n",
       "      <td>160.000</td>\n",
       "      <td>5.0</td>\n",
       "      <td>149.000000</td>\n",
       "      <td>85.000000</td>\n",
       "    </tr>\n",
       "    <tr>\n",
       "      <th>nombre moyen de mandats par député</th>\n",
       "      <td>2.234899</td>\n",
       "      <td>2.364583</td>\n",
       "      <td>1.925466</td>\n",
       "      <td>2.485981</td>\n",
       "      <td>1.181818</td>\n",
       "      <td>1.531707</td>\n",
       "      <td>2.128788</td>\n",
       "      <td>2.205882</td>\n",
       "      <td>2.155556</td>\n",
       "      <td>2.254098</td>\n",
       "      <td>...</td>\n",
       "      <td>2.0</td>\n",
       "      <td>2.491228</td>\n",
       "      <td>2.017341</td>\n",
       "      <td>2.12</td>\n",
       "      <td>2.350993</td>\n",
       "      <td>2.274074</td>\n",
       "      <td>2.225</td>\n",
       "      <td>3.0</td>\n",
       "      <td>2.214765</td>\n",
       "      <td>2.141176</td>\n",
       "    </tr>\n",
       "  </tbody>\n",
       "</table>\n",
       "<p>3 rows × 157 columns</p>\n",
       "</div>"
      ],
      "text/plain": [
       "                                           Ain       Aisne      Allier  \\\n",
       "nombre_mandat                       333.000000  454.000000  310.000000   \n",
       "nombre député                       149.000000  192.000000  161.000000   \n",
       "nombre moyen de mandats par député    2.234899    2.364583    1.925466   \n",
       "\n",
       "                                     Alpes-Maritimes  \\\n",
       "nombre_mandat                             266.000000   \n",
       "nombre député                             107.000000   \n",
       "nombre moyen de mandats par député          2.485981   \n",
       "\n",
       "                                     Alpes-de-Haute-Provence  \\\n",
       "nombre_mandat                                      13.000000   \n",
       "nombre député                                      11.000000   \n",
       "nombre moyen de mandats par député                  1.181818   \n",
       "\n",
       "                                     Anciens départements d'Algérie  \\\n",
       "nombre_mandat                                            314.000000   \n",
       "nombre député                                            205.000000   \n",
       "nombre moyen de mandats par député                         1.531707   \n",
       "\n",
       "                                      Ardennes     Ardèche      Ariège  \\\n",
       "nombre_mandat                       281.000000  300.000000  194.000000   \n",
       "nombre député                       132.000000  136.000000   90.000000   \n",
       "nombre moyen de mandats par député    2.128788    2.205882    2.155556   \n",
       "\n",
       "                                          Aube  ...   Val-d'Oise  \\\n",
       "nombre_mandat                       275.000000  ...        100.0   \n",
       "nombre député                       122.000000  ...         50.0   \n",
       "nombre moyen de mandats par député    2.254098  ...          2.0   \n",
       "\n",
       "                                     Val-de-Marne         Var   Vaucluse  \\\n",
       "nombre_mandat                          142.000000  349.000000     265.00   \n",
       "nombre député                           57.000000  173.000000     125.00   \n",
       "nombre moyen de mandats par député       2.491228    2.017341       2.12   \n",
       "\n",
       "                                        Vendée      Vienne   Vosges  \\\n",
       "nombre_mandat                       355.000000  307.000000  356.000   \n",
       "nombre député                       151.000000  135.000000  160.000   \n",
       "nombre moyen de mandats par député    2.350993    2.274074    2.225   \n",
       "\n",
       "                                     Wallis-et-Futuna       Yonne    Yvelines  \n",
       "nombre_mandat                                    15.0  330.000000  182.000000  \n",
       "nombre député                                     5.0  149.000000   85.000000  \n",
       "nombre moyen de mandats par député                3.0    2.214765    2.141176  \n",
       "\n",
       "[3 rows x 157 columns]"
      ]
     },
     "execution_count": 91,
     "metadata": {},
     "output_type": "execute_result"
    }
   ],
   "source": [
    "x,y,z=[],[],[]\n",
    "for dep in dep_possible :\n",
    "    x+=[liste_dep[dep]['nom du député'].count()]#on compte le nombre total de mandat dans le département\n",
    "    y+=[len(mandat_dep[mandat_dep['Département']==dep]['nom du député'].unique())]#Puis le nombre de députés différent par dpt\n",
    "    z+=[x[-1]/y[-1]] #Ceci est le nombre moyen de mandat par député\n",
    "    \n",
    "carac_dep_bis=np.array([x, y, z])#on crée un dataframe avec les informations\n",
    "df = pd.DataFrame(carac_dep_bis, index=['nombre_mandat', 'nombre député','nombre moyen de mandats par député'],columns=dep_possible)\n",
    "df.head()"
   ]
  }
 ],
 "metadata": {
  "kernelspec": {
   "display_name": "Python 3",
   "language": "python",
   "name": "python3"
  },
  "language_info": {
   "codemirror_mode": {
    "name": "ipython",
    "version": 3
   },
   "file_extension": ".py",
   "mimetype": "text/x-python",
   "name": "python",
   "nbconvert_exporter": "python",
   "pygments_lexer": "ipython3",
   "version": "3.8.3"
  }
 },
 "nbformat": 4,
 "nbformat_minor": 2
}

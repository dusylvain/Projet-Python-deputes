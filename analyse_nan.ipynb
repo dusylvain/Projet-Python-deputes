{
 "cells": [
  {
   "cell_type": "code",
   "execution_count": 1,
   "metadata": {
    "scrolled": true
   },
   "outputs": [],
   "source": [
    "import pandas as pd\n",
    "import numpy as np"
   ]
  },
  {
   "cell_type": "code",
   "execution_count": null,
   "metadata": {
    "scrolled": true
   },
   "outputs": [],
   "source": []
  },
  {
   "cell_type": "code",
   "execution_count": 2,
   "metadata": {
    "scrolled": true
   },
   "outputs": [],
   "source": [
    "df=pd.read_csv(\"C:/Users/Administrateur.LAPTOP-FH8TB47B/Desktop/Projet_assemblee/liste_mandatdef.csv\") \n",
    "#on récupère le csv de la liste des mandats"
   ]
  },
  {
   "cell_type": "markdown",
   "metadata": {},
   "source": [
    "#### Analyse des NAN"
   ]
  },
  {
   "cell_type": "markdown",
   "metadata": {},
   "source": [
    "Les nan de département sont très majoitairement issu de la révolution :"
   ]
  },
  {
   "cell_type": "code",
   "execution_count": 3,
   "metadata": {},
   "outputs": [
    {
     "data": {
      "text/plain": [
       "Unnamed: 0          197\n",
       "Département           0\n",
       "Groupe              190\n",
       "Législature         197\n",
       "Mandat              197\n",
       "Régime politique    195\n",
       "Nom                 197\n",
       "dtype: int64"
      ]
     },
     "execution_count": 3,
     "metadata": {},
     "output_type": "execute_result"
    }
   ],
   "source": [
    "df[df['Département'].isna()].count()"
   ]
  },
  {
   "cell_type": "code",
   "execution_count": 8,
   "metadata": {},
   "outputs": [
    {
     "name": "stderr",
     "output_type": "stream",
     "text": [
      "<ipython-input-8-1b31625295a1>:1: UserWarning: Boolean Series key will be reindexed to match DataFrame index.\n",
      "  df[df['Département'].isna()][df['Régime politique']!='Révolution']\n"
     ]
    },
    {
     "data": {
      "text/html": [
       "<div>\n",
       "<style scoped>\n",
       "    .dataframe tbody tr th:only-of-type {\n",
       "        vertical-align: middle;\n",
       "    }\n",
       "\n",
       "    .dataframe tbody tr th {\n",
       "        vertical-align: top;\n",
       "    }\n",
       "\n",
       "    .dataframe thead th {\n",
       "        text-align: right;\n",
       "    }\n",
       "</style>\n",
       "<table border=\"1\" class=\"dataframe\">\n",
       "  <thead>\n",
       "    <tr style=\"text-align: right;\">\n",
       "      <th></th>\n",
       "      <th>Unnamed: 0</th>\n",
       "      <th>Département</th>\n",
       "      <th>Groupe</th>\n",
       "      <th>Législature</th>\n",
       "      <th>Mandat</th>\n",
       "      <th>Régime politique</th>\n",
       "      <th>Nom</th>\n",
       "    </tr>\n",
       "  </thead>\n",
       "  <tbody>\n",
       "    <tr>\n",
       "      <th>3591</th>\n",
       "      <td>0</td>\n",
       "      <td>NaN</td>\n",
       "      <td>Parti socialiste et radicaux de gauche</td>\n",
       "      <td>Ve législature</td>\n",
       "      <td>Du 2 avril 1973 au 2 avril 1978</td>\n",
       "      <td>Cinquième République - Assemblée nationale</td>\n",
       "      <td>Nicolas Alfonsi</td>\n",
       "    </tr>\n",
       "    <tr>\n",
       "      <th>7479</th>\n",
       "      <td>0</td>\n",
       "      <td>NaN</td>\n",
       "      <td>Union des démocrates pour la République</td>\n",
       "      <td>Ve législature</td>\n",
       "      <td>Du 2 avril 1973 au 2 avril 1978</td>\n",
       "      <td>Cinquième République - Assemblée nationale</td>\n",
       "      <td>Jean-Paul de Rocca-Serra</td>\n",
       "    </tr>\n",
       "    <tr>\n",
       "      <th>8630</th>\n",
       "      <td>0</td>\n",
       "      <td>NaN</td>\n",
       "      <td>Union des démocrates pour la République</td>\n",
       "      <td>Ve législature</td>\n",
       "      <td>Du 2 avril 1973 au 2 avril 1978</td>\n",
       "      <td>Cinquième République - Assemblée nationale</td>\n",
       "      <td>Jean Zuccarelli</td>\n",
       "    </tr>\n",
       "    <tr>\n",
       "      <th>26220</th>\n",
       "      <td>0</td>\n",
       "      <td>NaN</td>\n",
       "      <td>Droite</td>\n",
       "      <td>Assemblée nationale législative</td>\n",
       "      <td>Du 13 mai 1849 au 2 décembre 1851</td>\n",
       "      <td>Deuxième République</td>\n",
       "      <td>Alphée Bourdon de Vatry</td>\n",
       "    </tr>\n",
       "    <tr>\n",
       "      <th>27765</th>\n",
       "      <td>0</td>\n",
       "      <td>NaN</td>\n",
       "      <td>NaN</td>\n",
       "      <td>(Législature en cours)</td>\n",
       "      <td>Depuis le 2 novembre 2020 (mandat en cours)</td>\n",
       "      <td>NaN</td>\n",
       "      <td>Joseph, François, Marie Kermorial</td>\n",
       "    </tr>\n",
       "    <tr>\n",
       "      <th>30956</th>\n",
       "      <td>0</td>\n",
       "      <td>NaN</td>\n",
       "      <td>NaN</td>\n",
       "      <td>Chambre des députés des départements</td>\n",
       "      <td>Du 4 juin 1814 au 20 mars 1815</td>\n",
       "      <td>Première Restauration</td>\n",
       "      <td>Maurice, Gabriel, Joseph de Riquet de Caraman</td>\n",
       "    </tr>\n",
       "    <tr>\n",
       "      <th>32018</th>\n",
       "      <td>0</td>\n",
       "      <td>NaN</td>\n",
       "      <td>NaN</td>\n",
       "      <td>Corps législatif</td>\n",
       "      <td>Du 25 décembre 1799 au 20 mars 1803</td>\n",
       "      <td>Consulat et Premier Empire</td>\n",
       "      <td>François, Régis, Benjamin Devinck-Thiery</td>\n",
       "    </tr>\n",
       "    <tr>\n",
       "      <th>33554</th>\n",
       "      <td>0</td>\n",
       "      <td>NaN</td>\n",
       "      <td>NaN</td>\n",
       "      <td>Ire législature</td>\n",
       "      <td>Du 7 octobre 1815 au 5 septembre 1816</td>\n",
       "      <td>Seconde Restauration - Chambre des députés des...</td>\n",
       "      <td>Denis Le Maréchal</td>\n",
       "    </tr>\n",
       "    <tr>\n",
       "      <th>34781</th>\n",
       "      <td>0</td>\n",
       "      <td>NaN</td>\n",
       "      <td>NaN</td>\n",
       "      <td>(Législature en cours)</td>\n",
       "      <td>Depuis le 2 novembre 2020 (mandat en cours)</td>\n",
       "      <td>NaN</td>\n",
       "      <td>Emmanuel, Joseph Sieyès</td>\n",
       "    </tr>\n",
       "    <tr>\n",
       "      <th>35060</th>\n",
       "      <td>0</td>\n",
       "      <td>NaN</td>\n",
       "      <td>NaN</td>\n",
       "      <td>Chambre des députés des départements</td>\n",
       "      <td>Du 4 juin 1814 au 20 mars 1815</td>\n",
       "      <td>Première Restauration</td>\n",
       "      <td>Sigismond Moreau de Delémont</td>\n",
       "    </tr>\n",
       "  </tbody>\n",
       "</table>\n",
       "</div>"
      ],
      "text/plain": [
       "       Unnamed: 0 Département                                     Groupe  \\\n",
       "3591            0         NaN     Parti socialiste et radicaux de gauche   \n",
       "7479            0         NaN   Union des démocrates pour la République    \n",
       "8630            0         NaN    Union des démocrates pour la République   \n",
       "26220           0         NaN                                     Droite   \n",
       "27765           0         NaN                                        NaN   \n",
       "30956           0         NaN                                        NaN   \n",
       "32018           0         NaN                                        NaN   \n",
       "33554           0         NaN                                        NaN   \n",
       "34781           0         NaN                                        NaN   \n",
       "35060           0         NaN                                        NaN   \n",
       "\n",
       "                                  Législature  \\\n",
       "3591                          Ve législature    \n",
       "7479                          Ve législature    \n",
       "8630                          Ve législature    \n",
       "26220        Assemblée nationale législative    \n",
       "27765                  (Législature en cours)   \n",
       "30956   Chambre des députés des départements    \n",
       "32018                       Corps législatif    \n",
       "33554                        Ire législature    \n",
       "34781                  (Législature en cours)   \n",
       "35060   Chambre des députés des départements    \n",
       "\n",
       "                                             Mandat  \\\n",
       "3591                Du 2 avril 1973 au 2 avril 1978   \n",
       "7479                Du 2 avril 1973 au 2 avril 1978   \n",
       "8630                Du 2 avril 1973 au 2 avril 1978   \n",
       "26220             Du 13 mai 1849 au 2 décembre 1851   \n",
       "27765   Depuis le 2 novembre 2020 (mandat en cours)   \n",
       "30956                Du 4 juin 1814 au 20 mars 1815   \n",
       "32018           Du 25 décembre 1799 au 20 mars 1803   \n",
       "33554         Du 7 octobre 1815 au 5 septembre 1816   \n",
       "34781   Depuis le 2 novembre 2020 (mandat en cours)   \n",
       "35060                Du 4 juin 1814 au 20 mars 1815   \n",
       "\n",
       "                                        Régime politique  \\\n",
       "3591          Cinquième République - Assemblée nationale   \n",
       "7479          Cinquième République - Assemblée nationale   \n",
       "8630          Cinquième République - Assemblée nationale   \n",
       "26220                                Deuxième République   \n",
       "27765                                                NaN   \n",
       "30956                              Première Restauration   \n",
       "32018                         Consulat et Premier Empire   \n",
       "33554  Seconde Restauration - Chambre des députés des...   \n",
       "34781                                                NaN   \n",
       "35060                              Première Restauration   \n",
       "\n",
       "                                                 Nom  \n",
       "3591                                 Nicolas Alfonsi  \n",
       "7479                        Jean-Paul de Rocca-Serra  \n",
       "8630                                 Jean Zuccarelli  \n",
       "26220                        Alphée Bourdon de Vatry  \n",
       "27765              Joseph, François, Marie Kermorial  \n",
       "30956  Maurice, Gabriel, Joseph de Riquet de Caraman  \n",
       "32018       François, Régis, Benjamin Devinck-Thiery  \n",
       "33554                              Denis Le Maréchal  \n",
       "34781                        Emmanuel, Joseph Sieyès  \n",
       "35060                   Sigismond Moreau de Delémont  "
      ]
     },
     "execution_count": 8,
     "metadata": {},
     "output_type": "execute_result"
    }
   ],
   "source": [
    "df[df['Département'].isna()][df['Régime politique']!='Révolution']"
   ]
  },
  {
   "cell_type": "markdown",
   "metadata": {},
   "source": [
    "Pour les régime politique, on a les cas super-pathologique + des personnes de cette législature un peu perdu"
   ]
  },
  {
   "cell_type": "code",
   "execution_count": 5,
   "metadata": {},
   "outputs": [
    {
     "data": {
      "text/html": [
       "<div>\n",
       "<style scoped>\n",
       "    .dataframe tbody tr th:only-of-type {\n",
       "        vertical-align: middle;\n",
       "    }\n",
       "\n",
       "    .dataframe tbody tr th {\n",
       "        vertical-align: top;\n",
       "    }\n",
       "\n",
       "    .dataframe thead th {\n",
       "        text-align: right;\n",
       "    }\n",
       "</style>\n",
       "<table border=\"1\" class=\"dataframe\">\n",
       "  <thead>\n",
       "    <tr style=\"text-align: right;\">\n",
       "      <th></th>\n",
       "      <th>Unnamed: 0</th>\n",
       "      <th>Département</th>\n",
       "      <th>Groupe</th>\n",
       "      <th>Législature</th>\n",
       "      <th>Mandat</th>\n",
       "      <th>Régime politique</th>\n",
       "      <th>Nom</th>\n",
       "    </tr>\n",
       "  </thead>\n",
       "  <tbody>\n",
       "    <tr>\n",
       "      <th>27765</th>\n",
       "      <td>0</td>\n",
       "      <td>NaN</td>\n",
       "      <td>NaN</td>\n",
       "      <td>(Législature en cours)</td>\n",
       "      <td>Depuis le 2 novembre 2020 (mandat en cours)</td>\n",
       "      <td>NaN</td>\n",
       "      <td>Joseph, François, Marie Kermorial</td>\n",
       "    </tr>\n",
       "    <tr>\n",
       "      <th>34781</th>\n",
       "      <td>0</td>\n",
       "      <td>NaN</td>\n",
       "      <td>NaN</td>\n",
       "      <td>(Législature en cours)</td>\n",
       "      <td>Depuis le 2 novembre 2020 (mandat en cours)</td>\n",
       "      <td>NaN</td>\n",
       "      <td>Emmanuel, Joseph Sieyès</td>\n",
       "    </tr>\n",
       "  </tbody>\n",
       "</table>\n",
       "</div>"
      ],
      "text/plain": [
       "       Unnamed: 0 Département Groupe               Législature  \\\n",
       "27765           0         NaN    NaN    (Législature en cours)   \n",
       "34781           0         NaN    NaN    (Législature en cours)   \n",
       "\n",
       "                                             Mandat Régime politique  \\\n",
       "27765   Depuis le 2 novembre 2020 (mandat en cours)              NaN   \n",
       "34781   Depuis le 2 novembre 2020 (mandat en cours)              NaN   \n",
       "\n",
       "                                     Nom  \n",
       "27765  Joseph, François, Marie Kermorial  \n",
       "34781            Emmanuel, Joseph Sieyès  "
      ]
     },
     "execution_count": 5,
     "metadata": {},
     "output_type": "execute_result"
    }
   ],
   "source": [
    "df[df['Régime politique'].isna()]"
   ]
  },
  {
   "cell_type": "markdown",
   "metadata": {},
   "source": [
    "La ce n'est que les cas super pathologiques => Ils n'existent plus !"
   ]
  },
  {
   "cell_type": "code",
   "execution_count": 6,
   "metadata": {},
   "outputs": [
    {
     "data": {
      "text/html": [
       "<div>\n",
       "<style scoped>\n",
       "    .dataframe tbody tr th:only-of-type {\n",
       "        vertical-align: middle;\n",
       "    }\n",
       "\n",
       "    .dataframe tbody tr th {\n",
       "        vertical-align: top;\n",
       "    }\n",
       "\n",
       "    .dataframe thead th {\n",
       "        text-align: right;\n",
       "    }\n",
       "</style>\n",
       "<table border=\"1\" class=\"dataframe\">\n",
       "  <thead>\n",
       "    <tr style=\"text-align: right;\">\n",
       "      <th></th>\n",
       "      <th>Unnamed: 0</th>\n",
       "      <th>Département</th>\n",
       "      <th>Groupe</th>\n",
       "      <th>Législature</th>\n",
       "      <th>Mandat</th>\n",
       "      <th>Régime politique</th>\n",
       "      <th>Nom</th>\n",
       "    </tr>\n",
       "  </thead>\n",
       "  <tbody>\n",
       "  </tbody>\n",
       "</table>\n",
       "</div>"
      ],
      "text/plain": [
       "Empty DataFrame\n",
       "Columns: [Unnamed: 0, Département, Groupe, Législature, Mandat, Régime politique, Nom]\n",
       "Index: []"
      ]
     },
     "execution_count": 6,
     "metadata": {},
     "output_type": "execute_result"
    }
   ],
   "source": [
    "df[df['Mandat'].isna()]"
   ]
  },
  {
   "cell_type": "markdown",
   "metadata": {},
   "source": [
    "On a beaucoup de nan dans les groupes mais c'est plus normal."
   ]
  },
  {
   "cell_type": "code",
   "execution_count": 7,
   "metadata": {},
   "outputs": [
    {
     "data": {
      "text/plain": [
       "Unnamed: 0          4123\n",
       "Département         4116\n",
       "Groupe                 0\n",
       "Législature         4123\n",
       "Mandat              4123\n",
       "Régime politique    4121\n",
       "Nom                 4123\n",
       "dtype: int64"
      ]
     },
     "execution_count": 7,
     "metadata": {},
     "output_type": "execute_result"
    }
   ],
   "source": [
    "df[df['Groupe'].isna()].count()"
   ]
  }
 ],
 "metadata": {
  "kernelspec": {
   "display_name": "Python 3",
   "language": "python",
   "name": "python3"
  },
  "language_info": {
   "codemirror_mode": {
    "name": "ipython",
    "version": 3
   },
   "file_extension": ".py",
   "mimetype": "text/x-python",
   "name": "python",
   "nbconvert_exporter": "python",
   "pygments_lexer": "ipython3",
   "version": "3.8.3"
  }
 },
 "nbformat": 4,
 "nbformat_minor": 2
}

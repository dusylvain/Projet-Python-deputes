{
 "cells": [
  {
   "cell_type": "code",
   "execution_count": 1,
   "metadata": {
    "scrolled": true
   },
   "outputs": [],
   "source": [
    "import pandas as pd\n",
    "import numpy as np"
   ]
  },
  {
   "cell_type": "code",
   "execution_count": null,
   "metadata": {
    "scrolled": true
   },
   "outputs": [],
   "source": []
  },
  {
   "cell_type": "code",
   "execution_count": 12,
   "metadata": {
    "scrolled": true
   },
   "outputs": [],
   "source": [
    "df=pd.read_csv(\"C:/Users/Administrateur.LAPTOP-FH8TB47B/Desktop/Projet_assemblee/liste_mandatdef.csv\") \n",
    "df_depu=pd.read_csv(\"C:/Users/Administrateur.LAPTOP-FH8TB47B/Desktop/Projet_assemblee/table_depute.csv\")\n",
    "#on récupère le csv de la liste des mandats"
   ]
  },
  {
   "cell_type": "markdown",
   "metadata": {},
   "source": [
    "#### Analyse des NAN"
   ]
  },
  {
   "cell_type": "markdown",
   "metadata": {},
   "source": [
    "Les nan de département sont très majoitairement issu de la révolution :"
   ]
  },
  {
   "cell_type": "code",
   "execution_count": 3,
   "metadata": {},
   "outputs": [
    {
     "data": {
      "text/plain": [
       "Unnamed: 0          197\n",
       "Département           0\n",
       "Groupe              190\n",
       "Législature         197\n",
       "Mandat              197\n",
       "Régime politique    195\n",
       "Nom                 197\n",
       "dtype: int64"
      ]
     },
     "execution_count": 3,
     "metadata": {},
     "output_type": "execute_result"
    }
   ],
   "source": [
    "df[df['Département'].isna()].count()"
   ]
  },
  {
   "cell_type": "code",
   "execution_count": 8,
   "metadata": {},
   "outputs": [
    {
     "name": "stderr",
     "output_type": "stream",
     "text": [
      "<ipython-input-8-1b31625295a1>:1: UserWarning: Boolean Series key will be reindexed to match DataFrame index.\n",
      "  df[df['Département'].isna()][df['Régime politique']!='Révolution']\n"
     ]
    },
    {
     "data": {
      "text/html": [
       "<div>\n",
       "<style scoped>\n",
       "    .dataframe tbody tr th:only-of-type {\n",
       "        vertical-align: middle;\n",
       "    }\n",
       "\n",
       "    .dataframe tbody tr th {\n",
       "        vertical-align: top;\n",
       "    }\n",
       "\n",
       "    .dataframe thead th {\n",
       "        text-align: right;\n",
       "    }\n",
       "</style>\n",
       "<table border=\"1\" class=\"dataframe\">\n",
       "  <thead>\n",
       "    <tr style=\"text-align: right;\">\n",
       "      <th></th>\n",
       "      <th>Unnamed: 0</th>\n",
       "      <th>Département</th>\n",
       "      <th>Groupe</th>\n",
       "      <th>Législature</th>\n",
       "      <th>Mandat</th>\n",
       "      <th>Régime politique</th>\n",
       "      <th>Nom</th>\n",
       "    </tr>\n",
       "  </thead>\n",
       "  <tbody>\n",
       "    <tr>\n",
       "      <th>3591</th>\n",
       "      <td>0</td>\n",
       "      <td>NaN</td>\n",
       "      <td>Parti socialiste et radicaux de gauche</td>\n",
       "      <td>Ve législature</td>\n",
       "      <td>Du 2 avril 1973 au 2 avril 1978</td>\n",
       "      <td>Cinquième République - Assemblée nationale</td>\n",
       "      <td>Nicolas Alfonsi</td>\n",
       "    </tr>\n",
       "    <tr>\n",
       "      <th>7479</th>\n",
       "      <td>0</td>\n",
       "      <td>NaN</td>\n",
       "      <td>Union des démocrates pour la République</td>\n",
       "      <td>Ve législature</td>\n",
       "      <td>Du 2 avril 1973 au 2 avril 1978</td>\n",
       "      <td>Cinquième République - Assemblée nationale</td>\n",
       "      <td>Jean-Paul de Rocca-Serra</td>\n",
       "    </tr>\n",
       "    <tr>\n",
       "      <th>8630</th>\n",
       "      <td>0</td>\n",
       "      <td>NaN</td>\n",
       "      <td>Union des démocrates pour la République</td>\n",
       "      <td>Ve législature</td>\n",
       "      <td>Du 2 avril 1973 au 2 avril 1978</td>\n",
       "      <td>Cinquième République - Assemblée nationale</td>\n",
       "      <td>Jean Zuccarelli</td>\n",
       "    </tr>\n",
       "    <tr>\n",
       "      <th>26220</th>\n",
       "      <td>0</td>\n",
       "      <td>NaN</td>\n",
       "      <td>Droite</td>\n",
       "      <td>Assemblée nationale législative</td>\n",
       "      <td>Du 13 mai 1849 au 2 décembre 1851</td>\n",
       "      <td>Deuxième République</td>\n",
       "      <td>Alphée Bourdon de Vatry</td>\n",
       "    </tr>\n",
       "    <tr>\n",
       "      <th>27765</th>\n",
       "      <td>0</td>\n",
       "      <td>NaN</td>\n",
       "      <td>NaN</td>\n",
       "      <td>(Législature en cours)</td>\n",
       "      <td>Depuis le 2 novembre 2020 (mandat en cours)</td>\n",
       "      <td>NaN</td>\n",
       "      <td>Joseph, François, Marie Kermorial</td>\n",
       "    </tr>\n",
       "    <tr>\n",
       "      <th>30956</th>\n",
       "      <td>0</td>\n",
       "      <td>NaN</td>\n",
       "      <td>NaN</td>\n",
       "      <td>Chambre des députés des départements</td>\n",
       "      <td>Du 4 juin 1814 au 20 mars 1815</td>\n",
       "      <td>Première Restauration</td>\n",
       "      <td>Maurice, Gabriel, Joseph de Riquet de Caraman</td>\n",
       "    </tr>\n",
       "    <tr>\n",
       "      <th>32018</th>\n",
       "      <td>0</td>\n",
       "      <td>NaN</td>\n",
       "      <td>NaN</td>\n",
       "      <td>Corps législatif</td>\n",
       "      <td>Du 25 décembre 1799 au 20 mars 1803</td>\n",
       "      <td>Consulat et Premier Empire</td>\n",
       "      <td>François, Régis, Benjamin Devinck-Thiery</td>\n",
       "    </tr>\n",
       "    <tr>\n",
       "      <th>33554</th>\n",
       "      <td>0</td>\n",
       "      <td>NaN</td>\n",
       "      <td>NaN</td>\n",
       "      <td>Ire législature</td>\n",
       "      <td>Du 7 octobre 1815 au 5 septembre 1816</td>\n",
       "      <td>Seconde Restauration - Chambre des députés des...</td>\n",
       "      <td>Denis Le Maréchal</td>\n",
       "    </tr>\n",
       "    <tr>\n",
       "      <th>34781</th>\n",
       "      <td>0</td>\n",
       "      <td>NaN</td>\n",
       "      <td>NaN</td>\n",
       "      <td>(Législature en cours)</td>\n",
       "      <td>Depuis le 2 novembre 2020 (mandat en cours)</td>\n",
       "      <td>NaN</td>\n",
       "      <td>Emmanuel, Joseph Sieyès</td>\n",
       "    </tr>\n",
       "    <tr>\n",
       "      <th>35060</th>\n",
       "      <td>0</td>\n",
       "      <td>NaN</td>\n",
       "      <td>NaN</td>\n",
       "      <td>Chambre des députés des départements</td>\n",
       "      <td>Du 4 juin 1814 au 20 mars 1815</td>\n",
       "      <td>Première Restauration</td>\n",
       "      <td>Sigismond Moreau de Delémont</td>\n",
       "    </tr>\n",
       "  </tbody>\n",
       "</table>\n",
       "</div>"
      ],
      "text/plain": [
       "       Unnamed: 0 Département                                     Groupe  \\\n",
       "3591            0         NaN     Parti socialiste et radicaux de gauche   \n",
       "7479            0         NaN   Union des démocrates pour la République    \n",
       "8630            0         NaN    Union des démocrates pour la République   \n",
       "26220           0         NaN                                     Droite   \n",
       "27765           0         NaN                                        NaN   \n",
       "30956           0         NaN                                        NaN   \n",
       "32018           0         NaN                                        NaN   \n",
       "33554           0         NaN                                        NaN   \n",
       "34781           0         NaN                                        NaN   \n",
       "35060           0         NaN                                        NaN   \n",
       "\n",
       "                                  Législature  \\\n",
       "3591                          Ve législature    \n",
       "7479                          Ve législature    \n",
       "8630                          Ve législature    \n",
       "26220        Assemblée nationale législative    \n",
       "27765                  (Législature en cours)   \n",
       "30956   Chambre des députés des départements    \n",
       "32018                       Corps législatif    \n",
       "33554                        Ire législature    \n",
       "34781                  (Législature en cours)   \n",
       "35060   Chambre des députés des départements    \n",
       "\n",
       "                                             Mandat  \\\n",
       "3591                Du 2 avril 1973 au 2 avril 1978   \n",
       "7479                Du 2 avril 1973 au 2 avril 1978   \n",
       "8630                Du 2 avril 1973 au 2 avril 1978   \n",
       "26220             Du 13 mai 1849 au 2 décembre 1851   \n",
       "27765   Depuis le 2 novembre 2020 (mandat en cours)   \n",
       "30956                Du 4 juin 1814 au 20 mars 1815   \n",
       "32018           Du 25 décembre 1799 au 20 mars 1803   \n",
       "33554         Du 7 octobre 1815 au 5 septembre 1816   \n",
       "34781   Depuis le 2 novembre 2020 (mandat en cours)   \n",
       "35060                Du 4 juin 1814 au 20 mars 1815   \n",
       "\n",
       "                                        Régime politique  \\\n",
       "3591          Cinquième République - Assemblée nationale   \n",
       "7479          Cinquième République - Assemblée nationale   \n",
       "8630          Cinquième République - Assemblée nationale   \n",
       "26220                                Deuxième République   \n",
       "27765                                                NaN   \n",
       "30956                              Première Restauration   \n",
       "32018                         Consulat et Premier Empire   \n",
       "33554  Seconde Restauration - Chambre des députés des...   \n",
       "34781                                                NaN   \n",
       "35060                              Première Restauration   \n",
       "\n",
       "                                                 Nom  \n",
       "3591                                 Nicolas Alfonsi  \n",
       "7479                        Jean-Paul de Rocca-Serra  \n",
       "8630                                 Jean Zuccarelli  \n",
       "26220                        Alphée Bourdon de Vatry  \n",
       "27765              Joseph, François, Marie Kermorial  \n",
       "30956  Maurice, Gabriel, Joseph de Riquet de Caraman  \n",
       "32018       François, Régis, Benjamin Devinck-Thiery  \n",
       "33554                              Denis Le Maréchal  \n",
       "34781                        Emmanuel, Joseph Sieyès  \n",
       "35060                   Sigismond Moreau de Delémont  "
      ]
     },
     "execution_count": 8,
     "metadata": {},
     "output_type": "execute_result"
    }
   ],
   "source": [
    "df[df['Département'].isna()][df['Régime politique']!='Révolution']"
   ]
  },
  {
   "cell_type": "markdown",
   "metadata": {},
   "source": [
    "Pour les régime politique, on a les cas super-pathologique + des personnes de cette législature un peu perdu"
   ]
  },
  {
   "cell_type": "code",
   "execution_count": 5,
   "metadata": {},
   "outputs": [
    {
     "data": {
      "text/html": [
       "<div>\n",
       "<style scoped>\n",
       "    .dataframe tbody tr th:only-of-type {\n",
       "        vertical-align: middle;\n",
       "    }\n",
       "\n",
       "    .dataframe tbody tr th {\n",
       "        vertical-align: top;\n",
       "    }\n",
       "\n",
       "    .dataframe thead th {\n",
       "        text-align: right;\n",
       "    }\n",
       "</style>\n",
       "<table border=\"1\" class=\"dataframe\">\n",
       "  <thead>\n",
       "    <tr style=\"text-align: right;\">\n",
       "      <th></th>\n",
       "      <th>Unnamed: 0</th>\n",
       "      <th>Département</th>\n",
       "      <th>Groupe</th>\n",
       "      <th>Législature</th>\n",
       "      <th>Mandat</th>\n",
       "      <th>Régime politique</th>\n",
       "      <th>Nom</th>\n",
       "    </tr>\n",
       "  </thead>\n",
       "  <tbody>\n",
       "    <tr>\n",
       "      <th>27765</th>\n",
       "      <td>0</td>\n",
       "      <td>NaN</td>\n",
       "      <td>NaN</td>\n",
       "      <td>(Législature en cours)</td>\n",
       "      <td>Depuis le 2 novembre 2020 (mandat en cours)</td>\n",
       "      <td>NaN</td>\n",
       "      <td>Joseph, François, Marie Kermorial</td>\n",
       "    </tr>\n",
       "    <tr>\n",
       "      <th>34781</th>\n",
       "      <td>0</td>\n",
       "      <td>NaN</td>\n",
       "      <td>NaN</td>\n",
       "      <td>(Législature en cours)</td>\n",
       "      <td>Depuis le 2 novembre 2020 (mandat en cours)</td>\n",
       "      <td>NaN</td>\n",
       "      <td>Emmanuel, Joseph Sieyès</td>\n",
       "    </tr>\n",
       "  </tbody>\n",
       "</table>\n",
       "</div>"
      ],
      "text/plain": [
       "       Unnamed: 0 Département Groupe               Législature  \\\n",
       "27765           0         NaN    NaN    (Législature en cours)   \n",
       "34781           0         NaN    NaN    (Législature en cours)   \n",
       "\n",
       "                                             Mandat Régime politique  \\\n",
       "27765   Depuis le 2 novembre 2020 (mandat en cours)              NaN   \n",
       "34781   Depuis le 2 novembre 2020 (mandat en cours)              NaN   \n",
       "\n",
       "                                     Nom  \n",
       "27765  Joseph, François, Marie Kermorial  \n",
       "34781            Emmanuel, Joseph Sieyès  "
      ]
     },
     "execution_count": 5,
     "metadata": {},
     "output_type": "execute_result"
    }
   ],
   "source": [
    "df[df['Régime politique'].isna()]"
   ]
  },
  {
   "cell_type": "markdown",
   "metadata": {},
   "source": [
    "La ce n'est que les cas super pathologiques => Ils n'existent plus !"
   ]
  },
  {
   "cell_type": "code",
   "execution_count": 6,
   "metadata": {},
   "outputs": [
    {
     "data": {
      "text/html": [
       "<div>\n",
       "<style scoped>\n",
       "    .dataframe tbody tr th:only-of-type {\n",
       "        vertical-align: middle;\n",
       "    }\n",
       "\n",
       "    .dataframe tbody tr th {\n",
       "        vertical-align: top;\n",
       "    }\n",
       "\n",
       "    .dataframe thead th {\n",
       "        text-align: right;\n",
       "    }\n",
       "</style>\n",
       "<table border=\"1\" class=\"dataframe\">\n",
       "  <thead>\n",
       "    <tr style=\"text-align: right;\">\n",
       "      <th></th>\n",
       "      <th>Unnamed: 0</th>\n",
       "      <th>Département</th>\n",
       "      <th>Groupe</th>\n",
       "      <th>Législature</th>\n",
       "      <th>Mandat</th>\n",
       "      <th>Régime politique</th>\n",
       "      <th>Nom</th>\n",
       "    </tr>\n",
       "  </thead>\n",
       "  <tbody>\n",
       "  </tbody>\n",
       "</table>\n",
       "</div>"
      ],
      "text/plain": [
       "Empty DataFrame\n",
       "Columns: [Unnamed: 0, Département, Groupe, Législature, Mandat, Régime politique, Nom]\n",
       "Index: []"
      ]
     },
     "execution_count": 6,
     "metadata": {},
     "output_type": "execute_result"
    }
   ],
   "source": [
    "df[df['Mandat'].isna()]"
   ]
  },
  {
   "cell_type": "markdown",
   "metadata": {},
   "source": [
    "On a beaucoup de nan dans les groupes mais c'est plus normal."
   ]
  },
  {
   "cell_type": "code",
   "execution_count": 7,
   "metadata": {},
   "outputs": [
    {
     "data": {
      "text/plain": [
       "Unnamed: 0          4123\n",
       "Département         4116\n",
       "Groupe                 0\n",
       "Législature         4123\n",
       "Mandat              4123\n",
       "Régime politique    4121\n",
       "Nom                 4123\n",
       "dtype: int64"
      ]
     },
     "execution_count": 7,
     "metadata": {},
     "output_type": "execute_result"
    }
   ],
   "source": [
    "df[df['Groupe'].isna()].count()"
   ]
  },
  {
   "cell_type": "code",
   "execution_count": 30,
   "metadata": {},
   "outputs": [
    {
     "data": {
      "text/html": [
       "<div>\n",
       "<style scoped>\n",
       "    .dataframe tbody tr th:only-of-type {\n",
       "        vertical-align: middle;\n",
       "    }\n",
       "\n",
       "    .dataframe tbody tr th {\n",
       "        vertical-align: top;\n",
       "    }\n",
       "\n",
       "    .dataframe thead th {\n",
       "        text-align: right;\n",
       "    }\n",
       "</style>\n",
       "<table border=\"1\" class=\"dataframe\">\n",
       "  <thead>\n",
       "    <tr style=\"text-align: right;\">\n",
       "      <th></th>\n",
       "      <th>Unnamed: 0</th>\n",
       "      <th>Unnamed: 0.1</th>\n",
       "      <th>Nom</th>\n",
       "      <th>Né le</th>\n",
       "      <th>Département de naissance</th>\n",
       "      <th>Département de mort</th>\n",
       "      <th>nombre de mandat</th>\n",
       "      <th>age en année</th>\n",
       "      <th>premier dpt</th>\n",
       "      <th>élection locale</th>\n",
       "    </tr>\n",
       "  </thead>\n",
       "  <tbody>\n",
       "    <tr>\n",
       "      <th>4424</th>\n",
       "      <td>4424</td>\n",
       "      <td>4424</td>\n",
       "      <td>Pierre André</td>\n",
       "      <td>NaN</td>\n",
       "      <td>Meurthe</td>\n",
       "      <td>Inconnu</td>\n",
       "      <td>10.0</td>\n",
       "      <td>-105.533196</td>\n",
       "      <td>Meurthe-et-Moselle</td>\n",
       "      <td>False</td>\n",
       "    </tr>\n",
       "    <tr>\n",
       "      <th>4425</th>\n",
       "      <td>4425</td>\n",
       "      <td>4425</td>\n",
       "      <td>Pierre André</td>\n",
       "      <td>NaN</td>\n",
       "      <td>Inconnu</td>\n",
       "      <td>Inconnu</td>\n",
       "      <td>10.0</td>\n",
       "      <td>-105.533196</td>\n",
       "      <td>Meurthe-et-Moselle</td>\n",
       "      <td>False</td>\n",
       "    </tr>\n",
       "    <tr>\n",
       "      <th>6302</th>\n",
       "      <td>6302</td>\n",
       "      <td>6302</td>\n",
       "      <td>Pierre Michel</td>\n",
       "      <td>NaN</td>\n",
       "      <td>Côtes</td>\n",
       "      <td>Côtes</td>\n",
       "      <td>6.0</td>\n",
       "      <td>-81.007529</td>\n",
       "      <td>Côtes-du-Nord</td>\n",
       "      <td>False</td>\n",
       "    </tr>\n",
       "    <tr>\n",
       "      <th>6303</th>\n",
       "      <td>6303</td>\n",
       "      <td>6303</td>\n",
       "      <td>Pierre Michel</td>\n",
       "      <td>NaN</td>\n",
       "      <td>Inconnu</td>\n",
       "      <td>Inconnu</td>\n",
       "      <td>6.0</td>\n",
       "      <td>-81.007529</td>\n",
       "      <td>Côtes-du-Nord</td>\n",
       "      <td>False</td>\n",
       "    </tr>\n",
       "    <tr>\n",
       "      <th>16333</th>\n",
       "      <td>16333</td>\n",
       "      <td>16333</td>\n",
       "      <td>Charles Devroé</td>\n",
       "      <td>NaN</td>\n",
       "      <td>Inconnu</td>\n",
       "      <td>Inconnu</td>\n",
       "      <td>0.0</td>\n",
       "      <td>NaN</td>\n",
       "      <td>Départements de l'Empire français aujourd'hui...</td>\n",
       "      <td>False</td>\n",
       "    </tr>\n",
       "    <tr>\n",
       "      <th>...</th>\n",
       "      <td>...</td>\n",
       "      <td>...</td>\n",
       "      <td>...</td>\n",
       "      <td>...</td>\n",
       "      <td>...</td>\n",
       "      <td>...</td>\n",
       "      <td>...</td>\n",
       "      <td>...</td>\n",
       "      <td>...</td>\n",
       "      <td>...</td>\n",
       "    </tr>\n",
       "    <tr>\n",
       "      <th>16495</th>\n",
       "      <td>16495</td>\n",
       "      <td>16495</td>\n",
       "      <td>Bertrand Dufresne</td>\n",
       "      <td>NaN</td>\n",
       "      <td>Paris</td>\n",
       "      <td>Inconnu</td>\n",
       "      <td>0.0</td>\n",
       "      <td>NaN</td>\n",
       "      <td>Basses-Pyrénées</td>\n",
       "      <td>False</td>\n",
       "    </tr>\n",
       "    <tr>\n",
       "      <th>16496</th>\n",
       "      <td>16496</td>\n",
       "      <td>16496</td>\n",
       "      <td>Jean-François Vidalat</td>\n",
       "      <td>NaN</td>\n",
       "      <td>Inconnu</td>\n",
       "      <td>Inconnu</td>\n",
       "      <td>0.0</td>\n",
       "      <td>NaN</td>\n",
       "      <td>Ariège</td>\n",
       "      <td>False</td>\n",
       "    </tr>\n",
       "    <tr>\n",
       "      <th>16497</th>\n",
       "      <td>16497</td>\n",
       "      <td>16497</td>\n",
       "      <td>Louis Bernard-Saint-Affrique</td>\n",
       "      <td>NaN</td>\n",
       "      <td>Aveyron</td>\n",
       "      <td>Inconnu</td>\n",
       "      <td>0.0</td>\n",
       "      <td>NaN</td>\n",
       "      <td>Aveyron</td>\n",
       "      <td>True</td>\n",
       "    </tr>\n",
       "    <tr>\n",
       "      <th>16498</th>\n",
       "      <td>16498</td>\n",
       "      <td>16498</td>\n",
       "      <td>Louis, Gustave Doulcet de Pontécoulant</td>\n",
       "      <td>NaN</td>\n",
       "      <td>Calvados</td>\n",
       "      <td>Paris</td>\n",
       "      <td>0.0</td>\n",
       "      <td>NaN</td>\n",
       "      <td>Calvados</td>\n",
       "      <td>True</td>\n",
       "    </tr>\n",
       "    <tr>\n",
       "      <th>16499</th>\n",
       "      <td>16499</td>\n",
       "      <td>16499</td>\n",
       "      <td>Pierre Étienne Nicolas Germer Dubout-Boulanger</td>\n",
       "      <td>NaN</td>\n",
       "      <td>Oise</td>\n",
       "      <td>Oise</td>\n",
       "      <td>0.0</td>\n",
       "      <td>NaN</td>\n",
       "      <td>Oise</td>\n",
       "      <td>True</td>\n",
       "    </tr>\n",
       "  </tbody>\n",
       "</table>\n",
       "<p>171 rows × 10 columns</p>\n",
       "</div>"
      ],
      "text/plain": [
       "       Unnamed: 0  Unnamed: 0.1  \\\n",
       "4424         4424          4424   \n",
       "4425         4425          4425   \n",
       "6302         6302          6302   \n",
       "6303         6303          6303   \n",
       "16333       16333         16333   \n",
       "...           ...           ...   \n",
       "16495       16495         16495   \n",
       "16496       16496         16496   \n",
       "16497       16497         16497   \n",
       "16498       16498         16498   \n",
       "16499       16499         16499   \n",
       "\n",
       "                                                  Nom Né le  \\\n",
       "4424                                     Pierre André   NaN   \n",
       "4425                                     Pierre André   NaN   \n",
       "6302                                    Pierre Michel   NaN   \n",
       "6303                                    Pierre Michel   NaN   \n",
       "16333                                  Charles Devroé   NaN   \n",
       "...                                               ...   ...   \n",
       "16495                               Bertrand Dufresne   NaN   \n",
       "16496                           Jean-François Vidalat   NaN   \n",
       "16497                    Louis Bernard-Saint-Affrique   NaN   \n",
       "16498          Louis, Gustave Doulcet de Pontécoulant   NaN   \n",
       "16499  Pierre Étienne Nicolas Germer Dubout-Boulanger   NaN   \n",
       "\n",
       "      Département de naissance Département de mort  nombre de mandat  \\\n",
       "4424                   Meurthe             Inconnu              10.0   \n",
       "4425                   Inconnu             Inconnu              10.0   \n",
       "6302                     Côtes               Côtes               6.0   \n",
       "6303                   Inconnu             Inconnu               6.0   \n",
       "16333                  Inconnu             Inconnu               0.0   \n",
       "...                        ...                 ...               ...   \n",
       "16495                    Paris             Inconnu               0.0   \n",
       "16496                  Inconnu             Inconnu               0.0   \n",
       "16497                  Aveyron             Inconnu               0.0   \n",
       "16498                 Calvados               Paris               0.0   \n",
       "16499                     Oise                Oise               0.0   \n",
       "\n",
       "       age en année                                        premier dpt  \\\n",
       "4424    -105.533196                                 Meurthe-et-Moselle   \n",
       "4425    -105.533196                                 Meurthe-et-Moselle   \n",
       "6302     -81.007529                                      Côtes-du-Nord   \n",
       "6303     -81.007529                                      Côtes-du-Nord   \n",
       "16333           NaN   Départements de l'Empire français aujourd'hui...   \n",
       "...             ...                                                ...   \n",
       "16495           NaN                                    Basses-Pyrénées   \n",
       "16496           NaN                                             Ariège   \n",
       "16497           NaN                                            Aveyron   \n",
       "16498           NaN                                           Calvados   \n",
       "16499           NaN                                               Oise   \n",
       "\n",
       "       élection locale  \n",
       "4424             False  \n",
       "4425             False  \n",
       "6302             False  \n",
       "6303             False  \n",
       "16333            False  \n",
       "...                ...  \n",
       "16495            False  \n",
       "16496            False  \n",
       "16497             True  \n",
       "16498             True  \n",
       "16499             True  \n",
       "\n",
       "[171 rows x 10 columns]"
      ]
     },
     "execution_count": 30,
     "metadata": {},
     "output_type": "execute_result"
    }
   ],
   "source": [
    "df_depu[df_depu[\"Né le\"].isna()][df_de]"
   ]
  },
  {
   "cell_type": "code",
   "execution_count": 113,
   "metadata": {},
   "outputs": [],
   "source": [
    "d=pd.DataFrame([int(x[-4:]) for x in df_depu[df_depu[\"Département de naissance\"].isna()][\"Né le\"]])[0]"
   ]
  },
  {
   "cell_type": "code",
   "execution_count": 114,
   "metadata": {},
   "outputs": [
    {
     "data": {
      "text/plain": [
       "524"
      ]
     },
     "execution_count": 114,
     "metadata": {},
     "output_type": "execute_result"
    }
   ],
   "source": [
    "d.count()"
   ]
  },
  {
   "cell_type": "code",
   "execution_count": 115,
   "metadata": {},
   "outputs": [
    {
     "data": {
      "text/plain": [
       "<AxesSubplot:>"
      ]
     },
     "execution_count": 115,
     "metadata": {},
     "output_type": "execute_result"
    },
    {
     "data": {
      "image/png": "[encoded data removed]",
      "text/plain": [
       "<Figure size 432x288 with 1 Axes>"
      ]
     },
     "metadata": {
      "needs_background": "light"
     },
     "output_type": "display_data"
    }
   ],
   "source": [
    "d.hist(bins=10)"
   ]
  },
  {
   "cell_type": "code",
   "execution_count": 80,
   "metadata": {},
   "outputs": [],
   "source": [
    "a=df_depu[df_depu[\"Département de naissance\"]==\"Inconnu\"].set_index(\"Nom\").drop(\"Unnamed: 0\",axis=1).drop(\"Unnamed: 0.1\",axis=1)\n",
    "a=a[~a[\"Né le\"].isna()][\"Né le\"]"
   ]
  },
  {
   "cell_type": "code",
   "execution_count": 106,
   "metadata": {},
   "outputs": [
    {
     "data": {
      "text/plain": [
       "2192"
      ]
     },
     "execution_count": 106,
     "metadata": {},
     "output_type": "execute_result"
    }
   ],
   "source": [
    "a.count()"
   ]
  },
  {
   "cell_type": "code",
   "execution_count": 98,
   "metadata": {},
   "outputs": [
    {
     "data": {
      "text/plain": [
       "<AxesSubplot:>"
      ]
     },
     "execution_count": 98,
     "metadata": {},
     "output_type": "execute_result"
    },
    {
     "data": {
      "image/png": "[encoded data removed]",
      "text/plain": [
       "<Figure size 432x288 with 1 Axes>"
      ]
     },
     "metadata": {
      "needs_background": "light"
     },
     "output_type": "display_data"
    }
   ],
   "source": [
    "pd.DataFrame([int(x[-4:]) for x in a])[0].hist()"
   ]
  },
  {
   "cell_type": "code",
   "execution_count": null,
   "metadata": {},
   "outputs": [],
   "source": []
  }
 ],
 "metadata": {
  "kernelspec": {
   "display_name": "Python 3",
   "language": "python",
   "name": "python3"
  },
  "language_info": {
   "codemirror_mode": {
    "name": "ipython",
    "version": 3
   },
   "file_extension": ".py",
   "mimetype": "text/x-python",
   "name": "python",
   "nbconvert_exporter": "python",
   "pygments_lexer": "ipython3",
   "version": "3.8.5"
  }
 },
 "nbformat": 4,
 "nbformat_minor": 2
}

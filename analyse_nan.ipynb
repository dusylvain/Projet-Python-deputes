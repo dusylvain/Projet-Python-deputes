{
 "cells": [
  {
   "cell_type": "markdown",
   "metadata": {},
   "source": [
    "# Analyse des NAN"
   ]
  },
  {
   "cell_type": "markdown",
   "metadata": {},
   "source": [
    "On récupère les bases de données étudiées"
   ]
  },
  {
   "cell_type": "code",
   "execution_count": 1,
   "metadata": {
    "scrolled": true
   },
   "outputs": [],
   "source": [
    "import pandas as pd\n",
    "import numpy as np"
   ]
  },
  {
   "cell_type": "code",
   "execution_count": 3,
   "metadata": {
    "scrolled": true
   },
   "outputs": [],
   "source": [
    "df=pd.read_csv(\"C:/Users/Administrateur.LAPTOP-FH8TB47B/Desktop/Projet_assemblee/liste_mandatdef.csv\") \n",
    "df_depu=pd.read_csv(\"C:/Users/Administrateur.LAPTOP-FH8TB47B/Desktop/Projet_assemblee/table_depute.csv\")\n"
   ]
  },
  {
   "cell_type": "markdown",
   "metadata": {},
   "source": [
    "### Profil général des Nan"
   ]
  },
  {
   "cell_type": "markdown",
   "metadata": {},
   "source": [
    "Les problèmes ne concerne que le département, le groupe ou le régime politique"
   ]
  },
  {
   "cell_type": "code",
   "execution_count": 29,
   "metadata": {},
   "outputs": [
    {
     "data": {
      "text/plain": [
       "Unnamed: 0          False\n",
       "Département          True\n",
       "Groupe               True\n",
       "Législature         False\n",
       "Mandat              False\n",
       "Régime politique     True\n",
       "Nom                 False\n",
       "dtype: bool"
      ]
     },
     "execution_count": 29,
     "metadata": {},
     "output_type": "execute_result"
    }
   ],
   "source": [
    "df.isna().any()"
   ]
  },
  {
   "cell_type": "markdown",
   "metadata": {},
   "source": [
    "Les 2 seuls Na de régime concerne la législature en cours et sont négligeables"
   ]
  },
  {
   "cell_type": "code",
   "execution_count": 28,
   "metadata": {},
   "outputs": [
    {
     "data": {
      "text/html": [
       "<div>\n",
       "<style scoped>\n",
       "    .dataframe tbody tr th:only-of-type {\n",
       "        vertical-align: middle;\n",
       "    }\n",
       "\n",
       "    .dataframe tbody tr th {\n",
       "        vertical-align: top;\n",
       "    }\n",
       "\n",
       "    .dataframe thead th {\n",
       "        text-align: right;\n",
       "    }\n",
       "</style>\n",
       "<table border=\"1\" class=\"dataframe\">\n",
       "  <thead>\n",
       "    <tr style=\"text-align: right;\">\n",
       "      <th></th>\n",
       "      <th>Unnamed: 0</th>\n",
       "      <th>Département</th>\n",
       "      <th>Groupe</th>\n",
       "      <th>Législature</th>\n",
       "      <th>Mandat</th>\n",
       "      <th>Régime politique</th>\n",
       "      <th>Nom</th>\n",
       "    </tr>\n",
       "  </thead>\n",
       "  <tbody>\n",
       "    <tr>\n",
       "      <th>27765</th>\n",
       "      <td>0</td>\n",
       "      <td>NaN</td>\n",
       "      <td>NaN</td>\n",
       "      <td>(Législature en cours)</td>\n",
       "      <td>Depuis le 2 novembre 2020 (mandat en cours)</td>\n",
       "      <td>NaN</td>\n",
       "      <td>Joseph, François, Marie Kermorial</td>\n",
       "    </tr>\n",
       "    <tr>\n",
       "      <th>34781</th>\n",
       "      <td>0</td>\n",
       "      <td>NaN</td>\n",
       "      <td>NaN</td>\n",
       "      <td>(Législature en cours)</td>\n",
       "      <td>Depuis le 2 novembre 2020 (mandat en cours)</td>\n",
       "      <td>NaN</td>\n",
       "      <td>Emmanuel, Joseph Sieyès</td>\n",
       "    </tr>\n",
       "  </tbody>\n",
       "</table>\n",
       "</div>"
      ],
      "text/plain": [
       "       Unnamed: 0 Département Groupe               Législature  \\\n",
       "27765           0         NaN    NaN    (Législature en cours)   \n",
       "34781           0         NaN    NaN    (Législature en cours)   \n",
       "\n",
       "                                             Mandat Régime politique  \\\n",
       "27765   Depuis le 2 novembre 2020 (mandat en cours)              NaN   \n",
       "34781   Depuis le 2 novembre 2020 (mandat en cours)              NaN   \n",
       "\n",
       "                                     Nom  \n",
       "27765  Joseph, François, Marie Kermorial  \n",
       "34781            Emmanuel, Joseph Sieyès  "
      ]
     },
     "execution_count": 28,
     "metadata": {},
     "output_type": "execute_result"
    }
   ],
   "source": [
    "df[df[\"Régime politique\"].isna()]"
   ]
  },
  {
   "cell_type": "markdown",
   "metadata": {},
   "source": [
    "### Les na de groupes"
   ]
  },
  {
   "cell_type": "code",
   "execution_count": 55,
   "metadata": {
    "scrolled": true
   },
   "outputs": [
    {
     "data": {
      "text/html": [
       "<div>\n",
       "<style scoped>\n",
       "    .dataframe tbody tr th:only-of-type {\n",
       "        vertical-align: middle;\n",
       "    }\n",
       "\n",
       "    .dataframe tbody tr th {\n",
       "        vertical-align: top;\n",
       "    }\n",
       "\n",
       "    .dataframe thead th {\n",
       "        text-align: right;\n",
       "    }\n",
       "</style>\n",
       "<table border=\"1\" class=\"dataframe\">\n",
       "  <thead>\n",
       "    <tr style=\"text-align: right;\">\n",
       "      <th></th>\n",
       "      <th>Unnamed: 0</th>\n",
       "      <th>nb groupe Na</th>\n",
       "      <th>% groupe Na</th>\n",
       "    </tr>\n",
       "    <tr>\n",
       "      <th>Régime politique</th>\n",
       "      <th></th>\n",
       "      <th></th>\n",
       "      <th></th>\n",
       "    </tr>\n",
       "  </thead>\n",
       "  <tbody>\n",
       "    <tr>\n",
       "      <th>Assemblée Nationale</th>\n",
       "      <td>873</td>\n",
       "      <td>25</td>\n",
       "      <td>2.863688</td>\n",
       "    </tr>\n",
       "    <tr>\n",
       "      <th>Cent-Jours</th>\n",
       "      <td>624</td>\n",
       "      <td>503</td>\n",
       "      <td>80.608974</td>\n",
       "    </tr>\n",
       "    <tr>\n",
       "      <th>Cinquième République - Assemblée nationale</th>\n",
       "      <td>8056</td>\n",
       "      <td>84</td>\n",
       "      <td>1.042701</td>\n",
       "    </tr>\n",
       "    <tr>\n",
       "      <th>Consulat et Premier Empire</th>\n",
       "      <td>926</td>\n",
       "      <td>740</td>\n",
       "      <td>79.913607</td>\n",
       "    </tr>\n",
       "    <tr>\n",
       "      <th>Deuxième République</th>\n",
       "      <td>1744</td>\n",
       "      <td>152</td>\n",
       "      <td>8.715596</td>\n",
       "    </tr>\n",
       "    <tr>\n",
       "      <th>Gouvernement provisoire de la République française</th>\n",
       "      <td>1179</td>\n",
       "      <td>7</td>\n",
       "      <td>0.593723</td>\n",
       "    </tr>\n",
       "    <tr>\n",
       "      <th>Monarchie de Juillet - Chambre des députés</th>\n",
       "      <td>3697</td>\n",
       "      <td>245</td>\n",
       "      <td>6.626995</td>\n",
       "    </tr>\n",
       "    <tr>\n",
       "      <th>Première Restauration</th>\n",
       "      <td>231</td>\n",
       "      <td>223</td>\n",
       "      <td>96.536797</td>\n",
       "    </tr>\n",
       "    <tr>\n",
       "      <th>Quatrième République - Assemblée nationale</th>\n",
       "      <td>1940</td>\n",
       "      <td>21</td>\n",
       "      <td>1.082474</td>\n",
       "    </tr>\n",
       "    <tr>\n",
       "      <th>Révolution</th>\n",
       "      <td>3008</td>\n",
       "      <td>503</td>\n",
       "      <td>16.722074</td>\n",
       "    </tr>\n",
       "    <tr>\n",
       "      <th>Second Empire - Corps législatif</th>\n",
       "      <td>1278</td>\n",
       "      <td>6</td>\n",
       "      <td>0.469484</td>\n",
       "    </tr>\n",
       "    <tr>\n",
       "      <th>Seconde Restauration - Chambre des députés des départements</th>\n",
       "      <td>2244</td>\n",
       "      <td>152</td>\n",
       "      <td>6.773619</td>\n",
       "    </tr>\n",
       "    <tr>\n",
       "      <th>Troisième République - Chambre des députés</th>\n",
       "      <td>10326</td>\n",
       "      <td>1460</td>\n",
       "      <td>14.139066</td>\n",
       "    </tr>\n",
       "  </tbody>\n",
       "</table>\n",
       "</div>"
      ],
      "text/plain": [
       "                                                    Unnamed: 0  nb groupe Na  \\\n",
       "Régime politique                                                               \n",
       "Assemblée Nationale                                        873            25   \n",
       "Cent-Jours                                                 624           503   \n",
       "Cinquième République - Assemblée nationale                8056            84   \n",
       "Consulat et Premier Empire                                 926           740   \n",
       "Deuxième République                                       1744           152   \n",
       "Gouvernement provisoire de la République française        1179             7   \n",
       "Monarchie de Juillet - Chambre des députés                3697           245   \n",
       "Première Restauration                                      231           223   \n",
       "Quatrième République - Assemblée nationale                1940            21   \n",
       "Révolution                                                3008           503   \n",
       "Second Empire - Corps législatif                          1278             6   \n",
       "Seconde Restauration - Chambre des députés des ...        2244           152   \n",
       "Troisième République - Chambre des députés               10326          1460   \n",
       "\n",
       "                                                    % groupe Na  \n",
       "Régime politique                                                 \n",
       "Assemblée Nationale                                    2.863688  \n",
       "Cent-Jours                                            80.608974  \n",
       "Cinquième République - Assemblée nationale             1.042701  \n",
       "Consulat et Premier Empire                            79.913607  \n",
       "Deuxième République                                    8.715596  \n",
       "Gouvernement provisoire de la République française     0.593723  \n",
       "Monarchie de Juillet - Chambre des députés             6.626995  \n",
       "Première Restauration                                 96.536797  \n",
       "Quatrième République - Assemblée nationale             1.082474  \n",
       "Révolution                                            16.722074  \n",
       "Second Empire - Corps législatif                       0.469484  \n",
       "Seconde Restauration - Chambre des députés des ...     6.773619  \n",
       "Troisième République - Chambre des députés            14.139066  "
      ]
     },
     "execution_count": 55,
     "metadata": {},
     "output_type": "execute_result"
    }
   ],
   "source": [
    "pop_regime=pd.DataFrame(df.groupby(\"Régime politique\").count()[\"Unnamed: 0\"])\n",
    "pop_regime[\"nb groupe Na\"]=df[df[\"Groupe\"].isna()].groupby(\"Régime politique\").count()[\"Unnamed: 0\"]\n",
    "pop_regime[\"% groupe Na\"]=100*df[df[\"Groupe\"].isna()].groupby(\"Régime politique\").count()[\"Unnamed: 0\"]/df.groupby(\"Régime politique\").count()[\"Unnamed: 0\"]\n",
    "pop_regime"
   ]
  },
  {
   "cell_type": "markdown",
   "metadata": {},
   "source": [
    "On a très peu d'information pour certains régimes anciens mais il manque bcp moins de groupe pour les régimes plus récents"
   ]
  },
  {
   "cell_type": "markdown",
   "metadata": {},
   "source": [
    "Remarquons d'autant plus que certains députés sont par défintion, sans groupes. Voici par exmple des fiches de députés où aucun groupe n'est indiqué: \n",
    "- http://www2.assemblee-nationale.fr/sycomore/fiche/(num_dept)/18564\n",
    "- http://www2.assemblee-nationale.fr/sycomore/fiche/(num_dept)/5994\n",
    "- http://www2.assemblee-nationale.fr/sycomore/fiche/(num_dept)/15632, pour le deuxième mandat"
   ]
  },
  {
   "cell_type": "markdown",
   "metadata": {},
   "source": [
    "### Les na de département d'élection"
   ]
  },
  {
   "cell_type": "markdown",
   "metadata": {},
   "source": [
    "Les nan de département sont très majoitairement issu de la révolution, il faudra le prendre en compte dans nos analyses :"
   ]
  },
  {
   "cell_type": "code",
   "execution_count": 64,
   "metadata": {},
   "outputs": [
    {
     "data": {
      "text/plain": [
       "197"
      ]
     },
     "execution_count": 64,
     "metadata": {},
     "output_type": "execute_result"
    }
   ],
   "source": [
    "df[df['Département'].isna()].count()[0]"
   ]
  },
  {
   "cell_type": "code",
   "execution_count": 63,
   "metadata": {},
   "outputs": [
    {
     "name": "stderr",
     "output_type": "stream",
     "text": [
      "<ipython-input-63-22e0e2497d3b>:1: UserWarning: Boolean Series key will be reindexed to match DataFrame index.\n",
      "  df[df['Département'].isna()][df['Régime politique']!='Révolution'].count()[0]\n"
     ]
    },
    {
     "data": {
      "text/plain": [
       "10"
      ]
     },
     "execution_count": 63,
     "metadata": {},
     "output_type": "execute_result"
    }
   ],
   "source": [
    "df[df['Département'].isna()][df['Régime politique']!='Révolution'].count()[0]"
   ]
  },
  {
   "cell_type": "markdown",
   "metadata": {},
   "source": [
    "### Les na de départment de naissance"
   ]
  },
  {
   "cell_type": "markdown",
   "metadata": {},
   "source": [
    "On va extraire la date auxquels ont trouve des département de naissance Na ou inconnu et ainsi voir que députés dont on ne connait pas le lieu de naissance sont très majoritairement issu de la cinquième république ou du debut du $\\text{XIX}^è$ siècle."
   ]
  },
  {
   "cell_type": "markdown",
   "metadata": {},
   "source": [
    "##### Les 'vraies' Nan sont concentrées sur la 3è république"
   ]
  },
  {
   "cell_type": "code",
   "execution_count": 67,
   "metadata": {},
   "outputs": [
    {
     "data": {
      "text/plain": [
       "524"
      ]
     },
     "execution_count": 67,
     "metadata": {},
     "output_type": "execute_result"
    }
   ],
   "source": [
    "d=pd.DataFrame([int(x[-4:]) for x in df_depu[df_depu[\"Département de naissance\"].isna()][\"Né le\"]])[0]\n",
    "d.count()"
   ]
  },
  {
   "cell_type": "code",
   "execution_count": 68,
   "metadata": {},
   "outputs": [
    {
     "data": {
      "text/plain": [
       "<AxesSubplot:>"
      ]
     },
     "execution_count": 68,
     "metadata": {},
     "output_type": "execute_result"
    },
    {
     "data": {
      "image/png": "[encoded data removed]",
      "text/plain": [
       "<Figure size 432x288 with 1 Axes>"
      ]
     },
     "metadata": {
      "needs_background": "light"
     },
     "output_type": "display_data"
    }
   ],
   "source": [
    "d.hist(bins=20)"
   ]
  },
  {
   "cell_type": "markdown",
   "metadata": {},
   "source": [
    "##### Les département dont la valeur est 'inconnu' sont réaparties surtout aux extrémités de la période analysée "
   ]
  },
  {
   "cell_type": "code",
   "execution_count": 73,
   "metadata": {},
   "outputs": [
    {
     "name": "stdout",
     "output_type": "stream",
     "text": [
      "Il y a 2192 départements de naissance inconnus\n"
     ]
    }
   ],
   "source": [
    "a=df_depu[df_depu[\"Département de naissance\"]==\"Inconnu\"].set_index(\"Nom\").drop(\"Unnamed: 0\",axis=1).drop(\"Unnamed: 0.1\",axis=1)\n",
    "a=a[~a[\"Né le\"].isna()][\"Né le\"]\n",
    "print(\"Il y a\",a.count(), \"départements de naissance inconnus\")"
   ]
  },
  {
   "cell_type": "code",
   "execution_count": 98,
   "metadata": {},
   "outputs": [
    {
     "data": {
      "text/plain": [
       "<AxesSubplot:>"
      ]
     },
     "execution_count": 98,
     "metadata": {},
     "output_type": "execute_result"
    },
    {
     "data": {
      "image/png": "[encoded data removed]",
      "text/plain": [
       "<Figure size 432x288 with 1 Axes>"
      ]
     },
     "metadata": {
      "needs_background": "light"
     },
     "output_type": "display_data"
    }
   ],
   "source": [
    "pd.DataFrame([int(x[-4:]) for x in a])[0].hist()"
   ]
  },
  {
   "cell_type": "markdown",
   "metadata": {},
   "source": [
    "### Le problèmes de merge"
   ]
  },
  {
   "cell_type": "markdown",
   "metadata": {},
   "source": [
    "Certains députés ont le même nom, et comme nous avons choisi uniquement cette variable pour faire nos 'join', cela a créé des problèmes et des incohérences. Voici la liste de ces députés :"
   ]
  },
  {
   "cell_type": "code",
   "execution_count": 16,
   "metadata": {},
   "outputs": [
    {
     "data": {
      "text/plain": [
       "Index(['Pierre André', 'Pierre Michel', 'André Lebon',\n",
       "       'Eugène Janvier de la Motte', 'Achille Fould', 'André Mercier',\n",
       "       'Jean-Michel Boucheron', 'Jean-Baptiste Dumas', 'Jean Moulin',\n",
       "       'Jean-Louis Leclerc', 'Joseph Faure', 'Auguste Isaac', 'Léon Joubert',\n",
       "       'Paul Ribeyre', 'Jacques Houssin', 'Jules Gaillard', 'Jean Bernard',\n",
       "       'Jean Duprat', 'Jean Bertrand', 'Jean-Baptiste Perret',\n",
       "       'Pierre Bernard', 'Gabriel Miossec', 'Joseph Bernard', 'Louis Dupont',\n",
       "       'Paul Giacobbi', 'Bernard, Marie Sage', 'Paul Mayaud',\n",
       "       'Victor Guichard', 'Joachim Murat', 'Jacques Defermon des Chapelières',\n",
       "       'André Parmentier', 'Joseph Garat', 'Jean Garnier',\n",
       "       'Jean-Baptiste Jourdan', 'Antoine, Bernard Finot', 'Pierre Lucas',\n",
       "       'Emile Faure', 'Joseph Vidal', 'Pierre Legrand', 'François d'Harcourt',\n",
       "       'Emile Magniez', 'Nicolas, Charles, Victor Oudinot Duc de Reggio',\n",
       "       'Etienne Geoffroy-Saint-Hilaire', 'Jean-Louis Masson',\n",
       "       'Geoffroy de Montalembert', 'Michel Mercier', 'Charles Saint-Venant',\n",
       "       'Antony Joly', 'François, Antoine de Boissy d'Anglas',\n",
       "       'Camille Godelle', 'Henri Karcher', 'Pierre Godefroy',\n",
       "       'Jean-Pierre Pont', 'Maurice Georges',\n",
       "       'Armand Gaultier de la Guistière', 'Jacques Queinnec', 'Jean Rousseau',\n",
       "       'Pierre Dumas', 'Pierre Charles', 'Pierre Leroy-Beaulieu',\n",
       "       'Louis Brunet'],\n",
       "      dtype='object', name='Nom')"
      ]
     },
     "execution_count": 16,
     "metadata": {},
     "output_type": "execute_result"
    }
   ],
   "source": [
    "pb=df_depu.groupby(\"Nom\").count().sort_values(by=\"Né le\")[\"Né le\"]\n",
    "#On compte le nombre de \"ligne par nom\"\n",
    "pb[pb>1].index\n",
    "#S'il y en a plus de 2, c'est bon"
   ]
  },
  {
   "cell_type": "markdown",
   "metadata": {},
   "source": [
    "Tout d'abord, le premier problème c'est posé lorsque l'on a essayé d'attribué le département de naissance et de mort aux députés. Ces variables étaient stockées dans une base différentes que la date de naissance des députés (récupérée en même temps que le _href_ leur correspondant. Ainsi, si un député a des homonymes, chacune des occurences du nom va être répété par nombre de département de naissance différent.\n",
    "\n",
    "L'autre problème est qu'on va assigner une mauvaise date de naissance et donc un mauvais âge au député (il peut être négatif). Ce problème va se répercuter sur tous les député du même nom car on prend l'âge du premier mandat de tous les députés ayant le même nom.\n",
    "\n",
    "Exemple :"
   ]
  },
  {
   "cell_type": "code",
   "execution_count": 19,
   "metadata": {},
   "outputs": [
    {
     "data": {
      "text/html": [
       "<div>\n",
       "<style scoped>\n",
       "    .dataframe tbody tr th:only-of-type {\n",
       "        vertical-align: middle;\n",
       "    }\n",
       "\n",
       "    .dataframe tbody tr th {\n",
       "        vertical-align: top;\n",
       "    }\n",
       "\n",
       "    .dataframe thead th {\n",
       "        text-align: right;\n",
       "    }\n",
       "</style>\n",
       "<table border=\"1\" class=\"dataframe\">\n",
       "  <thead>\n",
       "    <tr style=\"text-align: right;\">\n",
       "      <th></th>\n",
       "      <th>Unnamed: 0</th>\n",
       "      <th>Unnamed: 0.1</th>\n",
       "      <th>Nom</th>\n",
       "      <th>Né le</th>\n",
       "      <th>Département de naissance</th>\n",
       "      <th>Département de mort</th>\n",
       "      <th>nombre de mandat</th>\n",
       "      <th>age en année</th>\n",
       "      <th>premier dpt</th>\n",
       "      <th>élection locale</th>\n",
       "    </tr>\n",
       "  </thead>\n",
       "  <tbody>\n",
       "    <tr>\n",
       "      <th>2799</th>\n",
       "      <td>2799</td>\n",
       "      <td>2799</td>\n",
       "      <td>Pierre Dumas</td>\n",
       "      <td>15 novembre 1924</td>\n",
       "      <td>Savoie</td>\n",
       "      <td>Savoie</td>\n",
       "      <td>72.0</td>\n",
       "      <td>-113.612594</td>\n",
       "      <td>Savoie</td>\n",
       "      <td>True</td>\n",
       "    </tr>\n",
       "    <tr>\n",
       "      <th>2800</th>\n",
       "      <td>2800</td>\n",
       "      <td>2800</td>\n",
       "      <td>Pierre Dumas</td>\n",
       "      <td>15 novembre 1924</td>\n",
       "      <td>Ariège</td>\n",
       "      <td>Ariège</td>\n",
       "      <td>72.0</td>\n",
       "      <td>-113.612594</td>\n",
       "      <td>Savoie</td>\n",
       "      <td>False</td>\n",
       "    </tr>\n",
       "    <tr>\n",
       "      <th>2801</th>\n",
       "      <td>2801</td>\n",
       "      <td>2801</td>\n",
       "      <td>Pierre Dumas</td>\n",
       "      <td>15 novembre 1924</td>\n",
       "      <td>Haute-Vienne</td>\n",
       "      <td>Haute-Vienne</td>\n",
       "      <td>72.0</td>\n",
       "      <td>-113.612594</td>\n",
       "      <td>Savoie</td>\n",
       "      <td>False</td>\n",
       "    </tr>\n",
       "    <tr>\n",
       "      <th>2802</th>\n",
       "      <td>2802</td>\n",
       "      <td>2802</td>\n",
       "      <td>Pierre Dumas</td>\n",
       "      <td>1er août 1891</td>\n",
       "      <td>Savoie</td>\n",
       "      <td>Savoie</td>\n",
       "      <td>72.0</td>\n",
       "      <td>-113.612594</td>\n",
       "      <td>Savoie</td>\n",
       "      <td>True</td>\n",
       "    </tr>\n",
       "    <tr>\n",
       "      <th>2803</th>\n",
       "      <td>2803</td>\n",
       "      <td>2803</td>\n",
       "      <td>Pierre Dumas</td>\n",
       "      <td>1er août 1891</td>\n",
       "      <td>Ariège</td>\n",
       "      <td>Ariège</td>\n",
       "      <td>72.0</td>\n",
       "      <td>-113.612594</td>\n",
       "      <td>Savoie</td>\n",
       "      <td>False</td>\n",
       "    </tr>\n",
       "    <tr>\n",
       "      <th>2804</th>\n",
       "      <td>2804</td>\n",
       "      <td>2804</td>\n",
       "      <td>Pierre Dumas</td>\n",
       "      <td>1er août 1891</td>\n",
       "      <td>Haute-Vienne</td>\n",
       "      <td>Haute-Vienne</td>\n",
       "      <td>72.0</td>\n",
       "      <td>-113.612594</td>\n",
       "      <td>Savoie</td>\n",
       "      <td>False</td>\n",
       "    </tr>\n",
       "    <tr>\n",
       "      <th>2805</th>\n",
       "      <td>2805</td>\n",
       "      <td>2805</td>\n",
       "      <td>Pierre Dumas</td>\n",
       "      <td>24 juin 1750</td>\n",
       "      <td>Savoie</td>\n",
       "      <td>Savoie</td>\n",
       "      <td>72.0</td>\n",
       "      <td>-113.612594</td>\n",
       "      <td>Savoie</td>\n",
       "      <td>True</td>\n",
       "    </tr>\n",
       "    <tr>\n",
       "      <th>2806</th>\n",
       "      <td>2806</td>\n",
       "      <td>2806</td>\n",
       "      <td>Pierre Dumas</td>\n",
       "      <td>24 juin 1750</td>\n",
       "      <td>Ariège</td>\n",
       "      <td>Ariège</td>\n",
       "      <td>72.0</td>\n",
       "      <td>-113.612594</td>\n",
       "      <td>Savoie</td>\n",
       "      <td>False</td>\n",
       "    </tr>\n",
       "    <tr>\n",
       "      <th>2807</th>\n",
       "      <td>2807</td>\n",
       "      <td>2807</td>\n",
       "      <td>Pierre Dumas</td>\n",
       "      <td>24 juin 1750</td>\n",
       "      <td>Haute-Vienne</td>\n",
       "      <td>Haute-Vienne</td>\n",
       "      <td>72.0</td>\n",
       "      <td>-113.612594</td>\n",
       "      <td>Savoie</td>\n",
       "      <td>False</td>\n",
       "    </tr>\n",
       "  </tbody>\n",
       "</table>\n",
       "</div>"
      ],
      "text/plain": [
       "      Unnamed: 0  Unnamed: 0.1           Nom             Né le  \\\n",
       "2799        2799          2799  Pierre Dumas  15 novembre 1924   \n",
       "2800        2800          2800  Pierre Dumas  15 novembre 1924   \n",
       "2801        2801          2801  Pierre Dumas  15 novembre 1924   \n",
       "2802        2802          2802  Pierre Dumas     1er août 1891   \n",
       "2803        2803          2803  Pierre Dumas     1er août 1891   \n",
       "2804        2804          2804  Pierre Dumas     1er août 1891   \n",
       "2805        2805          2805  Pierre Dumas      24 juin 1750   \n",
       "2806        2806          2806  Pierre Dumas      24 juin 1750   \n",
       "2807        2807          2807  Pierre Dumas      24 juin 1750   \n",
       "\n",
       "     Département de naissance Département de mort  nombre de mandat  \\\n",
       "2799                   Savoie              Savoie              72.0   \n",
       "2800                   Ariège              Ariège              72.0   \n",
       "2801             Haute-Vienne        Haute-Vienne              72.0   \n",
       "2802                   Savoie              Savoie              72.0   \n",
       "2803                   Ariège              Ariège              72.0   \n",
       "2804             Haute-Vienne        Haute-Vienne              72.0   \n",
       "2805                   Savoie              Savoie              72.0   \n",
       "2806                   Ariège              Ariège              72.0   \n",
       "2807             Haute-Vienne        Haute-Vienne              72.0   \n",
       "\n",
       "      age en année premier dpt  élection locale  \n",
       "2799   -113.612594      Savoie             True  \n",
       "2800   -113.612594      Savoie            False  \n",
       "2801   -113.612594      Savoie            False  \n",
       "2802   -113.612594      Savoie             True  \n",
       "2803   -113.612594      Savoie            False  \n",
       "2804   -113.612594      Savoie            False  \n",
       "2805   -113.612594      Savoie             True  \n",
       "2806   -113.612594      Savoie            False  \n",
       "2807   -113.612594      Savoie            False  "
      ]
     },
     "execution_count": 19,
     "metadata": {},
     "output_type": "execute_result"
    }
   ],
   "source": [
    "df_depu[df_depu[\"Nom\"]=='Pierre Dumas']"
   ]
  }
 ],
 "metadata": {
  "kernelspec": {
   "display_name": "Python 3",
   "language": "python",
   "name": "python3"
  },
  "language_info": {
   "codemirror_mode": {
    "name": "ipython",
    "version": 3
   },
   "file_extension": ".py",
   "mimetype": "text/x-python",
   "name": "python",
   "nbconvert_exporter": "python",
   "pygments_lexer": "ipython3",
   "version": "3.8.5"
  }
 },
 "nbformat": 4,
 "nbformat_minor": 2
}

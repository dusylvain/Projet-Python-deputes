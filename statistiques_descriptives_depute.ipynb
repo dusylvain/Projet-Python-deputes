{
 "cells": [
  {
   "cell_type": "code",
   "execution_count": 16,
   "metadata": {},
   "outputs": [],
   "source": [
    "import pandas as pd\n",
    "import numpy as np\n",
    "import matplotlib.pyplot as plt\n",
    "import descartes"
   ]
  },
  {
   "cell_type": "code",
   "execution_count": 4,
   "metadata": {},
   "outputs": [],
   "source": [
    "user='G'\n",
    "\n",
    "if user=='S':\n",
    "    import geopandas as gpd\n",
    "    mandat_dep=pd.read_csv(\"C:/Users/sylva/Desktop/git/Projet-Python-deputes/liste_mandat.csv\")#on récupère le csv de la liste des mandats\n",
    "    df_depu=pd.read_csv(\"C:/Users/sylva/Desktop/git/Projet-Python-deputes/listeDepute_complete.csv\")\n",
    "\n",
    "if user=='G':\n",
    "    mandat_dep=pd.read_csv(\"C:/Users/Administrateur.LAPTOP-FH8TB47B/Desktop/Projet_assemblee/liste_mandatdef.csv\") \n",
    "    df_depu=pd.read_csv(\"C:/Users/Administrateur.LAPTOP-FH8TB47B/Desktop/Projet_assemblee/listeDepute_complete.csv\")\n"
   ]
  },
  {
   "cell_type": "markdown",
   "metadata": {},
   "source": [
    "Extraction des dates de début de mandat"
   ]
  },
  {
   "cell_type": "code",
   "execution_count": 5,
   "metadata": {},
   "outputs": [
    {
     "data": {
      "text/html": [
       "<div>\n",
       "<style scoped>\n",
       "    .dataframe tbody tr th:only-of-type {\n",
       "        vertical-align: middle;\n",
       "    }\n",
       "\n",
       "    .dataframe tbody tr th {\n",
       "        vertical-align: top;\n",
       "    }\n",
       "\n",
       "    .dataframe thead th {\n",
       "        text-align: right;\n",
       "    }\n",
       "</style>\n",
       "<table border=\"1\" class=\"dataframe\">\n",
       "  <thead>\n",
       "    <tr style=\"text-align: right;\">\n",
       "      <th></th>\n",
       "      <th>Unnamed: 0</th>\n",
       "      <th>Département</th>\n",
       "      <th>Groupe</th>\n",
       "      <th>Législature</th>\n",
       "      <th>Mandat</th>\n",
       "      <th>Régime politique</th>\n",
       "      <th>Nom</th>\n",
       "      <th>Debut Mandat</th>\n",
       "    </tr>\n",
       "  </thead>\n",
       "  <tbody>\n",
       "    <tr>\n",
       "      <th>0</th>\n",
       "      <td>0</td>\n",
       "      <td>Territoire-de-Belfort</td>\n",
       "      <td>Union pour la majorité présidentielle</td>\n",
       "      <td>XIIe législature</td>\n",
       "      <td>Du 19 juin 2002 au 19 juin 2007</td>\n",
       "      <td>Cinquième République - Assemblée nationale</td>\n",
       "      <td>Damien Meslot</td>\n",
       "      <td>19 juin 2002</td>\n",
       "    </tr>\n",
       "    <tr>\n",
       "      <th>1</th>\n",
       "      <td>0</td>\n",
       "      <td>Territoire-de-Belfort</td>\n",
       "      <td>Union pour un mouvement populaire</td>\n",
       "      <td>XIIIe législature</td>\n",
       "      <td>Du 20 juin 2007 au 19 juin 2012</td>\n",
       "      <td>Cinquième République - Assemblée nationale</td>\n",
       "      <td>Damien Meslot</td>\n",
       "      <td>20 juin 2007</td>\n",
       "    </tr>\n",
       "    <tr>\n",
       "      <th>2</th>\n",
       "      <td>0</td>\n",
       "      <td>Territoire-de-Belfort</td>\n",
       "      <td>Union pour un mouvement populaire</td>\n",
       "      <td>XIVe législature</td>\n",
       "      <td>Du 20 juin 2012 au 20 juin 2017</td>\n",
       "      <td>Cinquième République - Assemblée nationale</td>\n",
       "      <td>Damien Meslot</td>\n",
       "      <td>20 juin 2012</td>\n",
       "    </tr>\n",
       "    <tr>\n",
       "      <th>3</th>\n",
       "      <td>0</td>\n",
       "      <td>Ille-et-Vilaine</td>\n",
       "      <td>La République en Marche</td>\n",
       "      <td>XVe législature (Législature en cours)</td>\n",
       "      <td>Depuis le 21 juin 2017 (mandat en cours)</td>\n",
       "      <td>Cinquième République - Assemblée nationale</td>\n",
       "      <td>Christine Cloarec-Le Nabour</td>\n",
       "      <td>le 21 juin</td>\n",
       "    </tr>\n",
       "    <tr>\n",
       "      <th>4</th>\n",
       "      <td>0</td>\n",
       "      <td>Ardèche</td>\n",
       "      <td>Socialiste</td>\n",
       "      <td>XIe législature</td>\n",
       "      <td>Du  1er juin 1997 au 18 juin 2002</td>\n",
       "      <td>Cinquième République - Assemblée nationale</td>\n",
       "      <td>Pascal Terrasse</td>\n",
       "      <td>1er juin 1997</td>\n",
       "    </tr>\n",
       "  </tbody>\n",
       "</table>\n",
       "</div>"
      ],
      "text/plain": [
       "   Unnamed: 0             Département                                  Groupe  \\\n",
       "0           0   Territoire-de-Belfort   Union pour la majorité présidentielle   \n",
       "1           0   Territoire-de-Belfort       Union pour un mouvement populaire   \n",
       "2           0   Territoire-de-Belfort       Union pour un mouvement populaire   \n",
       "3           0         Ille-et-Vilaine                 La République en Marche   \n",
       "4           0                 Ardèche                              Socialiste   \n",
       "\n",
       "                               Législature  \\\n",
       "0                        XIIe législature    \n",
       "1                       XIIIe législature    \n",
       "2                        XIVe législature    \n",
       "3   XVe législature (Législature en cours)   \n",
       "4                         XIe législature    \n",
       "\n",
       "                                      Mandat  \\\n",
       "0            Du 19 juin 2002 au 19 juin 2007   \n",
       "1            Du 20 juin 2007 au 19 juin 2012   \n",
       "2            Du 20 juin 2012 au 20 juin 2017   \n",
       "3   Depuis le 21 juin 2017 (mandat en cours)   \n",
       "4          Du  1er juin 1997 au 18 juin 2002   \n",
       "\n",
       "                             Régime politique                          Nom  \\\n",
       "0  Cinquième République - Assemblée nationale                Damien Meslot   \n",
       "1  Cinquième République - Assemblée nationale                Damien Meslot   \n",
       "2  Cinquième République - Assemblée nationale                Damien Meslot   \n",
       "3  Cinquième République - Assemblée nationale  Christine Cloarec-Le Nabour   \n",
       "4  Cinquième République - Assemblée nationale              Pascal Terrasse   \n",
       "\n",
       "    Debut Mandat  \n",
       "0   19 juin 2002  \n",
       "1   20 juin 2007  \n",
       "2   20 juin 2012  \n",
       "3     le 21 juin  \n",
       "4  1er juin 1997  "
      ]
     },
     "execution_count": 5,
     "metadata": {},
     "output_type": "execute_result"
    }
   ],
   "source": [
    "debut_mandat=[]\n",
    "for dates in mandat_dep[\"Mandat\"]:\n",
    "    dates=str(dates).split()\n",
    "    debut_mandat.append(' '.join(dates[1:4]))\n",
    "    \n",
    "mandat_dep[\"Debut Mandat\"]=np.array(debut_mandat)\n",
    "mandat_dep.head()"
   ]
  },
  {
   "cell_type": "markdown",
   "metadata": {},
   "source": [
    "<b> TRANSTYPAGE !!! (Je suis heureux que ça ait marché) "
   ]
  },
  {
   "cell_type": "code",
   "execution_count": 6,
   "metadata": {
    "scrolled": false
   },
   "outputs": [
    {
     "data": {
      "text/html": [
       "<div>\n",
       "<style scoped>\n",
       "    .dataframe tbody tr th:only-of-type {\n",
       "        vertical-align: middle;\n",
       "    }\n",
       "\n",
       "    .dataframe tbody tr th {\n",
       "        vertical-align: top;\n",
       "    }\n",
       "\n",
       "    .dataframe thead th {\n",
       "        text-align: right;\n",
       "    }\n",
       "</style>\n",
       "<table border=\"1\" class=\"dataframe\">\n",
       "  <thead>\n",
       "    <tr style=\"text-align: right;\">\n",
       "      <th></th>\n",
       "      <th>Unnamed: 0</th>\n",
       "      <th>Département</th>\n",
       "      <th>Groupe</th>\n",
       "      <th>Législature</th>\n",
       "      <th>Mandat</th>\n",
       "      <th>Régime politique</th>\n",
       "      <th>Debut Mandat</th>\n",
       "      <th>Né le</th>\n",
       "      <th>Date de naissance</th>\n",
       "      <th>Date debut mandat</th>\n",
       "    </tr>\n",
       "    <tr>\n",
       "      <th>Nom</th>\n",
       "      <th></th>\n",
       "      <th></th>\n",
       "      <th></th>\n",
       "      <th></th>\n",
       "      <th></th>\n",
       "      <th></th>\n",
       "      <th></th>\n",
       "      <th></th>\n",
       "      <th></th>\n",
       "      <th></th>\n",
       "    </tr>\n",
       "  </thead>\n",
       "  <tbody>\n",
       "    <tr>\n",
       "      <th>Damien Meslot</th>\n",
       "      <td>0</td>\n",
       "      <td>Territoire-de-Belfort</td>\n",
       "      <td>Union pour la majorité présidentielle</td>\n",
       "      <td>XIIe législature</td>\n",
       "      <td>Du 19 juin 2002 au 19 juin 2007</td>\n",
       "      <td>Cinquième République - Assemblée nationale</td>\n",
       "      <td>19 juin 2002</td>\n",
       "      <td>11 novembre 1964</td>\n",
       "      <td>1964-11-11</td>\n",
       "      <td>2002-06-19</td>\n",
       "    </tr>\n",
       "    <tr>\n",
       "      <th>Damien Meslot</th>\n",
       "      <td>0</td>\n",
       "      <td>Territoire-de-Belfort</td>\n",
       "      <td>Union pour un mouvement populaire</td>\n",
       "      <td>XIIIe législature</td>\n",
       "      <td>Du 20 juin 2007 au 19 juin 2012</td>\n",
       "      <td>Cinquième République - Assemblée nationale</td>\n",
       "      <td>20 juin 2007</td>\n",
       "      <td>11 novembre 1964</td>\n",
       "      <td>1964-11-11</td>\n",
       "      <td>2007-06-20</td>\n",
       "    </tr>\n",
       "  </tbody>\n",
       "</table>\n",
       "</div>"
      ],
      "text/plain": [
       "               Unnamed: 0             Département  \\\n",
       "Nom                                                 \n",
       "Damien Meslot           0   Territoire-de-Belfort   \n",
       "Damien Meslot           0   Territoire-de-Belfort   \n",
       "\n",
       "                                               Groupe          Législature  \\\n",
       "Nom                                                                          \n",
       "Damien Meslot   Union pour la majorité présidentielle    XIIe législature    \n",
       "Damien Meslot       Union pour un mouvement populaire   XIIIe législature    \n",
       "\n",
       "                                         Mandat  \\\n",
       "Nom                                               \n",
       "Damien Meslot   Du 19 juin 2002 au 19 juin 2007   \n",
       "Damien Meslot   Du 20 juin 2007 au 19 juin 2012   \n",
       "\n",
       "                                         Régime politique  Debut Mandat  \\\n",
       "Nom                                                                       \n",
       "Damien Meslot  Cinquième République - Assemblée nationale  19 juin 2002   \n",
       "Damien Meslot  Cinquième République - Assemblée nationale  20 juin 2007   \n",
       "\n",
       "                          Né le Date de naissance Date debut mandat  \n",
       "Nom                                                                  \n",
       "Damien Meslot  11 novembre 1964        1964-11-11        2002-06-19  \n",
       "Damien Meslot  11 novembre 1964        1964-11-11        2007-06-20  "
      ]
     },
     "execution_count": 6,
     "metadata": {},
     "output_type": "execute_result"
    }
   ],
   "source": [
    "df_depu[[\"Nom\",\"Né le\"]].head(2)\n",
    "mandat_dep[[\"Nom\",\"Debut Mandat\"]].head(2)\n",
    "age_dep=mandat_dep.set_index('Nom').join(df_depu[[\"Nom\",\"Né le\"]].set_index('Nom'), on='Nom')\n",
    "mandat_dep.reset_index()\n",
    "mois={'janvier':1,'février':2, 'mars':3, 'avril':4, 'mai':5, 'juin':6, 'juillet':7, 'août':8, 'septembre':9, 'octobre':10, 'novembre':11, 'décembre':12}\n",
    "def transtype_date(x):\n",
    "    x=str(x)        \n",
    "    date_texte=x.split() \n",
    "    if len(date_texte)>1 :\n",
    "        if  date_texte[1] in (mois.keys()):\n",
    "            if date_texte[0]==\"1er\":\n",
    "                date_texte[0]='1'\n",
    "            date_texte[1]=str(mois[date_texte[1]])\n",
    "            date_nombre='/'.join(date_texte)\n",
    "            return pd.to_datetime(date_nombre)\n",
    "    else:\n",
    "        return pd.NaT\n",
    "\n",
    "\n",
    "age_dep[\"Date de naissance\"]=age_dep[\"Né le\"].apply(lambda x: transtype_date(x))\n",
    "age_dep[\"Date debut mandat\"]=age_dep[\"Debut Mandat\"].apply(lambda x: transtype_date(x))\n",
    "age_dep.head(2)"
   ]
  },
  {
   "cell_type": "code",
   "execution_count": 7,
   "metadata": {},
   "outputs": [],
   "source": [
    "age_dep['age depute']=age_dep['Date debut mandat']-age_dep['Date de naissance']#on crée la variable age au debut du mandat, en jour\n",
    "age_dep['age en année']=age_dep['age depute'].apply(lambda x: float(x.days / 365.25))#et on la transforme en années\n",
    "age_dep=age_dep[['Département','Groupe', 'Législature', 'Mandat', 'Régime politique', 'age en année','Date debut mandat']]"
   ]
  },
  {
   "cell_type": "code",
   "execution_count": 6,
   "metadata": {},
   "outputs": [
    {
     "data": {
      "text/plain": [
       "Unnamed: 0          36128\n",
       "Département         35931\n",
       "Groupe              32005\n",
       "Législature         36128\n",
       "Mandat              36128\n",
       "Régime politique    36126\n",
       "Nom                 36128\n",
       "Debut Mandat        36128\n",
       "dtype: int64"
      ]
     },
     "execution_count": 6,
     "metadata": {},
     "output_type": "execute_result"
    }
   ],
   "source": [
    "mandat_dep.count()#on vérifie qu'il n'y a pas trop de manques"
   ]
  },
  {
   "cell_type": "code",
   "execution_count": 8,
   "metadata": {},
   "outputs": [],
   "source": [
    "dep_possible=list(mandat_dep['Département'].unique())#une liste de tous les départements\n",
    "dep_possible.remove(\" Département d'élection inconnu\")\n",
    "dep_possible.remove(np.nan)"
   ]
  },
  {
   "cell_type": "markdown",
   "metadata": {},
   "source": [
    "Construction d'un tableau des caractérstiques des départements"
   ]
  },
  {
   "cell_type": "markdown",
   "metadata": {},
   "source": [
    "On peut construire un tableau des départements sans grave problème méthodologique car ils ont peu changé depuis leur création sous le Premier Empire (certains ont seulement été rajouté ou enlevé au cours d'annexions ou de rattachement à d'autres pays : ils sont faciles à isoler)."
   ]
  },
  {
   "cell_type": "code",
   "execution_count": 9,
   "metadata": {},
   "outputs": [
    {
     "data": {
      "text/html": [
       "<div>\n",
       "<style scoped>\n",
       "    .dataframe tbody tr th:only-of-type {\n",
       "        vertical-align: middle;\n",
       "    }\n",
       "\n",
       "    .dataframe tbody tr th {\n",
       "        vertical-align: top;\n",
       "    }\n",
       "\n",
       "    .dataframe thead th {\n",
       "        text-align: right;\n",
       "    }\n",
       "</style>\n",
       "<table border=\"1\" class=\"dataframe\">\n",
       "  <thead>\n",
       "    <tr style=\"text-align: right;\">\n",
       "      <th></th>\n",
       "      <th>Territoire-de-Belfort</th>\n",
       "      <th>Ille-et-Vilaine</th>\n",
       "      <th>Ardèche</th>\n",
       "      <th>Hauts-de-Seine</th>\n",
       "      <th>La Réunion</th>\n",
       "      <th>Puy-de-Dôme</th>\n",
       "      <th>Essonne</th>\n",
       "      <th>Haut-Rhin</th>\n",
       "      <th>Haute-Marne</th>\n",
       "      <th>Hautes-Pyrénées</th>\n",
       "      <th>...</th>\n",
       "      <th>Départements de l'Empire français aujourd'hui en Belgique</th>\n",
       "      <th>Mont-Blanc</th>\n",
       "      <th>Départements de l'Empire français aujourd'hui aux Pays-Bas</th>\n",
       "      <th>Départements de l'Empire français aujourd'hui en Allemagne</th>\n",
       "      <th>Saint-Domingue</th>\n",
       "      <th>Etranger</th>\n",
       "      <th>Départements de l'Empire français aujourd'hui en Suisse</th>\n",
       "      <th>Rhône-et-Loire</th>\n",
       "      <th>Départements de l'Empire français aujourd'hui au Luxembourg</th>\n",
       "      <th>Ile-de-France (Maurice)</th>\n",
       "    </tr>\n",
       "  </thead>\n",
       "  <tbody>\n",
       "    <tr>\n",
       "      <th>age moyen des deputes</th>\n",
       "      <td>46.976129</td>\n",
       "      <td>47.333331</td>\n",
       "      <td>52.584768</td>\n",
       "      <td>54.076791</td>\n",
       "      <td>47.356341</td>\n",
       "      <td>49.266955</td>\n",
       "      <td>47.782325</td>\n",
       "      <td>49.510650</td>\n",
       "      <td>49.614406</td>\n",
       "      <td>47.610409</td>\n",
       "      <td>...</td>\n",
       "      <td>44.775862</td>\n",
       "      <td>43.130094</td>\n",
       "      <td>48.834702</td>\n",
       "      <td>51.882537</td>\n",
       "      <td>35.140657</td>\n",
       "      <td>38.944559</td>\n",
       "      <td>44.386286</td>\n",
       "      <td>36.502179</td>\n",
       "      <td>49.342574</td>\n",
       "      <td>38.561259</td>\n",
       "    </tr>\n",
       "    <tr>\n",
       "      <th>nombre_mandat</th>\n",
       "      <td>64.000000</td>\n",
       "      <td>572.000000</td>\n",
       "      <td>331.000000</td>\n",
       "      <td>184.000000</td>\n",
       "      <td>139.000000</td>\n",
       "      <td>475.000000</td>\n",
       "      <td>92.000000</td>\n",
       "      <td>325.000000</td>\n",
       "      <td>208.000000</td>\n",
       "      <td>251.000000</td>\n",
       "      <td>...</td>\n",
       "      <td>98.000000</td>\n",
       "      <td>48.000000</td>\n",
       "      <td>27.000000</td>\n",
       "      <td>31.000000</td>\n",
       "      <td>20.000000</td>\n",
       "      <td>2.000000</td>\n",
       "      <td>11.000000</td>\n",
       "      <td>20.000000</td>\n",
       "      <td>8.000000</td>\n",
       "      <td>2.000000</td>\n",
       "    </tr>\n",
       "    <tr>\n",
       "      <th>nombre député</th>\n",
       "      <td>27.000000</td>\n",
       "      <td>216.000000</td>\n",
       "      <td>132.000000</td>\n",
       "      <td>67.000000</td>\n",
       "      <td>50.000000</td>\n",
       "      <td>209.000000</td>\n",
       "      <td>38.000000</td>\n",
       "      <td>157.000000</td>\n",
       "      <td>94.000000</td>\n",
       "      <td>103.000000</td>\n",
       "      <td>...</td>\n",
       "      <td>83.000000</td>\n",
       "      <td>34.000000</td>\n",
       "      <td>26.000000</td>\n",
       "      <td>31.000000</td>\n",
       "      <td>15.000000</td>\n",
       "      <td>2.000000</td>\n",
       "      <td>10.000000</td>\n",
       "      <td>17.000000</td>\n",
       "      <td>7.000000</td>\n",
       "      <td>2.000000</td>\n",
       "    </tr>\n",
       "    <tr>\n",
       "      <th>nombre moyen de mandats par député</th>\n",
       "      <td>2.370370</td>\n",
       "      <td>2.648148</td>\n",
       "      <td>2.507576</td>\n",
       "      <td>2.746269</td>\n",
       "      <td>2.780000</td>\n",
       "      <td>2.272727</td>\n",
       "      <td>2.421053</td>\n",
       "      <td>2.070064</td>\n",
       "      <td>2.212766</td>\n",
       "      <td>2.436893</td>\n",
       "      <td>...</td>\n",
       "      <td>1.180723</td>\n",
       "      <td>1.411765</td>\n",
       "      <td>1.038462</td>\n",
       "      <td>1.000000</td>\n",
       "      <td>1.333333</td>\n",
       "      <td>1.000000</td>\n",
       "      <td>1.100000</td>\n",
       "      <td>1.176471</td>\n",
       "      <td>1.142857</td>\n",
       "      <td>1.000000</td>\n",
       "    </tr>\n",
       "  </tbody>\n",
       "</table>\n",
       "<p>4 rows × 157 columns</p>\n",
       "</div>"
      ],
      "text/plain": [
       "                                     Territoire-de-Belfort   Ille-et-Vilaine  \\\n",
       "age moyen des deputes                            46.976129         47.333331   \n",
       "nombre_mandat                                    64.000000        572.000000   \n",
       "nombre député                                    27.000000        216.000000   \n",
       "nombre moyen de mandats par député                2.370370          2.648148   \n",
       "\n",
       "                                       Ardèche   Hauts-de-Seine   La Réunion  \\\n",
       "age moyen des deputes                52.584768        54.076791    47.356341   \n",
       "nombre_mandat                       331.000000       184.000000   139.000000   \n",
       "nombre député                       132.000000        67.000000    50.000000   \n",
       "nombre moyen de mandats par député    2.507576         2.746269     2.780000   \n",
       "\n",
       "                                     Puy-de-Dôme    Essonne   Haut-Rhin  \\\n",
       "age moyen des deputes                  49.266955  47.782325   49.510650   \n",
       "nombre_mandat                         475.000000  92.000000  325.000000   \n",
       "nombre député                         209.000000  38.000000  157.000000   \n",
       "nombre moyen de mandats par député      2.272727   2.421053    2.070064   \n",
       "\n",
       "                                     Haute-Marne   Hautes-Pyrénées  ...  \\\n",
       "age moyen des deputes                  49.614406         47.610409  ...   \n",
       "nombre_mandat                         208.000000        251.000000  ...   \n",
       "nombre député                          94.000000        103.000000  ...   \n",
       "nombre moyen de mandats par député      2.212766          2.436893  ...   \n",
       "\n",
       "                                     Départements de l'Empire français aujourd'hui en Belgique  \\\n",
       "age moyen des deputes                                                       44.775862            \n",
       "nombre_mandat                                                               98.000000            \n",
       "nombre député                                                               83.000000            \n",
       "nombre moyen de mandats par député                                           1.180723            \n",
       "\n",
       "                                     Mont-Blanc  \\\n",
       "age moyen des deputes                 43.130094   \n",
       "nombre_mandat                         48.000000   \n",
       "nombre député                         34.000000   \n",
       "nombre moyen de mandats par député     1.411765   \n",
       "\n",
       "                                     Départements de l'Empire français aujourd'hui aux Pays-Bas  \\\n",
       "age moyen des deputes                                                       48.834702             \n",
       "nombre_mandat                                                               27.000000             \n",
       "nombre député                                                               26.000000             \n",
       "nombre moyen de mandats par député                                           1.038462             \n",
       "\n",
       "                                     Départements de l'Empire français aujourd'hui en Allemagne  \\\n",
       "age moyen des deputes                                                       51.882537             \n",
       "nombre_mandat                                                               31.000000             \n",
       "nombre député                                                               31.000000             \n",
       "nombre moyen de mandats par député                                           1.000000             \n",
       "\n",
       "                                     Saint-Domingue   Etranger  \\\n",
       "age moyen des deputes                     35.140657  38.944559   \n",
       "nombre_mandat                             20.000000   2.000000   \n",
       "nombre député                             15.000000   2.000000   \n",
       "nombre moyen de mandats par député         1.333333   1.000000   \n",
       "\n",
       "                                     Départements de l'Empire français aujourd'hui en Suisse  \\\n",
       "age moyen des deputes                                                       44.386286          \n",
       "nombre_mandat                                                               11.000000          \n",
       "nombre député                                                               10.000000          \n",
       "nombre moyen de mandats par député                                           1.100000          \n",
       "\n",
       "                                     Rhône-et-Loire  \\\n",
       "age moyen des deputes                     36.502179   \n",
       "nombre_mandat                             20.000000   \n",
       "nombre député                             17.000000   \n",
       "nombre moyen de mandats par député         1.176471   \n",
       "\n",
       "                                     Départements de l'Empire français aujourd'hui au Luxembourg  \\\n",
       "age moyen des deputes                                                       49.342574              \n",
       "nombre_mandat                                                                8.000000              \n",
       "nombre député                                                                7.000000              \n",
       "nombre moyen de mandats par député                                           1.142857              \n",
       "\n",
       "                                     Ile-de-France (Maurice)  \n",
       "age moyen des deputes                              38.561259  \n",
       "nombre_mandat                                       2.000000  \n",
       "nombre député                                       2.000000  \n",
       "nombre moyen de mandats par député                  1.000000  \n",
       "\n",
       "[4 rows x 157 columns]"
      ]
     },
     "execution_count": 9,
     "metadata": {},
     "output_type": "execute_result"
    }
   ],
   "source": [
    "df=age_dep.reset_index()\n",
    "w,x,y,z=[],[],[],[]\n",
    "for dep in dep_possible :\n",
    "    w+=[df[df['Département']==dep]['age en année'].mean()]#on prend la moyenne d'age dans le département\n",
    "    x+=[len(df[df['Département']==dep])]#on compte le nombre total de mandat dans le département\n",
    "    y+=[len(df[df['Département']==dep]['Nom'].unique())]#Puis le nombre de députés différent par dpt\n",
    "    z+=[x[-1]/y[-1]] #Ceci est le nombre moyen de mandat par député\n",
    "    \n",
    "carac_dep_bis=np.array([w, x, y, z])#on crée un dataframe avec les informations\n",
    "table_depmt = pd.DataFrame(carac_dep_bis, index=['age moyen des deputes', 'nombre_mandat', 'nombre député','nombre moyen de mandats par député'],columns=dep_possible)\n",
    "table_depmt.head()\n"
   ]
  },
  {
   "cell_type": "code",
   "execution_count": 9,
   "metadata": {},
   "outputs": [
    {
     "name": "stdout",
     "output_type": "stream",
     "text": [
      "1.0\n",
      "3.09375\n",
      "2.290677795052528\n",
      "5\n"
     ]
    }
   ],
   "source": [
    "print(min(table_depmt.loc['nombre moyen de mandats par député'][table_depmt.loc['nombre député']>40]))\n",
    "print(max(table_depmt.loc['nombre moyen de mandats par député'][table_depmt.loc['nombre député']>40]))\n",
    "print((table_depmt.loc['nombre moyen de mandats par député'][table_depmt.loc['nombre député']>40]).mean())\n",
    "print((table_depmt.loc['nombre moyen de mandats par député'][table_depmt.loc['nombre moyen de mandats par député']<2][table_depmt.loc['nombre député']>40]).count())"
   ]
  },
  {
   "cell_type": "code",
   "execution_count": 10,
   "metadata": {},
   "outputs": [
    {
     "data": {
      "text/plain": [
       " Allier                                                       1.974843\n",
       " Anciens départements d'Algérie                               1.526570\n",
       " Meurthe                                                      1.986486\n",
       " Départements de l'Empire français aujourd'hui en Italie      1.000000\n",
       " Départements de l'Empire français aujourd'hui en Belgique    1.180723\n",
       "Name: nombre moyen de mandats par député, dtype: float64"
      ]
     },
     "execution_count": 10,
     "metadata": {},
     "output_type": "execute_result"
    }
   ],
   "source": [
    "table_depmt.loc['nombre moyen de mandats par député'][table_depmt.loc['nombre moyen de mandats par député']<2][table_depmt.loc['nombre député']>40]"
   ]
  },
  {
   "cell_type": "markdown",
   "metadata": {},
   "source": [
    "Les valeurs les plus basses sont constituées par des départements qui ont appartenu peu de temps à la France, et où les occasions de se faire réélire ont donc été peu nombreuses."
   ]
  },
  {
   "cell_type": "code",
   "execution_count": 11,
   "metadata": {},
   "outputs": [
    {
     "data": {
      "text/plain": [
       " Ille-et-Vilaine       2.648148\n",
       " Ardèche               2.507576\n",
       " Hauts-de-Seine        2.746269\n",
       " La Réunion            2.780000\n",
       " Alpes-Maritimes       2.570000\n",
       " Oise                  2.611111\n",
       " Meurthe-et-Moselle    2.567308\n",
       " Charente-Maritime     2.533333\n",
       " Indre-et-Loire        2.511450\n",
       " Landes                2.548077\n",
       " Manche                2.627119\n",
       " Seine-St-Denis        2.622642\n",
       " Loire-Atlantique      2.589286\n",
       " Orne                  2.510949\n",
       " Val-de-Marne          2.770833\n",
       " Savoie                3.093750\n",
       " Haute-Savoie          2.827586\n",
       " Tarn-et-Garonne       2.523810\n",
       "Name: nombre moyen de mandats par député, dtype: float64"
      ]
     },
     "execution_count": 11,
     "metadata": {},
     "output_type": "execute_result"
    }
   ],
   "source": [
    "table_depmt.loc['nombre moyen de mandats par député'][table_depmt.loc['nombre moyen de mandats par député']>2.5][table_depmt.loc['nombre député']>40]"
   ]
  },
  {
   "cell_type": "markdown",
   "metadata": {},
   "source": [
    "Au contraire, les départements où il y a le plus de réélections ne semblent pas avoir de problèmes de ce type."
   ]
  },
  {
   "cell_type": "code",
   "execution_count": 12,
   "metadata": {},
   "outputs": [
    {
     "data": {
      "text/plain": [
       "<matplotlib.axes._subplots.AxesSubplot at 0x2c31c18fa30>"
      ]
     },
     "execution_count": 12,
     "metadata": {},
     "output_type": "execute_result"
    },
    {
     "data": {
      "image/png": "[encoded data removed]",
      "text/plain": [
       "<Figure size 432x288 with 1 Axes>"
      ]
     },
     "metadata": {
      "needs_background": "light"
     },
     "output_type": "display_data"
    }
   ],
   "source": [
    "table_depmt.loc['nombre moyen de mandats par député'][table_depmt.loc['nombre député']>40].hist(bins=30)"
   ]
  },
  {
   "cell_type": "markdown",
   "metadata": {},
   "source": [
    "Construction des cartes de ces caractéristiques"
   ]
  },
  {
   "cell_type": "code",
   "execution_count": 11,
   "metadata": {},
   "outputs": [],
   "source": [
    "#récupération d'une carte des départements français\n",
    "import requests\n",
    "import tempfile\n",
    "import zipfile\n"
   ]
  },
  {
   "cell_type": "code",
   "execution_count": 13,
   "metadata": {},
   "outputs": [],
   "source": [
    "temporary_location = tempfile.gettempdir()\n",
    "def download_unzip(url, dirname =temporary_location, destname = \"borders\"):#fonction qui dézippe\n",
    "    myfile = requests.get(url)\n",
    "    open(dirname + '/' + destname + '.zip', 'wb').write(myfile.content)\n",
    "    with zipfile.ZipFile(dirname + '/' + destname + '.zip', 'r') as zip_ref: \n",
    "        zip_ref.extractall(dirname + '/' + destname)\n",
    "download_unzip('https://www.data.gouv.fr/fr/datasets/r/3096e551-c68d-40ce-8972-a228c94c0ad1')#l'URL où on trouve les départements"
   ]
  },
  {
   "cell_type": "markdown",
   "metadata": {},
   "source": [
    "Cette carte est issue de :\"© les contributeurs d'OpenStreetMap sous licence ODbL\""
   ]
  },
  {
   "cell_type": "code",
   "execution_count": 17,
   "metadata": {},
   "outputs": [],
   "source": [
    "carte_departement = gpd.read_file(tempfile.gettempdir() + \"/borders/departements-20140306-100m.dbf\")#on va chercher le fichier là où on l'a stocké\n",
    "carte_metrop = carte_departement.loc[0:95]#on enlève les départements d'outre-mer pour avoir une carte lisible\n"
   ]
  },
  {
   "cell_type": "code",
   "execution_count": 18,
   "metadata": {},
   "outputs": [],
   "source": [
    "table_depmt.columns=[i[1:] for i in table_depmt.columns]#on enlève l'espace devant le nom des départements"
   ]
  },
  {
   "cell_type": "code",
   "execution_count": 19,
   "metadata": {},
   "outputs": [],
   "source": [
    "carte_metrop.set_index('nom', inplace=True)#on met le nom du département en index pour pouvoir joindre les bases"
   ]
  },
  {
   "cell_type": "code",
   "execution_count": 20,
   "metadata": {
    "scrolled": true
   },
   "outputs": [
    {
     "data": {
      "text/plain": [
       "<AxesSubplot:>"
      ]
     },
     "execution_count": 20,
     "metadata": {},
     "output_type": "execute_result"
    },
    {
     "data": {
      "image/png": "[encoded data removed]",
      "text/plain": [
       "<Figure size 432x288 with 2 Axes>"
      ]
     },
     "metadata": {
      "needs_background": "light"
     },
     "output_type": "display_data"
    },
    {
     "data": {
      "image/png": "[encoded data removed]",
      "text/plain": [
       "<Figure size 432x288 with 2 Axes>"
      ]
     },
     "metadata": {
      "needs_background": "light"
     },
     "output_type": "display_data"
    },
    {
     "data": {
      "image/png": "[encoded data removed]",
      "text/plain": [
       "<Figure size 432x288 with 2 Axes>"
      ]
     },
     "metadata": {
      "needs_background": "light"
     },
     "output_type": "display_data"
    }
   ],
   "source": [
    "df = carte_metrop.merge(table_depmt.T, how = 'inner', left_index=True, right_index=True)#on transpose table pour avoir les départements en noms de lignes\n",
    "df.plot(column = 'nombre moyen de mandats par député', cmap = 'RdYlBu_r', legend=True)#on crée des cartes\n",
    "df.plot(column='nombre député', cmap = 'RdYlBu_r', legend=True)\n",
    "df.plot(column='age moyen des deputes', cmap='RdYlBu_r', legend=True)"
   ]
  },
  {
   "cell_type": "code",
   "execution_count": 21,
   "metadata": {},
   "outputs": [
    {
     "data": {
      "text/plain": [
       "<matplotlib.collections.PathCollection at 0x263e9f2d220>"
      ]
     },
     "execution_count": 21,
     "metadata": {},
     "output_type": "execute_result"
    },
    {
     "data": {
      "image/png": "[encoded data removed]",
      "text/plain": [
       "<Figure size 432x288 with 1 Axes>"
      ]
     },
     "metadata": {
      "needs_background": "light"
     },
     "output_type": "display_data"
    }
   ],
   "source": [
    "#C'était juste pour voir ^^\n",
    "bubu=table_depmt.T.reset_index()[[\"age moyen des deputes\",\"nombre moyen de mandats par député\"]]\n",
    "plt.scatter(bubu[\"age moyen des deputes\"],bubu[\"nombre moyen de mandats par député\"])"
   ]
  },
  {
   "cell_type": "markdown",
   "metadata": {},
   "source": [
    "On s'occupe des régimes maintenant"
   ]
  },
  {
   "cell_type": "code",
   "execution_count": 17,
   "metadata": {},
   "outputs": [],
   "source": [
    "import urllib#pour récupérer les données\n",
    "import bs4#pour rendre lisibles les données\n",
    "import re\n",
    "def Scrap (url):\n",
    "    req = urllib.request.Request(url)\n",
    "    html = urllib.request.urlopen(req).read()\n",
    "    page = bs4.BeautifulSoup(html, \"lxml\")\n",
    "    return page\n",
    "def ToDf (table) :\n",
    "    Listgrossiere=pd.read_html(str(table))#on transforme le tableau en liste de dataframes\n",
    "    listeDf=Listgrossiere[0]#on récupère le dataframe\n",
    "    return listeDf\n",
    "page=Scrap('https://fr.wikipedia.org/wiki/Liste_des_r%C3%A9gimes_fran%C3%A7ais')\n",
    "table = page.find('table')#on récupère le seul tableau de la page qui liste des députés\n",
    "listeReg=ToDf(table)"
   ]
  },
  {
   "cell_type": "code",
   "execution_count": 18,
   "metadata": {},
   "outputs": [],
   "source": [
    "listeReg2=pd.DataFrame(np.array([listeReg[('Nom','Nom')],listeReg[('Date','Date')]]).T,columns=[\"Nom\",\"Date\"])#on s'occupe des doubles index du tableau de wikipedia\n",
    "lstRegime=listeReg2[16:]#on enlève les lignes correspondants aux régimes trop anciens"
   ]
  },
  {
   "cell_type": "code",
   "execution_count": 19,
   "metadata": {
    "scrolled": true
   },
   "outputs": [
    {
     "name": "stderr",
     "output_type": "stream",
     "text": [
      "<ipython-input-19-7d23569cfb6f>:14: SettingWithCopyWarning: \n",
      "A value is trying to be set on a copy of a slice from a DataFrame.\n",
      "Try using .loc[row_indexer,col_indexer] = value instead\n",
      "\n",
      "See the caveats in the documentation: https://pandas.pydata.org/pandas-docs/stable/user_guide/indexing.html#returning-a-view-versus-a-copy\n",
      "  lstRegime['Date2']=lstRegime['Date'].apply(lambda x : extraire_date_1(x))\n",
      "<ipython-input-19-7d23569cfb6f>:15: SettingWithCopyWarning: \n",
      "A value is trying to be set on a copy of a slice from a DataFrame.\n",
      "Try using .loc[row_indexer,col_indexer] = value instead\n",
      "\n",
      "See the caveats in the documentation: https://pandas.pydata.org/pandas-docs/stable/user_guide/indexing.html#returning-a-view-versus-a-copy\n",
      "  lstRegime['Date3']=lstRegime['Date'].apply(lambda x : extraire_date_1(x,Debut=False))\n",
      "<ipython-input-19-7d23569cfb6f>:16: SettingWithCopyWarning: \n",
      "A value is trying to be set on a copy of a slice from a DataFrame\n",
      "\n",
      "See the caveats in the documentation: https://pandas.pydata.org/pandas-docs/stable/user_guide/indexing.html#returning-a-view-versus-a-copy\n",
      "  lstRegime['Date3'][lstRegime['Nom']=='Cinquième République']=maintenant\n",
      "C:\\ProgramData\\Anaconda3\\lib\\site-packages\\pandas\\core\\generic.py:8765: SettingWithCopyWarning: \n",
      "A value is trying to be set on a copy of a slice from a DataFrame\n",
      "\n",
      "See the caveats in the documentation: https://pandas.pydata.org/pandas-docs/stable/user_guide/indexing.html#returning-a-view-versus-a-copy\n",
      "  self._update_inplace(new_data)\n",
      "<ipython-input-19-7d23569cfb6f>:17: SettingWithCopyWarning: \n",
      "A value is trying to be set on a copy of a slice from a DataFrame.\n",
      "Try using .loc[row_indexer,col_indexer] = value instead\n",
      "\n",
      "See the caveats in the documentation: https://pandas.pydata.org/pandas-docs/stable/user_guide/indexing.html#returning-a-view-versus-a-copy\n",
      "  lstRegime['Durée']=lstRegime['Date3']-lstRegime['Date2']\n",
      "<ipython-input-19-7d23569cfb6f>:18: SettingWithCopyWarning: \n",
      "A value is trying to be set on a copy of a slice from a DataFrame.\n",
      "Try using .loc[row_indexer,col_indexer] = value instead\n",
      "\n",
      "See the caveats in the documentation: https://pandas.pydata.org/pandas-docs/stable/user_guide/indexing.html#returning-a-view-versus-a-copy\n",
      "  lstRegime['Durée en année']=lstRegime['Durée'].apply(lambda x: float(x.days / 365.25))\n"
     ]
    }
   ],
   "source": [
    "debut_regime=[]\n",
    "import datetime#on importe la date du jour\n",
    "maintenant=pd.to_datetime(str(datetime.datetime.now().year)+'/'+str(datetime.datetime.now().month)+'/'+str(datetime.datetime.now().day))\n",
    "def extraire_date_1(x, Debut=True):\n",
    "    dates=str(x)\n",
    "    dates=str(dates).split()\n",
    "    if Debut:\n",
    "        dates=' '.join(dates[1:4])\n",
    "    else:\n",
    "        dates=' '.join(dates[5:])\n",
    "    return transtype_date(dates)\n",
    "    \n",
    "    \n",
    "lstRegime['Date2']=lstRegime['Date'].apply(lambda x : extraire_date_1(x))\n",
    "lstRegime['Date3']=lstRegime['Date'].apply(lambda x : extraire_date_1(x,Debut=False))\n",
    "lstRegime['Date3'][lstRegime['Nom']=='Cinquième République']=maintenant\n",
    "lstRegime['Durée']=lstRegime['Date3']-lstRegime['Date2']\n",
    "lstRegime['Durée en année']=lstRegime['Durée'].apply(lambda x: float(x.days / 365.25))"
   ]
  },
  {
   "cell_type": "code",
   "execution_count": 20,
   "metadata": {},
   "outputs": [],
   "source": [
    "lstRegime=lstRegime[~lstRegime[\"Date2\"].isna()].drop_duplicates()\n",
    "lstRegime=lstRegime.reset_index().drop(['index'], axis=1)#on enlève l'ancien index des régimes\n",
    "lstRegime=lstRegime.set_index('Date2', drop=False)#et on le remplace par sa date du début : il est dans l'ordre chronologique"
   ]
  },
  {
   "cell_type": "code",
   "execution_count": 21,
   "metadata": {},
   "outputs": [
    {
     "name": "stdout",
     "output_type": "stream",
     "text": [
      "True\n"
     ]
    }
   ],
   "source": [
    "Regime_depute=age_dep.reset_index()####J'ai l'impression que cette case ne sert à rien\n",
    "Regime_depute=Regime_depute[Regime_depute[\"Date debut mandat\"] >= lstRegime[\"Date2\"][0]]\n",
    "print(Regime_depute[\"Date debut mandat\"][1]>lstRegime['Date2'][0])#on vérifie que les dates de fin sont supérieures à celles de début"
   ]
  },
  {
   "cell_type": "code",
   "execution_count": 22,
   "metadata": {},
   "outputs": [],
   "source": [
    "def TrouverRegime(x):\n",
    "    regime=lstRegime['Nom'][0]\n",
    "    i=0    \n",
    "    while (not (x<lstRegime['Date3'][i])) and i<=11:#jusqu'à ce que l'on trouve le premier régime ayant commencé après l'élection \n",
    "        i+=1#on essaie avec le suivant\n",
    "        regime=lstRegime['Nom'][i]\n",
    "    return regime"
   ]
  },
  {
   "cell_type": "code",
   "execution_count": 23,
   "metadata": {},
   "outputs": [],
   "source": [
    "Regime_depute[\"Régime\"]=Regime_depute[\"Date debut mandat\"].apply(lambda x : TrouverRegime(x) )"
   ]
  },
  {
   "cell_type": "code",
   "execution_count": 24,
   "metadata": {},
   "outputs": [
    {
     "data": {
      "text/html": [
       "<div>\n",
       "<style scoped>\n",
       "    .dataframe tbody tr th:only-of-type {\n",
       "        vertical-align: middle;\n",
       "    }\n",
       "\n",
       "    .dataframe tbody tr th {\n",
       "        vertical-align: top;\n",
       "    }\n",
       "\n",
       "    .dataframe thead th {\n",
       "        text-align: right;\n",
       "    }\n",
       "</style>\n",
       "<table border=\"1\" class=\"dataframe\">\n",
       "  <thead>\n",
       "    <tr style=\"text-align: right;\">\n",
       "      <th></th>\n",
       "      <th>durée du régime</th>\n",
       "      <th>age moyen des deputes</th>\n",
       "      <th>nombre_mandat</th>\n",
       "      <th>nombre député</th>\n",
       "      <th>nombre moyen de mandats par député</th>\n",
       "      <th>nombre moyen de mandats par an</th>\n",
       "      <th>nombre de législature</th>\n",
       "      <th>nombre moyen de mandats par législature</th>\n",
       "      <th>durée moyenne de législature</th>\n",
       "    </tr>\n",
       "  </thead>\n",
       "  <tbody>\n",
       "    <tr>\n",
       "      <th>Première Restauration</th>\n",
       "      <td>0.791239</td>\n",
       "      <td>51.067422</td>\n",
       "      <td>258.0</td>\n",
       "      <td>240.0</td>\n",
       "      <td>1.075000</td>\n",
       "      <td>326.070934</td>\n",
       "      <td>2.0</td>\n",
       "      <td>129.000000</td>\n",
       "      <td>0.395619</td>\n",
       "    </tr>\n",
       "    <tr>\n",
       "      <th>Premier Empire</th>\n",
       "      <td>9.878166</td>\n",
       "      <td>46.797498</td>\n",
       "      <td>468.0</td>\n",
       "      <td>447.0</td>\n",
       "      <td>1.046980</td>\n",
       "      <td>47.377217</td>\n",
       "      <td>2.0</td>\n",
       "      <td>234.000000</td>\n",
       "      <td>4.939083</td>\n",
       "    </tr>\n",
       "    <tr>\n",
       "      <th>Cent-Jours</th>\n",
       "      <td>0.298426</td>\n",
       "      <td>47.485411</td>\n",
       "      <td>325.0</td>\n",
       "      <td>314.0</td>\n",
       "      <td>1.035032</td>\n",
       "      <td>1089.048165</td>\n",
       "      <td>1.0</td>\n",
       "      <td>325.000000</td>\n",
       "      <td>0.298426</td>\n",
       "    </tr>\n",
       "    <tr>\n",
       "      <th>Seconde Restauration</th>\n",
       "      <td>14.507871</td>\n",
       "      <td>52.205648</td>\n",
       "      <td>2562.0</td>\n",
       "      <td>1417.0</td>\n",
       "      <td>1.808045</td>\n",
       "      <td>176.593791</td>\n",
       "      <td>5.0</td>\n",
       "      <td>512.400000</td>\n",
       "      <td>2.901574</td>\n",
       "    </tr>\n",
       "    <tr>\n",
       "      <th>Monarchie de Juillet</th>\n",
       "      <td>17.462012</td>\n",
       "      <td>49.384249</td>\n",
       "      <td>3750.0</td>\n",
       "      <td>1462.0</td>\n",
       "      <td>2.564979</td>\n",
       "      <td>214.751881</td>\n",
       "      <td>7.0</td>\n",
       "      <td>535.714286</td>\n",
       "      <td>2.494573</td>\n",
       "    </tr>\n",
       "    <tr>\n",
       "      <th>Deuxième République</th>\n",
       "      <td>3.967146</td>\n",
       "      <td>45.702348</td>\n",
       "      <td>1796.0</td>\n",
       "      <td>1349.0</td>\n",
       "      <td>1.331357</td>\n",
       "      <td>452.718427</td>\n",
       "      <td>2.0</td>\n",
       "      <td>898.000000</td>\n",
       "      <td>1.983573</td>\n",
       "    </tr>\n",
       "    <tr>\n",
       "      <th>Second Empire</th>\n",
       "      <td>18.154689</td>\n",
       "      <td>51.336521</td>\n",
       "      <td>1296.0</td>\n",
       "      <td>608.0</td>\n",
       "      <td>2.131579</td>\n",
       "      <td>71.386518</td>\n",
       "      <td>4.0</td>\n",
       "      <td>324.000000</td>\n",
       "      <td>4.538672</td>\n",
       "    </tr>\n",
       "    <tr>\n",
       "      <th>Troisième République</th>\n",
       "      <td>70.494182</td>\n",
       "      <td>49.349630</td>\n",
       "      <td>11513.0</td>\n",
       "      <td>4893.0</td>\n",
       "      <td>2.352953</td>\n",
       "      <td>163.318442</td>\n",
       "      <td>17.0</td>\n",
       "      <td>677.235294</td>\n",
       "      <td>4.146717</td>\n",
       "    </tr>\n",
       "    <tr>\n",
       "      <th>Gouvernement provisoire de la République française</th>\n",
       "      <td>2.642026</td>\n",
       "      <td>45.263814</td>\n",
       "      <td>1841.0</td>\n",
       "      <td>842.0</td>\n",
       "      <td>2.186461</td>\n",
       "      <td>696.813731</td>\n",
       "      <td>3.0</td>\n",
       "      <td>613.666667</td>\n",
       "      <td>0.880675</td>\n",
       "    </tr>\n",
       "    <tr>\n",
       "      <th>Quatrième République</th>\n",
       "      <td>11.452430</td>\n",
       "      <td>48.876792</td>\n",
       "      <td>1385.0</td>\n",
       "      <td>931.0</td>\n",
       "      <td>1.487648</td>\n",
       "      <td>120.935035</td>\n",
       "      <td>5.0</td>\n",
       "      <td>277.000000</td>\n",
       "      <td>2.290486</td>\n",
       "    </tr>\n",
       "    <tr>\n",
       "      <th>Cinquième République</th>\n",
       "      <td>62.655715</td>\n",
       "      <td>53.299084</td>\n",
       "      <td>8097.0</td>\n",
       "      <td>3199.0</td>\n",
       "      <td>2.531103</td>\n",
       "      <td>129.230031</td>\n",
       "      <td>15.0</td>\n",
       "      <td>539.800000</td>\n",
       "      <td>4.177048</td>\n",
       "    </tr>\n",
       "  </tbody>\n",
       "</table>\n",
       "</div>"
      ],
      "text/plain": [
       "                                                    durée du régime  \\\n",
       "Première Restauration                                      0.791239   \n",
       "Premier Empire                                             9.878166   \n",
       "Cent-Jours                                                 0.298426   \n",
       "Seconde Restauration                                      14.507871   \n",
       "Monarchie de Juillet                                      17.462012   \n",
       "Deuxième République                                        3.967146   \n",
       "Second Empire                                             18.154689   \n",
       "Troisième République                                      70.494182   \n",
       "Gouvernement provisoire de la République française         2.642026   \n",
       "Quatrième République                                      11.452430   \n",
       "Cinquième République                                      62.655715   \n",
       "\n",
       "                                                    age moyen des deputes  \\\n",
       "Première Restauration                                           51.067422   \n",
       "Premier Empire                                                  46.797498   \n",
       "Cent-Jours                                                      47.485411   \n",
       "Seconde Restauration                                            52.205648   \n",
       "Monarchie de Juillet                                            49.384249   \n",
       "Deuxième République                                             45.702348   \n",
       "Second Empire                                                   51.336521   \n",
       "Troisième République                                            49.349630   \n",
       "Gouvernement provisoire de la République française              45.263814   \n",
       "Quatrième République                                            48.876792   \n",
       "Cinquième République                                            53.299084   \n",
       "\n",
       "                                                    nombre_mandat  \\\n",
       "Première Restauration                                       258.0   \n",
       "Premier Empire                                              468.0   \n",
       "Cent-Jours                                                  325.0   \n",
       "Seconde Restauration                                       2562.0   \n",
       "Monarchie de Juillet                                       3750.0   \n",
       "Deuxième République                                        1796.0   \n",
       "Second Empire                                              1296.0   \n",
       "Troisième République                                      11513.0   \n",
       "Gouvernement provisoire de la République française         1841.0   \n",
       "Quatrième République                                       1385.0   \n",
       "Cinquième République                                       8097.0   \n",
       "\n",
       "                                                    nombre député  \\\n",
       "Première Restauration                                       240.0   \n",
       "Premier Empire                                              447.0   \n",
       "Cent-Jours                                                  314.0   \n",
       "Seconde Restauration                                       1417.0   \n",
       "Monarchie de Juillet                                       1462.0   \n",
       "Deuxième République                                        1349.0   \n",
       "Second Empire                                               608.0   \n",
       "Troisième République                                       4893.0   \n",
       "Gouvernement provisoire de la République française          842.0   \n",
       "Quatrième République                                        931.0   \n",
       "Cinquième République                                       3199.0   \n",
       "\n",
       "                                                    nombre moyen de mandats par député  \\\n",
       "Première Restauration                                                         1.075000   \n",
       "Premier Empire                                                                1.046980   \n",
       "Cent-Jours                                                                    1.035032   \n",
       "Seconde Restauration                                                          1.808045   \n",
       "Monarchie de Juillet                                                          2.564979   \n",
       "Deuxième République                                                           1.331357   \n",
       "Second Empire                                                                 2.131579   \n",
       "Troisième République                                                          2.352953   \n",
       "Gouvernement provisoire de la République française                            2.186461   \n",
       "Quatrième République                                                          1.487648   \n",
       "Cinquième République                                                          2.531103   \n",
       "\n",
       "                                                    nombre moyen de mandats par an  \\\n",
       "Première Restauration                                                   326.070934   \n",
       "Premier Empire                                                           47.377217   \n",
       "Cent-Jours                                                             1089.048165   \n",
       "Seconde Restauration                                                    176.593791   \n",
       "Monarchie de Juillet                                                    214.751881   \n",
       "Deuxième République                                                     452.718427   \n",
       "Second Empire                                                            71.386518   \n",
       "Troisième République                                                    163.318442   \n",
       "Gouvernement provisoire de la République française                      696.813731   \n",
       "Quatrième République                                                    120.935035   \n",
       "Cinquième République                                                    129.230031   \n",
       "\n",
       "                                                    nombre de législature  \\\n",
       "Première Restauration                                                 2.0   \n",
       "Premier Empire                                                        2.0   \n",
       "Cent-Jours                                                            1.0   \n",
       "Seconde Restauration                                                  5.0   \n",
       "Monarchie de Juillet                                                  7.0   \n",
       "Deuxième République                                                   2.0   \n",
       "Second Empire                                                         4.0   \n",
       "Troisième République                                                 17.0   \n",
       "Gouvernement provisoire de la République française                    3.0   \n",
       "Quatrième République                                                  5.0   \n",
       "Cinquième République                                                 15.0   \n",
       "\n",
       "                                                    nombre moyen de mandats par législature  \\\n",
       "Première Restauration                                                            129.000000   \n",
       "Premier Empire                                                                   234.000000   \n",
       "Cent-Jours                                                                       325.000000   \n",
       "Seconde Restauration                                                             512.400000   \n",
       "Monarchie de Juillet                                                             535.714286   \n",
       "Deuxième République                                                              898.000000   \n",
       "Second Empire                                                                    324.000000   \n",
       "Troisième République                                                             677.235294   \n",
       "Gouvernement provisoire de la République française                               613.666667   \n",
       "Quatrième République                                                             277.000000   \n",
       "Cinquième République                                                             539.800000   \n",
       "\n",
       "                                                    durée moyenne de législature  \n",
       "Première Restauration                                                   0.395619  \n",
       "Premier Empire                                                          4.939083  \n",
       "Cent-Jours                                                              0.298426  \n",
       "Seconde Restauration                                                    2.901574  \n",
       "Monarchie de Juillet                                                    2.494573  \n",
       "Deuxième République                                                     1.983573  \n",
       "Second Empire                                                           4.538672  \n",
       "Troisième République                                                    4.146717  \n",
       "Gouvernement provisoire de la République française                      0.880675  \n",
       "Quatrième République                                                    2.290486  \n",
       "Cinquième République                                                    4.177048  "
      ]
     },
     "execution_count": 24,
     "metadata": {},
     "output_type": "execute_result"
    }
   ],
   "source": [
    "reg_possible=list(Regime_depute['Régime'].unique())#une liste de tous les régimes\n",
    "reg_possible.reverse()#on les met dans l'ordre chronologique\n",
    "df=Regime_depute.reset_index()\n",
    "v,w,x,y,z,a,b,c,d=[],[],[],[],[],[],[],[],[]\n",
    "for reg in reg_possible :\n",
    "    v+=[float(lstRegime[lstRegime['Nom']==reg]['Durée en année'])]#la durée du régime\n",
    "    w+=[df[df['Régime']==reg]['age en année'].mean()]#on prend la moyenne d'age dans ce régime\n",
    "    x+=[len(df[df['Régime']==reg])]#on compte le nombre total de mandat dans le régime\n",
    "    y+=[len(df[df['Régime']==reg]['Nom'].unique())]#Puis le nombre de députés différent\n",
    "    z+=[x[-1]/y[-1]] #Ceci est le nombre moyen de mandat par député\n",
    "    a+=[x[-1]/v[-1]]#le nombre moyen de mandat par an\n",
    "    b+=[len(Regime_depute[Regime_depute['Régime']==reg]['Législature'].unique())]\n",
    "    c+=[x[-1]/b[-1]]#nombre moyen de mandats par législature\n",
    "    d+=[v[-1]/b[-1]]#durée moyenne d'une législature\n",
    "    \n",
    "carac_reg_bis=np.array([v, w, x, y, z, a, b, c, d])#on crée un dataframe avec les informations\n",
    "table_reg = pd.DataFrame(carac_reg_bis, index=['durée du régime', 'age moyen des deputes', 'nombre_mandat', 'nombre député','nombre moyen de mandats par député', 'nombre moyen de mandats par an', 'nombre de législature', 'nombre moyen de mandats par législature', 'durée moyenne de législature'],columns=reg_possible).T\n",
    "table_reg\n",
    "\n"
   ]
  },
  {
   "cell_type": "code",
   "execution_count": 25,
   "metadata": {},
   "outputs": [],
   "source": [
    "table_longreg=table_reg[table_reg['durée du régime']>10]"
   ]
  },
  {
   "cell_type": "code",
   "execution_count": 26,
   "metadata": {},
   "outputs": [
    {
     "data": {
      "text/plain": [
       "[<matplotlib.lines.Line2D at 0x2c31e4b1670>]"
      ]
     },
     "execution_count": 26,
     "metadata": {},
     "output_type": "execute_result"
    },
    {
     "data": {
      "image/png": "[encoded data removed]",
      "text/plain": [
       "<Figure size 1440x360 with 1 Axes>"
      ]
     },
     "metadata": {
      "needs_background": "light"
     },
     "output_type": "display_data"
    }
   ],
   "source": [
    "plt.figure(figsize=(20,5))\n",
    "plt.ylim(bottom=30, top=60)\n",
    "plt.plot(table_reg[\"age moyen des deputes\"])"
   ]
  },
  {
   "cell_type": "code",
   "execution_count": 27,
   "metadata": {},
   "outputs": [
    {
     "data": {
      "text/plain": [
       "[<matplotlib.lines.Line2D at 0x2c31e0f1250>]"
      ]
     },
     "execution_count": 27,
     "metadata": {},
     "output_type": "execute_result"
    },
    {
     "data": {
      "image/png": "[encoded data removed]",
      "text/plain": [
       "<Figure size 1440x360 with 1 Axes>"
      ]
     },
     "metadata": {
      "needs_background": "light"
     },
     "output_type": "display_data"
    }
   ],
   "source": [
    "plt.figure(figsize=(20,5))\n",
    "plt.plot(table_longreg[\"nombre moyen de mandats par député\"])"
   ]
  },
  {
   "cell_type": "markdown",
   "metadata": {},
   "source": [
    " \n",
    " \n",
    " ooooooooooooooooooooooooooooooooooooooooooooooooooooooooooooooooooo\n",
    " \n",
    " Departement de Naissance, début des stat \n",
    " \n",
    " ooooooooooooooooooooooooooooooooooooooooooooooooooooooooooooooooooooo\n",
    "\n",
    "\n",
    "\n",
    "\n"
   ]
  },
  {
   "cell_type": "code",
   "execution_count": 28,
   "metadata": {},
   "outputs": [
    {
     "data": {
      "text/plain": [
       "15976"
      ]
     },
     "execution_count": 28,
     "metadata": {},
     "output_type": "execute_result"
    }
   ],
   "source": [
    "df_depu[\"Département de naissance\"].count()"
   ]
  },
  {
   "cell_type": "code",
   "execution_count": 29,
   "metadata": {},
   "outputs": [
    {
     "data": {
      "text/plain": [
       "Unnamed: 0                  524\n",
       "Nom                         524\n",
       "Né le                       524\n",
       "Département de naissance      0\n",
       "Département de mort          22\n",
       "dtype: int64"
      ]
     },
     "execution_count": 29,
     "metadata": {},
     "output_type": "execute_result"
    }
   ],
   "source": [
    "df_depu[df_depu[\"Département de naissance\"].isna()].count()\n",
    "#On va voir si nos données ne sont pas trop biaisée"
   ]
  },
  {
   "cell_type": "code",
   "execution_count": 30,
   "metadata": {},
   "outputs": [
    {
     "data": {
      "text/html": [
       "<div>\n",
       "<style scoped>\n",
       "    .dataframe tbody tr th:only-of-type {\n",
       "        vertical-align: middle;\n",
       "    }\n",
       "\n",
       "    .dataframe tbody tr th {\n",
       "        vertical-align: top;\n",
       "    }\n",
       "\n",
       "    .dataframe thead th {\n",
       "        text-align: right;\n",
       "    }\n",
       "</style>\n",
       "<table border=\"1\" class=\"dataframe\">\n",
       "  <thead>\n",
       "    <tr style=\"text-align: right;\">\n",
       "      <th></th>\n",
       "      <th>Nom</th>\n",
       "      <th>Département</th>\n",
       "      <th>Groupe</th>\n",
       "      <th>Législature</th>\n",
       "      <th>Mandat</th>\n",
       "      <th>Régime politique</th>\n",
       "      <th>age en année</th>\n",
       "      <th>Date debut mandat</th>\n",
       "      <th>Régime</th>\n",
       "      <th>Né le</th>\n",
       "      <th>Département de naissance</th>\n",
       "    </tr>\n",
       "  </thead>\n",
       "  <tbody>\n",
       "    <tr>\n",
       "      <th>0</th>\n",
       "      <td>Damien Meslot</td>\n",
       "      <td>Territoire-de-Belfort</td>\n",
       "      <td>Union pour la majorité présidentielle</td>\n",
       "      <td>XIIe législature</td>\n",
       "      <td>Du 19 juin 2002 au 19 juin 2007</td>\n",
       "      <td>Cinquième République - Assemblée nationale</td>\n",
       "      <td>37.601643</td>\n",
       "      <td>2002-06-19</td>\n",
       "      <td>Cinquième République</td>\n",
       "      <td>11 novembre 1964</td>\n",
       "      <td>Inconnu</td>\n",
       "    </tr>\n",
       "    <tr>\n",
       "      <th>1</th>\n",
       "      <td>Damien Meslot</td>\n",
       "      <td>Territoire-de-Belfort</td>\n",
       "      <td>Union pour un mouvement populaire</td>\n",
       "      <td>XIIIe législature</td>\n",
       "      <td>Du 20 juin 2007 au 19 juin 2012</td>\n",
       "      <td>Cinquième République - Assemblée nationale</td>\n",
       "      <td>42.603696</td>\n",
       "      <td>2007-06-20</td>\n",
       "      <td>Cinquième République</td>\n",
       "      <td>11 novembre 1964</td>\n",
       "      <td>Inconnu</td>\n",
       "    </tr>\n",
       "    <tr>\n",
       "      <th>2</th>\n",
       "      <td>Damien Meslot</td>\n",
       "      <td>Territoire-de-Belfort</td>\n",
       "      <td>Union pour un mouvement populaire</td>\n",
       "      <td>XIVe législature</td>\n",
       "      <td>Du 20 juin 2012 au 20 juin 2017</td>\n",
       "      <td>Cinquième République - Assemblée nationale</td>\n",
       "      <td>47.605749</td>\n",
       "      <td>2012-06-20</td>\n",
       "      <td>Cinquième République</td>\n",
       "      <td>11 novembre 1964</td>\n",
       "      <td>Inconnu</td>\n",
       "    </tr>\n",
       "    <tr>\n",
       "      <th>3</th>\n",
       "      <td>Pascal Terrasse</td>\n",
       "      <td>Ardèche</td>\n",
       "      <td>Socialiste</td>\n",
       "      <td>XIe législature</td>\n",
       "      <td>Du  1er juin 1997 au 18 juin 2002</td>\n",
       "      <td>Cinquième République - Assemblée nationale</td>\n",
       "      <td>32.197125</td>\n",
       "      <td>1997-01-06</td>\n",
       "      <td>Cinquième République</td>\n",
       "      <td>26 octobre 1964</td>\n",
       "      <td>Gard</td>\n",
       "    </tr>\n",
       "    <tr>\n",
       "      <th>4</th>\n",
       "      <td>Pascal Terrasse</td>\n",
       "      <td>Ardèche</td>\n",
       "      <td>Socialiste</td>\n",
       "      <td>XIIe législature</td>\n",
       "      <td>Du 19 juin 2002 au 19 juin 2007</td>\n",
       "      <td>Cinquième République - Assemblée nationale</td>\n",
       "      <td>37.645448</td>\n",
       "      <td>2002-06-19</td>\n",
       "      <td>Cinquième République</td>\n",
       "      <td>26 octobre 1964</td>\n",
       "      <td>Gard</td>\n",
       "    </tr>\n",
       "  </tbody>\n",
       "</table>\n",
       "</div>"
      ],
      "text/plain": [
       "               Nom             Département  \\\n",
       "0    Damien Meslot   Territoire-de-Belfort   \n",
       "1    Damien Meslot   Territoire-de-Belfort   \n",
       "2    Damien Meslot   Territoire-de-Belfort   \n",
       "3  Pascal Terrasse                 Ardèche   \n",
       "4  Pascal Terrasse                 Ardèche   \n",
       "\n",
       "                                   Groupe          Législature  \\\n",
       "0   Union pour la majorité présidentielle    XIIe législature    \n",
       "1       Union pour un mouvement populaire   XIIIe législature    \n",
       "2       Union pour un mouvement populaire    XIVe législature    \n",
       "3                              Socialiste     XIe législature    \n",
       "4                              Socialiste    XIIe législature    \n",
       "\n",
       "                               Mandat  \\\n",
       "0     Du 19 juin 2002 au 19 juin 2007   \n",
       "1     Du 20 juin 2007 au 19 juin 2012   \n",
       "2     Du 20 juin 2012 au 20 juin 2017   \n",
       "3   Du  1er juin 1997 au 18 juin 2002   \n",
       "4     Du 19 juin 2002 au 19 juin 2007   \n",
       "\n",
       "                             Régime politique  age en année Date debut mandat  \\\n",
       "0  Cinquième République - Assemblée nationale     37.601643        2002-06-19   \n",
       "1  Cinquième République - Assemblée nationale     42.603696        2007-06-20   \n",
       "2  Cinquième République - Assemblée nationale     47.605749        2012-06-20   \n",
       "3  Cinquième République - Assemblée nationale     32.197125        1997-01-06   \n",
       "4  Cinquième République - Assemblée nationale     37.645448        2002-06-19   \n",
       "\n",
       "                 Régime             Né le Département de naissance  \n",
       "0  Cinquième République  11 novembre 1964                  Inconnu  \n",
       "1  Cinquième République  11 novembre 1964                  Inconnu  \n",
       "2  Cinquième République  11 novembre 1964                  Inconnu  \n",
       "3  Cinquième République   26 octobre 1964                     Gard  \n",
       "4  Cinquième République   26 octobre 1964                     Gard  "
      ]
     },
     "execution_count": 30,
     "metadata": {},
     "output_type": "execute_result"
    }
   ],
   "source": [
    "dept_naiss=Regime_depute.set_index('Nom').join(df_depu[[\"Nom\",\"Né le\", \"Département de naissance\"]].set_index('Nom'), on='Nom')\n",
    "dept_naiss=dept_naiss.reset_index()\n",
    "dept_naiss.head()\n"
   ]
  },
  {
   "cell_type": "code",
   "execution_count": 34,
   "metadata": {},
   "outputs": [
    {
     "data": {
      "text/plain": [
       "Régime\n",
       "Cent-Jours                                            11.002445\n",
       "Cinquième République                                  18.358002\n",
       "Deuxième République                                    6.878307\n",
       "Gouvernement provisoire de la République française    11.649155\n",
       "Monarchie de Juillet                                   6.468798\n",
       "Premier Empire                                        29.522184\n",
       "Première Restauration                                 10.928962\n",
       "Quatrième République                                  12.861538\n",
       "Second Empire                                          9.313725\n",
       "Seconde Restauration                                  10.434783\n",
       "Troisième République                                   8.253773\n",
       "Name: Département de naissance, dtype: float64"
      ]
     },
     "execution_count": 34,
     "metadata": {},
     "output_type": "execute_result"
    }
   ],
   "source": [
    "dept_naiss[dept_naiss[\"Département de naissance\"]==\"Inconnu\"].groupby(\"Régime\").count()['Département de naissance'] / dept_naiss.groupby(\"Régime\").count()['Département de naissance']*100\n",
    "#En gros, il y a entre 10 et 20% de departement de naissance manquant par régime"
   ]
  },
  {
   "cell_type": "markdown",
   "metadata": {},
   "source": [
    "Les départements où on a le plus de valeurs manquante sont aussi ceux où il y a le plus de député : l'analyse des valeurs manquantes est à affiner mais nous pensons qu'utiliser ces variables reste possible."
   ]
  },
  {
   "cell_type": "code",
   "execution_count": 31,
   "metadata": {},
   "outputs": [],
   "source": [
    "listeLegis=['Ire','IIe', 'IIIe', 'IVe', 'Ve', 'VIe', 'VIIe', 'VIIIe', 'IXe', 'Xe', 'XIe', 'XIIe', 'XIIIe', 'XIVe', 'XVe', 'XVIe']\n",
    "listeLegislature=[' '+i+' législature ' for i in listeLegis]#on crée une liste des législatures dans le bon ordre"
   ]
  },
  {
   "cell_type": "code",
   "execution_count": 32,
   "metadata": {},
   "outputs": [
    {
     "name": "stdout",
     "output_type": "stream",
     "text": [
      "[1470, 1492, 1573, 1555, 1406, 1353, 1411, 1470, 1531, 1426, 1316, 1111, 674, 241]\n"
     ]
    }
   ],
   "source": [
    "#on va s'intéresser aux législatures des républiques qui ont duré longtemps\n",
    "dept_naiss_3=dept_naiss[dept_naiss['Régime'] =='Troisième République']\n",
    "dept_naiss_5=dept_naiss[dept_naiss['Régime'] =='Cinquième République']\n",
    "dept_naiss_emp2=dept_naiss[dept_naiss['Régime'] =='Second Empire']\n",
    "diffdep_3=[]#le nombre de députés dans la base pour les législatures i et i+1 pour la Troisième République\n",
    "diffdep_5=[]#pour la Cinquième\n",
    "diffdep_emp2=[]#pour le second Empire\n",
    "[tauxreelec_3,tauxreelec_5, tauxreelec_emp2]=[[],[],[]]#le taux de réelection entre les législatures i et i+1 pour la troisième République\n",
    "[date_leg_3, date_leg_5,date_leg_emp2]=[[],[],[]]#les dates de début de législatures\n",
    "\n",
    "\n",
    "def data_legis(compteur, dept_naissance, diffdep, tauxreelec, date_leg):\n",
    "    passation=pd.concat((dept_naissance[dept_naissance['Législature'] ==listeLegislature[compteur]],dept_naissance[dept_naissance['Législature']==listeLegislature[compteur+1]]))\n",
    "\n",
    "    if not dept_naissance[dept_naissance['Législature']==listeLegislature[compteur+1]]['Date debut mandat'].empty :#s'il y a deux législatures à comparer :\n",
    "        nbredep=passation['Nom'].count()\n",
    "        diffdep+=[nbredep]\n",
    "        tauxreelec+=[passation['Nom'].unique().shape[0]/nbredep]\n",
    "        date_leg+=[min(passation.tail(1)['Date debut mandat']).year]\n",
    "    return diffdep, tauxreelec, date_leg\n",
    "            \n",
    "for compteur in range(len(listeLegislature)-1) :\n",
    "    data_legis(compteur, dept_naiss_3, diffdep_3, tauxreelec_3, date_leg_3)\n",
    "    data_legis(compteur, dept_naiss_5, diffdep_5, tauxreelec_5, date_leg_5)\n",
    "    data_legis(compteur, dept_naiss_emp2, diffdep_emp2, tauxreelec_emp2, date_leg_emp2)\n",
    "\n",
    "print(diffdep_5)#on a une bonne base jusqu'à la douzième législature pour la 5e République, avec une grande majorité des députés présents dans la base       "
   ]
  },
  {
   "cell_type": "code",
   "execution_count": 33,
   "metadata": {},
   "outputs": [
    {
     "data": {
      "text/plain": [
       "[<matplotlib.lines.Line2D at 0x2c31e1544c0>]"
      ]
     },
     "execution_count": 33,
     "metadata": {},
     "output_type": "execute_result"
    },
    {
     "data": {
      "image/png": "[encoded data removed]",
      "text/plain": [
       "<Figure size 432x288 with 1 Axes>"
      ]
     },
     "metadata": {
      "needs_background": "light"
     },
     "output_type": "display_data"
    }
   ],
   "source": [
    "plt.plot(date_leg_emp2,tauxreelec_emp2)"
   ]
  },
  {
   "cell_type": "markdown",
   "metadata": {},
   "source": [
    "Où on voit l'Empire qui s'embourgeoise..."
   ]
  },
  {
   "cell_type": "code",
   "execution_count": 34,
   "metadata": {},
   "outputs": [
    {
     "data": {
      "text/plain": [
       "[<matplotlib.lines.Line2D at 0x2c31e1ac0a0>]"
      ]
     },
     "execution_count": 34,
     "metadata": {},
     "output_type": "execute_result"
    },
    {
     "data": {
      "image/png": "[encoded data removed]",
      "text/plain": [
       "<Figure size 432x288 with 1 Axes>"
      ]
     },
     "metadata": {
      "needs_background": "light"
     },
     "output_type": "display_data"
    }
   ],
   "source": [
    "plt.plot(date_leg_3, tauxreelec_3)"
   ]
  },
  {
   "cell_type": "markdown",
   "metadata": {},
   "source": [
    "On peut voir l'impact de l'affaire Dreyfus et de la Première Guerre Mondiale, et les scandales des années 30."
   ]
  },
  {
   "cell_type": "code",
   "execution_count": 39,
   "metadata": {},
   "outputs": [
    {
     "data": {
      "text/plain": [
       "[<matplotlib.lines.Line2D at 0xb552530>]"
      ]
     },
     "execution_count": 39,
     "metadata": {},
     "output_type": "execute_result"
    },
    {
     "data": {
      "image/png": "[encoded data removed]",
      "text/plain": [
       "<Figure size 432x288 with 1 Axes>"
      ]
     },
     "metadata": {
      "needs_background": "light"
     },
     "output_type": "display_data"
    }
   ],
   "source": [
    "plt.plot(date_leg_5[:11], tauxreelec_5[:11])"
   ]
  },
  {
   "cell_type": "markdown",
   "metadata": {},
   "source": [
    "On voit un effet mai 68, puis un début de professionnalisation de la politique.  "
   ]
  },
  {
   "cell_type": "code",
   "execution_count": 35,
   "metadata": {},
   "outputs": [
    {
     "name": "stderr",
     "output_type": "stream",
     "text": [
      "<ipython-input-35-9031f348c685>:1: UserWarning: Boolean Series key will be reindexed to match DataFrame index.\n",
      "  test=dept_naiss[dept_naiss[\"Département de naissance\"]==\"Inconnu\"][dept_naiss[\"Régime\"]==\"Cinquième République\"]\n"
     ]
    },
    {
     "name": "stdout",
     "output_type": "stream",
     "text": [
      "Nom en tout    15\n",
      "Nom            15\n",
      "Pourcent       15\n",
      "dtype: int64\n"
     ]
    },
    {
     "name": "stderr",
     "output_type": "stream",
     "text": [
      "<ipython-input-35-9031f348c685>:9: UserWarning: Boolean Series key will be reindexed to match DataFrame index.\n",
      "  print(z[z[\"Nom en tout\"]>80][z[\"Pourcent\"]>10].count())\n"
     ]
    },
    {
     "data": {
      "text/html": [
       "<div>\n",
       "<style scoped>\n",
       "    .dataframe tbody tr th:only-of-type {\n",
       "        vertical-align: middle;\n",
       "    }\n",
       "\n",
       "    .dataframe tbody tr th {\n",
       "        vertical-align: top;\n",
       "    }\n",
       "\n",
       "    .dataframe thead th {\n",
       "        text-align: right;\n",
       "    }\n",
       "</style>\n",
       "<table border=\"1\" class=\"dataframe\">\n",
       "  <thead>\n",
       "    <tr style=\"text-align: right;\">\n",
       "      <th></th>\n",
       "      <th>Nom en tout</th>\n",
       "      <th>Nom</th>\n",
       "      <th>Pourcent</th>\n",
       "    </tr>\n",
       "    <tr>\n",
       "      <th>Département</th>\n",
       "      <th></th>\n",
       "      <th></th>\n",
       "      <th></th>\n",
       "    </tr>\n",
       "  </thead>\n",
       "  <tbody>\n",
       "    <tr>\n",
       "      <th>Yvelines</th>\n",
       "      <td>160</td>\n",
       "      <td>50</td>\n",
       "      <td>31.250000</td>\n",
       "    </tr>\n",
       "    <tr>\n",
       "      <th>Seine-St-Denis</th>\n",
       "      <td>145</td>\n",
       "      <td>47</td>\n",
       "      <td>32.413793</td>\n",
       "    </tr>\n",
       "    <tr>\n",
       "      <th>Val-de-Marne</th>\n",
       "      <td>130</td>\n",
       "      <td>48</td>\n",
       "      <td>36.923077</td>\n",
       "    </tr>\n",
       "    <tr>\n",
       "      <th>Essonne</th>\n",
       "      <td>89</td>\n",
       "      <td>37</td>\n",
       "      <td>41.573034</td>\n",
       "    </tr>\n",
       "    <tr>\n",
       "      <th>Hauts-de-Seine</th>\n",
       "      <td>178</td>\n",
       "      <td>74</td>\n",
       "      <td>41.573034</td>\n",
       "    </tr>\n",
       "  </tbody>\n",
       "</table>\n",
       "</div>"
      ],
      "text/plain": [
       "                 Nom en tout  Nom   Pourcent\n",
       "Département                                 \n",
       " Yvelines                160   50  31.250000\n",
       " Seine-St-Denis          145   47  32.413793\n",
       " Val-de-Marne            130   48  36.923077\n",
       " Essonne                  89   37  41.573034\n",
       " Hauts-de-Seine          178   74  41.573034"
      ]
     },
     "execution_count": 35,
     "metadata": {},
     "output_type": "execute_result"
    }
   ],
   "source": [
    "test=dept_naiss[dept_naiss[\"Département de naissance\"]==\"Inconnu\"][dept_naiss[\"Régime\"]==\"Cinquième République\"]\n",
    "test.head()\n",
    "y=test[[\"Nom\",\"Département\"]].groupby(\"Département\").count().sort_values(by=\"Nom\")\n",
    "z=dept_naiss[[\"Nom\",\"Département\"]]\n",
    "z=z[z[\"Département\"].isin(y.index)]\n",
    "z=z.groupby(\"Département\").count()\n",
    "z=z.join(y,on=\"Département\",lsuffix=\" en tout\")\n",
    "z[\"Pourcent\"]=z[\"Nom\"]*100/z[\"Nom en tout\"]\n",
    "print(z[z[\"Nom en tout\"]>80][z[\"Pourcent\"]>10].count())\n",
    "z[z[\"Nom en tout\"]>80].sort_values(by=\"Pourcent\").tail(5)"
   ]
  },
  {
   "cell_type": "code",
   "execution_count": 36,
   "metadata": {},
   "outputs": [
    {
     "data": {
      "text/plain": [
       "0.4818547177733789"
      ]
     },
     "execution_count": 36,
     "metadata": {},
     "output_type": "execute_result"
    }
   ],
   "source": [
    "def pourcentageTerroir(basedep) :#une fonction qui donne le pourcentage de mandats occupés par des députés nés dans leur département d'élection\n",
    "    basedep_1=basedep[basedep['Département']==' '+basedep['Département de naissance']]\n",
    "    nbreterroir=basedep_1[basedep_1['Département de naissance']!='Inconnu']['Département'].count()\n",
    "    pourcTerroir=nbreterroir/basedep[basedep['Département de naissance']!='Inconnu']['Département'].count()\n",
    "    return pourcTerroir\n",
    "pourcentageTerroir(dept_naiss)"
   ]
  },
  {
   "cell_type": "markdown",
   "metadata": {},
   "source": [
    "environ un député sur deux dont on connait le département de naissance s'est fait élire dans ce département"
   ]
  },
  {
   "cell_type": "code",
   "execution_count": 37,
   "metadata": {},
   "outputs": [],
   "source": [
    "regterroir=[]\n",
    "for regime in reg_possible :\n",
    "    regterroir+=[pourcentageTerroir(dept_naiss[dept_naiss['Régime']==regime])]"
   ]
  },
  {
   "cell_type": "code",
   "execution_count": 38,
   "metadata": {},
   "outputs": [
    {
     "data": {
      "text/plain": [
       "[<matplotlib.lines.Line2D at 0x2c31e224f10>]"
      ]
     },
     "execution_count": 38,
     "metadata": {},
     "output_type": "execute_result"
    },
    {
     "data": {
      "image/png": "[encoded data removed]",
      "text/plain": [
       "<Figure size 1440x360 with 1 Axes>"
      ]
     },
     "metadata": {
      "needs_background": "light"
     },
     "output_type": "display_data"
    }
   ],
   "source": [
    "plt.figure(figsize=(20,5))\n",
    "plt.plot(reg_possible, regterroir)"
   ]
  },
  {
   "cell_type": "markdown",
   "metadata": {},
   "source": [
    "On a une tendance à la baisse, avec un taux historiquement bas lors de GPRF (où l'on avait d'autres problèmes). Cela mis à part, les deux Républiques succédant à d'autres régimes semblent faire remonter ce taux."
   ]
  },
  {
   "cell_type": "code",
   "execution_count": 39,
   "metadata": {},
   "outputs": [],
   "source": [
    "[pcterroir_3, pcterroir_5, pcterroir_emp2]=[[],[],[]]#le pourcentage de députés élus dans leur région de naissance\n",
    "[date_leg_3, date_leg_5, date_leg_emp2]=[[],[],[]]\n",
    "def dataparreg (basereg, pcterroir, date_leg) :\n",
    "    for legislatures in range(len(listeLegislature)):\n",
    "        if not basereg[basereg['Législature'] ==listeLegislature[legislatures]].empty :\n",
    "            basedep=basereg[basereg['Législature'] ==listeLegislature[legislatures]]\n",
    "            pcterroir+=[pourcentageTerroir(basedep)]\n",
    "            date_leg+=[min(basedep.tail(1)['Date debut mandat']).year]\n",
    "dataparreg(dept_naiss_3, pcterroir_3, date_leg_3)\n",
    "dataparreg(dept_naiss_5, pcterroir_5, date_leg_5)\n",
    "dataparreg(dept_naiss_emp2, pcterroir_emp2, date_leg_emp2)"
   ]
  },
  {
   "cell_type": "code",
   "execution_count": 40,
   "metadata": {},
   "outputs": [
    {
     "data": {
      "text/plain": [
       "[<matplotlib.lines.Line2D at 0x2c31e48fb80>]"
      ]
     },
     "execution_count": 40,
     "metadata": {},
     "output_type": "execute_result"
    },
    {
     "data": {
      "image/png": "[encoded data removed]",
      "text/plain": [
       "<Figure size 432x288 with 1 Axes>"
      ]
     },
     "metadata": {
      "needs_background": "light"
     },
     "output_type": "display_data"
    }
   ],
   "source": [
    "plt.plot(date_leg_5[:11], pcterroir_5[:11])"
   ]
  },
  {
   "cell_type": "markdown",
   "metadata": {},
   "source": [
    "Pas beaucoup d'effet observable"
   ]
  },
  {
   "cell_type": "code",
   "execution_count": 46,
   "metadata": {},
   "outputs": [
    {
     "data": {
      "text/plain": [
       "[<matplotlib.lines.Line2D at 0xb5cf930>]"
      ]
     },
     "execution_count": 46,
     "metadata": {},
     "output_type": "execute_result"
    },
    {
     "data": {
      "image/png": "[encoded data removed]",
      "text/plain": [
       "<Figure size 432x288 with 1 Axes>"
      ]
     },
     "metadata": {
      "needs_background": "light"
     },
     "output_type": "display_data"
    }
   ],
   "source": [
    "plt.plot(date_leg_3, pcterroir_3)"
   ]
  },
  {
   "cell_type": "markdown",
   "metadata": {},
   "source": [
    "une chute au moment de l'affaire Dreyfus... Mais surtout des valeurs toujours supérieures à celles de la Cinquième République ! Les temps ont changé, l'ancrage local est devenu moins important entre les deux régimes."
   ]
  },
  {
   "cell_type": "code",
   "execution_count": 47,
   "metadata": {},
   "outputs": [
    {
     "data": {
      "text/plain": [
       "[<matplotlib.lines.Line2D at 0xd2889f0>]"
      ]
     },
     "execution_count": 47,
     "metadata": {},
     "output_type": "execute_result"
    },
    {
     "data": {
      "image/png": "[encoded data removed]",
      "text/plain": [
       "<Figure size 432x288 with 1 Axes>"
      ]
     },
     "metadata": {
      "needs_background": "light"
     },
     "output_type": "display_data"
    }
   ],
   "source": [
    "plt.plot(date_leg_emp2, pcterroir_emp2)"
   ]
  },
  {
   "cell_type": "markdown",
   "metadata": {},
   "source": [
    "Des valeurs très stables et assez faibles (plus niveau de Cinquième que de Quatrième)"
   ]
  },
  {
   "cell_type": "markdown",
   "metadata": {},
   "source": [
    "Etude des réelections entre différents régimes (attention au changement de nombre de députés ! Plutôt à prendre qualitativement, avec les grandes tendances, que quantitativement)."
   ]
  },
  {
   "cell_type": "code",
   "execution_count": 41,
   "metadata": {},
   "outputs": [],
   "source": [
    "def Recuplegtrans (transition, premier=True) :\n",
    "    if premier :\n",
    "        base_transreg1=dept_naiss[dept_naiss['Régime']==reg_possible[transition]]#on récupère la base du régime voulu\n",
    "        date_trans1=max(base_transreg1['Date debut mandat'])#on prend la date la plus élevée\n",
    "    else:\n",
    "        base_transreg1=dept_naiss[dept_naiss['Régime']==reg_possible[transition+1]]#on récupère la base du régime voulu\n",
    "        date_trans1=min(base_transreg1['Date debut mandat'])#on prend la date la plus élevée\n",
    "    leg_trans1=base_transreg1[base_transreg1['Date debut mandat']==date_trans1]['Législature'].unique()#pour récupérer la législature voulue\n",
    "    base_trans1=base_transreg1[base_transreg1['Législature']==leg_trans1[0]]#et on prend les données des députés de cette dernière législature\n",
    "    return base_trans1"
   ]
  },
  {
   "cell_type": "code",
   "execution_count": 42,
   "metadata": {},
   "outputs": [
    {
     "name": "stdout",
     "output_type": "stream",
     "text": [
      "[1.3085339168490153, 1.3015873015873016, 1.1948051948051948, 1.136568848758465, 1.2749800159872102, 1.369942196531792, 1.1178992497320472, 1.3638766519823788, 1.096774193548387, 1.4448598130841122]\n"
     ]
    }
   ],
   "source": [
    "pctreelec=[]\n",
    "nbremand=[]\n",
    "nbredepu=[]\n",
    "for transition in range(len(reg_possible)-1) :\n",
    "    base=pd.concat((Recuplegtrans(transition),Recuplegtrans(transition, False)))#on prend la dernière législature du régime précédent et la première du nouveau\n",
    "    nbremand+=[base['Nom'].count()]\n",
    "    nbredepu+=[base['Nom'].unique().shape[0]]\n",
    "    pctreelec+=[float(nbremand[-1])/float(nbredepu[-1])]\n",
    "print(pctreelec)"
   ]
  },
  {
   "cell_type": "code",
   "execution_count": 43,
   "metadata": {},
   "outputs": [
    {
     "data": {
      "text/plain": [
       "[<matplotlib.lines.Line2D at 0x2c31e525b20>]"
      ]
     },
     "execution_count": 43,
     "metadata": {},
     "output_type": "execute_result"
    },
    {
     "data": {
      "image/png": "[encoded data removed]",
      "text/plain": [
       "<Figure size 1440x360 with 1 Axes>"
      ]
     },
     "metadata": {
      "needs_background": "light"
     },
     "output_type": "display_data"
    }
   ],
   "source": [
    "plt.figure(figsize=(20,5))\n",
    "plt.plot(reg_possible[1:],pctreelec)"
   ]
  },
  {
   "cell_type": "markdown",
   "metadata": {},
   "source": [
    "A lire comme : la monarchie de Juillet a réélu moins de députés provenant de la seconde restauration que la cinquième république n'a réélu de députés de la Quatrième.\n",
    "Faits intéressants : la Quatrième République a très peu réélu les députés du GPRF, le Second Empire a beaucoup réélu les députés de la Deuxième République (qui ont plébiscité Napoléon III)"
   ]
  },
  {
   "cell_type": "markdown",
   "metadata": {},
   "source": [
    "ooooooooooooooooooooooooooooooo\n",
    "\n",
    "Extension de la base 'député dans le but affiché de faire du clustering dessus\n",
    "\n",
    "ooooooooooooooooo"
   ]
  },
  {
   "cell_type": "code",
   "execution_count": 173,
   "metadata": {},
   "outputs": [
    {
     "data": {
      "text/html": [
       "<div>\n",
       "<style scoped>\n",
       "    .dataframe tbody tr th:only-of-type {\n",
       "        vertical-align: middle;\n",
       "    }\n",
       "\n",
       "    .dataframe tbody tr th {\n",
       "        vertical-align: top;\n",
       "    }\n",
       "\n",
       "    .dataframe thead th {\n",
       "        text-align: right;\n",
       "    }\n",
       "</style>\n",
       "<table border=\"1\" class=\"dataframe\">\n",
       "  <thead>\n",
       "    <tr style=\"text-align: right;\">\n",
       "      <th></th>\n",
       "      <th>Unnamed: 0</th>\n",
       "      <th>Nom</th>\n",
       "      <th>Né le</th>\n",
       "      <th>Département de naissance</th>\n",
       "      <th>Département de mort</th>\n",
       "    </tr>\n",
       "  </thead>\n",
       "  <tbody>\n",
       "    <tr>\n",
       "      <th>0</th>\n",
       "      <td>0</td>\n",
       "      <td>Ludovic Pajot</td>\n",
       "      <td>18 novembre 1993</td>\n",
       "      <td>NaN</td>\n",
       "      <td>NaN</td>\n",
       "    </tr>\n",
       "    <tr>\n",
       "      <th>1</th>\n",
       "      <td>1</td>\n",
       "      <td>Typhanie Degois</td>\n",
       "      <td>6 janvier 1993</td>\n",
       "      <td>NaN</td>\n",
       "      <td>NaN</td>\n",
       "    </tr>\n",
       "  </tbody>\n",
       "</table>\n",
       "</div>"
      ],
      "text/plain": [
       "   Unnamed: 0              Nom             Né le Département de naissance  \\\n",
       "0           0    Ludovic Pajot  18 novembre 1993                      NaN   \n",
       "1           1  Typhanie Degois    6 janvier 1993                      NaN   \n",
       "\n",
       "  Département de mort  \n",
       "0                 NaN  \n",
       "1                 NaN  "
      ]
     },
     "execution_count": 173,
     "metadata": {},
     "output_type": "execute_result"
    }
   ],
   "source": [
    "df_depu.head(2)"
   ]
  },
  {
   "cell_type": "code",
   "execution_count": 174,
   "metadata": {},
   "outputs": [
    {
     "data": {
      "text/html": [
       "<div>\n",
       "<style scoped>\n",
       "    .dataframe tbody tr th:only-of-type {\n",
       "        vertical-align: middle;\n",
       "    }\n",
       "\n",
       "    .dataframe tbody tr th {\n",
       "        vertical-align: top;\n",
       "    }\n",
       "\n",
       "    .dataframe thead th {\n",
       "        text-align: right;\n",
       "    }\n",
       "</style>\n",
       "<table border=\"1\" class=\"dataframe\">\n",
       "  <thead>\n",
       "    <tr style=\"text-align: right;\">\n",
       "      <th></th>\n",
       "      <th>Département</th>\n",
       "      <th>Groupe</th>\n",
       "      <th>Législature</th>\n",
       "      <th>Mandat</th>\n",
       "      <th>Régime politique</th>\n",
       "      <th>age en année</th>\n",
       "      <th>Date debut mandat</th>\n",
       "    </tr>\n",
       "    <tr>\n",
       "      <th>Nom</th>\n",
       "      <th></th>\n",
       "      <th></th>\n",
       "      <th></th>\n",
       "      <th></th>\n",
       "      <th></th>\n",
       "      <th></th>\n",
       "      <th></th>\n",
       "    </tr>\n",
       "  </thead>\n",
       "  <tbody>\n",
       "    <tr>\n",
       "      <th>Damien Meslot</th>\n",
       "      <td>Territoire-de-Belfort</td>\n",
       "      <td>Union pour la majorité présidentielle</td>\n",
       "      <td>XIIe législature</td>\n",
       "      <td>Du 19 juin 2002 au 19 juin 2007</td>\n",
       "      <td>Cinquième République - Assemblée nationale</td>\n",
       "      <td>37.601643</td>\n",
       "      <td>2002-06-19</td>\n",
       "    </tr>\n",
       "    <tr>\n",
       "      <th>Damien Meslot</th>\n",
       "      <td>Territoire-de-Belfort</td>\n",
       "      <td>Union pour un mouvement populaire</td>\n",
       "      <td>XIIIe législature</td>\n",
       "      <td>Du 20 juin 2007 au 19 juin 2012</td>\n",
       "      <td>Cinquième République - Assemblée nationale</td>\n",
       "      <td>42.603696</td>\n",
       "      <td>2007-06-20</td>\n",
       "    </tr>\n",
       "  </tbody>\n",
       "</table>\n",
       "</div>"
      ],
      "text/plain": [
       "                          Département                                  Groupe  \\\n",
       "Nom                                                                             \n",
       "Damien Meslot   Territoire-de-Belfort   Union pour la majorité présidentielle   \n",
       "Damien Meslot   Territoire-de-Belfort       Union pour un mouvement populaire   \n",
       "\n",
       "                       Législature                            Mandat  \\\n",
       "Nom                                                                    \n",
       "Damien Meslot    XIIe législature    Du 19 juin 2002 au 19 juin 2007   \n",
       "Damien Meslot   XIIIe législature    Du 20 juin 2007 au 19 juin 2012   \n",
       "\n",
       "                                         Régime politique  age en année  \\\n",
       "Nom                                                                       \n",
       "Damien Meslot  Cinquième République - Assemblée nationale     37.601643   \n",
       "Damien Meslot  Cinquième République - Assemblée nationale     42.603696   \n",
       "\n",
       "              Date debut mandat  \n",
       "Nom                              \n",
       "Damien Meslot        2002-06-19  \n",
       "Damien Meslot        2007-06-20  "
      ]
     },
     "execution_count": 174,
     "metadata": {},
     "output_type": "execute_result"
    }
   ],
   "source": [
    "age_dep.head(2)"
   ]
  },
  {
   "cell_type": "code",
   "execution_count": 253,
   "metadata": {},
   "outputs": [],
   "source": [
    "nb_mandat=age_dep.groupby(\"Nom\").count()[\"age en année\"]"
   ]
  },
  {
   "cell_type": "markdown",
   "metadata": {},
   "source": [
    "On compte les mandats par noms puis on joint avec notre liste initiale"
   ]
  },
  {
   "cell_type": "code",
   "execution_count": 254,
   "metadata": {},
   "outputs": [
    {
     "data": {
      "text/html": [
       "<div>\n",
       "<style scoped>\n",
       "    .dataframe tbody tr th:only-of-type {\n",
       "        vertical-align: middle;\n",
       "    }\n",
       "\n",
       "    .dataframe tbody tr th {\n",
       "        vertical-align: top;\n",
       "    }\n",
       "\n",
       "    .dataframe thead th {\n",
       "        text-align: right;\n",
       "    }\n",
       "</style>\n",
       "<table border=\"1\" class=\"dataframe\">\n",
       "  <thead>\n",
       "    <tr style=\"text-align: right;\">\n",
       "      <th></th>\n",
       "      <th>nombre de mandat</th>\n",
       "    </tr>\n",
       "    <tr>\n",
       "      <th>Nom</th>\n",
       "      <th></th>\n",
       "    </tr>\n",
       "  </thead>\n",
       "  <tbody>\n",
       "    <tr>\n",
       "      <th>(Louis, Camille, Alexandre, Marie Dubochet</th>\n",
       "      <td>1</td>\n",
       "    </tr>\n",
       "    <tr>\n",
       "      <th>Aaron, Jean-François Crassous</th>\n",
       "      <td>1</td>\n",
       "    </tr>\n",
       "    <tr>\n",
       "      <th>Abbas Gueye</th>\n",
       "      <td>1</td>\n",
       "    </tr>\n",
       "    <tr>\n",
       "      <th>Abbes Moulessehoul</th>\n",
       "      <td>1</td>\n",
       "    </tr>\n",
       "    <tr>\n",
       "      <th>Abdallah Tebib</th>\n",
       "      <td>1</td>\n",
       "    </tr>\n",
       "  </tbody>\n",
       "</table>\n",
       "</div>"
      ],
      "text/plain": [
       "                                            nombre de mandat\n",
       "Nom                                                         \n",
       "(Louis, Camille, Alexandre, Marie Dubochet                 1\n",
       "Aaron, Jean-François Crassous                              1\n",
       "Abbas Gueye                                                1\n",
       "Abbes Moulessehoul                                         1\n",
       "Abdallah Tebib                                             1"
      ]
     },
     "execution_count": 254,
     "metadata": {},
     "output_type": "execute_result"
    }
   ],
   "source": [
    "nb_mandat=pd.DataFrame(nb_mandat).rename(columns={\"age en année\":\"nombre de mandat\"})\n",
    "nb_mandat.head()"
   ]
  },
  {
   "cell_type": "code",
   "execution_count": 255,
   "metadata": {},
   "outputs": [
    {
     "data": {
      "text/html": [
       "<div>\n",
       "<style scoped>\n",
       "    .dataframe tbody tr th:only-of-type {\n",
       "        vertical-align: middle;\n",
       "    }\n",
       "\n",
       "    .dataframe tbody tr th {\n",
       "        vertical-align: top;\n",
       "    }\n",
       "\n",
       "    .dataframe thead th {\n",
       "        text-align: right;\n",
       "    }\n",
       "</style>\n",
       "<table border=\"1\" class=\"dataframe\">\n",
       "  <thead>\n",
       "    <tr style=\"text-align: right;\">\n",
       "      <th></th>\n",
       "      <th>Unnamed: 0</th>\n",
       "      <th>Nom</th>\n",
       "      <th>Né le</th>\n",
       "      <th>Département de naissance</th>\n",
       "      <th>Département de mort</th>\n",
       "      <th>nombre de mandat</th>\n",
       "    </tr>\n",
       "  </thead>\n",
       "  <tbody>\n",
       "    <tr>\n",
       "      <th>16160</th>\n",
       "      <td>16160</td>\n",
       "      <td>Michel Robert</td>\n",
       "      <td>13 avril 1738</td>\n",
       "      <td>Ardennes</td>\n",
       "      <td>Ardennes</td>\n",
       "      <td>1.0</td>\n",
       "    </tr>\n",
       "    <tr>\n",
       "      <th>10502</th>\n",
       "      <td>10502</td>\n",
       "      <td>Louis, René, Désiré Porion</td>\n",
       "      <td>1er août 1805</td>\n",
       "      <td>Somme</td>\n",
       "      <td>Somme</td>\n",
       "      <td>2.0</td>\n",
       "    </tr>\n",
       "    <tr>\n",
       "      <th>8218</th>\n",
       "      <td>8218</td>\n",
       "      <td>Ernest Breton</td>\n",
       "      <td>19 avril 1841</td>\n",
       "      <td>Seine-Inférieure</td>\n",
       "      <td>Seine-Maritime</td>\n",
       "      <td>3.0</td>\n",
       "    </tr>\n",
       "    <tr>\n",
       "      <th>9103</th>\n",
       "      <td>9103</td>\n",
       "      <td>Edgar, Adolphe, Louis de Ségur-Lamoignon</td>\n",
       "      <td>19 juillet 1825</td>\n",
       "      <td>Orne</td>\n",
       "      <td>Inconnu</td>\n",
       "      <td>2.0</td>\n",
       "    </tr>\n",
       "    <tr>\n",
       "      <th>8482</th>\n",
       "      <td>8482</td>\n",
       "      <td>Henri de Legge</td>\n",
       "      <td>29 juin 1836</td>\n",
       "      <td>Finistère</td>\n",
       "      <td>Inconnu</td>\n",
       "      <td>2.0</td>\n",
       "    </tr>\n",
       "  </tbody>\n",
       "</table>\n",
       "</div>"
      ],
      "text/plain": [
       "       Unnamed: 0                                       Nom            Né le  \\\n",
       "16160       16160                             Michel Robert    13 avril 1738   \n",
       "10502       10502                Louis, René, Désiré Porion    1er août 1805   \n",
       "8218         8218                             Ernest Breton    19 avril 1841   \n",
       "9103         9103  Edgar, Adolphe, Louis de Ségur-Lamoignon  19 juillet 1825   \n",
       "8482         8482                            Henri de Legge     29 juin 1836   \n",
       "\n",
       "      Département de naissance Département de mort  nombre de mandat  \n",
       "16160                 Ardennes            Ardennes               1.0  \n",
       "10502                    Somme               Somme               2.0  \n",
       "8218          Seine-Inférieure      Seine-Maritime               3.0  \n",
       "9103                      Orne             Inconnu               2.0  \n",
       "8482                 Finistère             Inconnu               2.0  "
      ]
     },
     "execution_count": 255,
     "metadata": {},
     "output_type": "execute_result"
    }
   ],
   "source": [
    "df_depu_b=df_depu.join(nb_mandat,on=\"Nom\",lsuffix=\" \")\n",
    "df_depu_b.sample(5)"
   ]
  },
  {
   "cell_type": "code",
   "execution_count": 256,
   "metadata": {},
   "outputs": [],
   "source": [
    "age_dep=age_dep.reset_index()"
   ]
  },
  {
   "cell_type": "markdown",
   "metadata": {},
   "source": [
    "On peut récupèrer l'âge du premier mandat"
   ]
  },
  {
   "cell_type": "code",
   "execution_count": 257,
   "metadata": {},
   "outputs": [
    {
     "data": {
      "text/plain": [
       "Nom\n",
       "(Louis, Camille, Alexandre, Marie Dubochet    45.689254\n",
       "Aaron, Jean-François Crassous                 49.267625\n",
       "Abbas Gueye                                   37.470226\n",
       "Abbes Moulessehoul                            38.811773\n",
       "Abdallah Tebib                                60.766598\n",
       "Name: age en année, dtype: float64"
      ]
     },
     "execution_count": 257,
     "metadata": {},
     "output_type": "execute_result"
    }
   ],
   "source": [
    "premier_mandat=age_dep.groupby(\"Nom\")[\"age en année\"].min()\n",
    "premier_mandat.head()"
   ]
  },
  {
   "cell_type": "code",
   "execution_count": 258,
   "metadata": {},
   "outputs": [],
   "source": [
    "premier_mandat_dpt=age_dep.groupby(\"Nom\")[[\"Département\",\"Nom\"]].head(1)"
   ]
  },
  {
   "cell_type": "code",
   "execution_count": 259,
   "metadata": {},
   "outputs": [
    {
     "data": {
      "text/html": [
       "<div>\n",
       "<style scoped>\n",
       "    .dataframe tbody tr th:only-of-type {\n",
       "        vertical-align: middle;\n",
       "    }\n",
       "\n",
       "    .dataframe tbody tr th {\n",
       "        vertical-align: top;\n",
       "    }\n",
       "\n",
       "    .dataframe thead th {\n",
       "        text-align: right;\n",
       "    }\n",
       "</style>\n",
       "<table border=\"1\" class=\"dataframe\">\n",
       "  <thead>\n",
       "    <tr style=\"text-align: right;\">\n",
       "      <th></th>\n",
       "      <th>premier dpt</th>\n",
       "    </tr>\n",
       "    <tr>\n",
       "      <th>Nom</th>\n",
       "      <th></th>\n",
       "    </tr>\n",
       "  </thead>\n",
       "  <tbody>\n",
       "    <tr>\n",
       "      <th>Damien Meslot</th>\n",
       "      <td>Territoire-de-Belfort</td>\n",
       "    </tr>\n",
       "    <tr>\n",
       "      <th>Christine Cloarec-Le Nabour</th>\n",
       "      <td>Ille-et-Vilaine</td>\n",
       "    </tr>\n",
       "    <tr>\n",
       "      <th>Pascal Terrasse</th>\n",
       "      <td>Ardèche</td>\n",
       "    </tr>\n",
       "    <tr>\n",
       "      <th>Manuel Aeschlimann</th>\n",
       "      <td>Hauts-de-Seine</td>\n",
       "    </tr>\n",
       "    <tr>\n",
       "      <th>David Lorion</th>\n",
       "      <td>La Réunion</td>\n",
       "    </tr>\n",
       "  </tbody>\n",
       "</table>\n",
       "</div>"
      ],
      "text/plain": [
       "                                        premier dpt\n",
       "Nom                                                \n",
       "Damien Meslot                 Territoire-de-Belfort\n",
       "Christine Cloarec-Le Nabour         Ille-et-Vilaine\n",
       "Pascal Terrasse                             Ardèche\n",
       "Manuel Aeschlimann                   Hauts-de-Seine\n",
       "David Lorion                             La Réunion"
      ]
     },
     "execution_count": 259,
     "metadata": {},
     "output_type": "execute_result"
    }
   ],
   "source": [
    "premier_mandat_dpt=pd.DataFrame(premier_mandat_dpt).rename(columns={\"Département\":\"premier dpt\"}).set_index(\"Nom\")\n",
    "premier_mandat_dpt.head()"
   ]
  },
  {
   "cell_type": "code",
   "execution_count": 260,
   "metadata": {},
   "outputs": [
    {
     "data": {
      "text/html": [
       "<div>\n",
       "<style scoped>\n",
       "    .dataframe tbody tr th:only-of-type {\n",
       "        vertical-align: middle;\n",
       "    }\n",
       "\n",
       "    .dataframe tbody tr th {\n",
       "        vertical-align: top;\n",
       "    }\n",
       "\n",
       "    .dataframe thead th {\n",
       "        text-align: right;\n",
       "    }\n",
       "</style>\n",
       "<table border=\"1\" class=\"dataframe\">\n",
       "  <thead>\n",
       "    <tr style=\"text-align: right;\">\n",
       "      <th></th>\n",
       "      <th>age premier mandat</th>\n",
       "    </tr>\n",
       "    <tr>\n",
       "      <th>Nom</th>\n",
       "      <th></th>\n",
       "    </tr>\n",
       "  </thead>\n",
       "  <tbody>\n",
       "    <tr>\n",
       "      <th>(Louis, Camille, Alexandre, Marie Dubochet</th>\n",
       "      <td>45.689254</td>\n",
       "    </tr>\n",
       "    <tr>\n",
       "      <th>Aaron, Jean-François Crassous</th>\n",
       "      <td>49.267625</td>\n",
       "    </tr>\n",
       "    <tr>\n",
       "      <th>Abbas Gueye</th>\n",
       "      <td>37.470226</td>\n",
       "    </tr>\n",
       "    <tr>\n",
       "      <th>Abbes Moulessehoul</th>\n",
       "      <td>38.811773</td>\n",
       "    </tr>\n",
       "    <tr>\n",
       "      <th>Abdallah Tebib</th>\n",
       "      <td>60.766598</td>\n",
       "    </tr>\n",
       "  </tbody>\n",
       "</table>\n",
       "</div>"
      ],
      "text/plain": [
       "                                            age premier mandat\n",
       "Nom                                                           \n",
       "(Louis, Camille, Alexandre, Marie Dubochet           45.689254\n",
       "Aaron, Jean-François Crassous                        49.267625\n",
       "Abbas Gueye                                          37.470226\n",
       "Abbes Moulessehoul                                   38.811773\n",
       "Abdallah Tebib                                       60.766598"
      ]
     },
     "execution_count": 260,
     "metadata": {},
     "output_type": "execute_result"
    }
   ],
   "source": [
    "premier_mandat=pd.DataFrame(premier_mandat).rename(columns={\"age en année\":\"age premier mandat\"})\n",
    "premier_mandat.head()"
   ]
  },
  {
   "cell_type": "code",
   "execution_count": 261,
   "metadata": {},
   "outputs": [
    {
     "data": {
      "text/html": [
       "<div>\n",
       "<style scoped>\n",
       "    .dataframe tbody tr th:only-of-type {\n",
       "        vertical-align: middle;\n",
       "    }\n",
       "\n",
       "    .dataframe tbody tr th {\n",
       "        vertical-align: top;\n",
       "    }\n",
       "\n",
       "    .dataframe thead th {\n",
       "        text-align: right;\n",
       "    }\n",
       "</style>\n",
       "<table border=\"1\" class=\"dataframe\">\n",
       "  <thead>\n",
       "    <tr style=\"text-align: right;\">\n",
       "      <th></th>\n",
       "      <th>Unnamed: 0</th>\n",
       "      <th>Nom</th>\n",
       "      <th>Né le</th>\n",
       "      <th>Département de naissance</th>\n",
       "      <th>Département de mort</th>\n",
       "      <th>nombre de mandat</th>\n",
       "      <th>age premier mandat</th>\n",
       "      <th>premier dpt</th>\n",
       "    </tr>\n",
       "  </thead>\n",
       "  <tbody>\n",
       "    <tr>\n",
       "      <th>15772</th>\n",
       "      <td>15772</td>\n",
       "      <td>Nicolas, Charles Bernard-Dutreil</td>\n",
       "      <td>18 mars 1746</td>\n",
       "      <td>Loire-Inférieure</td>\n",
       "      <td>Loire-Atlantique</td>\n",
       "      <td>2.0</td>\n",
       "      <td>64.555784</td>\n",
       "      <td>Loire-Inférieure</td>\n",
       "    </tr>\n",
       "    <tr>\n",
       "      <th>3759</th>\n",
       "      <td>3759</td>\n",
       "      <td>Kaddour Sator</td>\n",
       "      <td>14 avril 1911</td>\n",
       "      <td>Paris</td>\n",
       "      <td>Inconnu</td>\n",
       "      <td>1.0</td>\n",
       "      <td>34.817248</td>\n",
       "      <td>Anciens départements d'Algérie</td>\n",
       "    </tr>\n",
       "    <tr>\n",
       "      <th>221</th>\n",
       "      <td>221</td>\n",
       "      <td>Sandra Marsaud</td>\n",
       "      <td>2 janvier 1974</td>\n",
       "      <td>NaN</td>\n",
       "      <td>NaN</td>\n",
       "      <td>NaN</td>\n",
       "      <td>NaN</td>\n",
       "      <td>NaN</td>\n",
       "    </tr>\n",
       "    <tr>\n",
       "      <th>7230</th>\n",
       "      <td>7230</td>\n",
       "      <td>Henri David</td>\n",
       "      <td>18 avril 1857</td>\n",
       "      <td>Inconnu</td>\n",
       "      <td>Inconnu</td>\n",
       "      <td>2.0</td>\n",
       "      <td>42.012320</td>\n",
       "      <td>Loir-et-Cher</td>\n",
       "    </tr>\n",
       "    <tr>\n",
       "      <th>13955</th>\n",
       "      <td>13955</td>\n",
       "      <td>Joseph, Antoine, Sébastien Guiter</td>\n",
       "      <td>23 février 1761</td>\n",
       "      <td>Hautes-Pyrénées</td>\n",
       "      <td>Paris</td>\n",
       "      <td>4.0</td>\n",
       "      <td>31.039014</td>\n",
       "      <td>Pyrénées-Orientales</td>\n",
       "    </tr>\n",
       "    <tr>\n",
       "      <th>15981</th>\n",
       "      <td>15981</td>\n",
       "      <td>Claude, Charles Prost</td>\n",
       "      <td>10 octobre 1742</td>\n",
       "      <td>Jura</td>\n",
       "      <td>Jura</td>\n",
       "      <td>2.0</td>\n",
       "      <td>49.960301</td>\n",
       "      <td>Jura</td>\n",
       "    </tr>\n",
       "    <tr>\n",
       "      <th>5939</th>\n",
       "      <td>5939</td>\n",
       "      <td>Charles Desjardins</td>\n",
       "      <td>24 décembre 1878</td>\n",
       "      <td>Nord</td>\n",
       "      <td>Paris</td>\n",
       "      <td>5.0</td>\n",
       "      <td>40.892539</td>\n",
       "      <td>Aisne</td>\n",
       "    </tr>\n",
       "    <tr>\n",
       "      <th>15710</th>\n",
       "      <td>15710</td>\n",
       "      <td>Jean Chanorier</td>\n",
       "      <td>16 novembre 1746</td>\n",
       "      <td>Yvelines</td>\n",
       "      <td>Inconnu</td>\n",
       "      <td>1.0</td>\n",
       "      <td>52.413415</td>\n",
       "      <td>Seine-et-Oise</td>\n",
       "    </tr>\n",
       "    <tr>\n",
       "      <th>16351</th>\n",
       "      <td>16351</td>\n",
       "      <td>Louis, Mathieu Petit</td>\n",
       "      <td>NaN</td>\n",
       "      <td>Inconnu</td>\n",
       "      <td>Inconnu</td>\n",
       "      <td>0.0</td>\n",
       "      <td>NaN</td>\n",
       "      <td>Seine-et-Oise</td>\n",
       "    </tr>\n",
       "    <tr>\n",
       "      <th>5176</th>\n",
       "      <td>5176</td>\n",
       "      <td>Armand Pillot</td>\n",
       "      <td>20 décembre 1892</td>\n",
       "      <td>Loire-Inférieure</td>\n",
       "      <td>Paris</td>\n",
       "      <td>1.0</td>\n",
       "      <td>43.203285</td>\n",
       "      <td>Seine</td>\n",
       "    </tr>\n",
       "  </tbody>\n",
       "</table>\n",
       "</div>"
      ],
      "text/plain": [
       "       Unnamed: 0                                Nom             Né le  \\\n",
       "15772       15772   Nicolas, Charles Bernard-Dutreil      18 mars 1746   \n",
       "3759         3759                      Kaddour Sator     14 avril 1911   \n",
       "221           221                     Sandra Marsaud    2 janvier 1974   \n",
       "7230         7230                        Henri David     18 avril 1857   \n",
       "13955       13955  Joseph, Antoine, Sébastien Guiter   23 février 1761   \n",
       "15981       15981              Claude, Charles Prost   10 octobre 1742   \n",
       "5939         5939                 Charles Desjardins  24 décembre 1878   \n",
       "15710       15710                     Jean Chanorier  16 novembre 1746   \n",
       "16351       16351               Louis, Mathieu Petit               NaN   \n",
       "5176         5176                      Armand Pillot  20 décembre 1892   \n",
       "\n",
       "      Département de naissance Département de mort  nombre de mandat  \\\n",
       "15772         Loire-Inférieure    Loire-Atlantique               2.0   \n",
       "3759                     Paris             Inconnu               1.0   \n",
       "221                        NaN                 NaN               NaN   \n",
       "7230                   Inconnu             Inconnu               2.0   \n",
       "13955          Hautes-Pyrénées               Paris               4.0   \n",
       "15981                     Jura                Jura               2.0   \n",
       "5939                      Nord               Paris               5.0   \n",
       "15710                 Yvelines             Inconnu               1.0   \n",
       "16351                  Inconnu             Inconnu               0.0   \n",
       "5176          Loire-Inférieure               Paris               1.0   \n",
       "\n",
       "       age premier mandat                      premier dpt  \n",
       "15772           64.555784                 Loire-Inférieure  \n",
       "3759            34.817248   Anciens départements d'Algérie  \n",
       "221                   NaN                              NaN  \n",
       "7230            42.012320                     Loir-et-Cher  \n",
       "13955           31.039014              Pyrénées-Orientales  \n",
       "15981           49.960301                             Jura  \n",
       "5939            40.892539                            Aisne  \n",
       "15710           52.413415                    Seine-et-Oise  \n",
       "16351                 NaN                    Seine-et-Oise  \n",
       "5176            43.203285                            Seine  "
      ]
     },
     "execution_count": 261,
     "metadata": {},
     "output_type": "execute_result"
    }
   ],
   "source": [
    "df_depu_b=df_depu_b.join(premier_mandat,on=\"Nom\",lsuffix=\" \")\n",
    "df_depu_b=df_depu_b.join(premier_mandat_dpt,on=\"Nom\",lsuffix=\" \")\n",
    "df_depu_b.sample(10)"
   ]
  },
  {
   "cell_type": "code",
   "execution_count": 263,
   "metadata": {},
   "outputs": [
    {
     "data": {
      "text/html": [
       "<div>\n",
       "<style scoped>\n",
       "    .dataframe tbody tr th:only-of-type {\n",
       "        vertical-align: middle;\n",
       "    }\n",
       "\n",
       "    .dataframe tbody tr th {\n",
       "        vertical-align: top;\n",
       "    }\n",
       "\n",
       "    .dataframe thead th {\n",
       "        text-align: right;\n",
       "    }\n",
       "</style>\n",
       "<table border=\"1\" class=\"dataframe\">\n",
       "  <thead>\n",
       "    <tr style=\"text-align: right;\">\n",
       "      <th></th>\n",
       "      <th>Unnamed: 0</th>\n",
       "      <th>Nom</th>\n",
       "      <th>Né le</th>\n",
       "      <th>Département de naissance</th>\n",
       "      <th>Département de mort</th>\n",
       "      <th>nombre de mandat</th>\n",
       "      <th>age premier mandat</th>\n",
       "      <th>premier dpt</th>\n",
       "    </tr>\n",
       "  </thead>\n",
       "  <tbody>\n",
       "    <tr>\n",
       "      <th>1463</th>\n",
       "      <td>1463</td>\n",
       "      <td>Roland Chassain</td>\n",
       "      <td>5 février 1947</td>\n",
       "      <td>Cantal</td>\n",
       "      <td>Inconnu</td>\n",
       "      <td>1.0</td>\n",
       "      <td>55.132101</td>\n",
       "      <td>Bouches-du-Rhône</td>\n",
       "    </tr>\n",
       "    <tr>\n",
       "      <th>7685</th>\n",
       "      <td>7685</td>\n",
       "      <td>Maurice Lebon</td>\n",
       "      <td>13 novembre 1849</td>\n",
       "      <td>Seine</td>\n",
       "      <td>Seine-Maritime</td>\n",
       "      <td>2.0</td>\n",
       "      <td>41.804244</td>\n",
       "      <td>Seine-Inférieure</td>\n",
       "    </tr>\n",
       "    <tr>\n",
       "      <th>1648</th>\n",
       "      <td>1648</td>\n",
       "      <td>Michel Tamaya</td>\n",
       "      <td>19 décembre 1944</td>\n",
       "      <td>La</td>\n",
       "      <td>Inconnu</td>\n",
       "      <td>1.0</td>\n",
       "      <td>52.049281</td>\n",
       "      <td>La Réunion</td>\n",
       "    </tr>\n",
       "    <tr>\n",
       "      <th>11664</th>\n",
       "      <td>11664</td>\n",
       "      <td>Nicolas, Charles, Victor Oudinot Duc de Reggio</td>\n",
       "      <td>27 avril 1767</td>\n",
       "      <td>Meuse</td>\n",
       "      <td>Paris</td>\n",
       "      <td>20.0</td>\n",
       "      <td>12.720055</td>\n",
       "      <td>Maine-et-Loire</td>\n",
       "    </tr>\n",
       "    <tr>\n",
       "      <th>4162</th>\n",
       "      <td>4162</td>\n",
       "      <td>Jean Sainteny</td>\n",
       "      <td>29 mai 1907</td>\n",
       "      <td>Paris</td>\n",
       "      <td>Inconnu</td>\n",
       "      <td>1.0</td>\n",
       "      <td>55.493498</td>\n",
       "      <td>Seine</td>\n",
       "    </tr>\n",
       "    <tr>\n",
       "      <th>5891</th>\n",
       "      <td>5891</td>\n",
       "      <td>Marcel Fleury</td>\n",
       "      <td>6 août 1879</td>\n",
       "      <td>Calvados</td>\n",
       "      <td>Paris</td>\n",
       "      <td>1.0</td>\n",
       "      <td>54.198494</td>\n",
       "      <td>Orne</td>\n",
       "    </tr>\n",
       "    <tr>\n",
       "      <th>4369</th>\n",
       "      <td>4369</td>\n",
       "      <td>Paul, Jean, Marie, Raymond Estèbe</td>\n",
       "      <td>2 août 1904</td>\n",
       "      <td>Paris</td>\n",
       "      <td>Inconnu</td>\n",
       "      <td>1.0</td>\n",
       "      <td>47.353867</td>\n",
       "      <td>Gironde</td>\n",
       "    </tr>\n",
       "    <tr>\n",
       "      <th>8291</th>\n",
       "      <td>8291</td>\n",
       "      <td>Louis de Montfort</td>\n",
       "      <td>3 février 1840</td>\n",
       "      <td>Seine</td>\n",
       "      <td>Seine-Maritime</td>\n",
       "      <td>3.0</td>\n",
       "      <td>49.273101</td>\n",
       "      <td>Seine-Inférieure</td>\n",
       "    </tr>\n",
       "    <tr>\n",
       "      <th>2398</th>\n",
       "      <td>2398</td>\n",
       "      <td>Alexis Pota</td>\n",
       "      <td>17 juillet 1932</td>\n",
       "      <td>La</td>\n",
       "      <td>Inconnu</td>\n",
       "      <td>1.0</td>\n",
       "      <td>56.240931</td>\n",
       "      <td>La Réunion</td>\n",
       "    </tr>\n",
       "    <tr>\n",
       "      <th>13852</th>\n",
       "      <td>13852</td>\n",
       "      <td>Pierre, Edouard Lemontey</td>\n",
       "      <td>14 janvier 1762</td>\n",
       "      <td>Paris</td>\n",
       "      <td>Inconnu</td>\n",
       "      <td>1.0</td>\n",
       "      <td>29.232033</td>\n",
       "      <td>Rhône-et-Loire</td>\n",
       "    </tr>\n",
       "  </tbody>\n",
       "</table>\n",
       "</div>"
      ],
      "text/plain": [
       "       Unnamed: 0                                             Nom  \\\n",
       "1463         1463                                 Roland Chassain   \n",
       "7685         7685                                   Maurice Lebon   \n",
       "1648         1648                                   Michel Tamaya   \n",
       "11664       11664  Nicolas, Charles, Victor Oudinot Duc de Reggio   \n",
       "4162         4162                                   Jean Sainteny   \n",
       "5891         5891                                   Marcel Fleury   \n",
       "4369         4369               Paul, Jean, Marie, Raymond Estèbe   \n",
       "8291         8291                               Louis de Montfort   \n",
       "2398         2398                                     Alexis Pota   \n",
       "13852       13852                        Pierre, Edouard Lemontey   \n",
       "\n",
       "                  Né le Département de naissance Département de mort  \\\n",
       "1463     5 février 1947                   Cantal             Inconnu   \n",
       "7685   13 novembre 1849                    Seine      Seine-Maritime   \n",
       "1648   19 décembre 1944                       La             Inconnu   \n",
       "11664     27 avril 1767                    Meuse               Paris   \n",
       "4162        29 mai 1907                    Paris             Inconnu   \n",
       "5891        6 août 1879                 Calvados               Paris   \n",
       "4369        2 août 1904                    Paris             Inconnu   \n",
       "8291     3 février 1840                    Seine      Seine-Maritime   \n",
       "2398    17 juillet 1932                       La             Inconnu   \n",
       "13852   14 janvier 1762                    Paris             Inconnu   \n",
       "\n",
       "       nombre de mandat  age premier mandat        premier dpt  \n",
       "1463                1.0           55.132101   Bouches-du-Rhône  \n",
       "7685                2.0           41.804244   Seine-Inférieure  \n",
       "1648                1.0           52.049281         La Réunion  \n",
       "11664              20.0           12.720055     Maine-et-Loire  \n",
       "4162                1.0           55.493498              Seine  \n",
       "5891                1.0           54.198494               Orne  \n",
       "4369                1.0           47.353867            Gironde  \n",
       "8291                3.0           49.273101   Seine-Inférieure  \n",
       "2398                1.0           56.240931         La Réunion  \n",
       "13852               1.0           29.232033     Rhône-et-Loire  "
      ]
     },
     "execution_count": 263,
     "metadata": {},
     "output_type": "execute_result"
    }
   ],
   "source": [
    "test=df_depu_b[(' '+df_depu_b[\"Département de naissance\"])!=df_depu_b[\"premier dpt\"]]\n",
    "test=test[~test['age premier mandat'].isna()]\n",
    "test=test[~(test['Département de naissance']==\"Inconnu\")]\n",
    "test.sample(10)"
   ]
  },
  {
   "cell_type": "markdown",
   "metadata": {},
   "source": [
    "On s'attaque aux groupes parlementaires !"
   ]
  },
  {
   "cell_type": "code",
   "execution_count": 93,
   "metadata": {},
   "outputs": [],
   "source": [
    "\n",
    "def Statgroupe (base_dep, mandatgroupe=True):\n",
    "    nbregrleg=[]#nombre de groupe par législature\n",
    "    nbremandgr=[]#nombre de mandat par groupe\n",
    "    date_leg=[]\n",
    "    for legislature in base_dep['Législature'].unique() :\n",
    "        baseleg=base_dep[base_dep['Législature']==legislature]\n",
    "        nbregrleg+=[baseleg['Groupe'].unique().shape[0]]\n",
    "        if mandatgroupe:\n",
    "            date_leg+=[min(baseleg['Date debut mandat'].tail(1)).year]\n",
    "    totgroupe=base_dep['Groupe'].unique().shape[0]\n",
    "    moydureegr=sum(nbregrleg)/totgroupe#le nombre moyen de législature d'un groupe correspond à la somme du nombre de groupes sur les législatures / le nombre total de groupe\n",
    "    if mandatgroupe :\n",
    "        for groupe in base_dep['Groupe'].unique() :\n",
    "            nbremandgr+=[base_dep[base_dep['Groupe']==groupe]['Groupe'].count()]\n",
    "        return nbregrleg, nbremandgr, moydureegr, date_leg\n",
    "                    \n",
    "    return nbregrleg, moydureegr"
   ]
  },
  {
   "cell_type": "code",
   "execution_count": 94,
   "metadata": {},
   "outputs": [],
   "source": [
    "(groupeleg_3, mandatgroupe_3, moydureegr_3, date_leg_3)=Statgroupe(dept_naiss_3)\n",
    "(groupeleg_5, mandatgroupe_5, moydureegr_5, date_leg_5)=Statgroupe(dept_naiss_5)\n"
   ]
  },
  {
   "cell_type": "code",
   "execution_count": 95,
   "metadata": {},
   "outputs": [
    {
     "data": {
      "text/plain": [
       "[1936,\n",
       " 1932,\n",
       " 1928,\n",
       " 1924,\n",
       " 1919,\n",
       " 1914,\n",
       " 1910,\n",
       " 1893,\n",
       " 1898,\n",
       " 1902,\n",
       " 1906,\n",
       " 1889,\n",
       " 1885,\n",
       " 1881,\n",
       " 1877,\n",
       " 1876,\n",
       " 1871]"
      ]
     },
     "execution_count": 95,
     "metadata": {},
     "output_type": "execute_result"
    }
   ],
   "source": [
    "date_leg_3"
   ]
  },
  {
   "cell_type": "code",
   "execution_count": 77,
   "metadata": {},
   "outputs": [
    {
     "data": {
      "text/plain": [
       "[12, 13, 9, 12, 13, 6, 12, 15, 11, 9, 15, 11, 14, 8, 12]"
      ]
     },
     "execution_count": 77,
     "metadata": {},
     "output_type": "execute_result"
    }
   ],
   "source": [
    "groupeleg_5"
   ]
  },
  {
   "cell_type": "code",
   "execution_count": 78,
   "metadata": {},
   "outputs": [
    {
     "data": {
      "text/plain": [
       "25"
      ]
     },
     "execution_count": 78,
     "metadata": {},
     "output_type": "execute_result"
    }
   ],
   "source": [
    "dept_naiss_3[dept_naiss_3['Législature']==' XVIe législature ']['Groupe'].unique().shape[0]"
   ]
  },
  {
   "cell_type": "code",
   "execution_count": 79,
   "metadata": {},
   "outputs": [
    {
     "data": {
      "text/plain": [
       "88"
      ]
     },
     "execution_count": 79,
     "metadata": {},
     "output_type": "execute_result"
    }
   ],
   "source": [
    "dept_naiss[dept_naiss['Régime']=='Seconde Restauration']['Groupe'].unique().shape[0]"
   ]
  },
  {
   "cell_type": "code",
   "execution_count": 49,
   "metadata": {},
   "outputs": [],
   "source": [
    "pluralisme=[]\n",
    "for regime in reg_possible:\n",
    "    data=[Statgroupe(dept_naiss[dept_naiss['Régime']==regime], False)]\n",
    "    nbregrleg =data[0][0]\n",
    "    dureegroupe=data[0][1]\n",
    "    pluralisme+=[sum(nbregrleg)/len(nbregrleg)]#on fait une moyenne sur les législatures du nombre de groupes différents"
   ]
  },
  {
   "cell_type": "code",
   "execution_count": 50,
   "metadata": {},
   "outputs": [
    {
     "data": {
      "text/plain": [
       "[<matplotlib.lines.Line2D at 0x2c31e9f7f70>]"
      ]
     },
     "execution_count": 50,
     "metadata": {},
     "output_type": "execute_result"
    },
    {
     "data": {
      "image/png": "[encoded data removed]",
      "text/plain": [
       "<Figure size 1440x360 with 1 Axes>"
      ]
     },
     "metadata": {
      "needs_background": "light"
     },
     "output_type": "display_data"
    }
   ],
   "source": [
    "plt.figure(figsize=(20,5))\n",
    "plt.plot(reg_possible,pluralisme)"
   ]
  },
  {
   "cell_type": "code",
   "execution_count": null,
   "metadata": {},
   "outputs": [],
   "source": [
    "Etonnamment, les régimes ayant le plue de groupes parlementaires ne sont pas des Républiques, mais les monarchies constitutionnelles."
   ]
  },
  {
   "cell_type": "code",
   "execution_count": 123,
   "metadata": {},
   "outputs": [
    {
     "data": {
      "text/plain": [
       "<matplotlib.axes._subplots.AxesSubplot at 0x2c320eb0ac0>"
      ]
     },
     "execution_count": 123,
     "metadata": {},
     "output_type": "execute_result"
    },
    {
     "data": {
      "text/plain": [
       "<Figure size 1440x360 with 0 Axes>"
      ]
     },
     "metadata": {},
     "output_type": "display_data"
    },
    {
     "data": {
      "image/png": "[encoded data removed]",
      "text/plain": [
       "<Figure size 432x288 with 1 Axes>"
      ]
     },
     "metadata": {
      "needs_background": "light"
     },
     "output_type": "display_data"
    }
   ],
   "source": [
    "plt.figure(figsize=(20,5))\n",
    "base=pd.DataFrame([np.array(date_leg_3),np.array(groupeleg_3)], index=['Date','Nombre'])\n",
    "base=base.sort_values(by=['Date'],axis=1)\n",
    "\n",
    "base.T.plot(x='Date',y='Nombre')"
   ]
  },
  {
   "cell_type": "code",
   "execution_count": 124,
   "metadata": {},
   "outputs": [
    {
     "data": {
      "text/plain": [
       "<matplotlib.axes._subplots.AxesSubplot at 0x2c320f074f0>"
      ]
     },
     "execution_count": 124,
     "metadata": {},
     "output_type": "execute_result"
    },
    {
     "data": {
      "text/plain": [
       "<Figure size 1440x360 with 0 Axes>"
      ]
     },
     "metadata": {},
     "output_type": "display_data"
    },
    {
     "data": {
      "image/png": "[encoded data removed]",
      "text/plain": [
       "<Figure size 432x288 with 1 Axes>"
      ]
     },
     "metadata": {
      "needs_background": "light"
     },
     "output_type": "display_data"
    }
   ],
   "source": [
    "plt.figure(figsize=(20,5))\n",
    "base=pd.DataFrame([np.array(date_leg_5),np.array(groupeleg_5)], index=['Date','Nombre'])\n",
    "base=base.sort_values(by=['Date'],axis=1)\n",
    "\n",
    "base.T.plot(x='Date',y='Nombre')"
   ]
  },
  {
   "cell_type": "markdown",
   "metadata": {},
   "source": [
    "Un nombre de groupe parlementaire bien moins élevé que dans la Troisième République (connue pour ses interminables querelles de partis) "
   ]
  },
  {
   "cell_type": "code",
   "execution_count": 170,
   "metadata": {},
   "outputs": [
    {
     "data": {
      "text/plain": [
       "Text(0.5, 1.0, 'Les différentes tailles de groupes parlementaires pour la Troisième République')"
      ]
     },
     "execution_count": 170,
     "metadata": {},
     "output_type": "execute_result"
    },
    {
     "data": {
      "image/png": "[encoded data removed]",
      "text/plain": [
       "<Figure size 432x288 with 1 Axes>"
      ]
     },
     "metadata": {
      "needs_background": "light"
     },
     "output_type": "display_data"
    }
   ],
   "source": [
    "plt.hist(mandatgroupe_3, range=(1, 1000), bins = 100, cumulative=True, histtype='step')\n",
    "plt.xlabel('nombre de mandat')\n",
    "plt.ylabel('nombre de groupe')\n",
    "plt.title('Les différentes tailles de groupes parlementaires pour la Troisième République')"
   ]
  },
  {
   "cell_type": "code",
   "execution_count": 164,
   "metadata": {},
   "outputs": [
    {
     "data": {
      "text/plain": [
       "Text(0.5, 1.0, 'Les différentes tailles de groupes parlementaires dans la Troisième République')"
      ]
     },
     "execution_count": 164,
     "metadata": {},
     "output_type": "execute_result"
    },
    {
     "data": {
      "image/png": "[encoded data removed]",
      "text/plain": [
       "<Figure size 432x288 with 1 Axes>"
      ]
     },
     "metadata": {
      "needs_background": "light"
     },
     "output_type": "display_data"
    }
   ],
   "source": [
    "mandat_groupe_3=np.array(mandatgroupe_3)[np.array(mandatgroupe_3) <50 ]\n",
    "plt.hist(mandat_groupe_3, range=(1, 50), bins = 19)\n",
    "plt.title('Les différentes tailles de groupes parlementaires')\n",
    "plt.xlabel('nombre de mandat')\n",
    "plt.ylabel('nombre de groupe')\n",
    "plt.title('Les différentes tailles de groupes parlementaires dans la Troisième République')"
   ]
  },
  {
   "cell_type": "code",
   "execution_count": 158,
   "metadata": {},
   "outputs": [
    {
     "data": {
      "text/plain": [
       "Text(0.5, 1.0, 'Les différentes tailles de groupes parlementaires dans la Troisième République')"
      ]
     },
     "execution_count": 158,
     "metadata": {},
     "output_type": "execute_result"
    },
    {
     "data": {
      "image/png": "[encoded data removed]",
      "text/plain": [
       "<Figure size 432x288 with 1 Axes>"
      ]
     },
     "metadata": {
      "needs_background": "light"
     },
     "output_type": "display_data"
    }
   ],
   "source": [
    "mandat_groupe_3=np.array(mandatgroupe_3)[np.array(mandatgroupe_3) >5]\n",
    "plt.hist(mandat_groupe_3, range=(5, 800), bins = 50)\n",
    "plt.title('Les différentes tailles de groupes parlementaires')\n",
    "plt.xlabel('nombre de mandat')\n",
    "plt.ylabel('nombre de groupe')\n",
    "plt.title('Les différentes tailles de groupes parlementaires dans la Troisième République')"
   ]
  },
  {
   "cell_type": "code",
   "execution_count": null,
   "metadata": {},
   "outputs": [],
   "source": [
    "De nombreux groupes parlementaires de la Troisième République ont eu très peu de députés."
   ]
  },
  {
   "cell_type": "code",
   "execution_count": 129,
   "metadata": {},
   "outputs": [
    {
     "data": {
      "text/plain": [
       "Text(0.5, 1.0, 'Les différentes tailles de groupes parlementaires dans la Cinquième République')"
      ]
     },
     "execution_count": 129,
     "metadata": {},
     "output_type": "execute_result"
    },
    {
     "data": {
      "image/png": "[encoded data removed]",
      "text/plain": [
       "<Figure size 432x288 with 1 Axes>"
      ]
     },
     "metadata": {
      "needs_background": "light"
     },
     "output_type": "display_data"
    }
   ],
   "source": [
    "plt.hist(mandatgroupe_5, range=(1, 1000), bins = 20)\n",
    "plt.xlabel('nombre de mandat')\n",
    "plt.ylabel('nombre de groupe')\n",
    "plt.title('Les différentes tailles de groupes parlementaires dans la Cinquième République')"
   ]
  },
  {
   "cell_type": "code",
   "execution_count": 147,
   "metadata": {},
   "outputs": [
    {
     "data": {
      "text/plain": [
       "Text(0.5, 1.0, 'Les différentes tailles de groupes parlementaires dans la Cinquième République')"
      ]
     },
     "execution_count": 147,
     "metadata": {},
     "output_type": "execute_result"
    },
    {
     "data": {
      "image/png": "[encoded data removed]",
      "text/plain": [
       "<Figure size 432x288 with 1 Axes>"
      ]
     },
     "metadata": {
      "needs_background": "light"
     },
     "output_type": "display_data"
    }
   ],
   "source": [
    "mandat_groupe_5=np.array(mandatgroupe_5)[np.array(mandatgroupe_5) >20 ]\n",
    "plt.hist(mandat_groupe_5, range=(1, 1000), bins = 50)\n",
    "plt.title('Les différentes tailles de groupes parlementaires dans la Cinquième République')\n",
    "plt.xlabel('nombre de mandat')\n",
    "plt.ylabel('nombre de groupe')\n",
    "plt.title('Les différentes tailles de groupes parlementaires dans la Cinquième République')"
   ]
  },
  {
   "cell_type": "code",
   "execution_count": null,
   "metadata": {},
   "outputs": [],
   "source": []
  }
 ],
 "metadata": {
  "kernelspec": {
   "display_name": "Python 3",
   "language": "python",
   "name": "python3"
  },
  "language_info": {
   "codemirror_mode": {
    "name": "ipython",
    "version": 3
   },
   "file_extension": ".py",
   "mimetype": "text/x-python",
   "name": "python",
   "nbconvert_exporter": "python",
   "pygments_lexer": "ipython3",
   "version": "3.8.5"
  }
 },
 "nbformat": 4,
 "nbformat_minor": 2
}

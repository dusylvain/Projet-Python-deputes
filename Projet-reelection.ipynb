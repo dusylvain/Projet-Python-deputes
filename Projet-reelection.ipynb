{
 "cells": [
  {
   "cell_type": "code",
<<<<<<< Updated upstream
<<<<<<< Updated upstream
   "execution_count": 78,
=======
   "execution_count": 2,
>>>>>>> Stashed changes
=======
   "execution_count": 2,
>>>>>>> Stashed changes
   "metadata": {},
   "outputs": [],
   "source": [
    "import pandas as pd\n",
    "import numpy as np\n",
    "#import geopandas as gpd\n",
    "import urllib#pour récupérer les données\n",
    "import bs4#pour rendre lisibles les données\n",
    "import re\n",
    "import time"
   ]
  },
  {
<<<<<<< Updated upstream
<<<<<<< Updated upstream
   "cell_type": "code",
   "execution_count": 9,
   "metadata": {},
   "outputs": [],
   "source": []
  },
  {
=======
>>>>>>> Stashed changes
=======
>>>>>>> Stashed changes
   "cell_type": "markdown",
   "metadata": {},
   "source": [
    "Récupération des députés sur le site de l'Assemblée Nationale"
   ]
  },
  {
   "cell_type": "code",
<<<<<<< Updated upstream
<<<<<<< Updated upstream
   "execution_count": 2,
=======
   "execution_count": 3,
>>>>>>> Stashed changes
=======
   "execution_count": 3,
>>>>>>> Stashed changes
   "metadata": {},
   "outputs": [],
   "source": [
    "def Scrap (url):\n",
    "    req = urllib.request.Request(url)\n",
    "    html = urllib.request.urlopen(req).read()\n",
    "    page = bs4.BeautifulSoup(html, \"lxml\")\n",
    "    return page"
   ]
  },
  {
   "cell_type": "code",
<<<<<<< Updated upstream
<<<<<<< Updated upstream
   "execution_count": 3,
=======
   "execution_count": 4,
>>>>>>> Stashed changes
=======
   "execution_count": 4,
>>>>>>> Stashed changes
   "metadata": {},
   "outputs": [],
   "source": [
    "def ToDf (table) :\n",
    "    Listgrossiere=pd.read_html(str(table))#on transforme le tableau en liste de dataframes\n",
    "    listeDf=Listgrossiere[0]#on récupère le dataframe\n",
    "    return listeDf"
   ]
  },
  {
   "cell_type": "code",
<<<<<<< Updated upstream
<<<<<<< Updated upstream
   "execution_count": 4,
=======
   "execution_count": 5,
>>>>>>> Stashed changes
=======
   "execution_count": 5,
>>>>>>> Stashed changes
   "metadata": {
    "scrolled": true
   },
   "outputs": [],
   "source": [
    "page=Scrap('http://www2.assemblee-nationale.fr/sycomore/resultats/(offset)/'+str(0)+'/(query)/IiBTRUxFQ1QgbV9jb2RlX2RlcHV0ZSwgaWRfYWN0ZXVyX3RyaWJ1biwgbGVnX21heF90cmlidW4sIG5vbSwgbm9tX2FmZmljaGUsIHByZW5vbSwgZGF0ZV9uYWlzLCBkYXRlX2RlY2VzIEZST00gZGVwdXRlIFdIRVJFIDE9MSAgQU5EIG1fY29kZV9kZXB1dGUgSU4gKFNFTEVDVCBtX2NvZGVfZGVwdXRlIEZST00gbWFuZGF0LCBkZXBhcnRlbWVudCAgV0hFUkUgbWFuZGF0Lm1fbnVtX2RlcCA9IGRlcGFydGVtZW50Lm1fbnVtX2RlcCBBTkQgbWFuZGF0Lm1fdHlwZV9tYW5kYXQgPSAxICkgT1JERVIgQlkgZGF0ZV9uYWlzIERFU0Mi')\n",
    "table = page.find('table')\n",
    "liste=ToDf(table)\n",
    "for i in range(32):\n",
    "    page=Scrap('http://www2.assemblee-nationale.fr/sycomore/resultats/(offset)/'+str((i+1)*500)+'/(query)/IiBTRUxFQ1QgbV9jb2RlX2RlcHV0ZSwgaWRfYWN0ZXVyX3RyaWJ1biwgbGVnX21heF90cmlidW4sIG5vbSwgbm9tX2FmZmljaGUsIHByZW5vbSwgZGF0ZV9uYWlzLCBkYXRlX2RlY2VzIEZST00gZGVwdXRlIFdIRVJFIDE9MSAgQU5EIG1fY29kZV9kZXB1dGUgSU4gKFNFTEVDVCBtX2NvZGVfZGVwdXRlIEZST00gbWFuZGF0LCBkZXBhcnRlbWVudCAgV0hFUkUgbWFuZGF0Lm1fbnVtX2RlcCA9IGRlcGFydGVtZW50Lm1fbnVtX2RlcCBBTkQgbWFuZGF0Lm1fdHlwZV9tYW5kYXQgPSAxICkgT1JERVIgQlkgZGF0ZV9uYWlzIERFU0Mi')\n",
    "    table = page.find('table')#on récupère le seul tableau de la page qui liste des députés\n",
    "    listeDf=ToDf(table)\n",
    "    liste=pd.concat([liste,listeDf])#on récupère le dataframe et on l'ajoute à la liste\n",
    "liste=liste.reset_index()#on recrée un index afin de ne pas s'arrêter à 500 puis recommencer comme dans les pages web\n",
    "listeDepute=liste[['Nom','Né le']]#on récupère les variables qui nous intéressent  "
   ]
  },
  {
<<<<<<< Updated upstream
=======
   "cell_type": "code",
   "execution_count": 15,
   "metadata": {},
   "outputs": [],
   "source": [
    "listeDepute.to_csv(r'C:\\Users\\sylva\\Desktop\\git\\Projet-Python-deputes\\liste_depute.csv')#on met les données sur csv pour ne pas avoir à rescrapper à chaque fois"
   ]
  },
  {
>>>>>>> Stashed changes
   "cell_type": "markdown",
   "metadata": {},
   "source": [
    "On s'intéresse ensuite à la récupération des mandats de chaque député (partie en cours)."
   ]
  },
  {
   "cell_type": "code",
<<<<<<< Updated upstream
<<<<<<< Updated upstream
   "execution_count": null,
   "metadata": {},
   "outputs": [],
=======
   "execution_count": 6,
   "metadata": {},
   "outputs": [],
   "source": [
    "def scrap_un_mandat(mandat):\n",
    "    #On récupère et lave les titres des colonnes\n",
    "    columns=mandat.findAll('dt')\n",
    "    columns=re.sub('<[^<]+?>', '', str(columns))  \n",
    "    \n",
    "    #On récupère et lave les titres des lignes\n",
    "    lines=mandat.findAll('dd')\n",
    "    lines=re.sub('<[^<]+?>', '', str(lines))\n",
    "    lines=re.sub('\\t', '', str(lines))\n",
    "    lines=re.sub(\"\\n\", '', str(lines))\n",
    "    line=''\n",
    "    \n",
    "    #On met tout dans un dataframe\n",
    "    columns=columns[1:-1].split(',')\n",
    "    lines=lines[1:-1].split(',')\n",
    "    df=pd.DataFrame([lines],columns=columns)\n",
    "    return df"
   ]
  },
  {
   "cell_type": "code",
   "execution_count": 7,
   "metadata": {},
   "outputs": [],
   "source": [
    "def RecupNom (page):\n",
    "    nom_depute=page.find('title')#on va là où il y a le nom\n",
    "    nom_depute=re.sub('<[^<]+?>', '', str(nom_depute))#on enlève les balises\n",
    "    nom_depute=nom_depute.split()#on récupère les mots du titre\n",
    "    mot=nom_depute[0]#on initialise au premier mot\n",
    "    nom_dep=''#on initialise la variable où on va récupérer le nom\n",
    "    while mot!='-' :#on prend les premiers mots qui composent le nom, avant la suite du titre\n",
    "        nom_dep=nom_dep+' '+mot#on concatène le mot appartenant au nom avec les précédents\n",
    "        nom_depute=nom_depute[1:]#on supprime le mot étudié\n",
    "        mot=nom_depute[0]#pour passer au suivant\n",
    "    return nom_dep#on retourne le mot complet. Il est surement possible de le faire beaucoup plus vite en regex, mais les miennes ne marchent pas."
   ]
  },
  {
   "cell_type": "code",
   "execution_count": null,
   "metadata": {},
   "outputs": [],
   "source": []
  },
  {
   "cell_type": "code",
   "execution_count": 8,
   "metadata": {
    "scrolled": false
   },
   "outputs": [
    {
     "name": "stderr",
     "output_type": "stream",
     "text": [
      "C:\\Users\\sylva\\Anaconda3\\lib\\site-packages\\ipykernel_launcher.py:27: FutureWarning: Sorting because non-concatenation axis is not aligned. A future version\n",
      "of pandas will change to not sort by default.\n",
      "\n",
      "To accept the future behavior, pass 'sort=False'.\n",
      "\n",
      "To retain the current behavior and silence the warning, pass 'sort=True'.\n",
      "\n"
     ]
    },
    {
     "name": "stdout",
     "output_type": "stream",
     "text": [
      "501\n",
      "1001\n",
      "1501\n",
      "2001\n",
      "2501\n",
      "3001\n",
      "3501\n",
      "4001\n",
      "4501\n",
      "5001\n",
      "5501\n",
      "6001\n",
      "6501\n",
      "7001\n",
      "7501\n",
      "8001\n",
      "8501\n",
      "9001\n",
      "9501\n",
      "10001\n",
      "10501\n",
      "11001\n",
      "11501\n",
      "12001\n",
      "12501\n",
      "13001\n",
      "13501\n",
      "14001\n",
      "14501\n",
      "15001\n",
      "15501\n",
      "16001\n",
      "16501\n",
      "17001\n",
      "17501\n",
      "18001\n",
      "18501\n",
      "19001\n",
      "705\n",
      "temps d'exécution 7518.672792196274\n"
     ]
    }
   ],
>>>>>>> Stashed changes
   "source": [
    "tps1=time.time()\n",
    "page=Scrap('http://www2.assemblee-nationale.fr/sycomore/fiche/(num_dept)/'+str(5))\n",
    "listeMandat=page\n",
    "liste=[]\n",
    "numProbleme=[]\n",
    "for i in range(5,19501) :\n",
    "    if i%500==1 :#pour mesurer l'avancement du scrapping\n",
    "        print(i)\n",
    "    page=Scrap('http://www2.assemblee-nationale.fr/sycomore/fiche/(num_dept)/'+str(i+7))\n",
    "    #Une petite blague c'est glissé dans le site : les mandats de sénateurs sont présent dans le code html mais ils sont \"cachés\"\n",
    "    #On les enlève donc d'abord\n",
    "    pouf=page.find('div', {'id':\"mandats_an\"})\n",
    "    if pouf :\n",
    "        depute=pouf.findAll('dl', {'class' : \"deputes-liste-attributs sycomore\"})\n",
    "    else :#éviter les cas d'assemblée nationale constituante qui ont un autre nom que mandats_an\n",
    "        depute=page.findAll('dl', {'class' : \"deputes-liste-attributs sycomore\"})\n",
    "    for mandat in depute :\n",
    "        try:\n",
    "            df = scrap_un_mandat(mandat)\n",
    "        except AssertionError :\n",
    "            numProbleme.append(i)\n",
    "        else :#ne marche pas en elif ! A cause du try\n",
    "            df[\"nom du député\"]=RecupNom(page)\n",
    "            if len(liste)==0: #On initialise avec le premier mandat\n",
    "                liste=df  \n",
    "            else:\n",
    "                liste=pd.concat([liste,df])#on fusionne les mandats\n",
    "print(len(numProbleme))\n",
    "tps2=time.time()\n",
    "print(\"temps d'exécution\",tps2-tps1)            "
   ]
  },
  {
   "cell_type": "markdown",
   "metadata": {},
   "source": [
    "Il y des pages de députés jusqu'à 19500 sur le site."
   ]
  },
  {
   "cell_type": "code",
<<<<<<< Updated upstream
   "execution_count": 93,
   "metadata": {},
   "outputs": [],
   "source": [
    "page=Scrap('http://www2.assemblee-nationale.fr/sycomore/fiche/(num_dept)/'+str(5))\n",
    "depute=page.findAll('dl', {'class' : \"deputes-liste-attributs sycomore\"})"
=======
   "execution_count": 34,
   "metadata": {},
   "outputs": [],
   "source": [
    "liste=liste.rename(columns={' Département': 'Département', ' Groupe': 'Groupe', ' Législature': 'Législature', ' Mandat' :'Mandat'})"
>>>>>>> Stashed changes
   ]
  },
  {
   "cell_type": "code",
<<<<<<< Updated upstream
   "execution_count": 111,
=======
   "execution_count": 6,
>>>>>>> Stashed changes
=======
   "execution_count": 36,
>>>>>>> Stashed changes
   "metadata": {},
   "outputs": [
    {
     "name": "stdout",
     "output_type": "stream",
     "text": [
      "                                                   0\n",
      "0  [Régime politique, Législature, Mandat, Départ...\n",
      "1  [Cinquième République - Assemblée nationale, V...\n",
      "                                                   0\n",
      "0  [Régime politique, Législature, Mandat, Départ...\n",
      "1  [Cinquième République - Assemblée nationale, V...\n",
      "                                                   0\n",
      "0  [Régime politique, Législature, Mandat, Départ...\n",
      "1  [Cinquième République - Assemblée nationale, V...\n",
      "                                                   0\n",
      "0                               [Sénateur, Sénateur]\n",
      "1  [du 3 octobre 1983 au  1er octobre 1992, du 2 ...\n"
     ]
    }
   ],
   "source": [
<<<<<<< Updated upstream
    "for mandat in depute :\n",
    "    columns=mandat.findAll('dt')\n",
    "    columns=re.sub('<[^<]+?>', '', str(columns))  \n",
    "    lines=mandat.findAll('dd')\n",
    "    lines=re.sub('<[^<]+?>', '', str(lines))\n",
    "    lines=re.sub('\\t', '', str(lines))\n",
    "    lines=re.sub(\"\\n\", '', str(lines))\n",
    "    line=''\n",
<<<<<<< Updated upstream
    "    for i in str(lines) :\n",
    "        line+=i\n",
    "    line=str(line)\n",
    "    df=pd.DataFrame([columns, line])    \n",
    "    print(df)"
=======
    "    \n",
    "    #On met tout dans un dataframe\n",
    "    columns=columns[1:-1].split(',')\n",
    "    lines=lines[1:-1].split(',')\n",
    "    df=pd.DataFrame([lines],columns=columns)\n",
    "    return df"
=======
    "liste_dep=liste[['Département', 'Groupe', 'Législature', 'Mandat', 'Régime politique', 'nom du député']]"
>>>>>>> Stashed changes
   ]
  },
  {
   "cell_type": "code",
<<<<<<< Updated upstream
   "execution_count": 7,
   "metadata": {},
   "outputs": [],
   "source": [
    "def RecupNom (page):\n",
    "    nom_depute=page.find('title')#on va là où il y a le nom\n",
    "    nom_depute=re.sub('<[^<]+?>', '', str(nom_depute))#on enlève les balises\n",
    "    nom_depute=nom_depute.split()#on récupère les mots du titre\n",
    "    mot=nom_depute[0]#on initialise au premier mot\n",
    "    nom_dep=''#on initialise la variable où on va récupérer le nom\n",
    "    while mot!='-' :#on prend les premiers mots qui composent le nom, avant la suite du titre\n",
    "        nom_dep=nom_dep+' '+mot#on concatène le mot appartenant au nom avec les précédents\n",
    "        nom_depute=nom_depute[1:]#on supprime le mot étudié\n",
    "        mot=nom_depute[0]#pour passer au suivant\n",
    "    return nom_dep#on retourne le mot complet. Il est surement possible de le faire beaucoup plus vite en regex, mais les miennes ne marchent pas."
=======
   "execution_count": 37,
   "metadata": {},
   "outputs": [],
   "source": [
    "liste_dep.to_csv(r'C:\\Users\\sylva\\Desktop\\git\\Projet-Python-deputes\\liste_mandat.csv')\n",
    "#on met les données sur csv pour ne pas avoir à rescrapper à chaque fois"
>>>>>>> Stashed changes
   ]
  },
  {
   "cell_type": "code",
<<<<<<< Updated upstream
   "execution_count": null,
=======
   "execution_count": 10,
>>>>>>> Stashed changes
   "metadata": {},
   "outputs": [],
   "source": []
  },
  {
   "cell_type": "code",
   "execution_count": 8,
   "metadata": {
    "scrolled": false
   },
   "outputs": [
    {
<<<<<<< Updated upstream
     "name": "stderr",
     "output_type": "stream",
     "text": [
      "C:\\Users\\sylva\\Anaconda3\\lib\\site-packages\\ipykernel_launcher.py:27: FutureWarning: Sorting because non-concatenation axis is not aligned. A future version\n",
      "of pandas will change to not sort by default.\n",
      "\n",
      "To accept the future behavior, pass 'sort=False'.\n",
      "\n",
      "To retain the current behavior and silence the warning, pass 'sort=True'.\n",
      "\n"
     ]
    },
    {
     "name": "stdout",
     "output_type": "stream",
     "text": [
      "501\n",
      "1001\n",
      "1501\n",
      "2001\n",
      "2501\n",
      "3001\n",
      "3501\n",
      "4001\n",
      "4501\n",
      "5001\n",
      "5501\n",
      "6001\n",
      "6501\n",
      "7001\n",
      "7501\n",
      "8001\n",
      "8501\n",
      "9001\n",
      "9501\n",
      "10001\n",
      "10501\n",
      "11001\n",
      "11501\n",
      "12001\n",
      "12501\n",
      "13001\n",
      "13501\n",
      "14001\n",
      "14501\n",
      "15001\n",
      "15501\n",
      "16001\n",
      "16501\n",
      "17001\n",
      "17501\n",
      "18001\n",
      "18501\n",
      "19001\n",
      "705\n",
      "temps d'exécution 7518.672792196274\n"
     ]
    }
   ],
   "source": [
    "tps1=time.time()\n",
    "page=Scrap('http://www2.assemblee-nationale.fr/sycomore/fiche/(num_dept)/'+str(5))\n",
    "listeMandat=page\n",
    "liste=[]\n",
    "numProbleme=[]\n",
    "for i in range(5,19501) :\n",
    "    if i%500==1 :#pour mesurer l'avancement du scrapping\n",
    "        print(i)\n",
    "    page=Scrap('http://www2.assemblee-nationale.fr/sycomore/fiche/(num_dept)/'+str(i+7))\n",
    "    #Une petite blague c'est glissé dans le site : les mandats de sénateurs sont présent dans le code html mais ils sont \"cachés\"\n",
    "    #On les enlève donc d'abord\n",
    "    pouf=page.find('div', {'id':\"mandats_an\"})\n",
    "    if pouf :\n",
    "        depute=pouf.findAll('dl', {'class' : \"deputes-liste-attributs sycomore\"})\n",
    "    else :#éviter les cas d'assemblée nationale constituante qui ont un autre nom que mandats_an\n",
    "        depute=page.findAll('dl', {'class' : \"deputes-liste-attributs sycomore\"})\n",
    "    for mandat in depute :\n",
    "        try:\n",
    "            df = scrap_un_mandat(mandat)\n",
    "        except AssertionError :\n",
    "            numProbleme.append(i)\n",
    "        else :#ne marche pas en elif ! A cause du try\n",
    "            df[\"nom du député\"]=RecupNom(page)\n",
    "            if len(liste)==0: #On initialise avec le premier mandat\n",
    "                liste=df  \n",
    "            else:\n",
    "                liste=pd.concat([liste,df])#on fusionne les mandats\n",
    "print(len(numProbleme))\n",
    "tps2=time.time()\n",
    "print(\"temps d'exécution\",tps2-tps1)            "
   ]
  },
  {
   "cell_type": "markdown",
   "metadata": {},
   "source": [
    "Il y des pages de députés jusqu'à 19500 sur le site."
=======
     "data": {
      "text/plain": [
       "53.56170212765957"
      ]
     },
     "execution_count": 10,
     "metadata": {},
     "output_type": "execute_result"
    }
   ],
   "source": [
    "len(liste)/len(numProbleme)"
>>>>>>> Stashed changes
   ]
  },
  {
   "cell_type": "code",
<<<<<<< Updated upstream
   "execution_count": 16,
   "metadata": {},
   "outputs": [],
   "source": [
    "liste.to_csv(r'C:\\Users\\sylva\\Desktop\\git\\Projet-Python-deputes\\liste_mandat.csv')\n",
    "#on met les données sur csv pour ne pas avoir à rescrapper à chaque fois"
   ]
  },
  {
   "cell_type": "code",
   "execution_count": 11,
=======
   "execution_count": 38,
>>>>>>> Stashed changes
   "metadata": {},
   "outputs": [
    {
     "data": {
      "text/html": [
       "<div>\n",
       "<style scoped>\n",
       "    .dataframe tbody tr th:only-of-type {\n",
       "        vertical-align: middle;\n",
       "    }\n",
       "\n",
       "    .dataframe tbody tr th {\n",
       "        vertical-align: top;\n",
       "    }\n",
       "\n",
       "    .dataframe thead th {\n",
       "        text-align: right;\n",
       "    }\n",
       "</style>\n",
       "<table border=\"1\" class=\"dataframe\">\n",
       "  <thead>\n",
       "    <tr style=\"text-align: right;\">\n",
       "      <th></th>\n",
<<<<<<< Updated upstream
       "      <th>Baillage</th>\n",
       "      <th>Chef du Gouvernement</th>\n",
=======
>>>>>>> Stashed changes
       "      <th>Département</th>\n",
       "      <th>Groupe</th>\n",
       "      <th>Législature</th>\n",
       "      <th>Mandat</th>\n",
<<<<<<< Updated upstream
       "      <th>Chef du Gouvernement</th>\n",
       "      <th>Régime politique</th>\n",
       "      <th>Sénateur</th>\n",
=======
       "      <th>Régime politique</th>\n",
>>>>>>> Stashed changes
       "      <th>nom du député</th>\n",
       "    </tr>\n",
       "  </thead>\n",
       "  <tbody>\n",
       "    <tr>\n",
       "      <th>0</th>\n",
<<<<<<< Updated upstream
       "      <td>NaN</td>\n",
       "      <td>NaN</td>\n",
=======
>>>>>>> Stashed changes
       "      <td>Anciens départements d'Algérie</td>\n",
       "      <td>Socialiste</td>\n",
       "      <td>Ire Assemblée nationale constituante</td>\n",
       "      <td>Du 21 octobre 1945 au 19 février 1946</td>\n",
<<<<<<< Updated upstream
       "      <td>NaN</td>\n",
       "      <td>Gouvernement provisoire de la République franç...</td>\n",
       "      <td>NaN</td>\n",
=======
       "      <td>Gouvernement provisoire de la République franç...</td>\n",
>>>>>>> Stashed changes
       "      <td>Bachir Ben Mohamed Abddelouahab</td>\n",
       "    </tr>\n",
       "    <tr>\n",
       "      <th>0</th>\n",
<<<<<<< Updated upstream
       "      <td>NaN</td>\n",
       "      <td>NaN</td>\n",
=======
>>>>>>> Stashed changes
       "      <td>Anciens départements d'Algérie</td>\n",
       "      <td>Unité de la République</td>\n",
       "      <td>Ire législature</td>\n",
       "      <td>Du 30 novembre 1958 au 3 juillet 1962</td>\n",
<<<<<<< Updated upstream
       "      <td>NaN</td>\n",
       "      <td>Cinquième République - Assemblée nationale</td>\n",
       "      <td>NaN</td>\n",
=======
       "      <td>Cinquième République - Assemblée nationale</td>\n",
>>>>>>> Stashed changes
       "      <td>Robert Abdesselam</td>\n",
       "    </tr>\n",
       "    <tr>\n",
       "      <th>0</th>\n",
<<<<<<< Updated upstream
       "      <td>NaN</td>\n",
       "      <td>NaN</td>\n",
=======
>>>>>>> Stashed changes
       "      <td>Territoire français des Affars et des Issas</td>\n",
       "      <td>Union démocratique pour la V° République</td>\n",
       "      <td>IIIe législature</td>\n",
       "      <td>Du 23 avril 1967 au 30 mai 1968</td>\n",
<<<<<<< Updated upstream
       "      <td>NaN</td>\n",
       "      <td>Cinquième République - Assemblée nationale</td>\n",
       "      <td>NaN</td>\n",
=======
       "      <td>Cinquième République - Assemblée nationale</td>\n",
>>>>>>> Stashed changes
       "      <td>Moussa Ali Abdoulkader</td>\n",
       "    </tr>\n",
       "    <tr>\n",
       "      <th>0</th>\n",
<<<<<<< Updated upstream
       "      <td>NaN</td>\n",
       "      <td>NaN</td>\n",
=======
>>>>>>> Stashed changes
       "      <td>Territoire français des Affars et des Issas</td>\n",
       "      <td>Union des démocrates pour la République</td>\n",
       "      <td>IVe législature</td>\n",
       "      <td>Du 23 juin 1968 au  1er avril 1973</td>\n",
<<<<<<< Updated upstream
       "      <td>NaN</td>\n",
       "      <td>Cinquième République - Assemblée nationale</td>\n",
       "      <td>NaN</td>\n",
=======
       "      <td>Cinquième République - Assemblée nationale</td>\n",
>>>>>>> Stashed changes
       "      <td>Moussa Ali Abdoulkader</td>\n",
       "    </tr>\n",
       "    <tr>\n",
       "      <th>0</th>\n",
<<<<<<< Updated upstream
       "      <td>NaN</td>\n",
       "      <td>NaN</td>\n",
=======
>>>>>>> Stashed changes
       "      <td>Haute-Garonne</td>\n",
       "      <td>Républicain</td>\n",
       "      <td>IVe législature</td>\n",
       "      <td>Du 18 octobre 1885 au 11 novembre 1889</td>\n",
<<<<<<< Updated upstream
       "      <td>NaN</td>\n",
       "      <td>Troisième République - Chambre des députés</td>\n",
       "      <td>NaN</td>\n",
=======
       "      <td>Troisième République - Chambre des députés</td>\n",
>>>>>>> Stashed changes
       "      <td>Valentin Abeille</td>\n",
       "    </tr>\n",
       "    <tr>\n",
       "      <th>0</th>\n",
<<<<<<< Updated upstream
       "      <td>NaN</td>\n",
       "      <td>NaN</td>\n",
=======
>>>>>>> Stashed changes
       "      <td>Haute-Garonne</td>\n",
       "      <td>Républicain radical</td>\n",
       "      <td>Ve législature</td>\n",
       "      <td>Du 22 septembre 1889 au 14 octobre 1893</td>\n",
<<<<<<< Updated upstream
       "      <td>NaN</td>\n",
       "      <td>Troisième République - Chambre des députés</td>\n",
       "      <td>NaN</td>\n",
=======
       "      <td>Troisième République - Chambre des députés</td>\n",
>>>>>>> Stashed changes
       "      <td>Valentin Abeille</td>\n",
       "    </tr>\n",
       "    <tr>\n",
       "      <th>0</th>\n",
<<<<<<< Updated upstream
       "      <td>NaN</td>\n",
       "      <td>NaN</td>\n",
=======
>>>>>>> Stashed changes
       "      <td>Haute-Garonne</td>\n",
       "      <td>Républicain radical</td>\n",
       "      <td>VIe législature</td>\n",
       "      <td>Du 20 août 1893 au 20 février 1897</td>\n",
<<<<<<< Updated upstream
       "      <td>NaN</td>\n",
       "      <td>Troisième République - Chambre des députés</td>\n",
       "      <td>NaN</td>\n",
=======
       "      <td>Troisième République - Chambre des députés</td>\n",
>>>>>>> Stashed changes
       "      <td>Valentin Abeille</td>\n",
       "    </tr>\n",
       "    <tr>\n",
       "      <th>0</th>\n",
<<<<<<< Updated upstream
       "      <td>NaN</td>\n",
       "      <td>NaN</td>\n",
=======
>>>>>>> Stashed changes
       "      <td>Var</td>\n",
       "      <td>Gauche radicale</td>\n",
       "      <td>VIe législature</td>\n",
       "      <td>Du 3 septembre 1893 au 31 mai 1898</td>\n",
<<<<<<< Updated upstream
       "      <td>NaN</td>\n",
       "      <td>Troisième République - Chambre des députés</td>\n",
       "      <td>NaN</td>\n",
=======
       "      <td>Troisième République - Chambre des députés</td>\n",
>>>>>>> Stashed changes
       "      <td>Jean-Baptiste, Eugène Abel</td>\n",
       "    </tr>\n",
       "    <tr>\n",
       "      <th>0</th>\n",
<<<<<<< Updated upstream
       "      <td>NaN</td>\n",
       "      <td>NaN</td>\n",
=======
>>>>>>> Stashed changes
       "      <td>Var</td>\n",
       "      <td>Gauche radicale</td>\n",
       "      <td>Xe législature</td>\n",
       "      <td>Du 8 mai 1910 au 31 mai 1914</td>\n",
<<<<<<< Updated upstream
       "      <td>NaN</td>\n",
       "      <td>Troisième République - Chambre des députés</td>\n",
       "      <td>NaN</td>\n",
=======
       "      <td>Troisième République - Chambre des députés</td>\n",
>>>>>>> Stashed changes
       "      <td>Jean-Baptiste, Eugène Abel</td>\n",
       "    </tr>\n",
       "    <tr>\n",
       "      <th>0</th>\n",
<<<<<<< Updated upstream
       "      <td>NaN</td>\n",
       "      <td>NaN</td>\n",
=======
>>>>>>> Stashed changes
       "      <td>Var</td>\n",
       "      <td>Gauche radicale</td>\n",
       "      <td>XIe législature</td>\n",
       "      <td>Du 10 mai 1914 au 7 décembre 1919</td>\n",
<<<<<<< Updated upstream
       "      <td>NaN</td>\n",
       "      <td>Troisième République - Chambre des députés</td>\n",
       "      <td>NaN</td>\n",
=======
       "      <td>Troisième République - Chambre des députés</td>\n",
>>>>>>> Stashed changes
       "      <td>Jean-Baptiste, Eugène Abel</td>\n",
       "    </tr>\n",
       "    <tr>\n",
       "      <th>0</th>\n",
<<<<<<< Updated upstream
       "      <td>NaN</td>\n",
       "      <td>NaN</td>\n",
=======
>>>>>>> Stashed changes
       "      <td>Var</td>\n",
       "      <td>Gauche républicaine démocratique</td>\n",
       "      <td>XIIe législature</td>\n",
       "      <td>Du 16 novembre 1919 au 30 septembre 1921</td>\n",
<<<<<<< Updated upstream
       "      <td>NaN</td>\n",
       "      <td>Troisième République - Chambre des députés</td>\n",
       "      <td>NaN</td>\n",
=======
       "      <td>Troisième République - Chambre des députés</td>\n",
>>>>>>> Stashed changes
       "      <td>Jean-Baptiste, Eugène Abel</td>\n",
       "    </tr>\n",
       "    <tr>\n",
       "      <th>0</th>\n",
<<<<<<< Updated upstream
       "      <td>NaN</td>\n",
       "      <td>NaN</td>\n",
=======
>>>>>>> Stashed changes
       "      <td>Vaucluse</td>\n",
       "      <td>Gauche radicale</td>\n",
       "      <td>VIIe législature</td>\n",
       "      <td>Du 22 mai 1898 au 31 mai 1902</td>\n",
<<<<<<< Updated upstream
       "      <td>NaN</td>\n",
       "      <td>Troisième République - Chambre des députés</td>\n",
       "      <td>NaN</td>\n",
=======
       "      <td>Troisième République - Chambre des députés</td>\n",
>>>>>>> Stashed changes
       "      <td>Emile, Eugène Abel-Bernard</td>\n",
       "    </tr>\n",
       "    <tr>\n",
       "      <th>0</th>\n",
<<<<<<< Updated upstream
       "      <td>NaN</td>\n",
       "      <td>NaN</td>\n",
=======
>>>>>>> Stashed changes
       "      <td>Vaucluse</td>\n",
       "      <td>Gauche radicale</td>\n",
       "      <td>VIIIe législature</td>\n",
       "      <td>Du 11 mai 1902 au 31 mai 1906</td>\n",
<<<<<<< Updated upstream
       "      <td>NaN</td>\n",
       "      <td>Troisième République - Chambre des députés</td>\n",
       "      <td>NaN</td>\n",
=======
       "      <td>Troisième République - Chambre des députés</td>\n",
>>>>>>> Stashed changes
       "      <td>Emile, Eugène Abel-Bernard</td>\n",
       "    </tr>\n",
       "    <tr>\n",
       "      <th>0</th>\n",
<<<<<<< Updated upstream
       "      <td>NaN</td>\n",
       "      <td>NaN</td>\n",
=======
>>>>>>> Stashed changes
       "      <td>Vaucluse</td>\n",
       "      <td>Gauche radicale-socialiste</td>\n",
       "      <td>IXe législature</td>\n",
       "      <td>Du 6 mai 1906 au 12 décembre 1909</td>\n",
<<<<<<< Updated upstream
       "      <td>NaN</td>\n",
       "      <td>Troisième République - Chambre des députés</td>\n",
       "      <td>NaN</td>\n",
=======
       "      <td>Troisième République - Chambre des députés</td>\n",
>>>>>>> Stashed changes
       "      <td>Emile, Eugène Abel-Bernard</td>\n",
       "    </tr>\n",
       "    <tr>\n",
       "      <th>0</th>\n",
<<<<<<< Updated upstream
       "      <td>NaN</td>\n",
       "      <td>NaN</td>\n",
=======
>>>>>>> Stashed changes
       "      <td>Vienne</td>\n",
       "      <td>Union pour la démocratie française</td>\n",
       "      <td>VIe législature</td>\n",
       "      <td>Du 3 avril 1978 au 22 mai 1981</td>\n",
<<<<<<< Updated upstream
       "      <td>NaN</td>\n",
       "      <td>Cinquième République - Assemblée nationale</td>\n",
       "      <td>NaN</td>\n",
=======
       "      <td>Cinquième République - Assemblée nationale</td>\n",
>>>>>>> Stashed changes
       "      <td>Jean-Pierre Abelin</td>\n",
       "    </tr>\n",
       "    <tr>\n",
       "      <th>0</th>\n",
<<<<<<< Updated upstream
       "      <td>NaN</td>\n",
       "      <td>NaN</td>\n",
=======
>>>>>>> Stashed changes
       "      <td>Vienne</td>\n",
       "      <td>Union pour la démocratie française</td>\n",
       "      <td>VIIIe législature</td>\n",
       "      <td>Du 2 avril 1986 au 14 mai 1988</td>\n",
<<<<<<< Updated upstream
       "      <td>NaN</td>\n",
       "      <td>Cinquième République - Assemblée nationale</td>\n",
       "      <td>NaN</td>\n",
=======
       "      <td>Cinquième République - Assemblée nationale</td>\n",
>>>>>>> Stashed changes
       "      <td>Jean-Pierre Abelin</td>\n",
       "    </tr>\n",
       "    <tr>\n",
       "      <th>0</th>\n",
<<<<<<< Updated upstream
       "      <td>NaN</td>\n",
       "      <td>NaN</td>\n",
=======
>>>>>>> Stashed changes
       "      <td>Vienne</td>\n",
       "      <td>Union pour la démocratie française et du centre</td>\n",
       "      <td>Xe législature</td>\n",
       "      <td>Du 2 avril 1993 au 21 avril 1997</td>\n",
<<<<<<< Updated upstream
       "      <td>NaN</td>\n",
       "      <td>Cinquième République - Assemblée nationale</td>\n",
       "      <td>NaN</td>\n",
=======
       "      <td>Cinquième République - Assemblée nationale</td>\n",
>>>>>>> Stashed changes
       "      <td>Jean-Pierre Abelin</td>\n",
       "    </tr>\n",
       "    <tr>\n",
       "      <th>0</th>\n",
<<<<<<< Updated upstream
       "      <td>NaN</td>\n",
       "      <td>NaN</td>\n",
=======
>>>>>>> Stashed changes
       "      <td>Vienne</td>\n",
       "      <td>Union pour la démocratie française</td>\n",
       "      <td>XIe législature</td>\n",
       "      <td>Du  1er juin 1997 au 18 juin 2002</td>\n",
<<<<<<< Updated upstream
       "      <td>NaN</td>\n",
       "      <td>Cinquième République - Assemblée nationale</td>\n",
       "      <td>NaN</td>\n",
=======
       "      <td>Cinquième République - Assemblée nationale</td>\n",
>>>>>>> Stashed changes
       "      <td>Jean-Pierre Abelin</td>\n",
       "    </tr>\n",
       "    <tr>\n",
       "      <th>0</th>\n",
<<<<<<< Updated upstream
       "      <td>NaN</td>\n",
       "      <td>NaN</td>\n",
=======
>>>>>>> Stashed changes
       "      <td>Vienne</td>\n",
       "      <td>Union pour la démocratie française</td>\n",
       "      <td>XIIe législature</td>\n",
       "      <td>Du 19 juin 2002 au 19 juin 2007</td>\n",
<<<<<<< Updated upstream
       "      <td>NaN</td>\n",
       "      <td>Cinquième République - Assemblée nationale</td>\n",
       "      <td>NaN</td>\n",
=======
       "      <td>Cinquième République - Assemblée nationale</td>\n",
>>>>>>> Stashed changes
       "      <td>Jean-Pierre Abelin</td>\n",
       "    </tr>\n",
       "    <tr>\n",
       "      <th>0</th>\n",
<<<<<<< Updated upstream
       "      <td>NaN</td>\n",
       "      <td>NaN</td>\n",
=======
>>>>>>> Stashed changes
       "      <td>Vienne</td>\n",
       "      <td>Nouveau Centre</td>\n",
       "      <td>XIIIe législature</td>\n",
       "      <td>Du 20 juin 2007 au 19 juin 2012</td>\n",
<<<<<<< Updated upstream
       "      <td>NaN</td>\n",
       "      <td>Cinquième République - Assemblée nationale</td>\n",
       "      <td>NaN</td>\n",
=======
       "      <td>Cinquième République - Assemblée nationale</td>\n",
>>>>>>> Stashed changes
       "      <td>Jean-Pierre Abelin</td>\n",
       "    </tr>\n",
       "    <tr>\n",
       "      <th>0</th>\n",
<<<<<<< Updated upstream
       "      <td>NaN</td>\n",
       "      <td>NaN</td>\n",
=======
>>>>>>> Stashed changes
       "      <td>Vienne</td>\n",
       "      <td>Mouvement républicain populaire</td>\n",
       "      <td>Ire Assemblée nationale constituante</td>\n",
       "      <td>Du 21 octobre 1945 au 10 juin 1946</td>\n",
<<<<<<< Updated upstream
       "      <td>NaN</td>\n",
       "      <td>Gouvernement provisoire de la République franç...</td>\n",
       "      <td>NaN</td>\n",
=======
       "      <td>Gouvernement provisoire de la République franç...</td>\n",
>>>>>>> Stashed changes
       "      <td>Pierre, Louis, Ernest, Armand Abelin</td>\n",
       "    </tr>\n",
       "    <tr>\n",
       "      <th>0</th>\n",
<<<<<<< Updated upstream
       "      <td>NaN</td>\n",
       "      <td>NaN</td>\n",
=======
>>>>>>> Stashed changes
       "      <td>Vienne</td>\n",
       "      <td>Mouvement républicain populaire</td>\n",
       "      <td>2e Assemblée nationale constituante</td>\n",
       "      <td>Du 2 juin 1946 au 27 novembre 1946</td>\n",
<<<<<<< Updated upstream
       "      <td>NaN</td>\n",
       "      <td>Gouvernement provisoire de la République franç...</td>\n",
       "      <td>NaN</td>\n",
=======
       "      <td>Gouvernement provisoire de la République franç...</td>\n",
>>>>>>> Stashed changes
       "      <td>Pierre, Louis, Ernest, Armand Abelin</td>\n",
       "    </tr>\n",
       "    <tr>\n",
       "      <th>0</th>\n",
<<<<<<< Updated upstream
       "      <td>NaN</td>\n",
       "      <td>NaN</td>\n",
=======
>>>>>>> Stashed changes
       "      <td>Vienne</td>\n",
       "      <td>Mouvement républicain populaire</td>\n",
       "      <td>Ire législature</td>\n",
       "      <td>Du 10 novembre 1946 au 4 juillet 1951</td>\n",
<<<<<<< Updated upstream
       "      <td>NaN</td>\n",
       "      <td>Quatrième République - Assemblée nationale</td>\n",
       "      <td>NaN</td>\n",
=======
       "      <td>Quatrième République - Assemblée nationale</td>\n",
>>>>>>> Stashed changes
       "      <td>Pierre, Louis, Ernest, Armand Abelin</td>\n",
       "    </tr>\n",
       "    <tr>\n",
       "      <th>0</th>\n",
<<<<<<< Updated upstream
       "      <td>NaN</td>\n",
       "      <td>NaN</td>\n",
=======
>>>>>>> Stashed changes
       "      <td>Vienne</td>\n",
       "      <td>Mouvement républicain populaire</td>\n",
       "      <td>IIe législature</td>\n",
       "      <td>Du 17 juin 1951 au  1er décembre 1955</td>\n",
<<<<<<< Updated upstream
       "      <td>NaN</td>\n",
       "      <td>Quatrième République - Assemblée nationale</td>\n",
       "      <td>NaN</td>\n",
=======
       "      <td>Quatrième République - Assemblée nationale</td>\n",
>>>>>>> Stashed changes
       "      <td>Pierre, Louis, Ernest, Armand Abelin</td>\n",
       "    </tr>\n",
       "    <tr>\n",
       "      <th>0</th>\n",
<<<<<<< Updated upstream
       "      <td>NaN</td>\n",
       "      <td>NaN</td>\n",
=======
>>>>>>> Stashed changes
       "      <td>Vienne</td>\n",
       "      <td>Mouvement républicain populaire</td>\n",
       "      <td>IIIe législature</td>\n",
       "      <td>Du 2 janvier 1956 au 8 décembre 1958</td>\n",
<<<<<<< Updated upstream
       "      <td>NaN</td>\n",
       "      <td>Quatrième République - Assemblée nationale</td>\n",
       "      <td>NaN</td>\n",
=======
       "      <td>Quatrième République - Assemblée nationale</td>\n",
>>>>>>> Stashed changes
       "      <td>Pierre, Louis, Ernest, Armand Abelin</td>\n",
       "    </tr>\n",
       "    <tr>\n",
       "      <th>0</th>\n",
<<<<<<< Updated upstream
       "      <td>NaN</td>\n",
       "      <td>NaN</td>\n",
=======
>>>>>>> Stashed changes
       "      <td>Vienne</td>\n",
       "      <td>Centre démocratique</td>\n",
       "      <td>IIe législature</td>\n",
       "      <td>Du 25 novembre 1962 au 2 avril 1967</td>\n",
<<<<<<< Updated upstream
       "      <td>NaN</td>\n",
       "      <td>Cinquième République - Assemblée nationale</td>\n",
       "      <td>NaN</td>\n",
=======
       "      <td>Cinquième République - Assemblée nationale</td>\n",
>>>>>>> Stashed changes
       "      <td>Pierre, Louis, Ernest, Armand Abelin</td>\n",
       "    </tr>\n",
       "    <tr>\n",
       "      <th>0</th>\n",
<<<<<<< Updated upstream
       "      <td>NaN</td>\n",
       "      <td>NaN</td>\n",
=======
>>>>>>> Stashed changes
       "      <td>Vienne</td>\n",
       "      <td>Progrès et démocratie moderne</td>\n",
       "      <td>IIIe législature</td>\n",
       "      <td>Du 12 mars 1967 au 30 mai 1968</td>\n",
<<<<<<< Updated upstream
       "      <td>NaN</td>\n",
       "      <td>Cinquième République - Assemblée nationale</td>\n",
       "      <td>NaN</td>\n",
=======
       "      <td>Cinquième République - Assemblée nationale</td>\n",
>>>>>>> Stashed changes
       "      <td>Pierre, Louis, Ernest, Armand Abelin</td>\n",
       "    </tr>\n",
       "    <tr>\n",
       "      <th>0</th>\n",
<<<<<<< Updated upstream
       "      <td>NaN</td>\n",
       "      <td>NaN</td>\n",
=======
>>>>>>> Stashed changes
       "      <td>Vienne</td>\n",
       "      <td>Progrès et démocratie moderne</td>\n",
       "      <td>IVe législature</td>\n",
       "      <td>Du 30 juin 1968 au  1er avril 1973</td>\n",
<<<<<<< Updated upstream
       "      <td>NaN</td>\n",
       "      <td>Cinquième République - Assemblée nationale</td>\n",
       "      <td>NaN</td>\n",
=======
       "      <td>Cinquième République - Assemblée nationale</td>\n",
>>>>>>> Stashed changes
       "      <td>Pierre, Louis, Ernest, Armand Abelin</td>\n",
       "    </tr>\n",
       "    <tr>\n",
       "      <th>0</th>\n",
<<<<<<< Updated upstream
       "      <td>NaN</td>\n",
       "      <td>NaN</td>\n",
=======
>>>>>>> Stashed changes
       "      <td>Vienne</td>\n",
       "      <td>Réformateurs démocrates sociaux</td>\n",
       "      <td>Ve législature</td>\n",
       "      <td>Du 2 avril 1973 au 28 juin 1974</td>\n",
<<<<<<< Updated upstream
       "      <td>NaN</td>\n",
       "      <td>Cinquième République - Assemblée nationale</td>\n",
       "      <td>NaN</td>\n",
=======
       "      <td>Cinquième République - Assemblée nationale</td>\n",
>>>>>>> Stashed changes
       "      <td>Pierre, Louis, Ernest, Armand Abelin</td>\n",
       "    </tr>\n",
       "    <tr>\n",
       "      <th>0</th>\n",
<<<<<<< Updated upstream
       "      <td>NaN</td>\n",
       "      <td>NaN</td>\n",
=======
>>>>>>> Stashed changes
       "      <td>Vienne</td>\n",
       "      <td>Réformateurs démocrates sociaux</td>\n",
       "      <td>Ve législature</td>\n",
       "      <td>Du 19 octobre 1975 au 19 novembre 1975</td>\n",
<<<<<<< Updated upstream
       "      <td>NaN</td>\n",
       "      <td>Cinquième République - Assemblée nationale</td>\n",
       "      <td>NaN</td>\n",
=======
       "      <td>Cinquième République - Assemblée nationale</td>\n",
>>>>>>> Stashed changes
       "      <td>Pierre, Louis, Ernest, Armand Abelin</td>\n",
       "    </tr>\n",
       "    <tr>\n",
       "      <th>...</th>\n",
       "      <td>...</td>\n",
       "      <td>...</td>\n",
       "      <td>...</td>\n",
       "      <td>...</td>\n",
       "      <td>...</td>\n",
       "      <td>...</td>\n",
<<<<<<< Updated upstream
       "      <td>...</td>\n",
       "      <td>...</td>\n",
       "      <td>...</td>\n",
       "      <td>...</td>\n",
       "    </tr>\n",
       "    <tr>\n",
       "      <th>0</th>\n",
       "      <td>NaN</td>\n",
       "      <td>NaN</td>\n",
=======
       "    </tr>\n",
       "    <tr>\n",
       "      <th>0</th>\n",
>>>>>>> Stashed changes
       "      <td>Val-d'Oise</td>\n",
       "      <td>Les Républicains</td>\n",
       "      <td>XVe législature (Législature en cours)</td>\n",
       "      <td>Depuis le 5 février 2018 (mandat en cours)</td>\n",
<<<<<<< Updated upstream
       "      <td>NaN</td>\n",
       "      <td>Cinquième République - Assemblée nationale</td>\n",
       "      <td>NaN</td>\n",
=======
       "      <td>Cinquième République - Assemblée nationale</td>\n",
>>>>>>> Stashed changes
       "      <td>Antoine Savignat</td>\n",
       "    </tr>\n",
       "    <tr>\n",
       "      <th>0</th>\n",
<<<<<<< Updated upstream
       "      <td>NaN</td>\n",
       "      <td>NaN</td>\n",
=======
>>>>>>> Stashed changes
       "      <td>Ardèche</td>\n",
       "      <td>Nouvelle Gauche</td>\n",
       "      <td>XVe législature (Législature en cours)</td>\n",
       "      <td>Depuis le 25 décembre 2017 (mandat en cours)</td>\n",
<<<<<<< Updated upstream
       "      <td>NaN</td>\n",
       "      <td>Cinquième République - Assemblée nationale</td>\n",
       "      <td>NaN</td>\n",
=======
       "      <td>Cinquième République - Assemblée nationale</td>\n",
>>>>>>> Stashed changes
       "      <td>Michèle Victory</td>\n",
       "    </tr>\n",
       "    <tr>\n",
       "      <th>0</th>\n",
<<<<<<< Updated upstream
       "      <td>NaN</td>\n",
       "      <td>NaN</td>\n",
=======
>>>>>>> Stashed changes
       "      <td>Martinique</td>\n",
       "      <td>Gauche démocrate et républicaine</td>\n",
       "      <td>XVe législature (Législature en cours)</td>\n",
       "      <td>Depuis le 24 avril 2018 (mandat en cours)</td>\n",
<<<<<<< Updated upstream
       "      <td>NaN</td>\n",
       "      <td>Cinquième République - Assemblée nationale</td>\n",
       "      <td>NaN</td>\n",
=======
       "      <td>Cinquième République - Assemblée nationale</td>\n",
>>>>>>> Stashed changes
       "      <td>Manuéla Kéclard-Mondésir</td>\n",
       "    </tr>\n",
       "    <tr>\n",
       "      <th>0</th>\n",
<<<<<<< Updated upstream
       "      <td>NaN</td>\n",
       "      <td>NaN</td>\n",
=======
>>>>>>> Stashed changes
       "      <td>Seine-et-Marne</td>\n",
       "      <td>Les Républicains</td>\n",
       "      <td>XVe législature (Législature en cours)</td>\n",
       "      <td>Depuis le 16 juillet 2018 (mandat en cours)</td>\n",
<<<<<<< Updated upstream
       "      <td>NaN</td>\n",
       "      <td>Cinquième République - Assemblée nationale</td>\n",
       "      <td>NaN</td>\n",
=======
       "      <td>Cinquième République - Assemblée nationale</td>\n",
>>>>>>> Stashed changes
       "      <td>Jean-Louis Thiériot</td>\n",
       "    </tr>\n",
       "    <tr>\n",
       "      <th>0</th>\n",
<<<<<<< Updated upstream
       "      <td>NaN</td>\n",
       "      <td>NaN</td>\n",
=======
>>>>>>> Stashed changes
       "      <td>Ain</td>\n",
       "      <td>Les Républicains</td>\n",
       "      <td>XIVe législature</td>\n",
       "      <td>Du 13 juin 2016 au 20 juin 2017</td>\n",
<<<<<<< Updated upstream
       "      <td>NaN</td>\n",
       "      <td>Cinquième République - Assemblée nationale</td>\n",
       "      <td>NaN</td>\n",
=======
       "      <td>Cinquième République - Assemblée nationale</td>\n",
>>>>>>> Stashed changes
       "      <td>Stéphanie Pernod Beaudon</td>\n",
       "    </tr>\n",
       "    <tr>\n",
       "      <th>0</th>\n",
<<<<<<< Updated upstream
       "      <td>NaN</td>\n",
       "      <td>NaN</td>\n",
=======
>>>>>>> Stashed changes
       "      <td>Yvelines</td>\n",
       "      <td>Les Républicains</td>\n",
       "      <td>XIVe législature</td>\n",
       "      <td>Du 21 mars 2016 au 20 juin 2017</td>\n",
<<<<<<< Updated upstream
       "      <td>NaN</td>\n",
       "      <td>Cinquième République - Assemblée nationale</td>\n",
       "      <td>NaN</td>\n",
=======
       "      <td>Cinquième République - Assemblée nationale</td>\n",
>>>>>>> Stashed changes
       "      <td>Pascal Thévenot</td>\n",
       "    </tr>\n",
       "    <tr>\n",
       "      <th>0</th>\n",
<<<<<<< Updated upstream
       "      <td>NaN</td>\n",
       "      <td>NaN</td>\n",
=======
>>>>>>> Stashed changes
       "      <td>Moselle</td>\n",
       "      <td>Union des démocrates et indépendants</td>\n",
       "      <td>XIVe législature</td>\n",
       "      <td>Du 16 avril 2016 au 20 juin 2017</td>\n",
<<<<<<< Updated upstream
       "      <td>NaN</td>\n",
       "      <td>Cinquième République - Assemblée nationale</td>\n",
       "      <td>NaN</td>\n",
=======
       "      <td>Cinquième République - Assemblée nationale</td>\n",
>>>>>>> Stashed changes
       "      <td>Patrick Weiten</td>\n",
       "    </tr>\n",
       "    <tr>\n",
       "      <th>0</th>\n",
<<<<<<< Updated upstream
       "      <td>NaN</td>\n",
       "      <td>NaN</td>\n",
=======
>>>>>>> Stashed changes
       "      <td>Seine-Maritime</td>\n",
       "      <td>Députés non inscrits</td>\n",
       "      <td>XIVe législature</td>\n",
       "      <td>Du 16 juin 2017 au 20 juin 2017</td>\n",
<<<<<<< Updated upstream
       "      <td>NaN</td>\n",
       "      <td>Cinquième République - Assemblée nationale</td>\n",
       "      <td>NaN</td>\n",
=======
       "      <td>Cinquième République - Assemblée nationale</td>\n",
>>>>>>> Stashed changes
       "      <td>Jean-Louis Rousselin</td>\n",
       "    </tr>\n",
       "    <tr>\n",
       "      <th>0</th>\n",
<<<<<<< Updated upstream
       "      <td>NaN</td>\n",
       "      <td>NaN</td>\n",
=======
>>>>>>> Stashed changes
       "      <td>Finistère</td>\n",
       "      <td>Députés non inscrits</td>\n",
       "      <td>XIVe législature</td>\n",
       "      <td>Du 18 juin 2017 au 20 juin 2017</td>\n",
<<<<<<< Updated upstream
       "      <td>NaN</td>\n",
       "      <td>Cinquième République - Assemblée nationale</td>\n",
       "      <td>NaN</td>\n",
=======
       "      <td>Cinquième République - Assemblée nationale</td>\n",
>>>>>>> Stashed changes
       "      <td>Claire Mallejac</td>\n",
       "    </tr>\n",
       "    <tr>\n",
       "      <th>0</th>\n",
<<<<<<< Updated upstream
       "      <td>NaN</td>\n",
       "      <td>NaN</td>\n",
=======
>>>>>>> Stashed changes
       "      <td>Alpes-de-Haute-Provence</td>\n",
       "      <td>Députés non inscrits</td>\n",
       "      <td>XIVe législature</td>\n",
       "      <td>Du 18 juin 2017 au 20 juin 2017</td>\n",
<<<<<<< Updated upstream
       "      <td>NaN</td>\n",
       "      <td>Cinquième République - Assemblée nationale</td>\n",
       "      <td>NaN</td>\n",
=======
       "      <td>Cinquième République - Assemblée nationale</td>\n",
>>>>>>> Stashed changes
       "      <td>Esther Baron</td>\n",
       "    </tr>\n",
       "    <tr>\n",
       "      <th>0</th>\n",
<<<<<<< Updated upstream
       "      <td>NaN</td>\n",
       "      <td>NaN</td>\n",
=======
>>>>>>> Stashed changes
       "      <td>La Réunion</td>\n",
       "      <td>Les Républicains</td>\n",
       "      <td>XVe législature (Législature en cours)</td>\n",
       "      <td>Depuis le  1er octobre 2018 (mandat en cours)</td>\n",
<<<<<<< Updated upstream
       "      <td>NaN</td>\n",
       "      <td>Cinquième République - Assemblée nationale</td>\n",
       "      <td>NaN</td>\n",
=======
       "      <td>Cinquième République - Assemblée nationale</td>\n",
>>>>>>> Stashed changes
       "      <td>Jean-Luc Poudroux</td>\n",
       "    </tr>\n",
       "    <tr>\n",
       "      <th>0</th>\n",
<<<<<<< Updated upstream
       "      <td>NaN</td>\n",
       "      <td>NaN</td>\n",
=======
>>>>>>> Stashed changes
       "      <td>Loire-Atlantique</td>\n",
       "      <td>La République en Marche</td>\n",
       "      <td>XVe législature</td>\n",
       "      <td>Du 5 octobre 2018 au 16 août 2019</td>\n",
<<<<<<< Updated upstream
       "      <td>NaN</td>\n",
       "      <td>Cinquième République - Assemblée nationale</td>\n",
       "      <td>NaN</td>\n",
=======
       "      <td>Cinquième République - Assemblée nationale</td>\n",
>>>>>>> Stashed changes
       "      <td>Mounir Belhamiti</td>\n",
       "    </tr>\n",
       "    <tr>\n",
       "      <th>0</th>\n",
<<<<<<< Updated upstream
       "      <td>NaN</td>\n",
       "      <td>NaN</td>\n",
=======
>>>>>>> Stashed changes
       "      <td>Loir-et-Cher</td>\n",
       "      <td>Mouvement Démocrate et apparentés</td>\n",
       "      <td>XVe législature (Législature en cours)</td>\n",
       "      <td>Depuis le 17 novembre 2018 (mandat en cours)</td>\n",
<<<<<<< Updated upstream
       "      <td>NaN</td>\n",
       "      <td>Cinquième République - Assemblée nationale</td>\n",
       "      <td>NaN</td>\n",
=======
       "      <td>Cinquième République - Assemblée nationale</td>\n",
>>>>>>> Stashed changes
       "      <td>Stéphane Baudu</td>\n",
       "    </tr>\n",
       "    <tr>\n",
       "      <th>0</th>\n",
<<<<<<< Updated upstream
       "      <td>NaN</td>\n",
       "      <td>NaN</td>\n",
=======
>>>>>>> Stashed changes
       "      <td>Gironde</td>\n",
       "      <td>La République en Marche</td>\n",
       "      <td>XVe législature (Législature en cours)</td>\n",
       "      <td>Depuis le 17 novembre 2018 (mandat en cours)</td>\n",
<<<<<<< Updated upstream
       "      <td>NaN</td>\n",
       "      <td>Cinquième République - Assemblée nationale</td>\n",
       "      <td>NaN</td>\n",
=======
       "      <td>Cinquième République - Assemblée nationale</td>\n",
>>>>>>> Stashed changes
       "      <td>Pascal Lavergne</td>\n",
       "    </tr>\n",
       "    <tr>\n",
       "      <th>0</th>\n",
<<<<<<< Updated upstream
       "      <td>NaN</td>\n",
       "      <td>NaN</td>\n",
=======
>>>>>>> Stashed changes
       "      <td>Hauts-de-Seine</td>\n",
       "      <td>La République en Marche</td>\n",
       "      <td>XVe législature (Législature en cours)</td>\n",
       "      <td>Depuis le 17 novembre 2018 (mandat en cours)</td>\n",
<<<<<<< Updated upstream
       "      <td>NaN</td>\n",
       "      <td>Cinquième République - Assemblée nationale</td>\n",
       "      <td>NaN</td>\n",
=======
       "      <td>Cinquième République - Assemblée nationale</td>\n",
>>>>>>> Stashed changes
       "      <td>Florence Provendier</td>\n",
       "    </tr>\n",
       "    <tr>\n",
       "      <th>0</th>\n",
<<<<<<< Updated upstream
       "      <td>NaN</td>\n",
       "      <td>NaN</td>\n",
=======
>>>>>>> Stashed changes
       "      <td>Essonne</td>\n",
       "      <td>La République en Marche</td>\n",
       "      <td>XVe législature (Législature en cours)</td>\n",
       "      <td>Depuis le 26 novembre 2018 (mandat en cours)</td>\n",
<<<<<<< Updated upstream
       "      <td>NaN</td>\n",
       "      <td>Cinquième République - Assemblée nationale</td>\n",
       "      <td>NaN</td>\n",
=======
       "      <td>Cinquième République - Assemblée nationale</td>\n",
>>>>>>> Stashed changes
       "      <td>Francis Chouat</td>\n",
       "    </tr>\n",
       "    <tr>\n",
       "      <th>0</th>\n",
<<<<<<< Updated upstream
       "      <td>NaN</td>\n",
       "      <td>NaN</td>\n",
=======
>>>>>>> Stashed changes
       "      <td>Hauts-de-Seine</td>\n",
       "      <td>La République en Marche</td>\n",
       "      <td>XVe législature (Législature en cours)</td>\n",
       "      <td>Depuis le 26 février 2019 (mandat en cours)</td>\n",
<<<<<<< Updated upstream
       "      <td>NaN</td>\n",
       "      <td>Cinquième République - Assemblée nationale</td>\n",
       "      <td>NaN</td>\n",
=======
       "      <td>Cinquième République - Assemblée nationale</td>\n",
>>>>>>> Stashed changes
       "      <td>Bénédicte Pételle</td>\n",
       "    </tr>\n",
       "    <tr>\n",
       "      <th>0</th>\n",
<<<<<<< Updated upstream
       "      <td>NaN</td>\n",
       "      <td>NaN</td>\n",
=======
>>>>>>> Stashed changes
       "      <td>Essonne</td>\n",
       "      <td>La République En Marche</td>\n",
       "      <td>XVe législature (Législature en cours)</td>\n",
       "      <td>Depuis le  1er mai 2019 (mandat en cours)</td>\n",
<<<<<<< Updated upstream
       "      <td>NaN</td>\n",
       "      <td>Cinquième République - Assemblée nationale</td>\n",
       "      <td>NaN</td>\n",
=======
       "      <td>Cinquième République - Assemblée nationale</td>\n",
>>>>>>> Stashed changes
       "      <td>Stéphanie Atger</td>\n",
       "    </tr>\n",
       "    <tr>\n",
       "      <th>0</th>\n",
<<<<<<< Updated upstream
       "      <td>NaN</td>\n",
       "      <td>NaN</td>\n",
=======
>>>>>>> Stashed changes
       "      <td>Nord</td>\n",
       "      <td>NaN</td>\n",
       "      <td>Assemblée nationale législative</td>\n",
       "      <td>Du 13 mai 1849 au 2 décembre 1851</td>\n",
<<<<<<< Updated upstream
       "      <td>NaN</td>\n",
       "      <td>Deuxième République</td>\n",
       "      <td>NaN</td>\n",
=======
       "      <td>Deuxième République</td>\n",
>>>>>>> Stashed changes
       "      <td>Louis Behaghel</td>\n",
       "    </tr>\n",
       "    <tr>\n",
       "      <th>0</th>\n",
<<<<<<< Updated upstream
       "      <td>NaN</td>\n",
       "      <td>NaN</td>\n",
=======
>>>>>>> Stashed changes
       "      <td>Vendée</td>\n",
       "      <td>Non inscrit</td>\n",
       "      <td>XVe législature (Législature en cours)</td>\n",
       "      <td>Depuis le 8 juillet 2019 (mandat en cours)</td>\n",
<<<<<<< Updated upstream
       "      <td>NaN</td>\n",
       "      <td>Cinquième République - Assemblée nationale</td>\n",
       "      <td>NaN</td>\n",
=======
       "      <td>Cinquième République - Assemblée nationale</td>\n",
>>>>>>> Stashed changes
       "      <td>Patrick Loiseau</td>\n",
       "    </tr>\n",
       "    <tr>\n",
       "      <th>0</th>\n",
<<<<<<< Updated upstream
       "      <td>NaN</td>\n",
       "      <td>NaN</td>\n",
=======
>>>>>>> Stashed changes
       "      <td>Eure-et-Loir</td>\n",
       "      <td>NaN</td>\n",
       "      <td>Convention nationale</td>\n",
       "      <td>Du 6 septembre 1792 au 26 octobre 1795</td>\n",
<<<<<<< Updated upstream
       "      <td>NaN</td>\n",
       "      <td>Révolution</td>\n",
       "      <td>NaN</td>\n",
=======
       "      <td>Révolution</td>\n",
>>>>>>> Stashed changes
       "      <td>Nicolas Bourgeois</td>\n",
       "    </tr>\n",
       "    <tr>\n",
       "      <th>0</th>\n",
<<<<<<< Updated upstream
       "      <td>NaN</td>\n",
       "      <td>NaN</td>\n",
=======
>>>>>>> Stashed changes
       "      <td>Haute-Vienne</td>\n",
       "      <td>La République en Marche</td>\n",
       "      <td>XVe législature (Législature en cours)</td>\n",
       "      <td>Depuis le 4 octobre 2019 (mandat en cours)</td>\n",
<<<<<<< Updated upstream
       "      <td>NaN</td>\n",
       "      <td>Cinquième République - Assemblée nationale</td>\n",
       "      <td>NaN</td>\n",
=======
       "      <td>Cinquième République - Assemblée nationale</td>\n",
>>>>>>> Stashed changes
       "      <td>Pierre Venteau</td>\n",
       "    </tr>\n",
       "    <tr>\n",
       "      <th>0</th>\n",
<<<<<<< Updated upstream
       "      <td>NaN</td>\n",
       "      <td>NaN</td>\n",
=======
>>>>>>> Stashed changes
       "      <td>Creuse</td>\n",
       "      <td>Parti socialiste</td>\n",
       "      <td>XIVe législature</td>\n",
       "      <td>Du 29 avril 1928 au 31 mai 1932</td>\n",
<<<<<<< Updated upstream
       "      <td>NaN</td>\n",
       "      <td>Troisième République - Chambre des députés</td>\n",
       "      <td>NaN</td>\n",
=======
       "      <td>Troisième République - Chambre des députés</td>\n",
>>>>>>> Stashed changes
       "      <td>Albert, Marcel Rivière</td>\n",
       "    </tr>\n",
       "    <tr>\n",
       "      <th>0</th>\n",
<<<<<<< Updated upstream
       "      <td>NaN</td>\n",
       "      <td>NaN</td>\n",
=======
>>>>>>> Stashed changes
       "      <td>Creuse</td>\n",
       "      <td>Parti socialiste</td>\n",
       "      <td>XVe législature</td>\n",
       "      <td>Du  1er mai 1932 au 31 mai 1936</td>\n",
<<<<<<< Updated upstream
       "      <td>NaN</td>\n",
       "      <td>Troisième République - Chambre des députés</td>\n",
       "      <td>NaN</td>\n",
=======
       "      <td>Troisième République - Chambre des députés</td>\n",
>>>>>>> Stashed changes
       "      <td>Albert, Marcel Rivière</td>\n",
       "    </tr>\n",
       "    <tr>\n",
       "      <th>0</th>\n",
<<<<<<< Updated upstream
       "      <td>NaN</td>\n",
       "      <td>NaN</td>\n",
=======
>>>>>>> Stashed changes
       "      <td>Creuse</td>\n",
       "      <td>Parti socialiste</td>\n",
       "      <td>XVIe législature</td>\n",
       "      <td>Du 26 avril 1936 au 31 mai 1942&amp;amp;ast;</td>\n",
<<<<<<< Updated upstream
       "      <td>NaN</td>\n",
       "      <td>Troisième République - Chambre des députés</td>\n",
       "      <td>NaN</td>\n",
=======
       "      <td>Troisième République - Chambre des députés</td>\n",
>>>>>>> Stashed changes
       "      <td>Albert, Marcel Rivière</td>\n",
       "    </tr>\n",
       "    <tr>\n",
       "      <th>0</th>\n",
<<<<<<< Updated upstream
       "      <td>NaN</td>\n",
       "      <td>NaN</td>\n",
=======
>>>>>>> Stashed changes
       "      <td>Seine-Inférieure</td>\n",
       "      <td>NaN</td>\n",
       "      <td>Conseil des Cinq-Cents</td>\n",
       "      <td>Du 11 avril 1797 au 4 septembre 1797</td>\n",
<<<<<<< Updated upstream
       "      <td>NaN</td>\n",
       "      <td>Révolution</td>\n",
       "      <td>NaN</td>\n",
=======
       "      <td>Révolution</td>\n",
>>>>>>> Stashed changes
       "      <td>François Grégoire de Rumare</td>\n",
       "    </tr>\n",
       "    <tr>\n",
       "      <th>0</th>\n",
<<<<<<< Updated upstream
       "      <td>NaN</td>\n",
       "      <td>NaN</td>\n",
=======
>>>>>>> Stashed changes
       "      <td>Moselle</td>\n",
       "      <td>NaN</td>\n",
       "      <td></td>\n",
       "      <td>Du 8 février 1871 au  1er mars 1871</td>\n",
<<<<<<< Updated upstream
       "      <td>NaN</td>\n",
       "      <td>Assemblée Nationale</td>\n",
       "      <td>NaN</td>\n",
=======
       "      <td>Assemblée Nationale</td>\n",
>>>>>>> Stashed changes
       "      <td>Pierre, Paul Bardon</td>\n",
       "    </tr>\n",
       "    <tr>\n",
       "      <th>0</th>\n",
<<<<<<< Updated upstream
       "      <td>NaN</td>\n",
       "      <td>NaN</td>\n",
=======
>>>>>>> Stashed changes
       "      <td>Sénégal</td>\n",
       "      <td>NaN</td>\n",
       "      <td>Assemblée nationale législative</td>\n",
       "      <td>Du 17 août 1851 au 14 novembre 1851</td>\n",
<<<<<<< Updated upstream
       "      <td>NaN</td>\n",
       "      <td>Deuxième République</td>\n",
       "      <td>NaN</td>\n",
=======
       "      <td>Deuxième République</td>\n",
>>>>>>> Stashed changes
       "      <td>John Sleigth</td>\n",
       "    </tr>\n",
       "    <tr>\n",
       "      <th>0</th>\n",
<<<<<<< Updated upstream
       "      <td>NaN</td>\n",
       "      <td>NaN</td>\n",
=======
>>>>>>> Stashed changes
       "      <td>Marne</td>\n",
       "      <td>NaN</td>\n",
       "      <td>Corps législatif</td>\n",
       "      <td>Du 30 novembre 1803 au 31 décembre 1808</td>\n",
<<<<<<< Updated upstream
       "      <td>NaN</td>\n",
       "      <td>Consulat et Premier Empire</td>\n",
       "      <td>NaN</td>\n",
=======
       "      <td>Consulat et Premier Empire</td>\n",
>>>>>>> Stashed changes
       "      <td>François Becquey</td>\n",
       "    </tr>\n",
       "    <tr>\n",
       "      <th>0</th>\n",
<<<<<<< Updated upstream
       "      <td>NaN</td>\n",
       "      <td>NaN</td>\n",
=======
>>>>>>> Stashed changes
       "      <td>Lot-et-Garonne</td>\n",
       "      <td>NaN</td>\n",
       "      <td>Convention nationale</td>\n",
       "      <td>Du 5 septembre 1792 au 26 octobre 1795</td>\n",
<<<<<<< Updated upstream
       "      <td>NaN</td>\n",
       "      <td>Révolution</td>\n",
       "      <td>NaN</td>\n",
=======
       "      <td>Révolution</td>\n",
>>>>>>> Stashed changes
       "      <td>Jean, Baptiste, Joseph Claverie</td>\n",
       "    </tr>\n",
       "  </tbody>\n",
       "</table>\n",
<<<<<<< Updated upstream
       "<p>37761 rows × 10 columns</p>\n",
       "</div>"
      ],
      "text/plain": [
       "    Baillage  Chef du Gouvernement  \\\n",
       "0        NaN                   NaN   \n",
       "0        NaN                   NaN   \n",
       "0        NaN                   NaN   \n",
       "0        NaN                   NaN   \n",
       "0        NaN                   NaN   \n",
       "0        NaN                   NaN   \n",
       "0        NaN                   NaN   \n",
       "0        NaN                   NaN   \n",
       "0        NaN                   NaN   \n",
       "0        NaN                   NaN   \n",
       "0        NaN                   NaN   \n",
       "0        NaN                   NaN   \n",
       "0        NaN                   NaN   \n",
       "0        NaN                   NaN   \n",
       "0        NaN                   NaN   \n",
       "0        NaN                   NaN   \n",
       "0        NaN                   NaN   \n",
       "0        NaN                   NaN   \n",
       "0        NaN                   NaN   \n",
       "0        NaN                   NaN   \n",
       "0        NaN                   NaN   \n",
       "0        NaN                   NaN   \n",
       "0        NaN                   NaN   \n",
       "0        NaN                   NaN   \n",
       "0        NaN                   NaN   \n",
       "0        NaN                   NaN   \n",
       "0        NaN                   NaN   \n",
       "0        NaN                   NaN   \n",
       "0        NaN                   NaN   \n",
       "0        NaN                   NaN   \n",
       "..       ...                   ...   \n",
       "0        NaN                   NaN   \n",
       "0        NaN                   NaN   \n",
       "0        NaN                   NaN   \n",
       "0        NaN                   NaN   \n",
       "0        NaN                   NaN   \n",
       "0        NaN                   NaN   \n",
       "0        NaN                   NaN   \n",
       "0        NaN                   NaN   \n",
       "0        NaN                   NaN   \n",
       "0        NaN                   NaN   \n",
       "0        NaN                   NaN   \n",
       "0        NaN                   NaN   \n",
       "0        NaN                   NaN   \n",
       "0        NaN                   NaN   \n",
       "0        NaN                   NaN   \n",
       "0        NaN                   NaN   \n",
       "0        NaN                   NaN   \n",
       "0        NaN                   NaN   \n",
       "0        NaN                   NaN   \n",
       "0        NaN                   NaN   \n",
       "0        NaN                   NaN   \n",
       "0        NaN                   NaN   \n",
       "0        NaN                   NaN   \n",
       "0        NaN                   NaN   \n",
       "0        NaN                   NaN   \n",
       "0        NaN                   NaN   \n",
       "0        NaN                   NaN   \n",
       "0        NaN                   NaN   \n",
       "0        NaN                   NaN   \n",
       "0        NaN                   NaN   \n",
       "\n",
=======
       "<p>37761 rows × 6 columns</p>\n",
       "</div>"
      ],
      "text/plain": [
>>>>>>> Stashed changes
       "                                     Département  \\\n",
       "0                 Anciens départements d'Algérie   \n",
       "0                 Anciens départements d'Algérie   \n",
       "0    Territoire français des Affars et des Issas   \n",
       "0    Territoire français des Affars et des Issas   \n",
       "0                                  Haute-Garonne   \n",
       "0                                  Haute-Garonne   \n",
       "0                                  Haute-Garonne   \n",
       "0                                            Var   \n",
       "0                                            Var   \n",
       "0                                            Var   \n",
       "0                                            Var   \n",
       "0                                       Vaucluse   \n",
       "0                                       Vaucluse   \n",
       "0                                       Vaucluse   \n",
       "0                                         Vienne   \n",
       "0                                         Vienne   \n",
       "0                                         Vienne   \n",
       "0                                         Vienne   \n",
       "0                                         Vienne   \n",
       "0                                         Vienne   \n",
       "0                                         Vienne   \n",
       "0                                         Vienne   \n",
       "0                                         Vienne   \n",
       "0                                         Vienne   \n",
       "0                                         Vienne   \n",
       "0                                         Vienne   \n",
       "0                                         Vienne   \n",
       "0                                         Vienne   \n",
       "0                                         Vienne   \n",
       "0                                         Vienne   \n",
       "..                                           ...   \n",
       "0                                     Val-d'Oise   \n",
       "0                                        Ardèche   \n",
       "0                                     Martinique   \n",
       "0                                 Seine-et-Marne   \n",
       "0                                            Ain   \n",
       "0                                       Yvelines   \n",
       "0                                        Moselle   \n",
       "0                                 Seine-Maritime   \n",
       "0                                      Finistère   \n",
       "0                        Alpes-de-Haute-Provence   \n",
       "0                                     La Réunion   \n",
       "0                               Loire-Atlantique   \n",
       "0                                   Loir-et-Cher   \n",
       "0                                        Gironde   \n",
       "0                                 Hauts-de-Seine   \n",
       "0                                        Essonne   \n",
       "0                                 Hauts-de-Seine   \n",
       "0                                        Essonne   \n",
       "0                                           Nord   \n",
       "0                                         Vendée   \n",
       "0                                   Eure-et-Loir   \n",
       "0                                   Haute-Vienne   \n",
       "0                                         Creuse   \n",
       "0                                         Creuse   \n",
       "0                                         Creuse   \n",
       "0                               Seine-Inférieure   \n",
       "0                                        Moselle   \n",
       "0                                        Sénégal   \n",
       "0                                          Marne   \n",
       "0                                 Lot-et-Garonne   \n",
       "\n",
       "                                              Groupe  \\\n",
       "0                                         Socialiste   \n",
       "0                             Unité de la République   \n",
       "0           Union démocratique pour la V° République   \n",
       "0            Union des démocrates pour la République   \n",
       "0                                        Républicain   \n",
       "0                                Républicain radical   \n",
       "0                                Républicain radical   \n",
       "0                                    Gauche radicale   \n",
       "0                                    Gauche radicale   \n",
       "0                                    Gauche radicale   \n",
       "0                   Gauche républicaine démocratique   \n",
       "0                                    Gauche radicale   \n",
       "0                                    Gauche radicale   \n",
       "0                         Gauche radicale-socialiste   \n",
       "0                 Union pour la démocratie française   \n",
       "0                 Union pour la démocratie française   \n",
       "0    Union pour la démocratie française et du centre   \n",
       "0                 Union pour la démocratie française   \n",
       "0                 Union pour la démocratie française   \n",
       "0                                     Nouveau Centre   \n",
       "0                    Mouvement républicain populaire   \n",
       "0                    Mouvement républicain populaire   \n",
       "0                    Mouvement républicain populaire   \n",
       "0                    Mouvement républicain populaire   \n",
       "0                    Mouvement républicain populaire   \n",
       "0                                Centre démocratique   \n",
       "0                      Progrès et démocratie moderne   \n",
       "0                      Progrès et démocratie moderne   \n",
       "0                    Réformateurs démocrates sociaux   \n",
       "0                    Réformateurs démocrates sociaux   \n",
       "..                                               ...   \n",
       "0                                   Les Républicains   \n",
       "0                                    Nouvelle Gauche   \n",
       "0                   Gauche démocrate et républicaine   \n",
       "0                                   Les Républicains   \n",
       "0                                   Les Républicains   \n",
       "0                                   Les Républicains   \n",
       "0               Union des démocrates et indépendants   \n",
       "0                               Députés non inscrits   \n",
       "0                               Députés non inscrits   \n",
       "0                               Députés non inscrits   \n",
       "0                                   Les Républicains   \n",
       "0                            La République en Marche   \n",
       "0                  Mouvement Démocrate et apparentés   \n",
       "0                            La République en Marche   \n",
       "0                            La République en Marche   \n",
       "0                            La République en Marche   \n",
       "0                            La République en Marche   \n",
       "0                            La République En Marche   \n",
       "0                                                NaN   \n",
       "0                                        Non inscrit   \n",
       "0                                                NaN   \n",
       "0                            La République en Marche   \n",
       "0                                   Parti socialiste   \n",
       "0                                   Parti socialiste   \n",
       "0                                   Parti socialiste   \n",
       "0                                                NaN   \n",
       "0                                                NaN   \n",
       "0                                                NaN   \n",
       "0                                                NaN   \n",
       "0                                                NaN   \n",
       "\n",
       "                                Législature  \\\n",
       "0     Ire Assemblée nationale constituante    \n",
       "0                          Ire législature    \n",
       "0                         IIIe législature    \n",
       "0                          IVe législature    \n",
       "0                          IVe législature    \n",
       "0                           Ve législature    \n",
       "0                          VIe législature    \n",
       "0                          VIe législature    \n",
       "0                           Xe législature    \n",
       "0                          XIe législature    \n",
       "0                         XIIe législature    \n",
       "0                         VIIe législature    \n",
       "0                        VIIIe législature    \n",
       "0                          IXe législature    \n",
       "0                          VIe législature    \n",
       "0                        VIIIe législature    \n",
       "0                           Xe législature    \n",
       "0                          XIe législature    \n",
       "0                         XIIe législature    \n",
       "0                        XIIIe législature    \n",
       "0     Ire Assemblée nationale constituante    \n",
       "0      2e Assemblée nationale constituante    \n",
       "0                          Ire législature    \n",
       "0                          IIe législature    \n",
       "0                         IIIe législature    \n",
       "0                          IIe législature    \n",
       "0                         IIIe législature    \n",
       "0                          IVe législature    \n",
       "0                           Ve législature    \n",
       "0                           Ve législature    \n",
       "..                                      ...   \n",
       "0    XVe législature (Législature en cours)   \n",
       "0    XVe législature (Législature en cours)   \n",
       "0    XVe législature (Législature en cours)   \n",
       "0    XVe législature (Législature en cours)   \n",
       "0                         XIVe législature    \n",
       "0                         XIVe législature    \n",
       "0                         XIVe législature    \n",
       "0                         XIVe législature    \n",
       "0                         XIVe législature    \n",
       "0                         XIVe législature    \n",
       "0    XVe législature (Législature en cours)   \n",
       "0                          XVe législature    \n",
       "0    XVe législature (Législature en cours)   \n",
       "0    XVe législature (Législature en cours)   \n",
       "0    XVe législature (Législature en cours)   \n",
       "0    XVe législature (Législature en cours)   \n",
       "0    XVe législature (Législature en cours)   \n",
       "0    XVe législature (Législature en cours)   \n",
       "0          Assemblée nationale législative    \n",
       "0    XVe législature (Législature en cours)   \n",
       "0                     Convention nationale    \n",
       "0    XVe législature (Législature en cours)   \n",
       "0                         XIVe législature    \n",
       "0                          XVe législature    \n",
       "0                         XVIe législature    \n",
       "0                   Conseil des Cinq-Cents    \n",
       "0                                             \n",
       "0          Assemblée nationale législative    \n",
       "0                         Corps législatif    \n",
       "0                     Convention nationale    \n",
       "\n",
<<<<<<< Updated upstream
       "                                            Mandat Chef du Gouvernement  \\\n",
       "0            Du 21 octobre 1945 au 19 février 1946                  NaN   \n",
       "0            Du 30 novembre 1958 au 3 juillet 1962                  NaN   \n",
       "0                  Du 23 avril 1967 au 30 mai 1968                  NaN   \n",
       "0               Du 23 juin 1968 au  1er avril 1973                  NaN   \n",
       "0           Du 18 octobre 1885 au 11 novembre 1889                  NaN   \n",
       "0          Du 22 septembre 1889 au 14 octobre 1893                  NaN   \n",
       "0               Du 20 août 1893 au 20 février 1897                  NaN   \n",
       "0               Du 3 septembre 1893 au 31 mai 1898                  NaN   \n",
       "0                     Du 8 mai 1910 au 31 mai 1914                  NaN   \n",
       "0                Du 10 mai 1914 au 7 décembre 1919                  NaN   \n",
       "0         Du 16 novembre 1919 au 30 septembre 1921                  NaN   \n",
       "0                    Du 22 mai 1898 au 31 mai 1902                  NaN   \n",
       "0                    Du 11 mai 1902 au 31 mai 1906                  NaN   \n",
       "0                Du 6 mai 1906 au 12 décembre 1909                  NaN   \n",
       "0                   Du 3 avril 1978 au 22 mai 1981                  NaN   \n",
       "0                   Du 2 avril 1986 au 14 mai 1988                  NaN   \n",
       "0                 Du 2 avril 1993 au 21 avril 1997                  NaN   \n",
       "0                Du  1er juin 1997 au 18 juin 2002                  NaN   \n",
       "0                  Du 19 juin 2002 au 19 juin 2007                  NaN   \n",
       "0                  Du 20 juin 2007 au 19 juin 2012                  NaN   \n",
       "0               Du 21 octobre 1945 au 10 juin 1946                  NaN   \n",
       "0               Du 2 juin 1946 au 27 novembre 1946                  NaN   \n",
       "0            Du 10 novembre 1946 au 4 juillet 1951                  NaN   \n",
       "0            Du 17 juin 1951 au  1er décembre 1955                  NaN   \n",
       "0             Du 2 janvier 1956 au 8 décembre 1958                  NaN   \n",
       "0              Du 25 novembre 1962 au 2 avril 1967                  NaN   \n",
       "0                   Du 12 mars 1967 au 30 mai 1968                  NaN   \n",
       "0               Du 30 juin 1968 au  1er avril 1973                  NaN   \n",
       "0                  Du 2 avril 1973 au 28 juin 1974                  NaN   \n",
       "0           Du 19 octobre 1975 au 19 novembre 1975                  NaN   \n",
       "..                                             ...                  ...   \n",
       "0       Depuis le 5 février 2018 (mandat en cours)                  NaN   \n",
       "0     Depuis le 25 décembre 2017 (mandat en cours)                  NaN   \n",
       "0        Depuis le 24 avril 2018 (mandat en cours)                  NaN   \n",
       "0      Depuis le 16 juillet 2018 (mandat en cours)                  NaN   \n",
       "0                  Du 13 juin 2016 au 20 juin 2017                  NaN   \n",
       "0                  Du 21 mars 2016 au 20 juin 2017                  NaN   \n",
       "0                 Du 16 avril 2016 au 20 juin 2017                  NaN   \n",
       "0                  Du 16 juin 2017 au 20 juin 2017                  NaN   \n",
       "0                  Du 18 juin 2017 au 20 juin 2017                  NaN   \n",
       "0                  Du 18 juin 2017 au 20 juin 2017                  NaN   \n",
       "0    Depuis le  1er octobre 2018 (mandat en cours)                  NaN   \n",
       "0                Du 5 octobre 2018 au 16 août 2019                  NaN   \n",
       "0     Depuis le 17 novembre 2018 (mandat en cours)                  NaN   \n",
       "0     Depuis le 17 novembre 2018 (mandat en cours)                  NaN   \n",
       "0     Depuis le 17 novembre 2018 (mandat en cours)                  NaN   \n",
       "0     Depuis le 26 novembre 2018 (mandat en cours)                  NaN   \n",
       "0      Depuis le 26 février 2019 (mandat en cours)                  NaN   \n",
       "0        Depuis le  1er mai 2019 (mandat en cours)                  NaN   \n",
       "0                Du 13 mai 1849 au 2 décembre 1851                  NaN   \n",
       "0       Depuis le 8 juillet 2019 (mandat en cours)                  NaN   \n",
       "0           Du 6 septembre 1792 au 26 octobre 1795                  NaN   \n",
       "0       Depuis le 4 octobre 2019 (mandat en cours)                  NaN   \n",
       "0                  Du 29 avril 1928 au 31 mai 1932                  NaN   \n",
       "0                  Du  1er mai 1932 au 31 mai 1936                  NaN   \n",
       "0         Du 26 avril 1936 au 31 mai 1942&amp;ast;                  NaN   \n",
       "0             Du 11 avril 1797 au 4 septembre 1797                  NaN   \n",
       "0              Du 8 février 1871 au  1er mars 1871                  NaN   \n",
       "0              Du 17 août 1851 au 14 novembre 1851                  NaN   \n",
       "0          Du 30 novembre 1803 au 31 décembre 1808                  NaN   \n",
       "0           Du 5 septembre 1792 au 26 octobre 1795                  NaN   \n",
       "\n",
       "                                     Régime politique Sénateur  \\\n",
       "0   Gouvernement provisoire de la République franç...      NaN   \n",
       "0          Cinquième République - Assemblée nationale      NaN   \n",
       "0          Cinquième République - Assemblée nationale      NaN   \n",
       "0          Cinquième République - Assemblée nationale      NaN   \n",
       "0          Troisième République - Chambre des députés      NaN   \n",
       "0          Troisième République - Chambre des députés      NaN   \n",
       "0          Troisième République - Chambre des députés      NaN   \n",
       "0          Troisième République - Chambre des députés      NaN   \n",
       "0          Troisième République - Chambre des députés      NaN   \n",
       "0          Troisième République - Chambre des députés      NaN   \n",
       "0          Troisième République - Chambre des députés      NaN   \n",
       "0          Troisième République - Chambre des députés      NaN   \n",
       "0          Troisième République - Chambre des députés      NaN   \n",
       "0          Troisième République - Chambre des députés      NaN   \n",
       "0          Cinquième République - Assemblée nationale      NaN   \n",
       "0          Cinquième République - Assemblée nationale      NaN   \n",
       "0          Cinquième République - Assemblée nationale      NaN   \n",
       "0          Cinquième République - Assemblée nationale      NaN   \n",
       "0          Cinquième République - Assemblée nationale      NaN   \n",
       "0          Cinquième République - Assemblée nationale      NaN   \n",
       "0   Gouvernement provisoire de la République franç...      NaN   \n",
       "0   Gouvernement provisoire de la République franç...      NaN   \n",
       "0          Quatrième République - Assemblée nationale      NaN   \n",
       "0          Quatrième République - Assemblée nationale      NaN   \n",
       "0          Quatrième République - Assemblée nationale      NaN   \n",
       "0          Cinquième République - Assemblée nationale      NaN   \n",
       "0          Cinquième République - Assemblée nationale      NaN   \n",
       "0          Cinquième République - Assemblée nationale      NaN   \n",
       "0          Cinquième République - Assemblée nationale      NaN   \n",
       "0          Cinquième République - Assemblée nationale      NaN   \n",
       "..                                                ...      ...   \n",
       "0          Cinquième République - Assemblée nationale      NaN   \n",
       "0          Cinquième République - Assemblée nationale      NaN   \n",
       "0          Cinquième République - Assemblée nationale      NaN   \n",
       "0          Cinquième République - Assemblée nationale      NaN   \n",
       "0          Cinquième République - Assemblée nationale      NaN   \n",
       "0          Cinquième République - Assemblée nationale      NaN   \n",
       "0          Cinquième République - Assemblée nationale      NaN   \n",
       "0          Cinquième République - Assemblée nationale      NaN   \n",
       "0          Cinquième République - Assemblée nationale      NaN   \n",
       "0          Cinquième République - Assemblée nationale      NaN   \n",
       "0          Cinquième République - Assemblée nationale      NaN   \n",
       "0          Cinquième République - Assemblée nationale      NaN   \n",
       "0          Cinquième République - Assemblée nationale      NaN   \n",
       "0          Cinquième République - Assemblée nationale      NaN   \n",
       "0          Cinquième République - Assemblée nationale      NaN   \n",
       "0          Cinquième République - Assemblée nationale      NaN   \n",
       "0          Cinquième République - Assemblée nationale      NaN   \n",
       "0          Cinquième République - Assemblée nationale      NaN   \n",
       "0                                 Deuxième République      NaN   \n",
       "0          Cinquième République - Assemblée nationale      NaN   \n",
       "0                                          Révolution      NaN   \n",
       "0          Cinquième République - Assemblée nationale      NaN   \n",
       "0          Troisième République - Chambre des députés      NaN   \n",
       "0          Troisième République - Chambre des députés      NaN   \n",
       "0          Troisième République - Chambre des députés      NaN   \n",
       "0                                          Révolution      NaN   \n",
       "0                                 Assemblée Nationale      NaN   \n",
       "0                                 Deuxième République      NaN   \n",
       "0                          Consulat et Premier Empire      NaN   \n",
       "0                                          Révolution      NaN   \n",
=======
       "                                            Mandat  \\\n",
       "0            Du 21 octobre 1945 au 19 février 1946   \n",
       "0            Du 30 novembre 1958 au 3 juillet 1962   \n",
       "0                  Du 23 avril 1967 au 30 mai 1968   \n",
       "0               Du 23 juin 1968 au  1er avril 1973   \n",
       "0           Du 18 octobre 1885 au 11 novembre 1889   \n",
       "0          Du 22 septembre 1889 au 14 octobre 1893   \n",
       "0               Du 20 août 1893 au 20 février 1897   \n",
       "0               Du 3 septembre 1893 au 31 mai 1898   \n",
       "0                     Du 8 mai 1910 au 31 mai 1914   \n",
       "0                Du 10 mai 1914 au 7 décembre 1919   \n",
       "0         Du 16 novembre 1919 au 30 septembre 1921   \n",
       "0                    Du 22 mai 1898 au 31 mai 1902   \n",
       "0                    Du 11 mai 1902 au 31 mai 1906   \n",
       "0                Du 6 mai 1906 au 12 décembre 1909   \n",
       "0                   Du 3 avril 1978 au 22 mai 1981   \n",
       "0                   Du 2 avril 1986 au 14 mai 1988   \n",
       "0                 Du 2 avril 1993 au 21 avril 1997   \n",
       "0                Du  1er juin 1997 au 18 juin 2002   \n",
       "0                  Du 19 juin 2002 au 19 juin 2007   \n",
       "0                  Du 20 juin 2007 au 19 juin 2012   \n",
       "0               Du 21 octobre 1945 au 10 juin 1946   \n",
       "0               Du 2 juin 1946 au 27 novembre 1946   \n",
       "0            Du 10 novembre 1946 au 4 juillet 1951   \n",
       "0            Du 17 juin 1951 au  1er décembre 1955   \n",
       "0             Du 2 janvier 1956 au 8 décembre 1958   \n",
       "0              Du 25 novembre 1962 au 2 avril 1967   \n",
       "0                   Du 12 mars 1967 au 30 mai 1968   \n",
       "0               Du 30 juin 1968 au  1er avril 1973   \n",
       "0                  Du 2 avril 1973 au 28 juin 1974   \n",
       "0           Du 19 octobre 1975 au 19 novembre 1975   \n",
       "..                                             ...   \n",
       "0       Depuis le 5 février 2018 (mandat en cours)   \n",
       "0     Depuis le 25 décembre 2017 (mandat en cours)   \n",
       "0        Depuis le 24 avril 2018 (mandat en cours)   \n",
       "0      Depuis le 16 juillet 2018 (mandat en cours)   \n",
       "0                  Du 13 juin 2016 au 20 juin 2017   \n",
       "0                  Du 21 mars 2016 au 20 juin 2017   \n",
       "0                 Du 16 avril 2016 au 20 juin 2017   \n",
       "0                  Du 16 juin 2017 au 20 juin 2017   \n",
       "0                  Du 18 juin 2017 au 20 juin 2017   \n",
       "0                  Du 18 juin 2017 au 20 juin 2017   \n",
       "0    Depuis le  1er octobre 2018 (mandat en cours)   \n",
       "0                Du 5 octobre 2018 au 16 août 2019   \n",
       "0     Depuis le 17 novembre 2018 (mandat en cours)   \n",
       "0     Depuis le 17 novembre 2018 (mandat en cours)   \n",
       "0     Depuis le 17 novembre 2018 (mandat en cours)   \n",
       "0     Depuis le 26 novembre 2018 (mandat en cours)   \n",
       "0      Depuis le 26 février 2019 (mandat en cours)   \n",
       "0        Depuis le  1er mai 2019 (mandat en cours)   \n",
       "0                Du 13 mai 1849 au 2 décembre 1851   \n",
       "0       Depuis le 8 juillet 2019 (mandat en cours)   \n",
       "0           Du 6 septembre 1792 au 26 octobre 1795   \n",
       "0       Depuis le 4 octobre 2019 (mandat en cours)   \n",
       "0                  Du 29 avril 1928 au 31 mai 1932   \n",
       "0                  Du  1er mai 1932 au 31 mai 1936   \n",
       "0         Du 26 avril 1936 au 31 mai 1942&amp;ast;   \n",
       "0             Du 11 avril 1797 au 4 septembre 1797   \n",
       "0              Du 8 février 1871 au  1er mars 1871   \n",
       "0              Du 17 août 1851 au 14 novembre 1851   \n",
       "0          Du 30 novembre 1803 au 31 décembre 1808   \n",
       "0           Du 5 septembre 1792 au 26 octobre 1795   \n",
       "\n",
       "                                     Régime politique  \\\n",
       "0   Gouvernement provisoire de la République franç...   \n",
       "0          Cinquième République - Assemblée nationale   \n",
       "0          Cinquième République - Assemblée nationale   \n",
       "0          Cinquième République - Assemblée nationale   \n",
       "0          Troisième République - Chambre des députés   \n",
       "0          Troisième République - Chambre des députés   \n",
       "0          Troisième République - Chambre des députés   \n",
       "0          Troisième République - Chambre des députés   \n",
       "0          Troisième République - Chambre des députés   \n",
       "0          Troisième République - Chambre des députés   \n",
       "0          Troisième République - Chambre des députés   \n",
       "0          Troisième République - Chambre des députés   \n",
       "0          Troisième République - Chambre des députés   \n",
       "0          Troisième République - Chambre des députés   \n",
       "0          Cinquième République - Assemblée nationale   \n",
       "0          Cinquième République - Assemblée nationale   \n",
       "0          Cinquième République - Assemblée nationale   \n",
       "0          Cinquième République - Assemblée nationale   \n",
       "0          Cinquième République - Assemblée nationale   \n",
       "0          Cinquième République - Assemblée nationale   \n",
       "0   Gouvernement provisoire de la République franç...   \n",
       "0   Gouvernement provisoire de la République franç...   \n",
       "0          Quatrième République - Assemblée nationale   \n",
       "0          Quatrième République - Assemblée nationale   \n",
       "0          Quatrième République - Assemblée nationale   \n",
       "0          Cinquième République - Assemblée nationale   \n",
       "0          Cinquième République - Assemblée nationale   \n",
       "0          Cinquième République - Assemblée nationale   \n",
       "0          Cinquième République - Assemblée nationale   \n",
       "0          Cinquième République - Assemblée nationale   \n",
       "..                                                ...   \n",
       "0          Cinquième République - Assemblée nationale   \n",
       "0          Cinquième République - Assemblée nationale   \n",
       "0          Cinquième République - Assemblée nationale   \n",
       "0          Cinquième République - Assemblée nationale   \n",
       "0          Cinquième République - Assemblée nationale   \n",
       "0          Cinquième République - Assemblée nationale   \n",
       "0          Cinquième République - Assemblée nationale   \n",
       "0          Cinquième République - Assemblée nationale   \n",
       "0          Cinquième République - Assemblée nationale   \n",
       "0          Cinquième République - Assemblée nationale   \n",
       "0          Cinquième République - Assemblée nationale   \n",
       "0          Cinquième République - Assemblée nationale   \n",
       "0          Cinquième République - Assemblée nationale   \n",
       "0          Cinquième République - Assemblée nationale   \n",
       "0          Cinquième République - Assemblée nationale   \n",
       "0          Cinquième République - Assemblée nationale   \n",
       "0          Cinquième République - Assemblée nationale   \n",
       "0          Cinquième République - Assemblée nationale   \n",
       "0                                 Deuxième République   \n",
       "0          Cinquième République - Assemblée nationale   \n",
       "0                                          Révolution   \n",
       "0          Cinquième République - Assemblée nationale   \n",
       "0          Troisième République - Chambre des députés   \n",
       "0          Troisième République - Chambre des députés   \n",
       "0          Troisième République - Chambre des députés   \n",
       "0                                          Révolution   \n",
       "0                                 Assemblée Nationale   \n",
       "0                                 Deuxième République   \n",
       "0                          Consulat et Premier Empire   \n",
       "0                                          Révolution   \n",
>>>>>>> Stashed changes
       "\n",
       "                            nom du député  \n",
       "0         Bachir Ben Mohamed Abddelouahab  \n",
       "0                       Robert Abdesselam  \n",
       "0                  Moussa Ali Abdoulkader  \n",
       "0                  Moussa Ali Abdoulkader  \n",
       "0                        Valentin Abeille  \n",
       "0                        Valentin Abeille  \n",
       "0                        Valentin Abeille  \n",
       "0              Jean-Baptiste, Eugène Abel  \n",
       "0              Jean-Baptiste, Eugène Abel  \n",
       "0              Jean-Baptiste, Eugène Abel  \n",
       "0              Jean-Baptiste, Eugène Abel  \n",
       "0              Emile, Eugène Abel-Bernard  \n",
       "0              Emile, Eugène Abel-Bernard  \n",
       "0              Emile, Eugène Abel-Bernard  \n",
       "0                      Jean-Pierre Abelin  \n",
       "0                      Jean-Pierre Abelin  \n",
       "0                      Jean-Pierre Abelin  \n",
       "0                      Jean-Pierre Abelin  \n",
       "0                      Jean-Pierre Abelin  \n",
       "0                      Jean-Pierre Abelin  \n",
       "0    Pierre, Louis, Ernest, Armand Abelin  \n",
       "0    Pierre, Louis, Ernest, Armand Abelin  \n",
       "0    Pierre, Louis, Ernest, Armand Abelin  \n",
       "0    Pierre, Louis, Ernest, Armand Abelin  \n",
       "0    Pierre, Louis, Ernest, Armand Abelin  \n",
       "0    Pierre, Louis, Ernest, Armand Abelin  \n",
       "0    Pierre, Louis, Ernest, Armand Abelin  \n",
       "0    Pierre, Louis, Ernest, Armand Abelin  \n",
       "0    Pierre, Louis, Ernest, Armand Abelin  \n",
       "0    Pierre, Louis, Ernest, Armand Abelin  \n",
       "..                                    ...  \n",
       "0                        Antoine Savignat  \n",
       "0                         Michèle Victory  \n",
       "0                Manuéla Kéclard-Mondésir  \n",
       "0                     Jean-Louis Thiériot  \n",
       "0                Stéphanie Pernod Beaudon  \n",
       "0                         Pascal Thévenot  \n",
       "0                          Patrick Weiten  \n",
       "0                    Jean-Louis Rousselin  \n",
       "0                         Claire Mallejac  \n",
       "0                            Esther Baron  \n",
       "0                       Jean-Luc Poudroux  \n",
       "0                        Mounir Belhamiti  \n",
       "0                          Stéphane Baudu  \n",
       "0                         Pascal Lavergne  \n",
       "0                     Florence Provendier  \n",
       "0                          Francis Chouat  \n",
       "0                       Bénédicte Pételle  \n",
       "0                         Stéphanie Atger  \n",
       "0                          Louis Behaghel  \n",
       "0                         Patrick Loiseau  \n",
       "0                       Nicolas Bourgeois  \n",
       "0                          Pierre Venteau  \n",
       "0                  Albert, Marcel Rivière  \n",
       "0                  Albert, Marcel Rivière  \n",
       "0                  Albert, Marcel Rivière  \n",
       "0             François Grégoire de Rumare  \n",
       "0                     Pierre, Paul Bardon  \n",
       "0                            John Sleigth  \n",
       "0                        François Becquey  \n",
       "0         Jean, Baptiste, Joseph Claverie  \n",
       "\n",
<<<<<<< Updated upstream
       "[37761 rows x 10 columns]"
      ]
     },
     "execution_count": 11,
=======
       "[37761 rows x 6 columns]"
      ]
     },
     "execution_count": 38,
>>>>>>> Stashed changes
     "metadata": {},
     "output_type": "execute_result"
    }
   ],
   "source": [
<<<<<<< Updated upstream
    "liste"
>>>>>>> Stashed changes
=======
    "liste_dep"
>>>>>>> Stashed changes
   ]
  },
  {
   "cell_type": "code",
<<<<<<< Updated upstream
   "execution_count": 10,
   "metadata": {},
   "outputs": [
    {
     "data": {
      "text/plain": [
       "53.56170212765957"
      ]
     },
     "execution_count": 10,
     "metadata": {},
     "output_type": "execute_result"
    }
   ],
   "source": [
    "len(liste)/len(numProbleme)"
   ]
  },
  {
   "cell_type": "code",
=======
>>>>>>> Stashed changes
   "execution_count": null,
   "metadata": {},
   "outputs": [],
   "source": []
  }
 ],
 "metadata": {
  "kernelspec": {
   "display_name": "Python 3",
   "language": "python",
   "name": "python3"
<<<<<<< Updated upstream
<<<<<<< Updated upstream
  },
  "language_info": {
   "codemirror_mode": {
    "name": "ipython",
    "version": 3
   },
   "file_extension": ".py",
   "mimetype": "text/x-python",
   "name": "python",
   "nbconvert_exporter": "python",
   "pygments_lexer": "ipython3",
   "version": "3.7.3"
=======
>>>>>>> Stashed changes
=======
>>>>>>> Stashed changes
  }
 },
 "nbformat": 4,
 "nbformat_minor": 2
}

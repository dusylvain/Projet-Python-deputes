{
 "cells": [
  {
   "cell_type": "code",
   "execution_count": 5,
   "metadata": {},
   "outputs": [],
   "source": [
    "import pandas as pd\n",
    "import numpy as np\n",
    "#import geopandas as gpd\n",
    "import urllib#pour récupérer les données\n",
    "import bs4#pour rendre lisibles les données\n",
    "#import html5lib\n"
   ]
  },
  {
   "cell_type": "markdown",
   "metadata": {},
   "source": [
    "Récupération des députés sur le site de l'Assemblée Nationale"
   ]
  },
  {
   "cell_type": "code",
   "execution_count": 97,
   "metadata": {},
   "outputs": [],
   "source": [
    "def Scrap (url):\n",
    "    req = urllib.request.Request(url)\n",
    "    html = urllib.request.urlopen(req).read()\n",
    "    page = bs4.BeautifulSoup(html, \"lxml\")\n",
    "    return page"
   ]
  },
  {
   "cell_type": "code",
   "execution_count": 121,
   "metadata": {},
   "outputs": [],
   "source": [
    "def ToDf (table) :\n",
    "    Listgrossiere=pd.read_html(str(table))#on transforme le tableau en liste de dataframes\n",
    "    listeDf=Listgrossiere[0]#on récupère le dataframe\n",
    "    return listeDf"
   ]
  },
  {
   "cell_type": "code",
   "execution_count": null,
   "metadata": {},
   "outputs": [],
   "source": [
    "html = urllib.request.urlopen(req).read()\n",
    "    page = bs4.BeautifulSoup(html, \"lxml\")#on rend lisible la page\n",
    "    table = page.find('table')#on récupère le seul tableau de la page qui liste des députés\n",
    "    Listgrossiere=pd.read_html(str(table))#on transforme le tableau en liste de dataframes\n",
    "    liste=pd.concat([liste,Listgrossiere[0]])#on récupère le dataframe et on l'ajoute à la liste"
   ]
  },
  {
   "cell_type": "code",
   "execution_count": 125,
   "metadata": {
    "scrolled": true
   },
   "outputs": [],
   "source": [
    "page=Scrap('http://www2.assemblee-nationale.fr/sycomore/resultats/(offset)/'+str(0)+'/(query)/IiBTRUxFQ1QgbV9jb2RlX2RlcHV0ZSwgaWRfYWN0ZXVyX3RyaWJ1biwgbGVnX21heF90cmlidW4sIG5vbSwgbm9tX2FmZmljaGUsIHByZW5vbSwgZGF0ZV9uYWlzLCBkYXRlX2RlY2VzIEZST00gZGVwdXRlIFdIRVJFIDE9MSAgQU5EIG1fY29kZV9kZXB1dGUgSU4gKFNFTEVDVCBtX2NvZGVfZGVwdXRlIEZST00gbWFuZGF0LCBkZXBhcnRlbWVudCAgV0hFUkUgbWFuZGF0Lm1fbnVtX2RlcCA9IGRlcGFydGVtZW50Lm1fbnVtX2RlcCBBTkQgbWFuZGF0Lm1fdHlwZV9tYW5kYXQgPSAxICkgT1JERVIgQlkgZGF0ZV9uYWlzIERFU0Mi')\n",
    "table = page.find('table')\n",
    "liste=ToDf(table)\n",
    "for i in range(32):\n",
    "    page=Scrap('http://www2.assemblee-nationale.fr/sycomore/resultats/(offset)/'+str((i+1)*500)+'/(query)/IiBTRUxFQ1QgbV9jb2RlX2RlcHV0ZSwgaWRfYWN0ZXVyX3RyaWJ1biwgbGVnX21heF90cmlidW4sIG5vbSwgbm9tX2FmZmljaGUsIHByZW5vbSwgZGF0ZV9uYWlzLCBkYXRlX2RlY2VzIEZST00gZGVwdXRlIFdIRVJFIDE9MSAgQU5EIG1fY29kZV9kZXB1dGUgSU4gKFNFTEVDVCBtX2NvZGVfZGVwdXRlIEZST00gbWFuZGF0LCBkZXBhcnRlbWVudCAgV0hFUkUgbWFuZGF0Lm1fbnVtX2RlcCA9IGRlcGFydGVtZW50Lm1fbnVtX2RlcCBBTkQgbWFuZGF0Lm1fdHlwZV9tYW5kYXQgPSAxICkgT1JERVIgQlkgZGF0ZV9uYWlzIERFU0Mi')\n",
    "    table = page.find('table')#on récupère le seul tableau de la page qui liste des députés\n",
    "    listeDf=ToDf(table)\n",
    "    liste=pd.concat([liste,listeDf])#on récupère le dataframe et on l'ajoute à la liste\n",
    "liste=liste.reset_index()#on recrée un index afin de ne pas s'arrêter à 500 puis recommencer comme dans les pages web\n",
    "listeDepute=liste[['Nom','Né le']]#on récupère les variables qui nous intéressent  "
   ]
  },
  {
   "cell_type": "code",
   "execution_count": null,
   "metadata": {},
   "outputs": [],
   "source": []
  },
  {
   "cell_type": "code",
   "execution_count": null,
   "metadata": {},
   "outputs": [],
   "source": [
    "page=Scrap('http://www2.assemblee-nationale.fr/sycomore/fiche/(num_dept)/'+str(5))\n",
    "listeMandat=page\n",
    "for i in range(len(listeDepute)-1) :\n",
    "    page=Scrap('http://www2.assemblee-nationale.fr/sycomore/fiche/(num_dept)/'+str(i+7))\n",
    "    "
   ]
  },
  {
   "cell_type": "code",
   "execution_count": 149,
   "metadata": {},
   "outputs": [],
   "source": [
    "page=Scrap('http://www2.assemblee-nationale.fr/sycomore/fiche/(num_dept)/'+str(5))\n",
    "a=page.findAll('dl', {'class' : \"deputes-liste-attributs sycomore\"})"
   ]
  },
  {
   "cell_type": "code",
   "execution_count": 161,
   "metadata": {},
   "outputs": [
    {
     "name": "stdout",
     "output_type": "stream",
     "text": [
      "[<dt>Régime politique</dt>, <dt>Législature</dt>, <dt>Mandat</dt>, <dt>Département</dt>, <dt>Groupe</dt>]\n",
      "[<dt>Régime politique</dt>, <dt>Législature</dt>, <dt>Mandat</dt>, <dt>Département</dt>, <dt>Groupe</dt>]\n",
      "[<dt>Régime politique</dt>, <dt>Législature</dt>, <dt>Mandat</dt>, <dt>Département</dt>, <dt>Groupe</dt>]\n",
      "[<dt>Sénateur</dt>, <dt>Sénateur</dt>]\n"
     ]
    }
   ],
   "source": [
    "for mandat in a :\n",
    "    columns=mandat.findAll('dt')\n",
    "    print(columns)\n",
    "    lines=mandat.findAll('dd')\n",
    "    if '<dt>Sénateur<dt>'not in lines :        \n",
    "        df=pd.DataFrame([columns, lines])\n",
    "    "
   ]
  },
  {
   "cell_type": "code",
   "execution_count": 132,
   "metadata": {},
   "outputs": [],
   "source": [
    "a=page.findAll('dl', {'class' : \"deputes-liste-attributs sycomore\"})"
   ]
  },
  {
   "cell_type": "code",
   "execution_count": 162,
   "metadata": {},
   "outputs": [
    {
     "data": {
      "text/html": [
       "<div>\n",
       "<style scoped>\n",
       "    .dataframe tbody tr th:only-of-type {\n",
       "        vertical-align: middle;\n",
       "    }\n",
       "\n",
       "    .dataframe tbody tr th {\n",
       "        vertical-align: top;\n",
       "    }\n",
       "\n",
       "    .dataframe thead th {\n",
       "        text-align: right;\n",
       "    }\n",
       "</style>\n",
       "<table border=\"1\" class=\"dataframe\">\n",
       "  <thead>\n",
       "    <tr style=\"text-align: right;\">\n",
       "      <th></th>\n",
       "      <th>0</th>\n",
       "      <th>1</th>\n",
       "    </tr>\n",
       "  </thead>\n",
       "  <tbody>\n",
       "    <tr>\n",
       "      <th>0</th>\n",
       "      <td>&lt;dt&gt;Sénateur&lt;/dt&gt;</td>\n",
       "      <td>&lt;dt&gt;Sénateur&lt;/dt&gt;</td>\n",
       "    </tr>\n",
       "    <tr>\n",
       "      <th>1</th>\n",
       "      <td>&lt;dd&gt;\n",
       "\t\t\t\t\t\t\t\t\t\t\t\t\tdu 3 octobre 1983 au  1er oc...</td>\n",
       "      <td>&lt;dd&gt;\n",
       "\t\t\t\t\t\t\t\t\t\t\t\t\tdu 2 octobre 1992 au 2 mars ...</td>\n",
       "    </tr>\n",
       "  </tbody>\n",
       "</table>\n",
       "</div>"
      ],
      "text/plain": [
       "                                                   0  \\\n",
       "0                                  <dt>Sénateur</dt>   \n",
       "1  <dd>\n",
       "\t\t\t\t\t\t\t\t\t\t\t\t\tdu 3 octobre 1983 au  1er oc...   \n",
       "\n",
       "                                                   1  \n",
       "0                                  <dt>Sénateur</dt>  \n",
       "1  <dd>\n",
       "\t\t\t\t\t\t\t\t\t\t\t\t\tdu 2 octobre 1992 au 2 mars ...  "
      ]
     },
     "execution_count": 162,
     "metadata": {},
     "output_type": "execute_result"
    }
   ],
   "source": [
    "df"
   ]
  },
  {
   "cell_type": "code",
   "execution_count": 158,
   "metadata": {},
   "outputs": [
    {
     "data": {
      "text/html": [
       "<div>\n",
       "<style scoped>\n",
       "    .dataframe tbody tr th:only-of-type {\n",
       "        vertical-align: middle;\n",
       "    }\n",
       "\n",
       "    .dataframe tbody tr th {\n",
       "        vertical-align: top;\n",
       "    }\n",
       "\n",
       "    .dataframe thead th {\n",
       "        text-align: right;\n",
       "    }\n",
       "</style>\n",
       "<table border=\"1\" class=\"dataframe\">\n",
       "  <thead>\n",
       "    <tr style=\"text-align: right;\">\n",
       "      <th></th>\n",
       "      <th>0</th>\n",
       "      <th>1</th>\n",
       "    </tr>\n",
       "  </thead>\n",
       "  <tbody>\n",
       "    <tr>\n",
       "      <th>0</th>\n",
       "      <td>&lt;dt&gt;Sénateur&lt;/dt&gt;</td>\n",
       "      <td>&lt;dt&gt;Sénateur&lt;/dt&gt;</td>\n",
       "    </tr>\n",
       "    <tr>\n",
       "      <th>1</th>\n",
       "      <td>&lt;dd&gt;\n",
       "\t\t\t\t\t\t\t\t\t\t\t\t\tdu 3 octobre 1983 au  1er oc...</td>\n",
       "      <td>&lt;dd&gt;\n",
       "\t\t\t\t\t\t\t\t\t\t\t\t\tdu 2 octobre 1992 au 2 mars ...</td>\n",
       "    </tr>\n",
       "  </tbody>\n",
       "</table>\n",
       "</div>"
      ],
      "text/plain": [
       "                                                   0  \\\n",
       "0                                  <dt>Sénateur</dt>   \n",
       "1  <dd>\n",
       "\t\t\t\t\t\t\t\t\t\t\t\t\tdu 3 octobre 1983 au  1er oc...   \n",
       "\n",
       "                                                   1  \n",
       "0                                  <dt>Sénateur</dt>  \n",
       "1  <dd>\n",
       "\t\t\t\t\t\t\t\t\t\t\t\t\tdu 2 octobre 1992 au 2 mars ...  "
      ]
     },
     "execution_count": 158,
     "metadata": {},
     "output_type": "execute_result"
    }
   ],
   "source": []
  },
  {
   "cell_type": "code",
   "execution_count": null,
   "metadata": {},
   "outputs": [],
   "source": []
  }
 ],
 "metadata": {
  "kernelspec": {
   "display_name": "Python 3",
   "language": "python",
   "name": "python3"
  },
  "language_info": {
   "codemirror_mode": {
    "name": "ipython",
    "version": 3
   },
   "file_extension": ".py",
   "mimetype": "text/x-python",
   "name": "python",
   "nbconvert_exporter": "python",
   "pygments_lexer": "ipython3",
   "version": "3.7.3"
  }
 },
 "nbformat": 4,
 "nbformat_minor": 2
}

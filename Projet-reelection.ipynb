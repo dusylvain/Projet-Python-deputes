{
 "cells": [
  {
   "cell_type": "code",
   "execution_count": 78,
   "metadata": {},
   "outputs": [],
   "source": [
    "import pandas as pd\n",
    "import numpy as np\n",
    "#import geopandas as gpd\n",
    "import urllib#pour récupérer les données\n",
    "import bs4#pour rendre lisibles les données\n",
    "import re"
   ]
  },
  {
   "cell_type": "code",
   "execution_count": 9,
   "metadata": {},
   "outputs": [],
   "source": []
  },
  {
   "cell_type": "markdown",
   "metadata": {},
   "source": [
    "Récupération des députés sur le site de l'Assemblée Nationale"
   ]
  },
  {
   "cell_type": "code",
   "execution_count": 2,
   "metadata": {},
   "outputs": [],
   "source": [
    "def Scrap (url):\n",
    "    req = urllib.request.Request(url)\n",
    "    html = urllib.request.urlopen(req).read()\n",
    "    page = bs4.BeautifulSoup(html, \"lxml\")\n",
    "    return page"
   ]
  },
  {
   "cell_type": "code",
   "execution_count": 3,
   "metadata": {},
   "outputs": [],
   "source": [
    "def ToDf (table) :\n",
    "    Listgrossiere=pd.read_html(str(table))#on transforme le tableau en liste de dataframes\n",
    "    listeDf=Listgrossiere[0]#on récupère le dataframe\n",
    "    return listeDf"
   ]
  },
  {
   "cell_type": "code",
   "execution_count": null,
   "metadata": {},
   "outputs": [],
   "source": [
    "\"\"\"\"html = urllib.request.urlopen(req).read()\n",
    "    page = bs4.BeautifulSoup(html, \"lxml\")#on rend lisible la page\n",
    "    table = page.find('table')#on récupère le seul tableau de la page qui liste des députés\n",
    "    Listgrossiere=pd.read_html(str(table))#on transforme le tableau en liste de dataframes\n",
    "    liste=pd.concat([liste,Listgrossiere[0]])#on récupère le dataframe et on l'ajoute à la liste\"\"\""
   ]
  },
  {
   "cell_type": "code",
   "execution_count": 4,
   "metadata": {
    "scrolled": true
   },
   "outputs": [],
   "source": [
    "page=Scrap('http://www2.assemblee-nationale.fr/sycomore/resultats/(offset)/'+str(0)+'/(query)/IiBTRUxFQ1QgbV9jb2RlX2RlcHV0ZSwgaWRfYWN0ZXVyX3RyaWJ1biwgbGVnX21heF90cmlidW4sIG5vbSwgbm9tX2FmZmljaGUsIHByZW5vbSwgZGF0ZV9uYWlzLCBkYXRlX2RlY2VzIEZST00gZGVwdXRlIFdIRVJFIDE9MSAgQU5EIG1fY29kZV9kZXB1dGUgSU4gKFNFTEVDVCBtX2NvZGVfZGVwdXRlIEZST00gbWFuZGF0LCBkZXBhcnRlbWVudCAgV0hFUkUgbWFuZGF0Lm1fbnVtX2RlcCA9IGRlcGFydGVtZW50Lm1fbnVtX2RlcCBBTkQgbWFuZGF0Lm1fdHlwZV9tYW5kYXQgPSAxICkgT1JERVIgQlkgZGF0ZV9uYWlzIERFU0Mi')\n",
    "table = page.find('table')\n",
    "liste=ToDf(table)\n",
    "for i in range(32):\n",
    "    page=Scrap('http://www2.assemblee-nationale.fr/sycomore/resultats/(offset)/'+str((i+1)*500)+'/(query)/IiBTRUxFQ1QgbV9jb2RlX2RlcHV0ZSwgaWRfYWN0ZXVyX3RyaWJ1biwgbGVnX21heF90cmlidW4sIG5vbSwgbm9tX2FmZmljaGUsIHByZW5vbSwgZGF0ZV9uYWlzLCBkYXRlX2RlY2VzIEZST00gZGVwdXRlIFdIRVJFIDE9MSAgQU5EIG1fY29kZV9kZXB1dGUgSU4gKFNFTEVDVCBtX2NvZGVfZGVwdXRlIEZST00gbWFuZGF0LCBkZXBhcnRlbWVudCAgV0hFUkUgbWFuZGF0Lm1fbnVtX2RlcCA9IGRlcGFydGVtZW50Lm1fbnVtX2RlcCBBTkQgbWFuZGF0Lm1fdHlwZV9tYW5kYXQgPSAxICkgT1JERVIgQlkgZGF0ZV9uYWlzIERFU0Mi')\n",
    "    table = page.find('table')#on récupère le seul tableau de la page qui liste des députés\n",
    "    listeDf=ToDf(table)\n",
    "    liste=pd.concat([liste,listeDf])#on récupère le dataframe et on l'ajoute à la liste\n",
    "liste=liste.reset_index()#on recrée un index afin de ne pas s'arrêter à 500 puis recommencer comme dans les pages web\n",
    "listeDepute=liste[['Nom','Né le']]#on récupère les variables qui nous intéressent  "
   ]
  },
  {
   "cell_type": "markdown",
   "metadata": {},
   "source": [
    "On s'intéresse ensuite à la récupération des mandats de chaque député (partie en cours)."
   ]
  },
  {
   "cell_type": "code",
   "execution_count": null,
   "metadata": {},
   "outputs": [],
   "source": [
    "page=Scrap('http://www2.assemblee-nationale.fr/sycomore/fiche/(num_dept)/'+str(5))\n",
    "listeMandat=page\n",
    "for i in range(len(listeDepute)-1) :\n",
    "    page=Scrap('http://www2.assemblee-nationale.fr/sycomore/fiche/(num_dept)/'+str(i+7))\n",
    "    "
   ]
  },
  {
   "cell_type": "code",
   "execution_count": 5,
   "metadata": {},
   "outputs": [],
   "source": [
    "page=Scrap('http://www2.assemblee-nationale.fr/sycomore/fiche/(num_dept)/'+str(5))\n",
    "a=page.findAll('dl', {'class' : \"deputes-liste-attributs sycomore\"})"
   ]
  },
  {
   "cell_type": "code",
   "execution_count": 33,
   "metadata": {},
   "outputs": [],
   "source": []
  },
  {
   "cell_type": "code",
   "execution_count": null,
   "metadata": {},
   "outputs": [],
   "source": [
    "re.sub('<[^<]+?>', '', text)"
   ]
  },
  {
   "cell_type": "code",
   "execution_count": 86,
   "metadata": {},
   "outputs": [
    {
     "name": "stdout",
     "output_type": "stream",
     "text": [
      "[<dt>Régime politique</dt>, <dt>Législature</dt>, <dt>Mandat</dt>, <dt>Département</dt>, <dt>Groupe</dt>]\n",
      "[<dd>\n",
      "\t\t\t\t\t\t\t\t\t\t\t\t\tCinquième République - Assemblée nationale\n",
      "\t\t\t\t\t\t\t\t\t\t\t\t</dd>, <dd>\n",
      "<a href=\"/sycomore/liste/(legislature)/52\" title=\"Liste des députés de la législature\">Ve législature</a> </dd>, <dd>\n",
      "<b>Du 2 avril 1973 au 2 avril 1978</b>\n",
      "</dd>, <dd>\n",
      "\t\t\t\t\t\t\t\t\t\t\t\t\t\tHautes-Pyrénées\n",
      "\t\t\t\t\t\t\t\t\t\t\t\t\t</dd>, <dd>\n",
      "\t\t\t\t\t\t\t\t\t\t\t\t\tParti socialiste et radicaux de gauche\n",
      "\t\t\t\t\t\t\t\t\t\t\t\t</dd>]\n",
      "[\n",
      "\t\t\t\t\t\t\t\t\t\t\t\t\tCinquième République - Assemblée nationale\n",
      "\t\t\t\t\t\t\t\t\t\t\t\t, \n",
      "Ve législature , \n",
      "Du 2 avril 1973 au 2 avril 1978\n",
      ", \n",
      "\t\t\t\t\t\t\t\t\t\t\t\t\t\tHautes-Pyrénées\n",
      "\t\t\t\t\t\t\t\t\t\t\t\t\t, \n",
      "\t\t\t\t\t\t\t\t\t\t\t\t\tParti socialiste et radicaux de gauche\n",
      "\t\t\t\t\t\t\t\t\t\t\t\t]\n",
      "***************** ]\n",
      "                         0                     1                2    \\\n",
      "0  <dt>Régime politique</dt>  <dt>Législature</dt>  <dt>Mandat</dt>   \n",
      "1                          [                    \\n               \\t   \n",
      "\n",
      "                    3                4     5     6     7     8     9    ...  \\\n",
      "0  <dt>Département</dt>  <dt>Groupe</dt>  None  None  None  None  None  ...   \n",
      "1                    \\t               \\t    \\t    \\t    \\t    \\t    \\t  ...   \n",
      "\n",
      "    227   228   229   230   231   232   233   234   235   236  \n",
      "0  None  None  None  None  None  None  None  None  None  None  \n",
      "1    \\t    \\t    \\t    \\t    \\t    \\t    \\t    \\t    \\t     ]  \n",
      "\n",
      "[2 rows x 237 columns]\n"
     ]
    }
   ],
   "source": [
    "for mandat in a :\n",
    "    if mandat==a[0]:\n",
    "        columns=mandat.findAll('dt')\n",
    "        print(columns)\n",
    "        lines=mandat.findAll('dd')\n",
    "        print(lines)\n",
    "        lines=re.sub('<[^<]+?>', '', str(lines))\n",
    "        lines=re.findall('', lines)\n",
    "        line=''\n",
    "        for i in lines :\n",
    "            line+=i\n",
    "        line=str(line)\n",
    "        print(line)\n",
    "        print('*****************',i)\n",
    "        df=pd.DataFrame([columns, line])    \n",
    "        print(df)\n",
    "        #dfMand=df[['<dt>Régime politique</dt>', '<dt>Législature</dt>', '<dt>Mandat</dt>', '<dt>Département</dt>', '<dt>Groupe</dt>']]\n",
    "        #print(dfMand)"
   ]
  },
  {
   "cell_type": "code",
   "execution_count": null,
   "metadata": {},
   "outputs": [],
   "source": []
  }
 ],
 "metadata": {
  "kernelspec": {
   "display_name": "Python 3",
   "language": "python",
   "name": "python3"
  },
  "language_info": {
   "codemirror_mode": {
    "name": "ipython",
    "version": 3
   },
   "file_extension": ".py",
   "mimetype": "text/x-python",
   "name": "python",
   "nbconvert_exporter": "python",
   "pygments_lexer": "ipython3",
   "version": "3.7.3"
  }
 },
 "nbformat": 4,
 "nbformat_minor": 2
}

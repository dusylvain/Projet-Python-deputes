{
 "cells": [
  {
   "cell_type": "code",
   "execution_count": 88,
   "metadata": {},
   "outputs": [],
   "source": [
    "import pandas as pd\n",
    "import numpy as np\n",
    "#import geopandas as gpd\n",
    "import urllib#pour récupérer les données\n",
    "import bs4#pour rendre lisibles les données\n",
    "import re\n",
    "import time"
   ]
  },
  {
   "cell_type": "markdown",
   "metadata": {},
   "source": [
    "Récupération des députés sur le site de l'Assemblée Nationale"
   ]
  },
  {
   "cell_type": "code",
   "execution_count": 89,
   "metadata": {},
   "outputs": [],
   "source": [
    "def Scrap (url):\n",
    "    req = urllib.request.Request(url)\n",
    "    html = urllib.request.urlopen(req).read()\n",
    "    page = bs4.BeautifulSoup(html, \"lxml\")\n",
    "    return page"
   ]
  },
  {
   "cell_type": "code",
   "execution_count": 90,
   "metadata": {},
   "outputs": [],
   "source": [
    "def ToDf (table) :\n",
    "    Listgrossiere=pd.read_html(str(table))#on transforme le tableau en liste de dataframes\n",
    "    listeDf=Listgrossiere[0]#on récupère le dataframe\n",
    "    return listeDf"
   ]
  },
  {
   "cell_type": "code",
   "execution_count": 104,
   "metadata": {
    "scrolled": true
   },
   "outputs": [],
   "source": [
    "page=Scrap('http://www2.assemblee-nationale.fr/sycomore/resultats/(offset)/'+str(0)+'/(query)/IiBTRUxFQ1QgbV9jb2RlX2RlcHV0ZSwgaWRfYWN0ZXVyX3RyaWJ1biwgbGVnX21heF90cmlidW4sIG5vbSwgbm9tX2FmZmljaGUsIHByZW5vbSwgZGF0ZV9uYWlzLCBkYXRlX2RlY2VzIEZST00gZGVwdXRlIFdIRVJFIDE9MSAgQU5EIG1fY29kZV9kZXB1dGUgSU4gKFNFTEVDVCBtX2NvZGVfZGVwdXRlIEZST00gbWFuZGF0LCBkZXBhcnRlbWVudCAgV0hFUkUgbWFuZGF0Lm1fbnVtX2RlcCA9IGRlcGFydGVtZW50Lm1fbnVtX2RlcCBBTkQgbWFuZGF0Lm1fdHlwZV9tYW5kYXQgPSAxICkgT1JERVIgQlkgZGF0ZV9uYWlzIERFU0Mi')\n",
    "table = page.find('table')\n",
    "liste=ToDf(table)\n",
    "listelien=[]\n",
    "for i in range(32):\n",
    "    page=Scrap('http://www2.assemblee-nationale.fr/sycomore/resultats/(offset)/'+str((i+1)*500)+'/(query)/IiBTRUxFQ1QgbV9jb2RlX2RlcHV0ZSwgaWRfYWN0ZXVyX3RyaWJ1biwgbGVnX21heF90cmlidW4sIG5vbSwgbm9tX2FmZmljaGUsIHByZW5vbSwgZGF0ZV9uYWlzLCBkYXRlX2RlY2VzIEZST00gZGVwdXRlIFdIRVJFIDE9MSAgQU5EIG1fY29kZV9kZXB1dGUgSU4gKFNFTEVDVCBtX2NvZGVfZGVwdXRlIEZST00gbWFuZGF0LCBkZXBhcnRlbWVudCAgV0hFUkUgbWFuZGF0Lm1fbnVtX2RlcCA9IGRlcGFydGVtZW50Lm1fbnVtX2RlcCBBTkQgbWFuZGF0Lm1fdHlwZV9tYW5kYXQgPSAxICkgT1JERVIgQlkgZGF0ZV9uYWlzIERFU0Mi')\n",
    "    table = page.find('table')#on récupère le seul tableau de la page qui liste des députés\n",
    "    listeDf=ToDf(table)\n",
    "    liste=pd.concat([liste,listeDf])#on récupère le dataframe et on l'ajoute à la liste  \n",
    "    for ele in table.findAll('a'):\n",
    "        listelien.append(ele.get('href'))\n",
    "liste=liste.reset_index()#on recrée un index afin de ne pas s'arrêter à 500 puis recommencer comme dans les pages web\n",
    "listeDepute=liste[['Nom','Né le']]#on récupère les variables qui nous intéressent  "
   ]
  },
  {
   "cell_type": "code",
   "execution_count": 105,
   "metadata": {},
   "outputs": [
    {
     "data": {
      "text/plain": [
       "15860"
      ]
     },
     "execution_count": 105,
     "metadata": {},
     "output_type": "execute_result"
    }
   ],
   "source": [
    "len(listelien)"
   ]
  },
  {
   "cell_type": "code",
   "execution_count": 92,
   "metadata": {},
   "outputs": [
    {
     "data": {
      "text/plain": [
       "'/sycomore/fiche/(num_dept)/19112'"
      ]
     },
     "execution_count": 92,
     "metadata": {},
     "output_type": "execute_result"
    }
   ],
   "source": [
    "page=Scrap('http://www2.assemblee-nationale.fr/sycomore/resultats/(offset)/0000/(query)/IiBTRUxFQ1QgbV9jb2RlX2RlcHV0ZSwgaWRfYWN0ZXVyX3RyaWJ1biwgbGVnX21heF90cmlidW4sIG5vbSwgbm9tX2FmZmljaGUsIHByZW5vbSwgZGF0ZV9uYWlzLCBkYXRlX2RlY2VzIEZST00gZGVwdXRlIFdIRVJFIDE9MSAgQU5EIG1fY29kZV9kZXB1dGUgSU4gKFNFTEVDVCBtX2NvZGVfZGVwdXRlIEZST00gbWFuZGF0LCBkZXBhcnRlbWVudCAgV0hFUkUgbWFuZGF0Lm1fbnVtX2RlcCA9IGRlcGFydGVtZW50Lm1fbnVtX2RlcCBBTkQgbWFuZGF0Lm1fdHlwZV9tYW5kYXQgPSAxICkgT1JERVIgQlkgZGF0ZV9uYWlzIERFU0Mi')\n",
    "table = page.find('table')#on récupère le seul tableau de la page qui liste des députés\n",
    "listeDf=ToDf(table)\n",
    "\"\"\"j'ai mis ce bout de code dans la fonction au-dessus pour qu'il prenne plus que les 500 premiers !\"\"\"\n",
    "#Ce code permet de récupérer les 'href'\n",
    "listelien=[]\n",
    "for ele in table.findAll('a'):\n",
    "    listelien.append(ele.get('href'))\n",
    "listelien[1]\n"
   ]
  },
  {
   "cell_type": "code",
   "execution_count": 15,
   "metadata": {},
   "outputs": [],
   "source": [
    "listeDepute.to_csv(r'C:\\Users\\sylva\\Desktop\\git\\Projet-Python-deputes\\liste_depute.csv')#on met les données sur csv pour ne pas avoir à rescrapper à chaque fois"
   ]
  },
  {
   "cell_type": "markdown",
   "metadata": {},
   "source": [
    "On s'intéresse ensuite à la récupération des mandats de chaque député (partie en cours)."
   ]
  },
  {
   "cell_type": "code",
   "execution_count": 107,
   "metadata": {},
   "outputs": [],
   "source": [
    "\n",
    "def recup_dep_naiss (page):\n",
    "    depute_naiss=page.findAll('dl', {'class' : \"deputes-liste-attributs sycomore-infos-generales\"})\n",
    "    dep_naiss=re.findall('\\((\\w*-?\\w*)\\s', str(depute_naiss))#on récupère les départements\n",
    "    if dep_naiss==['']:\n",
    "        dep_naiss=['Inconnu']\n",
    "    df_naissance=pd.DataFrame([['Inconnu', 'Inconnu']], columns=('Département de naissance', 'Département de mort'))\n",
    "    if dep_naiss :\n",
    "        if len(dep_naiss)==2 :#on connait plus les départements de naissance que les morts (pour les députés vivants au moins)\n",
    "            df_naissance=pd.DataFrame([dep_naiss], columns=('Département de naissance', 'Département de mort'))\n",
    "        elif len(dep_naiss)==1 :\n",
    "            dep_complete=[dep_naiss[0],'Inconnu']\n",
    "            df_naissance=pd.DataFrame([dep_complete], columns=('Département de naissance', 'Département de mort'))\n",
    "       \n",
    "    return(df_naissance)"
   ]
  },
  {
   "cell_type": "code",
   "execution_count": 94,
   "metadata": {},
   "outputs": [],
   "source": [
    "def scrap_un_mandat(mandat):\n",
    "    #On récupère et lave les titres des colonnes\n",
    "    columns=mandat.findAll('dt')\n",
    "    columns=re.sub('<[^<]+?>', '', str(columns))  \n",
    "    \n",
    "    #On récupère et lave les titres des lignes\n",
    "    lines=mandat.findAll('dd')\n",
    "    lines=re.sub('<[^<]+?>', '', str(lines))\n",
    "    lines=re.sub('\\t', '', str(lines))\n",
    "    lines=re.sub(\"\\n\", '', str(lines))\n",
    "    line=''\n",
    "    \n",
    "    \n",
    "    #On met tout dans un dataframe\n",
    "    columns=columns[1:-1].split(',')\n",
    "    lines=lines[1:-1].split(',')\n",
    "    df=pd.DataFrame([lines],columns=columns)\n",
    "    return df"
   ]
  },
  {
   "cell_type": "code",
   "execution_count": 95,
   "metadata": {},
   "outputs": [],
   "source": [
    "def RecupNom (page):\n",
    "    nom_depute=page.find('title')#on va là où il y a le nom\n",
    "    nom_depute=re.sub('<[^<]+?>', '', str(nom_depute))#on enlève les balises\n",
    "    nom_depute=nom_depute.split()#on récupère les mots du titre\n",
    "    mot=nom_depute[0]#on initialise au premier mot\n",
    "    nom_dep=''#on initialise la variable où on va récupérer le nom\n",
    "    while mot!='-' :#on prend les premiers mots qui composent le nom, avant la suite du titre\n",
    "        nom_dep=nom_dep+' '+mot#on concatène le mot appartenant au nom avec les précédents\n",
    "        nom_depute=nom_depute[1:]#on supprime le mot étudié\n",
    "        mot=nom_depute[0]#pour passer au suivant\n",
    "    nom_dep=nom_dep[1:]#il y a un espace au début, on l'enlève\n",
    "    return nom_dep#on retourne le mot complet. Il est surement possible de le faire beaucoup plus vite en regex, mais les miennes ne marchent pas."
   ]
  },
  {
   "cell_type": "markdown",
   "metadata": {},
   "source": [
    "Cette proposition permet de se passer de RecupNom mais il y a encore des bugs : \n",
    "Attention !!!!!!!!!!!!!!!!!!!!!!! La listeDepute n'est pas dans le même ordre que la liste en ligne, donc cela n'attribue pas le nom au bon député ! (d'où le retour à RécupNom)"
   ]
  },
  {
   "cell_type": "code",
   "execution_count": 110,
   "metadata": {
    "scrolled": false
   },
   "outputs": [
    {
     "name": "stdout",
     "output_type": "stream",
     "text": [
      "4001\n"
     ]
    },
    {
     "name": "stderr",
     "output_type": "stream",
     "text": [
      "C:\\Users\\sylva\\Anaconda3\\lib\\site-packages\\ipykernel_launcher.py:32: FutureWarning: Sorting because non-concatenation axis is not aligned. A future version\n",
      "of pandas will change to not sort by default.\n",
      "\n",
      "To accept the future behavior, pass 'sort=False'.\n",
      "\n",
      "To retain the current behavior and silence the warning, pass 'sort=True'.\n",
      "\n"
     ]
    },
    {
     "name": "stdout",
     "output_type": "stream",
     "text": [
      "4101\n",
      "4201\n",
      "4301\n",
      "4401\n",
      "4501\n",
      "4601\n",
      "4701\n",
      "4801\n",
      "4901\n",
      "5001\n",
      "5101\n",
      "5201\n",
      "5301\n",
      "5401\n",
      "5501\n",
      "5601\n",
      "5701\n",
      "5801\n",
      "5901\n",
      "6\n",
      "temps d'exécution 591.0180802345276\n"
     ]
    },
    {
     "data": {
      "text/html": [
       "<div>\n",
       "<style scoped>\n",
       "    .dataframe tbody tr th:only-of-type {\n",
       "        vertical-align: middle;\n",
       "    }\n",
       "\n",
       "    .dataframe tbody tr th {\n",
       "        vertical-align: top;\n",
       "    }\n",
       "\n",
       "    .dataframe thead th {\n",
       "        text-align: right;\n",
       "    }\n",
       "</style>\n",
       "<table border=\"1\" class=\"dataframe\">\n",
       "  <thead>\n",
       "    <tr style=\"text-align: right;\">\n",
       "      <th></th>\n",
       "      <th>Département</th>\n",
       "      <th>Groupe</th>\n",
       "      <th>Législature</th>\n",
       "      <th>Mandat</th>\n",
       "      <th>Nom</th>\n",
       "      <th>Régime politique</th>\n",
       "    </tr>\n",
       "  </thead>\n",
       "  <tbody>\n",
       "    <tr>\n",
       "      <th>0</th>\n",
       "      <td>Saône-et-Loire</td>\n",
       "      <td>Indépendants et paysans d'action sociale</td>\n",
       "      <td>Ire législature</td>\n",
       "      <td>Du 30 novembre 1958 au 9 octobre 1962</td>\n",
       "      <td>Pierre Dufour</td>\n",
       "      <td>Cinquième République - Assemblée nationale</td>\n",
       "    </tr>\n",
       "    <tr>\n",
       "      <th>0</th>\n",
       "      <td>Finistère</td>\n",
       "      <td>Union pour la nouvelle République-UDT</td>\n",
       "      <td>IIe législature</td>\n",
       "      <td>Du 25 novembre 1962 au 2 avril 1967</td>\n",
       "      <td>Gabriel Miossec</td>\n",
       "      <td>Cinquième République - Assemblée nationale</td>\n",
       "    </tr>\n",
       "    <tr>\n",
       "      <th>0</th>\n",
       "      <td>Finistère</td>\n",
       "      <td>Union démocratique pour la V° République</td>\n",
       "      <td>IIIe législature</td>\n",
       "      <td>Du 12 mars 1967 au 30 mai 1968</td>\n",
       "      <td>Gabriel Miossec</td>\n",
       "      <td>Cinquième République - Assemblée nationale</td>\n",
       "    </tr>\n",
       "    <tr>\n",
       "      <th>0</th>\n",
       "      <td>Finistère</td>\n",
       "      <td>Union des démocrates pour la République</td>\n",
       "      <td>IVe législature</td>\n",
       "      <td>Du 30 juin 1968 au  1er avril 1973</td>\n",
       "      <td>Gabriel Miossec</td>\n",
       "      <td>Cinquième République - Assemblée nationale</td>\n",
       "    </tr>\n",
       "    <tr>\n",
       "      <th>0</th>\n",
       "      <td>Lot-et-Garonne</td>\n",
       "      <td>Républicains de gauche</td>\n",
       "      <td>XIVe législature</td>\n",
       "      <td>Du 29 avril 1928 au 31 mai 1932</td>\n",
       "      <td>Pierre, Albert, Jean, Martial Tricard-Graveron</td>\n",
       "      <td>Troisième République - Chambre des députés</td>\n",
       "    </tr>\n",
       "  </tbody>\n",
       "</table>\n",
       "</div>"
      ],
      "text/plain": [
       "       Département                                     Groupe  \\\n",
       "0   Saône-et-Loire   Indépendants et paysans d'action sociale   \n",
       "0        Finistère      Union pour la nouvelle République-UDT   \n",
       "0        Finistère   Union démocratique pour la V° République   \n",
       "0        Finistère    Union des démocrates pour la République   \n",
       "0   Lot-et-Garonne                     Républicains de gauche   \n",
       "\n",
       "          Législature                                  Mandat  \\\n",
       "0    Ire législature    Du 30 novembre 1958 au 9 octobre 1962   \n",
       "0    IIe législature      Du 25 novembre 1962 au 2 avril 1967   \n",
       "0   IIIe législature           Du 12 mars 1967 au 30 mai 1968   \n",
       "0    IVe législature       Du 30 juin 1968 au  1er avril 1973   \n",
       "0   XIVe législature          Du 29 avril 1928 au 31 mai 1932   \n",
       "\n",
       "                                              Nom  \\\n",
       "0                                   Pierre Dufour   \n",
       "0                                 Gabriel Miossec   \n",
       "0                                 Gabriel Miossec   \n",
       "0                                 Gabriel Miossec   \n",
       "0  Pierre, Albert, Jean, Martial Tricard-Graveron   \n",
       "\n",
       "                             Régime politique  \n",
       "0  Cinquième République - Assemblée nationale  \n",
       "0  Cinquième République - Assemblée nationale  \n",
       "0  Cinquième République - Assemblée nationale  \n",
       "0  Cinquième République - Assemblée nationale  \n",
       "0  Troisième République - Chambre des députés  "
      ]
     },
     "metadata": {},
     "output_type": "display_data"
    },
    {
     "data": {
      "text/html": [
       "<div>\n",
       "<style scoped>\n",
       "    .dataframe tbody tr th:only-of-type {\n",
       "        vertical-align: middle;\n",
       "    }\n",
       "\n",
       "    .dataframe tbody tr th {\n",
       "        vertical-align: top;\n",
       "    }\n",
       "\n",
       "    .dataframe thead th {\n",
       "        text-align: right;\n",
       "    }\n",
       "</style>\n",
       "<table border=\"1\" class=\"dataframe\">\n",
       "  <thead>\n",
       "    <tr style=\"text-align: right;\">\n",
       "      <th></th>\n",
       "      <th>Département de naissance</th>\n",
       "      <th>Département de mort</th>\n",
       "      <th>Nom</th>\n",
       "    </tr>\n",
       "  </thead>\n",
       "  <tbody>\n",
       "    <tr>\n",
       "      <th>0</th>\n",
       "      <td>Inconnu</td>\n",
       "      <td>Inconnu</td>\n",
       "      <td>Pierre Dufour</td>\n",
       "    </tr>\n",
       "    <tr>\n",
       "      <th>0</th>\n",
       "      <td>Finistère</td>\n",
       "      <td>Lieu</td>\n",
       "      <td>Gabriel Miossec</td>\n",
       "    </tr>\n",
       "    <tr>\n",
       "      <th>0</th>\n",
       "      <td>Paris</td>\n",
       "      <td>Inconnu</td>\n",
       "      <td>Pierre, Albert, Jean, Martial Tricard-Graveron</td>\n",
       "    </tr>\n",
       "    <tr>\n",
       "      <th>0</th>\n",
       "      <td>Haute-Savoie</td>\n",
       "      <td>Essonne</td>\n",
       "      <td>Armand Cachat</td>\n",
       "    </tr>\n",
       "    <tr>\n",
       "      <th>0</th>\n",
       "      <td>Vendée</td>\n",
       "      <td>Loire-Atlantique</td>\n",
       "      <td>Jean Martineau</td>\n",
       "    </tr>\n",
       "  </tbody>\n",
       "</table>\n",
       "</div>"
      ],
      "text/plain": [
       "  Département de naissance Département de mort  \\\n",
       "0                  Inconnu             Inconnu   \n",
       "0                Finistère                Lieu   \n",
       "0                    Paris             Inconnu   \n",
       "0             Haute-Savoie             Essonne   \n",
       "0                   Vendée    Loire-Atlantique   \n",
       "\n",
       "                                              Nom  \n",
       "0                                   Pierre Dufour  \n",
       "0                                 Gabriel Miossec  \n",
       "0  Pierre, Albert, Jean, Martial Tricard-Graveron  \n",
       "0                                   Armand Cachat  \n",
       "0                                  Jean Martineau  "
      ]
     },
     "execution_count": 110,
     "metadata": {},
     "output_type": "execute_result"
    }
   ],
   "source": [
    "tps1=time.time()\n",
    "liste=[]\n",
    "numProbleme=[]\n",
    "df_naiss=[]\n",
    "for i in range(4000, 6000) : #à terme len(listelien)\n",
    "    if i%100==1 :#pour mesurer l'avancement du scrapping\n",
    "        print(i)\n",
    "    page=Scrap('http://www2.assemblee-nationale.fr/'+listelien[i])\n",
    "    #Une petite blague c'est glissé dans le site : les mandats de sénateurs sont présent dans le code html mais ils sont \"cachés\"\n",
    "    #On les enlève donc d'abord\n",
    "    pouf=page.find('div', {'id':\"mandats_an\"})\n",
    "    df_naissance=recup_dep_naiss(page)#on récupère d'abord les départements de naissance et de mort du député    \n",
    "    df_naissance['Nom']=RecupNom(page)\n",
    "    if len(df_naiss)==0:\n",
    "        df_naiss=df_naissance\n",
    "    else :\n",
    "        df_naiss=pd.concat([df_naiss, df_naissance])\n",
    "    if pouf :\n",
    "        depute=pouf.findAll('dl', {'class' : \"deputes-liste-attributs sycomore\"})\n",
    "    else :#éviter les cas d'assemblée nationale constituante qui ont un autre nom que mandats_an\n",
    "        depute=page.findAll('dl', {'class' : \"deputes-liste-attributs sycomore\"})\n",
    "    for mandat in depute :   \n",
    "        try:\n",
    "            df = scrap_un_mandat(mandat)\n",
    "        except AssertionError :\n",
    "            numProbleme.append(i)\n",
    "        else :#ne marche pas en elif ! A cause du try\n",
    "            df['Nom']=RecupNom(page)            \n",
    "            if len(liste)==0: #On initialise avec le premier mandat\n",
    "                liste=df                  \n",
    "            else:\n",
    "                liste=pd.concat([liste,df])#on fusionne les mandats\n",
    "                \n",
    "tps2=time.time()  \n",
    "tps=tps2-tps1    \n",
    "print(len(numProbleme))\n",
    "print(\"temps d'exécution\",tps)   \n",
    "display(liste.head(5))\n",
    "df_naiss.head()"
   ]
  },
  {
   "cell_type": "markdown",
   "metadata": {},
   "source": [
    "Il y des pages de députés jusqu'à 19500 sur le site."
   ]
  },
  {
   "cell_type": "code",
   "execution_count": null,
   "metadata": {},
   "outputs": [],
   "source": [
    "#On joint les deux dataframes ayant des informations personnelles sur les députés\n",
    "listeDepu=listeDepute.copy()\n",
    "df_naiss2=df_naiss.copy()\n",
    "listeDepute_complete=listeDepu.merge(df_naiss2, on='Nom', how='outer')\n",
    "listeDepute_complete"
   ]
  },
  {
   "cell_type": "code",
   "execution_count": null,
   "metadata": {},
   "outputs": [],
   "source": [
    "liste=liste.rename(columns={' Département': 'Département', ' Groupe': 'Groupe', ' Législature': 'Législature', ' Mandat' :'Mandat'})"
   ]
  },
  {
   "cell_type": "code",
   "execution_count": null,
   "metadata": {},
   "outputs": [],
   "source": [
    "liste_dep=liste[['Département', 'Groupe', 'Législature', 'Mandat', 'Régime politique', 'Nom']]"
   ]
  },
  {
   "cell_type": "code",
   "execution_count": null,
   "metadata": {},
   "outputs": [],
   "source": [
    "len(liste)/len(numProbleme)#un indicateur du nombre de problèmes, pour vérifier que les résultats sont encore significatifs"
   ]
  },
  {
   "cell_type": "markdown",
   "metadata": {},
   "source": [
    "*Formatage des dates"
   ]
  },
  {
   "cell_type": "code",
   "execution_count": null,
   "metadata": {},
   "outputs": [],
   "source": [
    "debut_mandat=[]\n",
    "for dates in df[\"Mandat\"]:\n",
    "    dates=str(dates).split()\n",
    "    debut_mandat.append(' '.join(dates[1:4]))\n",
    "    \n",
    "df[\"Debut Mandat\"]=np.array(debut_mandat)\n",
    "df.head()"
   ]
  },
  {
   "cell_type": "code",
   "execution_count": null,
   "metadata": {},
   "outputs": [],
   "source": [
    "liste_dep.to_csv(r'C:\\Users\\sylva\\Desktop\\git\\Projet-Python-deputes\\liste_mandat.csv')\n",
    "listeDepute_complete.to_csv(r'C:\\Users\\sylva\\Desktop\\git\\Projet-Python-deputes\\listeDepute_complete.csv')\n",
    "#on met les données sur csv pour ne pas avoir à rescrapper à chaque fois"
   ]
  }
 ],
 "metadata": {
  "kernelspec": {
   "display_name": "Python 3",
   "language": "python",
   "name": "python3"
  },
  "language_info": {
   "codemirror_mode": {
    "name": "ipython",
    "version": 3
   },
   "file_extension": ".py",
   "mimetype": "text/x-python",
   "name": "python",
   "nbconvert_exporter": "python",
   "pygments_lexer": "ipython3",
   "version": "3.7.3"
  }
 },
 "nbformat": 4,
 "nbformat_minor": 2
}

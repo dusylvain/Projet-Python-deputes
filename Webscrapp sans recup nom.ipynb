{
 "cells": [
  {
   "cell_type": "code",
   "execution_count": 1,
   "metadata": {},
   "outputs": [],
   "source": [
    "import pandas as pd\n",
    "import numpy as np\n",
    "#import geopandas as gpd\n",
    "import urllib#pour récupérer les données\n",
    "import bs4#pour rendre lisibles les données\n",
    "import re\n",
    "import time"
   ]
  },
  {
   "cell_type": "markdown",
   "metadata": {},
   "source": [
    "Récupération des députés sur le site de l'Assemblée Nationale"
   ]
  },
  {
   "cell_type": "code",
   "execution_count": 2,
   "metadata": {},
   "outputs": [],
   "source": [
    "def Scrap (url):\n",
    "    req = urllib.request.Request(url)\n",
    "    html = urllib.request.urlopen(req).read()\n",
    "    page = bs4.BeautifulSoup(html, \"lxml\")\n",
    "    return page"
   ]
  },
  {
   "cell_type": "code",
   "execution_count": 3,
   "metadata": {},
   "outputs": [],
   "source": [
    "def ToDf (table) :\n",
    "    Listgrossiere=pd.read_html(str(table))#on transforme le tableau en liste de dataframes\n",
    "    listeDf=Listgrossiere[0]#on récupère le dataframe\n",
    "    return listeDf"
   ]
  },
  {
   "cell_type": "code",
   "execution_count": 121,
   "metadata": {
    "scrolled": true
   },
   "outputs": [],
   "source": [
    "page=Scrap('http://www2.assemblee-nationale.fr/sycomore/resultats/(offset)/'+str(0)+'/(query)/IiBTRUxFQ1QgbV9jb2RlX2RlcHV0ZSwgaWRfYWN0ZXVyX3RyaWJ1biwgbGVnX21heF90cmlidW4sIG5vbSwgbm9tX2FmZmljaGUsIHByZW5vbSwgZGF0ZV9uYWlzLCBkYXRlX2RlY2VzIEZST00gZGVwdXRlIFdIRVJFIDE9MSAgQU5EIG1fY29kZV9kZXB1dGUgSU4gKFNFTEVDVCBtX2NvZGVfZGVwdXRlIEZST00gbWFuZGF0LCBkZXBhcnRlbWVudCAgV0hFUkUgbWFuZGF0Lm1fbnVtX2RlcCA9IGRlcGFydGVtZW50Lm1fbnVtX2RlcCBBTkQgbWFuZGF0Lm1fdHlwZV9tYW5kYXQgPSAxICkgT1JERVIgQlkgZGF0ZV9uYWlzIERFU0Mi')\n",
    "table = page.find('table')\n",
    "liste=ToDf(table)\n",
    "listelien=[]\n",
    "for i in range(32):\n",
    "    page=Scrap('http://www2.assemblee-nationale.fr/sycomore/resultats/(offset)/'+str((i+1)*500)+'/(query)/IiBTRUxFQ1QgbV9jb2RlX2RlcHV0ZSwgaWRfYWN0ZXVyX3RyaWJ1biwgbGVnX21heF90cmlidW4sIG5vbSwgbm9tX2FmZmljaGUsIHByZW5vbSwgZGF0ZV9uYWlzLCBkYXRlX2RlY2VzIEZST00gZGVwdXRlIFdIRVJFIDE9MSAgQU5EIG1fY29kZV9kZXB1dGUgSU4gKFNFTEVDVCBtX2NvZGVfZGVwdXRlIEZST00gbWFuZGF0LCBkZXBhcnRlbWVudCAgV0hFUkUgbWFuZGF0Lm1fbnVtX2RlcCA9IGRlcGFydGVtZW50Lm1fbnVtX2RlcCBBTkQgbWFuZGF0Lm1fdHlwZV9tYW5kYXQgPSAxICkgT1JERVIgQlkgZGF0ZV9uYWlzIERFU0Mi')\n",
    "    table = page.find('table')#on récupère le seul tableau de la page qui liste des députés\n",
    "    listeDf=ToDf(table)\n",
    "    liste=pd.concat([liste,listeDf])#on récupère le dataframe et on l'ajoute à la liste  \n",
    "    for ele in table.findAll('a'):\n",
    "        listelien.append(ele.get('href'))\n",
    "liste=liste.reset_index()#on recrée un index afin de ne pas s'arrêter à 500 puis recommencer comme dans les pages web\n",
    "listeDepute=liste[['Nom','Né le']]#on récupère les variables qui nous intéressent  "
   ]
  },
  {
   "cell_type": "code",
   "execution_count": 5,
   "metadata": {},
   "outputs": [
    {
     "data": {
      "text/plain": [
       "'/sycomore/fiche/(num_dept)/19112'"
      ]
     },
     "execution_count": 5,
     "metadata": {},
     "output_type": "execute_result"
    }
   ],
   "source": [
    "page=Scrap('http://www2.assemblee-nationale.fr/sycomore/resultats/(offset)/0000/(query)/IiBTRUxFQ1QgbV9jb2RlX2RlcHV0ZSwgaWRfYWN0ZXVyX3RyaWJ1biwgbGVnX21heF90cmlidW4sIG5vbSwgbm9tX2FmZmljaGUsIHByZW5vbSwgZGF0ZV9uYWlzLCBkYXRlX2RlY2VzIEZST00gZGVwdXRlIFdIRVJFIDE9MSAgQU5EIG1fY29kZV9kZXB1dGUgSU4gKFNFTEVDVCBtX2NvZGVfZGVwdXRlIEZST00gbWFuZGF0LCBkZXBhcnRlbWVudCAgV0hFUkUgbWFuZGF0Lm1fbnVtX2RlcCA9IGRlcGFydGVtZW50Lm1fbnVtX2RlcCBBTkQgbWFuZGF0Lm1fdHlwZV9tYW5kYXQgPSAxICkgT1JERVIgQlkgZGF0ZV9uYWlzIERFU0Mi')\n",
    "table = page.find('table')#on récupère le seul tableau de la page qui liste des députés\n",
    "listeDf=ToDf(table)\n",
    "\"\"\"j'ai mis ce bout de code dans la fonction au-dessus pour qu'il prenne plus que les 500 premiers !\"\"\"\n",
    "#Ce code permet de récupérer les 'href'\n",
    "listelien=[]\n",
    "for ele in table.findAll('a'):\n",
    "    listelien.append(ele.get('href'))\n",
    "listelien[1]\n"
   ]
  },
  {
   "cell_type": "code",
   "execution_count": 15,
   "metadata": {},
   "outputs": [],
   "source": [
    "listeDepute.to_csv(r'C:\\Users\\sylva\\Desktop\\git\\Projet-Python-deputes\\liste_depute.csv')#on met les données sur csv pour ne pas avoir à rescrapper à chaque fois"
   ]
  },
  {
   "cell_type": "markdown",
   "metadata": {},
   "source": [
    "On s'intéresse ensuite à la récupération des mandats de chaque député (partie en cours)."
   ]
  },
  {
   "cell_type": "code",
   "execution_count": 15,
   "metadata": {},
   "outputs": [
    {
     "data": {
      "text/plain": [
       "'tps1=time.time()\\npage=Scrap(\\'http://www2.assemblee-nationale.fr/sycomore/fiche/(num_dept)/\\'+str(5))\\nlisteMandat=page\\nliste=[]\\nnumProbleme=[]\\nfor i in range(5,19501) :\\n    if i%500==1 :#pour mesurer l\\'avancement du scrapping\\n        print(i)\\n    page=Scrap(\\'http://www2.assemblee-nationale.fr/sycomore/fiche/(num_dept)/\\'+str(i+7))\\n    #Une petite blague c\\'est glissé dans le site : les mandats de sénateurs sont présent dans le code html mais ils sont \"cachés\"\\n    #On les enlève donc d\\'abord\\n    pouf=page.find(\\'div\\', {\\'id\\':\"mandats_an\"})\\n    if pouf :\\n        depute=pouf.findAll(\\'dl\\', {\\'class\\' : \"deputes-liste-attributs sycomore\"})\\n    else :#éviter les cas d\\'assemblée nationale constituante qui ont un autre nom que mandats_an\\n        depute=page.findAll(\\'dl\\', {\\'class\\' : \"deputes-liste-attributs sycomore\"})\\n    for mandat in depute :\\n        try:\\n            df = scrap_un_mandat(mandat)\\n        except AssertionError :\\n            numProbleme.append(i)\\n        else :#ne marche pas en elif ! A cause du try\\n            df[\"nom du député\"]=RecupNom(page)\\n            if len(liste)==0: #On initialise avec le premier mandat\\n                liste=df  \\n            else:\\n                liste=pd.concat([liste,df])#on fusionne les mandats\\nprint(len(numProbleme))\\ntps2=time.time()\\nprint(\"temps d\\'exécution\",tps2-tps1)     '"
      ]
     },
     "execution_count": 15,
     "metadata": {},
     "output_type": "execute_result"
    }
   ],
   "source": [
    "tps1=time.time()\n",
    "page=Scrap('http://www2.assemblee-nationale.fr/sycomore/fiche/(num_dept)/'+str(5))\n",
    "listeMandat=page\n",
    "liste=[]\n",
    "numProbleme=[]\n",
    "for i in range(5,19501) :\n",
    "    if i%500==1 :#pour mesurer l'avancement du scrapping\n",
    "        print(i)\n",
    "    page=Scrap('http://www2.assemblee-nationale.fr/sycomore/fiche/(num_dept)/'+str(i+7))\n",
    "    #Une petite blague c'est glissé dans le site : les mandats de sénateurs sont présent dans le code html mais ils sont \"cachés\"\n",
    "    #On les enlève donc d'abord\n",
    "    pouf=page.find('div', {'id':\"mandats_an\"})\n",
    "    if pouf :\n",
    "        depute=pouf.findAll('dl', {'class' : \"deputes-liste-attributs sycomore\"})\n",
    "    else :#éviter les cas d'assemblée nationale constituante qui ont un autre nom que mandats_an\n",
    "        depute=page.findAll('dl', {'class' : \"deputes-liste-attributs sycomore\"})\n",
    "    for mandat in depute :\n",
    "        try:\n",
    "            df = scrap_un_mandat(mandat)\n",
    "        except AssertionError :\n",
    "            numProbleme.append(i)\n",
    "        else :#ne marche pas en elif ! A cause du try\n",
    "            df[\"nom du député\"]=RecupNom(page)\n",
    "            if len(liste)==0: #On initialise avec le premier mandat\n",
    "                liste=df  \n",
    "            else:\n",
    "                liste=pd.concat([liste,df])#on fusionne les mandats\n",
    "print(len(numProbleme))\n",
    "tps2=time.time()\n",
    "print(\"temps d'exécution\",tps2-tps1)            "
   ]
  },
  {
   "cell_type": "code",
   "execution_count": 110,
   "metadata": {},
   "outputs": [],
   "source": [
    "\n",
    "def recup_dep_naiss (page):\n",
    "    depute_naiss=page.findAll('dl', {'class' : \"deputes-liste-attributs sycomore-infos-generales\"})\n",
    "    dep_naiss=re.findall('\\((\\w*-?\\w*)\\s', str(depute_naiss))#on récupère les départements\n",
    "    if dep_naiss==['']:\n",
    "        dep_naiss=['Inconnu']\n",
    "    if dep_naiss :\n",
    "        if len(dep_naiss)==2 :#on connait plus les départements de naissance que les morts (pour les députés vivants au moins)\n",
    "            df_naissance=pd.DataFrame([dep_naiss], columns=('Département de naissance', 'Département de mort'))\n",
    "        elif len(dep_naiss)==1 :\n",
    "            dep_complete=[dep_naiss[0],'Inconnu']\n",
    "            df_naissance=pd.DataFrame([dep_complete], columns=('Département de naissance', 'Département de mort'))\n",
    "    else :\n",
    "        df_naissance=pd.DataFrame([['Inconnu', 'Inconnu']], columns=('Département de naissance', 'Département de mort'))\n",
    "    return(df_naissance)"
   ]
  },
  {
   "cell_type": "code",
   "execution_count": 10,
   "metadata": {},
   "outputs": [],
   "source": [
    "def scrap_un_mandat(mandat):\n",
    "    #On récupère et lave les titres des colonnes\n",
    "    columns=mandat.findAll('dt')\n",
    "    columns=re.sub('<[^<]+?>', '', str(columns))  \n",
    "    \n",
    "    #On récupère et lave les titres des lignes\n",
    "    lines=mandat.findAll('dd')\n",
    "    lines=re.sub('<[^<]+?>', '', str(lines))\n",
    "    lines=re.sub('\\t', '', str(lines))\n",
    "    lines=re.sub(\"\\n\", '', str(lines))\n",
    "    line=''\n",
    "    \n",
    "    \n",
    "    #On met tout dans un dataframe\n",
    "    columns=columns[1:-1].split(',')\n",
    "    lines=lines[1:-1].split(',')\n",
    "    df=pd.DataFrame([lines],columns=columns)\n",
    "    return df"
   ]
  },
  {
   "cell_type": "code",
   "execution_count": 7,
   "metadata": {},
   "outputs": [],
   "source": [
    "def RecupNom (page):\n",
    "    nom_depute=page.find('title')#on va là où il y a le nom\n",
    "    nom_depute=re.sub('<[^<]+?>', '', str(nom_depute))#on enlève les balises\n",
    "    nom_depute=nom_depute.split()#on récupère les mots du titre\n",
    "    mot=nom_depute[0]#on initialise au premier mot\n",
    "    nom_dep=''#on initialise la variable où on va récupérer le nom\n",
    "    while mot!='-' :#on prend les premiers mots qui composent le nom, avant la suite du titre\n",
    "        nom_dep=nom_dep+' '+mot#on concatène le mot appartenant au nom avec les précédents\n",
    "        nom_depute=nom_depute[1:]#on supprime le mot étudié\n",
    "        mot=nom_depute[0]#pour passer au suivant\n",
    "    return nom_dep#on retourne le mot complet. Il est surement possible de le faire beaucoup plus vite en regex, mais les miennes ne marchent pas."
   ]
  },
  {
   "cell_type": "markdown",
   "metadata": {},
   "source": []
  },
  {
   "cell_type": "markdown",
   "metadata": {},
   "source": [
    "Cette proposition permet de se passer de RecupNom mais il y a encore des bugs"
   ]
  },
  {
   "cell_type": "code",
   "execution_count": 124,
   "metadata": {},
   "outputs": [
    {
     "data": {
      "text/plain": [
       "'tps1=time.time()\\nliste=[]\\nnumProbleme=[]\\ndf_naiss=[]\\nfor i in range(2000,2500) : #à terme len(listelien)\\n    if i%10==1 :#pour mesurer l\\'avancement du scrapping\\n        print(i)\\n    page=Scrap(\\'http://www2.assemblee-nationale.fr/\\'+listelien[i])\\n    #Une petite blague c\\'est glissé dans le site : les mandats de sénateurs sont présent dans le code html mais ils sont \"cachés\"\\n    #On les enlève donc d\\'abord\\n    pouf=page.find(\\'div\\', {\\'id\\':\"mandats_an\"})\\n    df_naissance=recup_dep_naiss(page)#on récupère d\\'abord les départements de naissance et de mort du député    \\n    df_naissance[\"nom du député\"]=listeDepute[\\'Nom\\'][i]\\n    if len(df_naiss)==0:\\n        df_naiss=df_naissance\\n    else :\\n        df_naiss=pd.concat([df_naiss, df_naissance])\\n    if pouf :\\n        depute=pouf.findAll(\\'dl\\', {\\'class\\' : \"deputes-liste-attributs sycomore\"})\\n    else :#éviter les cas d\\'assemblée nationale constituante qui ont un autre nom que mandats_an\\n        depute=page.findAll(\\'dl\\', {\\'class\\' : \"deputes-liste-attributs sycomore\"})\\n    for mandat in depute :   \\n        try:\\n            df = scrap_un_mandat(mandat)\\n        except AssertionError :\\n            numProbleme.append(i)\\n        else :#ne marche pas en elif ! A cause du try\\n            df[\"nom du député\"]=listeDepute[\\'Nom\\'][i]\\n            \\n            if len(liste)==0: #On initialise avec le premier mandat\\n                liste=df\\n                  \\n            else:\\n                liste=pd.concat([liste,df])#on fusionne les mandats\\n                \\ntps2=time.time()  \\ntps=tps2-tps1    \\n        \\nliste.head(5)\\ndf_naiss'"
      ]
     },
     "execution_count": 124,
     "metadata": {},
     "output_type": "execute_result"
    }
   ],
   "source": [
    "tps1=time.time()\n",
    "liste=[]\n",
    "numProbleme=[]\n",
    "df_naiss=[]\n",
    "for i in range(2000,2500) : #à terme len(listelien)\n",
    "    if i%10==1 :#pour mesurer l'avancement du scrapping\n",
    "        print(i)\n",
    "    page=Scrap('http://www2.assemblee-nationale.fr/'+listelien[i])\n",
    "    #Une petite blague c'est glissé dans le site : les mandats de sénateurs sont présent dans le code html mais ils sont \"cachés\"\n",
    "    #On les enlève donc d'abord\n",
    "    pouf=page.find('div', {'id':\"mandats_an\"})\n",
    "    df_naissance=recup_dep_naiss(page)#on récupère d'abord les départements de naissance et de mort du député    \n",
    "    df_naissance[\"nom du député\"]=listeDepute['Nom'][i]\n",
    "    if len(df_naiss)==0:\n",
    "        df_naiss=df_naissance\n",
    "    else :\n",
    "        df_naiss=pd.concat([df_naiss, df_naissance])\n",
    "    if pouf :\n",
    "        depute=pouf.findAll('dl', {'class' : \"deputes-liste-attributs sycomore\"})\n",
    "    else :#éviter les cas d'assemblée nationale constituante qui ont un autre nom que mandats_an\n",
    "        depute=page.findAll('dl', {'class' : \"deputes-liste-attributs sycomore\"})\n",
    "    for mandat in depute :   \n",
    "        try:\n",
    "            df = scrap_un_mandat(mandat)\n",
    "        except AssertionError :\n",
    "            numProbleme.append(i)\n",
    "        else :#ne marche pas en elif ! A cause du try\n",
    "            df[\"nom du député\"]=listeDepute['Nom'][i]\n",
    "            \n",
    "            if len(liste)==0: #On initialise avec le premier mandat\n",
    "                liste=df\n",
    "                  \n",
    "            else:\n",
    "                liste=pd.concat([liste,df])#on fusionne les mandats\n",
    "                \n",
    "tps2=time.time()  \n",
    "tps=tps2-tps1    \n",
    "        \n",
    "liste.head(5)\n",
    "df_naiss"
   ]
  },
  {
   "cell_type": "markdown",
   "metadata": {},
   "source": [
    "Il y des pages de députés jusqu'à 19500 sur le site."
   ]
  },
  {
   "cell_type": "code",
   "execution_count": 91,
   "metadata": {},
   "outputs": [
    {
     "data": {
      "text/plain": [
       "[]"
      ]
     },
     "execution_count": 91,
     "metadata": {},
     "output_type": "execute_result"
    }
   ],
   "source": [
    "liste"
   ]
  },
  {
   "cell_type": "code",
   "execution_count": 99,
   "metadata": {},
   "outputs": [],
   "source": [
    "liste=liste.rename(columns={' Département': 'Département', ' Groupe': 'Groupe', ' Législature': 'Législature', ' Mandat' :'Mandat'})"
   ]
  },
  {
   "cell_type": "code",
   "execution_count": 100,
   "metadata": {},
   "outputs": [],
   "source": [
    "liste_dep=liste[['Département', 'Groupe', 'Législature', 'Mandat', 'Régime politique', 'nom du député']]"
   ]
  },
  {
   "cell_type": "code",
   "execution_count": 82,
   "metadata": {},
   "outputs": [
    {
     "data": {
      "text/plain": [
       "[]"
      ]
     },
     "execution_count": 82,
     "metadata": {},
     "output_type": "execute_result"
    }
   ],
   "source": [
    "liste"
   ]
  },
  {
   "cell_type": "code",
   "execution_count": 37,
   "metadata": {},
   "outputs": [],
   "source": [
    "liste_dep.to_csv(r'C:\\Users\\sylva\\Desktop\\git\\Projet-Python-deputes\\liste_mandat.csv')\n",
    "#on met les données sur csv pour ne pas avoir à rescrapper à chaque fois"
   ]
  },
  {
   "cell_type": "code",
   "execution_count": null,
   "metadata": {},
   "outputs": [],
   "source": [
    "len(liste)/len(numProbleme)"
   ]
  },
  {
   "cell_type": "markdown",
   "metadata": {},
   "source": [
    "*Formatage des dates"
   ]
  },
  {
   "cell_type": "code",
   "execution_count": 97,
   "metadata": {},
   "outputs": [
    {
     "data": {
      "text/html": [
       "<div>\n",
       "<style scoped>\n",
       "    .dataframe tbody tr th:only-of-type {\n",
       "        vertical-align: middle;\n",
       "    }\n",
       "\n",
       "    .dataframe tbody tr th {\n",
       "        vertical-align: top;\n",
       "    }\n",
       "\n",
       "    .dataframe thead th {\n",
       "        text-align: right;\n",
       "    }\n",
       "</style>\n",
       "<table border=\"1\" class=\"dataframe\">\n",
       "  <thead>\n",
       "    <tr style=\"text-align: right;\">\n",
       "      <th></th>\n",
       "      <th>Unnamed: 0</th>\n",
       "      <th>Département</th>\n",
       "      <th>Groupe</th>\n",
       "      <th>Législature</th>\n",
       "      <th>Mandat</th>\n",
       "      <th>Régime politique</th>\n",
       "      <th>nom du député</th>\n",
       "    </tr>\n",
       "  </thead>\n",
       "  <tbody>\n",
       "    <tr>\n",
       "      <th>0</th>\n",
       "      <td>0</td>\n",
       "      <td>Anciens départements d'Algérie</td>\n",
       "      <td>Socialiste</td>\n",
       "      <td>Ire Assemblée nationale constituante</td>\n",
       "      <td>Du 21 octobre 1945 au 19 février 1946</td>\n",
       "      <td>Gouvernement provisoire de la République franç...</td>\n",
       "      <td>Bachir Ben Mohamed Abddelouahab</td>\n",
       "    </tr>\n",
       "    <tr>\n",
       "      <th>1</th>\n",
       "      <td>0</td>\n",
       "      <td>Anciens départements d'Algérie</td>\n",
       "      <td>Unité de la République</td>\n",
       "      <td>Ire législature</td>\n",
       "      <td>Du 30 novembre 1958 au 3 juillet 1962</td>\n",
       "      <td>Cinquième République - Assemblée nationale</td>\n",
       "      <td>Robert Abdesselam</td>\n",
       "    </tr>\n",
       "    <tr>\n",
       "      <th>2</th>\n",
       "      <td>0</td>\n",
       "      <td>Territoire français des Affars et des Issas</td>\n",
       "      <td>Union démocratique pour la V° République</td>\n",
       "      <td>IIIe législature</td>\n",
       "      <td>Du 23 avril 1967 au 30 mai 1968</td>\n",
       "      <td>Cinquième République - Assemblée nationale</td>\n",
       "      <td>Moussa Ali Abdoulkader</td>\n",
       "    </tr>\n",
       "    <tr>\n",
       "      <th>3</th>\n",
       "      <td>0</td>\n",
       "      <td>Territoire français des Affars et des Issas</td>\n",
       "      <td>Union des démocrates pour la République</td>\n",
       "      <td>IVe législature</td>\n",
       "      <td>Du 23 juin 1968 au  1er avril 1973</td>\n",
       "      <td>Cinquième République - Assemblée nationale</td>\n",
       "      <td>Moussa Ali Abdoulkader</td>\n",
       "    </tr>\n",
       "    <tr>\n",
       "      <th>4</th>\n",
       "      <td>0</td>\n",
       "      <td>Haute-Garonne</td>\n",
       "      <td>Républicain</td>\n",
       "      <td>IVe législature</td>\n",
       "      <td>Du 18 octobre 1885 au 11 novembre 1889</td>\n",
       "      <td>Troisième République - Chambre des députés</td>\n",
       "      <td>Valentin Abeille</td>\n",
       "    </tr>\n",
       "  </tbody>\n",
       "</table>\n",
       "</div>"
      ],
      "text/plain": [
       "   Unnamed: 0                                   Département  \\\n",
       "0           0                Anciens départements d'Algérie   \n",
       "1           0                Anciens départements d'Algérie   \n",
       "2           0   Territoire français des Affars et des Issas   \n",
       "3           0   Territoire français des Affars et des Issas   \n",
       "4           0                                 Haute-Garonne   \n",
       "\n",
       "                                      Groupe  \\\n",
       "0                                 Socialiste   \n",
       "1                     Unité de la République   \n",
       "2   Union démocratique pour la V° République   \n",
       "3    Union des démocrates pour la République   \n",
       "4                                Républicain   \n",
       "\n",
       "                              Législature  \\\n",
       "0   Ire Assemblée nationale constituante    \n",
       "1                        Ire législature    \n",
       "2                       IIIe législature    \n",
       "3                        IVe législature    \n",
       "4                        IVe législature    \n",
       "\n",
       "                                    Mandat  \\\n",
       "0    Du 21 octobre 1945 au 19 février 1946   \n",
       "1    Du 30 novembre 1958 au 3 juillet 1962   \n",
       "2          Du 23 avril 1967 au 30 mai 1968   \n",
       "3       Du 23 juin 1968 au  1er avril 1973   \n",
       "4   Du 18 octobre 1885 au 11 novembre 1889   \n",
       "\n",
       "                                    Régime politique  \\\n",
       "0  Gouvernement provisoire de la République franç...   \n",
       "1         Cinquième République - Assemblée nationale   \n",
       "2         Cinquième République - Assemblée nationale   \n",
       "3         Cinquième République - Assemblée nationale   \n",
       "4         Troisième République - Chambre des députés   \n",
       "\n",
       "                      nom du député  \n",
       "0   Bachir Ben Mohamed Abddelouahab  \n",
       "1                 Robert Abdesselam  \n",
       "2            Moussa Ali Abdoulkader  \n",
       "3            Moussa Ali Abdoulkader  \n",
       "4                  Valentin Abeille  "
      ]
     },
     "execution_count": 97,
     "metadata": {},
     "output_type": "execute_result"
    }
   ],
   "source": [
    "df=pd.read_csv(\"C:/Users/Administrateur.LAPTOP-FH8TB47B/Desktop/Projet_assemblee/liste_mandat.csv\") \n",
    "df.head()"
   ]
  },
  {
   "cell_type": "code",
   "execution_count": 98,
   "metadata": {},
   "outputs": [
    {
     "data": {
      "text/html": [
       "<div>\n",
       "<style scoped>\n",
       "    .dataframe tbody tr th:only-of-type {\n",
       "        vertical-align: middle;\n",
       "    }\n",
       "\n",
       "    .dataframe tbody tr th {\n",
       "        vertical-align: top;\n",
       "    }\n",
       "\n",
       "    .dataframe thead th {\n",
       "        text-align: right;\n",
       "    }\n",
       "</style>\n",
       "<table border=\"1\" class=\"dataframe\">\n",
       "  <thead>\n",
       "    <tr style=\"text-align: right;\">\n",
       "      <th></th>\n",
       "      <th>Unnamed: 0</th>\n",
       "      <th>Département</th>\n",
       "      <th>Groupe</th>\n",
       "      <th>Législature</th>\n",
       "      <th>Mandat</th>\n",
       "      <th>Régime politique</th>\n",
       "      <th>nom du député</th>\n",
       "      <th>Debut Mandat</th>\n",
       "    </tr>\n",
       "  </thead>\n",
       "  <tbody>\n",
       "    <tr>\n",
       "      <th>0</th>\n",
       "      <td>0</td>\n",
       "      <td>Anciens départements d'Algérie</td>\n",
       "      <td>Socialiste</td>\n",
       "      <td>Ire Assemblée nationale constituante</td>\n",
       "      <td>Du 21 octobre 1945 au 19 février 1946</td>\n",
       "      <td>Gouvernement provisoire de la République franç...</td>\n",
       "      <td>Bachir Ben Mohamed Abddelouahab</td>\n",
       "      <td>21 octobre 1945</td>\n",
       "    </tr>\n",
       "    <tr>\n",
       "      <th>1</th>\n",
       "      <td>0</td>\n",
       "      <td>Anciens départements d'Algérie</td>\n",
       "      <td>Unité de la République</td>\n",
       "      <td>Ire législature</td>\n",
       "      <td>Du 30 novembre 1958 au 3 juillet 1962</td>\n",
       "      <td>Cinquième République - Assemblée nationale</td>\n",
       "      <td>Robert Abdesselam</td>\n",
       "      <td>30 novembre 1958</td>\n",
       "    </tr>\n",
       "    <tr>\n",
       "      <th>2</th>\n",
       "      <td>0</td>\n",
       "      <td>Territoire français des Affars et des Issas</td>\n",
       "      <td>Union démocratique pour la V° République</td>\n",
       "      <td>IIIe législature</td>\n",
       "      <td>Du 23 avril 1967 au 30 mai 1968</td>\n",
       "      <td>Cinquième République - Assemblée nationale</td>\n",
       "      <td>Moussa Ali Abdoulkader</td>\n",
       "      <td>23 avril 1967</td>\n",
       "    </tr>\n",
       "    <tr>\n",
       "      <th>3</th>\n",
       "      <td>0</td>\n",
       "      <td>Territoire français des Affars et des Issas</td>\n",
       "      <td>Union des démocrates pour la République</td>\n",
       "      <td>IVe législature</td>\n",
       "      <td>Du 23 juin 1968 au  1er avril 1973</td>\n",
       "      <td>Cinquième République - Assemblée nationale</td>\n",
       "      <td>Moussa Ali Abdoulkader</td>\n",
       "      <td>23 juin 1968</td>\n",
       "    </tr>\n",
       "    <tr>\n",
       "      <th>4</th>\n",
       "      <td>0</td>\n",
       "      <td>Haute-Garonne</td>\n",
       "      <td>Républicain</td>\n",
       "      <td>IVe législature</td>\n",
       "      <td>Du 18 octobre 1885 au 11 novembre 1889</td>\n",
       "      <td>Troisième République - Chambre des députés</td>\n",
       "      <td>Valentin Abeille</td>\n",
       "      <td>18 octobre 1885</td>\n",
       "    </tr>\n",
       "  </tbody>\n",
       "</table>\n",
       "</div>"
      ],
      "text/plain": [
       "   Unnamed: 0                                   Département  \\\n",
       "0           0                Anciens départements d'Algérie   \n",
       "1           0                Anciens départements d'Algérie   \n",
       "2           0   Territoire français des Affars et des Issas   \n",
       "3           0   Territoire français des Affars et des Issas   \n",
       "4           0                                 Haute-Garonne   \n",
       "\n",
       "                                      Groupe  \\\n",
       "0                                 Socialiste   \n",
       "1                     Unité de la République   \n",
       "2   Union démocratique pour la V° République   \n",
       "3    Union des démocrates pour la République   \n",
       "4                                Républicain   \n",
       "\n",
       "                              Législature  \\\n",
       "0   Ire Assemblée nationale constituante    \n",
       "1                        Ire législature    \n",
       "2                       IIIe législature    \n",
       "3                        IVe législature    \n",
       "4                        IVe législature    \n",
       "\n",
       "                                    Mandat  \\\n",
       "0    Du 21 octobre 1945 au 19 février 1946   \n",
       "1    Du 30 novembre 1958 au 3 juillet 1962   \n",
       "2          Du 23 avril 1967 au 30 mai 1968   \n",
       "3       Du 23 juin 1968 au  1er avril 1973   \n",
       "4   Du 18 octobre 1885 au 11 novembre 1889   \n",
       "\n",
       "                                    Régime politique  \\\n",
       "0  Gouvernement provisoire de la République franç...   \n",
       "1         Cinquième République - Assemblée nationale   \n",
       "2         Cinquième République - Assemblée nationale   \n",
       "3         Cinquième République - Assemblée nationale   \n",
       "4         Troisième République - Chambre des députés   \n",
       "\n",
       "                      nom du député      Debut Mandat  \n",
       "0   Bachir Ben Mohamed Abddelouahab   21 octobre 1945  \n",
       "1                 Robert Abdesselam  30 novembre 1958  \n",
       "2            Moussa Ali Abdoulkader     23 avril 1967  \n",
       "3            Moussa Ali Abdoulkader      23 juin 1968  \n",
       "4                  Valentin Abeille   18 octobre 1885  "
      ]
     },
     "execution_count": 98,
     "metadata": {},
     "output_type": "execute_result"
    }
   ],
   "source": [
    "debut_mandat=[]\n",
    "for dates in df[\"Mandat\"]:\n",
    "    dates=str(dates).split()\n",
    "    debut_mandat.append(' '.join(dates[1:4]))\n",
    "    \n",
    "df[\"Debut Mandat\"]=np.array(debut_mandat)\n",
    "df.head()"
   ]
  }
 ],
 "metadata": {
  "kernelspec": {
   "display_name": "Python 3",
   "language": "python",
   "name": "python3"
  },
  "language_info": {
   "codemirror_mode": {
    "name": "ipython",
    "version": 3
   },
   "file_extension": ".py",
   "mimetype": "text/x-python",
   "name": "python",
   "nbconvert_exporter": "python",
   "pygments_lexer": "ipython3",
   "version": "3.7.3"
  }
 },
 "nbformat": 4,
 "nbformat_minor": 2
}

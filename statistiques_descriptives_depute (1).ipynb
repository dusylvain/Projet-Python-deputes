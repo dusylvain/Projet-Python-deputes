{
 "cells": [
  {
   "cell_type": "code",
   "execution_count": 4,
   "metadata": {},
   "outputs": [],
   "source": [
    "import pandas as pd\n",
    "import numpy as np\n",
    "import geopandas as gpd"
   ]
  },
  {
   "cell_type": "code",
   "execution_count": 5,
   "metadata": {},
   "outputs": [],
   "source": [
    "df=pd.read_csv(\"C:/Users/sylva/Desktop/git/Projet-Python-deputes/liste_mandat.csv\")#on récupère le csv de la liste des mandats\n",
    "df_depu=pd.read_csv(\"C:/Users/sylva/Desktop/git/Projet-Python-deputes/listeDepute_complete.csv\")"
   ]
  },
  {
   "cell_type": "code",
   "execution_count": 122,
   "metadata": {},
   "outputs": [],
   "source": [
    "mandat_dep=df.sort_values(by='Département')\n"
   ]
  },
  {
   "cell_type": "code",
   "execution_count": null,
   "metadata": {},
   "outputs": [],
   "source": [
    "mandat_dep['âge député']=mandat_dep[df_depu['date naissance'][df_depu['nom'==mandat_dep[mandat_dep['nom']]]]-mandat_dep['date']]"
   ]
  },
  {
   "cell_type": "code",
   "execution_count": 123,
   "metadata": {},
   "outputs": [],
   "source": [
    "dep_possible=list(mandat_dep['Département'].unique())#une liste de tous les départements mentionnés\n",
    "dep_possible.remove(\" Département d'élection inconnu\")\n",
    "for dep in dep_possible :#on enlève les nan\n",
    "    if type(dep)!=str :\n",
    "        dep_possible.remove(dep)\n",
    "#dep_possible#attention, il y a souvent un espace avant !\n"
   ]
  },
  {
   "cell_type": "code",
   "execution_count": 124,
   "metadata": {},
   "outputs": [
    {
     "data": {
      "text/plain": [
       "Unnamed: 0          37761\n",
       "Département         36431\n",
       "Groupe              33607\n",
       "Législature         37748\n",
       "Mandat              37748\n",
       "Régime politique    37745\n",
       "nom du député       37761\n",
       "dtype: int64"
      ]
     },
     "execution_count": 124,
     "metadata": {},
     "output_type": "execute_result"
    }
   ],
   "source": [
    "mandat_dep.count()#on vérifie qu'il n'y a pas trop de manques"
   ]
  },
  {
   "cell_type": "code",
   "execution_count": 125,
   "metadata": {},
   "outputs": [],
   "source": [
    "mandat_dep.set_index('Département', inplace=True)#on met département en index pour pouvoir scinder par départements"
   ]
  },
  {
   "cell_type": "code",
   "execution_count": 126,
   "metadata": {},
   "outputs": [],
   "source": [
    "liste_dep={}#on crée un dictionnaire où on va mettre les dataframes par départements\n",
    "for dep in dep_possible:#pour chaque département\n",
    "    mand_du_dep=mandat_dep.loc[dep]#on récupère le dataframe des mandats dans le département     \n",
    "    liste_dep[dep]=mand_du_dep#et on l'ajoute au dictionnaire\n"
   ]
  },
  {
   "cell_type": "code",
   "execution_count": 127,
   "metadata": {},
   "outputs": [],
   "source": [
    "carac_dep={}\n",
    "for dep in dep_possible :\n",
    "    nbre_mandat=liste_dep[dep]['nom du député'].count()#on compte le nombre total de mandat dans le département\n",
    "    cpte_depute=0#on crée la variable qui va compter le nombre de députés différents\n",
    "    compte=[]#on crée une liste où on va mettre les députés déjà comptés\n",
    "    for depute in liste_dep[dep]['nom du député'] :#on boucle sur les noms de députés\n",
    "        if depute not in compte :#si on ne l'a pas déjà compté\n",
    "            cpte_depute+=1#on rajoute un au compte\n",
    "            compte.append(depute)#et on indique qu'on l'a désormais compté\n",
    "    carac_dep[dep]=pd.DataFrame(['nombre_mandat', 'nombre député','nombre moyen de mandats par député'], [nbre_mandat, cpte_depute, nbre_mandat/cpte_depute])#on crée un dataframe avec les informations\n",
    "    \n",
    "\n"
   ]
  },
  {
   "cell_type": "code",
   "execution_count": null,
   "metadata": {},
   "outputs": [],
   "source": []
  }
 ],
 "metadata": {
  "kernelspec": {
   "display_name": "Python 3",
   "language": "python",
   "name": "python3"
  },
  "language_info": {
   "codemirror_mode": {
    "name": "ipython",
    "version": 3
   },
   "file_extension": ".py",
   "mimetype": "text/x-python",
   "name": "python",
   "nbconvert_exporter": "python",
   "pygments_lexer": "ipython3",
   "version": "3.7.3"
  }
 },
 "nbformat": 4,
 "nbformat_minor": 2
}

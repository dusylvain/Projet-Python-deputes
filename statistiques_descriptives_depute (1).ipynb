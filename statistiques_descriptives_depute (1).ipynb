{
 "cells": [
  {
   "cell_type": "code",
   "execution_count": 1,
   "metadata": {},
   "outputs": [],
   "source": [
    "import pandas as pd\n",
    "import numpy as np\n",
    "import geopandas as gpd\n",
    "import descartes"
   ]
  },
  {
   "cell_type": "code",
   "execution_count": 11,
   "metadata": {},
   "outputs": [],
   "source": [
    "import descartes"
   ]
  },
  {
   "cell_type": "code",
   "execution_count": 22,
   "metadata": {},
   "outputs": [],
   "source": [
    "user='S'\n",
    "\n",
    "if user=='S':\n",
    "    df=pd.read_csv(\"C:/Users/sylva/Desktop/git/Projet-Python-deputes/liste_mandat.csv\")#on récupère le csv de la liste des mandats\n",
    "    df_depu=pd.read_csv(\"C:/Users/sylva/Desktop/git/Projet-Python-deputes/listeDepute_complete.csv\")\n",
    "\n",
    "if user=='G':\n",
    "    df=pd.read_csv(\"C:/Users/Administrateur.LAPTOP-FH8TB47B/Desktop/Projet_assemblee/liste_mandatdef.csv\") \n",
    "    df_depu=pd.read_csv(\"C:/Users/Administrateur.LAPTOP-FH8TB47B/Desktop/Projet_assemblee/listeDepute_complete.csv\")\n"
   ]
  },
  {
   "cell_type": "code",
   "execution_count": 23,
   "metadata": {},
   "outputs": [
    {
     "data": {
      "text/html": [
       "<div>\n",
       "<style scoped>\n",
       "    .dataframe tbody tr th:only-of-type {\n",
       "        vertical-align: middle;\n",
       "    }\n",
       "\n",
       "    .dataframe tbody tr th {\n",
       "        vertical-align: top;\n",
       "    }\n",
       "\n",
       "    .dataframe thead th {\n",
       "        text-align: right;\n",
       "    }\n",
       "</style>\n",
       "<table border=\"1\" class=\"dataframe\">\n",
       "  <thead>\n",
       "    <tr style=\"text-align: right;\">\n",
       "      <th></th>\n",
       "      <th>Unnamed: 0</th>\n",
       "      <th>Département</th>\n",
       "      <th>Groupe</th>\n",
       "      <th>Législature</th>\n",
       "      <th>Mandat</th>\n",
       "      <th>Régime politique</th>\n",
       "      <th>Nom</th>\n",
       "      <th>Debut Mandat</th>\n",
       "    </tr>\n",
       "  </thead>\n",
       "  <tbody>\n",
       "    <tr>\n",
       "      <th>0</th>\n",
       "      <td>0</td>\n",
       "      <td>Territoire-de-Belfort</td>\n",
       "      <td>Union pour la majorité présidentielle</td>\n",
       "      <td>XIIe législature</td>\n",
       "      <td>Du 19 juin 2002 au 19 juin 2007</td>\n",
       "      <td>Cinquième République - Assemblée nationale</td>\n",
       "      <td>Damien Meslot</td>\n",
       "      <td>19 juin 2002</td>\n",
       "    </tr>\n",
       "    <tr>\n",
       "      <th>1</th>\n",
       "      <td>0</td>\n",
       "      <td>Territoire-de-Belfort</td>\n",
       "      <td>Union pour un mouvement populaire</td>\n",
       "      <td>XIIIe législature</td>\n",
       "      <td>Du 20 juin 2007 au 19 juin 2012</td>\n",
       "      <td>Cinquième République - Assemblée nationale</td>\n",
       "      <td>Damien Meslot</td>\n",
       "      <td>20 juin 2007</td>\n",
       "    </tr>\n",
       "    <tr>\n",
       "      <th>2</th>\n",
       "      <td>0</td>\n",
       "      <td>Territoire-de-Belfort</td>\n",
       "      <td>Union pour un mouvement populaire</td>\n",
       "      <td>XIVe législature</td>\n",
       "      <td>Du 20 juin 2012 au 20 juin 2017</td>\n",
       "      <td>Cinquième République - Assemblée nationale</td>\n",
       "      <td>Damien Meslot</td>\n",
       "      <td>20 juin 2012</td>\n",
       "    </tr>\n",
       "    <tr>\n",
       "      <th>3</th>\n",
       "      <td>0</td>\n",
       "      <td>Ille-et-Vilaine</td>\n",
       "      <td>La République en Marche</td>\n",
       "      <td>XVe législature (Législature en cours)</td>\n",
       "      <td>Depuis le 21 juin 2017 (mandat en cours)</td>\n",
       "      <td>Cinquième République - Assemblée nationale</td>\n",
       "      <td>Christine Cloarec-Le Nabour</td>\n",
       "      <td>le 21 juin</td>\n",
       "    </tr>\n",
       "    <tr>\n",
       "      <th>4</th>\n",
       "      <td>0</td>\n",
       "      <td>Ardèche</td>\n",
       "      <td>Socialiste</td>\n",
       "      <td>XIe législature</td>\n",
       "      <td>Du  1er juin 1997 au 18 juin 2002</td>\n",
       "      <td>Cinquième République - Assemblée nationale</td>\n",
       "      <td>Pascal Terrasse</td>\n",
       "      <td>1er juin 1997</td>\n",
       "    </tr>\n",
       "  </tbody>\n",
       "</table>\n",
       "</div>"
      ],
      "text/plain": [
       "   Unnamed: 0             Département                                  Groupe  \\\n",
       "0           0   Territoire-de-Belfort   Union pour la majorité présidentielle   \n",
       "1           0   Territoire-de-Belfort       Union pour un mouvement populaire   \n",
       "2           0   Territoire-de-Belfort       Union pour un mouvement populaire   \n",
       "3           0         Ille-et-Vilaine                 La République en Marche   \n",
       "4           0                 Ardèche                              Socialiste   \n",
       "\n",
       "                               Législature  \\\n",
       "0                        XIIe législature    \n",
       "1                       XIIIe législature    \n",
       "2                        XIVe législature    \n",
       "3   XVe législature (Législature en cours)   \n",
       "4                         XIe législature    \n",
       "\n",
       "                                      Mandat  \\\n",
       "0            Du 19 juin 2002 au 19 juin 2007   \n",
       "1            Du 20 juin 2007 au 19 juin 2012   \n",
       "2            Du 20 juin 2012 au 20 juin 2017   \n",
       "3   Depuis le 21 juin 2017 (mandat en cours)   \n",
       "4          Du  1er juin 1997 au 18 juin 2002   \n",
       "\n",
       "                             Régime politique                          Nom  \\\n",
       "0  Cinquième République - Assemblée nationale                Damien Meslot   \n",
       "1  Cinquième République - Assemblée nationale                Damien Meslot   \n",
       "2  Cinquième République - Assemblée nationale                Damien Meslot   \n",
       "3  Cinquième République - Assemblée nationale  Christine Cloarec-Le Nabour   \n",
       "4  Cinquième République - Assemblée nationale              Pascal Terrasse   \n",
       "\n",
       "    Debut Mandat  \n",
       "0   19 juin 2002  \n",
       "1   20 juin 2007  \n",
       "2   20 juin 2012  \n",
       "3     le 21 juin  \n",
       "4  1er juin 1997  "
      ]
     },
     "execution_count": 23,
     "metadata": {},
     "output_type": "execute_result"
    }
   ],
   "source": [
    "debut_mandat=[]\n",
    "for dates in df[\"Mandat\"]:\n",
    "    dates=str(dates).split()\n",
    "    debut_mandat.append(' '.join(dates[1:4]))\n",
    "    \n",
    "df[\"Debut Mandat\"]=np.array(debut_mandat)\n",
    "df.head()"
   ]
  },
  {
   "cell_type": "code",
   "execution_count": 24,
   "metadata": {},
   "outputs": [
    {
     "data": {
      "text/html": [
       "<div>\n",
       "<style scoped>\n",
       "    .dataframe tbody tr th:only-of-type {\n",
       "        vertical-align: middle;\n",
       "    }\n",
       "\n",
       "    .dataframe tbody tr th {\n",
       "        vertical-align: top;\n",
       "    }\n",
       "\n",
       "    .dataframe thead th {\n",
       "        text-align: right;\n",
       "    }\n",
       "</style>\n",
       "<table border=\"1\" class=\"dataframe\">\n",
       "  <thead>\n",
       "    <tr style=\"text-align: right;\">\n",
       "      <th></th>\n",
       "      <th>Unnamed: 0</th>\n",
       "      <th>Département</th>\n",
       "      <th>Groupe</th>\n",
       "      <th>Législature</th>\n",
       "      <th>Mandat</th>\n",
       "      <th>Régime politique</th>\n",
       "      <th>Nom</th>\n",
       "      <th>Debut Mandat</th>\n",
       "    </tr>\n",
       "  </thead>\n",
       "  <tbody>\n",
       "    <tr>\n",
       "      <th>28119</th>\n",
       "      <td>0</td>\n",
       "      <td>Ain</td>\n",
       "      <td>Majorité ministérielle</td>\n",
       "      <td>IVe législature</td>\n",
       "      <td>Du 24 novembre 1827 au 16 mai 1830</td>\n",
       "      <td>Seconde Restauration - Chambre des députés des...</td>\n",
       "      <td>Jean-Baptiste, Antoine Georgette du Buisson de...</td>\n",
       "      <td>24 novembre 1827</td>\n",
       "    </tr>\n",
       "    <tr>\n",
       "      <th>7717</th>\n",
       "      <td>0</td>\n",
       "      <td>Ain</td>\n",
       "      <td>Mouvement républicain populaire</td>\n",
       "      <td>Ire Assemblée nationale constituante</td>\n",
       "      <td>Du 21 octobre 1945 au 10 juin 1946</td>\n",
       "      <td>Gouvernement provisoire de la République franç...</td>\n",
       "      <td>Pierre, Hector Dominjon</td>\n",
       "      <td>21 octobre 1945</td>\n",
       "    </tr>\n",
       "    <tr>\n",
       "      <th>5277</th>\n",
       "      <td>0</td>\n",
       "      <td>Ain</td>\n",
       "      <td>Socialiste</td>\n",
       "      <td>VIIe législature</td>\n",
       "      <td>Du 2 juillet 1981 au  1er avril 1986</td>\n",
       "      <td>Cinquième République - Assemblée nationale</td>\n",
       "      <td>Louis Robin</td>\n",
       "      <td>2 juillet 1981</td>\n",
       "    </tr>\n",
       "    <tr>\n",
       "      <th>30945</th>\n",
       "      <td>0</td>\n",
       "      <td>Ain</td>\n",
       "      <td>Droite</td>\n",
       "      <td>IIIe législature</td>\n",
       "      <td>Du 6 mars 1824 au 5 novembre 1827</td>\n",
       "      <td>Seconde Restauration - Chambre des députés des...</td>\n",
       "      <td>Claude, Marie, Joseph Dumarché-Bolozon</td>\n",
       "      <td>6 mars 1824</td>\n",
       "    </tr>\n",
       "    <tr>\n",
       "      <th>30944</th>\n",
       "      <td>0</td>\n",
       "      <td>Ain</td>\n",
       "      <td>Droite</td>\n",
       "      <td>IIe législature</td>\n",
       "      <td>Du 20 novembre 1822 au 24 décembre 1823</td>\n",
       "      <td>Seconde Restauration - Chambre des députés des...</td>\n",
       "      <td>Claude, Marie, Joseph Dumarché-Bolozon</td>\n",
       "      <td>20 novembre 1822</td>\n",
       "    </tr>\n",
       "  </tbody>\n",
       "</table>\n",
       "</div>"
      ],
      "text/plain": [
       "       Unnamed: 0 Département                            Groupe  \\\n",
       "28119           0         Ain            Majorité ministérielle   \n",
       "7717            0         Ain   Mouvement républicain populaire   \n",
       "5277            0         Ain                       Socialiste    \n",
       "30945           0         Ain                            Droite   \n",
       "30944           0         Ain                            Droite   \n",
       "\n",
       "                                  Législature  \\\n",
       "28119                        IVe législature    \n",
       "7717    Ire Assemblée nationale constituante    \n",
       "5277                        VIIe législature    \n",
       "30945                       IIIe législature    \n",
       "30944                        IIe législature    \n",
       "\n",
       "                                         Mandat  \\\n",
       "28119        Du 24 novembre 1827 au 16 mai 1830   \n",
       "7717         Du 21 octobre 1945 au 10 juin 1946   \n",
       "5277       Du 2 juillet 1981 au  1er avril 1986   \n",
       "30945         Du 6 mars 1824 au 5 novembre 1827   \n",
       "30944   Du 20 novembre 1822 au 24 décembre 1823   \n",
       "\n",
       "                                        Régime politique  \\\n",
       "28119  Seconde Restauration - Chambre des députés des...   \n",
       "7717   Gouvernement provisoire de la République franç...   \n",
       "5277          Cinquième République - Assemblée nationale   \n",
       "30945  Seconde Restauration - Chambre des députés des...   \n",
       "30944  Seconde Restauration - Chambre des députés des...   \n",
       "\n",
       "                                                     Nom      Debut Mandat  \n",
       "28119  Jean-Baptiste, Antoine Georgette du Buisson de...  24 novembre 1827  \n",
       "7717                             Pierre, Hector Dominjon   21 octobre 1945  \n",
       "5277                                         Louis Robin    2 juillet 1981  \n",
       "30945             Claude, Marie, Joseph Dumarché-Bolozon       6 mars 1824  \n",
       "30944             Claude, Marie, Joseph Dumarché-Bolozon  20 novembre 1822  "
      ]
     },
     "execution_count": 24,
     "metadata": {},
     "output_type": "execute_result"
    }
   ],
   "source": [
    "mandat_dep=df.sort_values(by='Département')\n",
    "mandat_dep.head()"
   ]
  },
  {
   "cell_type": "code",
   "execution_count": 25,
   "metadata": {
    "scrolled": true
   },
   "outputs": [
    {
     "data": {
      "text/html": [
       "<div>\n",
       "<style scoped>\n",
       "    .dataframe tbody tr th:only-of-type {\n",
       "        vertical-align: middle;\n",
       "    }\n",
       "\n",
       "    .dataframe tbody tr th {\n",
       "        vertical-align: top;\n",
       "    }\n",
       "\n",
       "    .dataframe thead th {\n",
       "        text-align: right;\n",
       "    }\n",
       "</style>\n",
       "<table border=\"1\" class=\"dataframe\">\n",
       "  <thead>\n",
       "    <tr style=\"text-align: right;\">\n",
       "      <th></th>\n",
       "      <th>Unnamed: 0</th>\n",
       "      <th>Nom</th>\n",
       "      <th>Né le</th>\n",
       "      <th>Département de naissance</th>\n",
       "      <th>Département de mort</th>\n",
       "    </tr>\n",
       "  </thead>\n",
       "  <tbody>\n",
       "    <tr>\n",
       "      <th>0</th>\n",
       "      <td>0</td>\n",
       "      <td>Damien Meslot</td>\n",
       "      <td>11 novembre 1964</td>\n",
       "      <td>Inconnu</td>\n",
       "      <td>Inconnu</td>\n",
       "    </tr>\n",
       "    <tr>\n",
       "      <th>1</th>\n",
       "      <td>1</td>\n",
       "      <td>Pierre-Yves Le Borgn'</td>\n",
       "      <td>4 novembre 1964</td>\n",
       "      <td>Finistère</td>\n",
       "      <td>Inconnu</td>\n",
       "    </tr>\n",
       "    <tr>\n",
       "      <th>2</th>\n",
       "      <td>2</td>\n",
       "      <td>Christine Cloarec-Le Nabour</td>\n",
       "      <td>28 octobre 1964</td>\n",
       "      <td>Inconnu</td>\n",
       "      <td>Inconnu</td>\n",
       "    </tr>\n",
       "    <tr>\n",
       "      <th>3</th>\n",
       "      <td>3</td>\n",
       "      <td>Malek Boutih</td>\n",
       "      <td>27 octobre 1964</td>\n",
       "      <td>Inconnu</td>\n",
       "      <td>Inconnu</td>\n",
       "    </tr>\n",
       "    <tr>\n",
       "      <th>4</th>\n",
       "      <td>4</td>\n",
       "      <td>Pascal Terrasse</td>\n",
       "      <td>26 octobre 1964</td>\n",
       "      <td>Gard</td>\n",
       "      <td>Inconnu</td>\n",
       "    </tr>\n",
       "  </tbody>\n",
       "</table>\n",
       "</div>"
      ],
      "text/plain": [
       "   Unnamed: 0                          Nom             Né le  \\\n",
       "0           0                Damien Meslot  11 novembre 1964   \n",
       "1           1        Pierre-Yves Le Borgn'   4 novembre 1964   \n",
       "2           2  Christine Cloarec-Le Nabour   28 octobre 1964   \n",
       "3           3                 Malek Boutih   27 octobre 1964   \n",
       "4           4              Pascal Terrasse   26 octobre 1964   \n",
       "\n",
       "  Département de naissance Département de mort  \n",
       "0                  Inconnu             Inconnu  \n",
       "1                Finistère             Inconnu  \n",
       "2                  Inconnu             Inconnu  \n",
       "3                  Inconnu             Inconnu  \n",
       "4                     Gard             Inconnu  "
      ]
     },
     "execution_count": 25,
     "metadata": {},
     "output_type": "execute_result"
    }
   ],
   "source": [
    "df_depu.head()"
   ]
  },
  {
   "cell_type": "markdown",
   "metadata": {},
   "source": [
    "<b> TRANSTYPAGE !!! (Je suis heureux que ça ait marché) "
   ]
  },
  {
   "cell_type": "code",
   "execution_count": 26,
   "metadata": {
    "scrolled": false
   },
   "outputs": [
    {
     "data": {
      "text/html": [
       "<div>\n",
       "<style scoped>\n",
       "    .dataframe tbody tr th:only-of-type {\n",
       "        vertical-align: middle;\n",
       "    }\n",
       "\n",
       "    .dataframe tbody tr th {\n",
       "        vertical-align: top;\n",
       "    }\n",
       "\n",
       "    .dataframe thead th {\n",
       "        text-align: right;\n",
       "    }\n",
       "</style>\n",
       "<table border=\"1\" class=\"dataframe\">\n",
       "  <thead>\n",
       "    <tr style=\"text-align: right;\">\n",
       "      <th></th>\n",
       "      <th>Unnamed: 0</th>\n",
       "      <th>Département</th>\n",
       "      <th>Groupe</th>\n",
       "      <th>Législature</th>\n",
       "      <th>Mandat</th>\n",
       "      <th>Régime politique</th>\n",
       "      <th>Debut Mandat</th>\n",
       "      <th>Né le</th>\n",
       "      <th>Date de naissance</th>\n",
       "      <th>Date debut mandat</th>\n",
       "    </tr>\n",
       "    <tr>\n",
       "      <th>Nom</th>\n",
       "      <th></th>\n",
       "      <th></th>\n",
       "      <th></th>\n",
       "      <th></th>\n",
       "      <th></th>\n",
       "      <th></th>\n",
       "      <th></th>\n",
       "      <th></th>\n",
       "      <th></th>\n",
       "      <th></th>\n",
       "    </tr>\n",
       "  </thead>\n",
       "  <tbody>\n",
       "    <tr>\n",
       "      <th>Jean-Baptiste, Antoine Georgette du Buisson de La Boulaye</th>\n",
       "      <td>0</td>\n",
       "      <td>Ain</td>\n",
       "      <td>Majorité ministérielle</td>\n",
       "      <td>IVe législature</td>\n",
       "      <td>Du 24 novembre 1827 au 16 mai 1830</td>\n",
       "      <td>Seconde Restauration - Chambre des députés des...</td>\n",
       "      <td>24 novembre 1827</td>\n",
       "      <td>12 novembre 1781</td>\n",
       "      <td>1781-12-11</td>\n",
       "      <td>1827-11-24</td>\n",
       "    </tr>\n",
       "    <tr>\n",
       "      <th>Pierre, Hector Dominjon</th>\n",
       "      <td>0</td>\n",
       "      <td>Ain</td>\n",
       "      <td>Mouvement républicain populaire</td>\n",
       "      <td>Ire Assemblée nationale constituante</td>\n",
       "      <td>Du 21 octobre 1945 au 10 juin 1946</td>\n",
       "      <td>Gouvernement provisoire de la République franç...</td>\n",
       "      <td>21 octobre 1945</td>\n",
       "      <td>8 octobre 1910</td>\n",
       "      <td>1910-08-10</td>\n",
       "      <td>1945-10-21</td>\n",
       "    </tr>\n",
       "  </tbody>\n",
       "</table>\n",
       "</div>"
      ],
      "text/plain": [
       "                                                    Unnamed: 0 Département  \\\n",
       "Nom                                                                          \n",
       "Jean-Baptiste, Antoine Georgette du Buisson de ...           0         Ain   \n",
       "Pierre, Hector Dominjon                                      0         Ain   \n",
       "\n",
       "                                                                              Groupe  \\\n",
       "Nom                                                                                    \n",
       "Jean-Baptiste, Antoine Georgette du Buisson de ...            Majorité ministérielle   \n",
       "Pierre, Hector Dominjon                              Mouvement républicain populaire   \n",
       "\n",
       "                                                                               Législature  \\\n",
       "Nom                                                                                          \n",
       "Jean-Baptiste, Antoine Georgette du Buisson de ...                        IVe législature    \n",
       "Pierre, Hector Dominjon                              Ire Assemblée nationale constituante    \n",
       "\n",
       "                                                                                 Mandat  \\\n",
       "Nom                                                                                       \n",
       "Jean-Baptiste, Antoine Georgette du Buisson de ...   Du 24 novembre 1827 au 16 mai 1830   \n",
       "Pierre, Hector Dominjon                              Du 21 octobre 1945 au 10 juin 1946   \n",
       "\n",
       "                                                                                     Régime politique  \\\n",
       "Nom                                                                                                     \n",
       "Jean-Baptiste, Antoine Georgette du Buisson de ...  Seconde Restauration - Chambre des députés des...   \n",
       "Pierre, Hector Dominjon                             Gouvernement provisoire de la République franç...   \n",
       "\n",
       "                                                        Debut Mandat  \\\n",
       "Nom                                                                    \n",
       "Jean-Baptiste, Antoine Georgette du Buisson de ...  24 novembre 1827   \n",
       "Pierre, Hector Dominjon                              21 octobre 1945   \n",
       "\n",
       "                                                               Né le  \\\n",
       "Nom                                                                    \n",
       "Jean-Baptiste, Antoine Georgette du Buisson de ...  12 novembre 1781   \n",
       "Pierre, Hector Dominjon                               8 octobre 1910   \n",
       "\n",
       "                                                   Date de naissance  \\\n",
       "Nom                                                                    \n",
       "Jean-Baptiste, Antoine Georgette du Buisson de ...        1781-12-11   \n",
       "Pierre, Hector Dominjon                                   1910-08-10   \n",
       "\n",
       "                                                   Date debut mandat  \n",
       "Nom                                                                   \n",
       "Jean-Baptiste, Antoine Georgette du Buisson de ...        1827-11-24  \n",
       "Pierre, Hector Dominjon                                   1945-10-21  "
      ]
     },
     "execution_count": 26,
     "metadata": {},
     "output_type": "execute_result"
    }
   ],
   "source": [
    "df_depu[[\"Nom\",\"Né le\"]].head(2)\n",
    "mandat_dep[[\"Nom\",\"Debut Mandat\"]].head(2)\n",
    "age_dep=mandat_dep.set_index('Nom').join(df_depu[[\"Nom\",\"Né le\"]].set_index('Nom'), on='Nom')\n",
    "dates=[]\n",
    "mandat_dep.reset_index()\n",
    "mois={'janvier':1,'février':2, 'mars':3, 'avril':4, 'mai':5, 'juin':6, 'juillet':7, 'août':8, 'septembre':9, 'octobre':10, 'novembre':11, 'décembre':12}\n",
    "def transtype_date(x):\n",
    "    x=str(x)        \n",
    "    date_texte=x.split() \n",
    "    if len(date_texte)>1 :\n",
    "        if  date_texte[1] in (mois.keys()):\n",
    "            if date_texte[0]==\"1er\":\n",
    "                date_texte[0]='1'\n",
    "            date_texte[1]=str(mois[date_texte[1]])\n",
    "            date_nombre='/'.join(date_texte)\n",
    "            return pd.to_datetime(date_nombre)\n",
    "    else:\n",
    "        return pd.NaT\n",
    "\n",
    "def nul(x):#pourquoi ?\n",
    "    return 0\n",
    "age_dep[\"Date de naissance\"]=age_dep[\"Né le\"].apply(lambda x: transtype_date(x))\n",
    "age_dep[\"Date debut mandat\"]=age_dep[\"Debut Mandat\"].apply(lambda x: transtype_date(x))\n",
    "age_dep.head(2)"
   ]
  },
  {
   "cell_type": "code",
   "execution_count": 27,
   "metadata": {},
   "outputs": [
    {
     "data": {
      "text/plain": [
       "Timedelta('12856 days 00:00:00')"
      ]
     },
     "execution_count": 27,
     "metadata": {},
     "output_type": "execute_result"
    }
   ],
   "source": [
    "#A convertir en année\n",
    "(age_dep[\"Date debut mandat\"][1]-age_dep[\"Date de naissance\"][1])"
   ]
  },
  {
   "cell_type": "code",
   "execution_count": 28,
   "metadata": {},
   "outputs": [
    {
     "data": {
      "text/html": [
       "<div>\n",
       "<style scoped>\n",
       "    .dataframe tbody tr th:only-of-type {\n",
       "        vertical-align: middle;\n",
       "    }\n",
       "\n",
       "    .dataframe tbody tr th {\n",
       "        vertical-align: top;\n",
       "    }\n",
       "\n",
       "    .dataframe thead th {\n",
       "        text-align: right;\n",
       "    }\n",
       "</style>\n",
       "<table border=\"1\" class=\"dataframe\">\n",
       "  <thead>\n",
       "    <tr style=\"text-align: right;\">\n",
       "      <th></th>\n",
       "      <th>Unnamed: 0</th>\n",
       "      <th>Département</th>\n",
       "      <th>Groupe</th>\n",
       "      <th>Législature</th>\n",
       "      <th>Mandat</th>\n",
       "      <th>Régime politique</th>\n",
       "      <th>Debut Mandat</th>\n",
       "      <th>Né le</th>\n",
       "      <th>Date de naissance</th>\n",
       "      <th>Date debut mandat</th>\n",
       "    </tr>\n",
       "    <tr>\n",
       "      <th>Nom</th>\n",
       "      <th></th>\n",
       "      <th></th>\n",
       "      <th></th>\n",
       "      <th></th>\n",
       "      <th></th>\n",
       "      <th></th>\n",
       "      <th></th>\n",
       "      <th></th>\n",
       "      <th></th>\n",
       "      <th></th>\n",
       "    </tr>\n",
       "  </thead>\n",
       "  <tbody>\n",
       "    <tr>\n",
       "      <th>Jean-Baptiste, Antoine Georgette du Buisson de La Boulaye</th>\n",
       "      <td>0</td>\n",
       "      <td>Ain</td>\n",
       "      <td>Majorité ministérielle</td>\n",
       "      <td>IVe législature</td>\n",
       "      <td>Du 24 novembre 1827 au 16 mai 1830</td>\n",
       "      <td>Seconde Restauration - Chambre des députés des...</td>\n",
       "      <td>24 novembre 1827</td>\n",
       "      <td>12 novembre 1781</td>\n",
       "      <td>1781-12-11</td>\n",
       "      <td>1827-11-24</td>\n",
       "    </tr>\n",
       "    <tr>\n",
       "      <th>Pierre, Hector Dominjon</th>\n",
       "      <td>0</td>\n",
       "      <td>Ain</td>\n",
       "      <td>Mouvement républicain populaire</td>\n",
       "      <td>Ire Assemblée nationale constituante</td>\n",
       "      <td>Du 21 octobre 1945 au 10 juin 1946</td>\n",
       "      <td>Gouvernement provisoire de la République franç...</td>\n",
       "      <td>21 octobre 1945</td>\n",
       "      <td>8 octobre 1910</td>\n",
       "      <td>1910-08-10</td>\n",
       "      <td>1945-10-21</td>\n",
       "    </tr>\n",
       "  </tbody>\n",
       "</table>\n",
       "</div>"
      ],
      "text/plain": [
       "                                                    Unnamed: 0 Département  \\\n",
       "Nom                                                                          \n",
       "Jean-Baptiste, Antoine Georgette du Buisson de ...           0         Ain   \n",
       "Pierre, Hector Dominjon                                      0         Ain   \n",
       "\n",
       "                                                                              Groupe  \\\n",
       "Nom                                                                                    \n",
       "Jean-Baptiste, Antoine Georgette du Buisson de ...            Majorité ministérielle   \n",
       "Pierre, Hector Dominjon                              Mouvement républicain populaire   \n",
       "\n",
       "                                                                               Législature  \\\n",
       "Nom                                                                                          \n",
       "Jean-Baptiste, Antoine Georgette du Buisson de ...                        IVe législature    \n",
       "Pierre, Hector Dominjon                              Ire Assemblée nationale constituante    \n",
       "\n",
       "                                                                                 Mandat  \\\n",
       "Nom                                                                                       \n",
       "Jean-Baptiste, Antoine Georgette du Buisson de ...   Du 24 novembre 1827 au 16 mai 1830   \n",
       "Pierre, Hector Dominjon                              Du 21 octobre 1945 au 10 juin 1946   \n",
       "\n",
       "                                                                                     Régime politique  \\\n",
       "Nom                                                                                                     \n",
       "Jean-Baptiste, Antoine Georgette du Buisson de ...  Seconde Restauration - Chambre des députés des...   \n",
       "Pierre, Hector Dominjon                             Gouvernement provisoire de la République franç...   \n",
       "\n",
       "                                                        Debut Mandat  \\\n",
       "Nom                                                                    \n",
       "Jean-Baptiste, Antoine Georgette du Buisson de ...  24 novembre 1827   \n",
       "Pierre, Hector Dominjon                              21 octobre 1945   \n",
       "\n",
       "                                                               Né le  \\\n",
       "Nom                                                                    \n",
       "Jean-Baptiste, Antoine Georgette du Buisson de ...  12 novembre 1781   \n",
       "Pierre, Hector Dominjon                               8 octobre 1910   \n",
       "\n",
       "                                                   Date de naissance  \\\n",
       "Nom                                                                    \n",
       "Jean-Baptiste, Antoine Georgette du Buisson de ...        1781-12-11   \n",
       "Pierre, Hector Dominjon                                   1910-08-10   \n",
       "\n",
       "                                                   Date debut mandat  \n",
       "Nom                                                                   \n",
       "Jean-Baptiste, Antoine Georgette du Buisson de ...        1827-11-24  \n",
       "Pierre, Hector Dominjon                                   1945-10-21  "
      ]
     },
     "execution_count": 28,
     "metadata": {},
     "output_type": "execute_result"
    }
   ],
   "source": [
    "age_dep.head(2)"
   ]
  },
  {
   "cell_type": "code",
   "execution_count": 10,
   "metadata": {},
   "outputs": [
    {
     "ename": "KeyError",
     "evalue": "\"None of [Index(['Jean-Baptiste, Antoine Georgette du Buisson de La Boulaye',\\n       'Pierre, Hector Dominjon', 'Louis Robin',\\n       'Claude, Marie, Joseph Dumarché-Bolozon',\\n       'Claude, Marie, Joseph Dumarché-Bolozon', 'Joseph Chatagner',\\n       'Dominique Saint-Pierre', 'Joseph Chatagner',\\n       'Jacques, Henri, Marie Maissiat', 'Pierre, Hector Dominjon',\\n       ...\\n       'Julien Palasne de Champeaux', 'Marc, Florent Prévot',\\n       'François Armand', 'Jacques, Bernardin Colaud de la Salcette',\\n       'Jean-Baptiste Royer', 'Jean-Baptiste, Pierre dit Jean-Pierre Saurine',\\n       'Jean-Pierre Girod de Thoiry', 'Théodore Vernier de Montorient',\\n       'Jean-Marie Bion', 'Pierre, Toussaint Durand de Maillane'],\\n      dtype='object', length=36128)] are in the [columns]\"",
     "output_type": "error",
     "traceback": [
      "\u001b[1;31m---------------------------------------------------------------------------\u001b[0m",
      "\u001b[1;31mKeyError\u001b[0m                                  Traceback (most recent call last)",
      "\u001b[1;32m<ipython-input-10-fae5f1683d33>\u001b[0m in \u001b[0;36m<module>\u001b[1;34m\u001b[0m\n\u001b[1;32m----> 1\u001b[1;33m \u001b[0mmandat_dep\u001b[0m\u001b[1;33m[\u001b[0m\u001b[1;34m'âge député'\u001b[0m\u001b[1;33m]\u001b[0m\u001b[1;33m=\u001b[0m\u001b[0mmandat_dep\u001b[0m\u001b[1;33m[\u001b[0m\u001b[0mdf_depu\u001b[0m\u001b[1;33m[\u001b[0m\u001b[1;34m'Né le'\u001b[0m\u001b[1;33m]\u001b[0m\u001b[1;33m[\u001b[0m\u001b[0mdf_depu\u001b[0m\u001b[1;33m[\u001b[0m\u001b[1;34m'Nom'\u001b[0m\u001b[1;33m==\u001b[0m\u001b[0mmandat_dep\u001b[0m\u001b[1;33m[\u001b[0m\u001b[0mmandat_dep\u001b[0m\u001b[1;33m[\u001b[0m\u001b[1;34m'Nom'\u001b[0m\u001b[1;33m]\u001b[0m\u001b[1;33m]\u001b[0m\u001b[1;33m]\u001b[0m\u001b[1;33m]\u001b[0m\u001b[1;33m-\u001b[0m\u001b[0mmandat_dep\u001b[0m\u001b[1;33m[\u001b[0m\u001b[1;34m'date'\u001b[0m\u001b[1;33m]\u001b[0m\u001b[1;33m]\u001b[0m\u001b[1;33m\u001b[0m\u001b[1;33m\u001b[0m\u001b[0m\n\u001b[0m",
      "\u001b[1;32m~\\Anaconda3\\lib\\site-packages\\pandas\\core\\frame.py\u001b[0m in \u001b[0;36m__getitem__\u001b[1;34m(self, key)\u001b[0m\n\u001b[0;32m   2932\u001b[0m                 \u001b[0mkey\u001b[0m \u001b[1;33m=\u001b[0m \u001b[0mlist\u001b[0m\u001b[1;33m(\u001b[0m\u001b[0mkey\u001b[0m\u001b[1;33m)\u001b[0m\u001b[1;33m\u001b[0m\u001b[1;33m\u001b[0m\u001b[0m\n\u001b[0;32m   2933\u001b[0m             indexer = self.loc._convert_to_indexer(key, axis=1,\n\u001b[1;32m-> 2934\u001b[1;33m                                                    raise_missing=True)\n\u001b[0m\u001b[0;32m   2935\u001b[0m \u001b[1;33m\u001b[0m\u001b[0m\n\u001b[0;32m   2936\u001b[0m         \u001b[1;31m# take() does not accept boolean indexers\u001b[0m\u001b[1;33m\u001b[0m\u001b[1;33m\u001b[0m\u001b[1;33m\u001b[0m\u001b[0m\n",
      "\u001b[1;32m~\\Anaconda3\\lib\\site-packages\\pandas\\core\\indexing.py\u001b[0m in \u001b[0;36m_convert_to_indexer\u001b[1;34m(self, obj, axis, is_setter, raise_missing)\u001b[0m\n\u001b[0;32m   1352\u001b[0m                 kwargs = {'raise_missing': True if is_setter else\n\u001b[0;32m   1353\u001b[0m                           raise_missing}\n\u001b[1;32m-> 1354\u001b[1;33m                 \u001b[1;32mreturn\u001b[0m \u001b[0mself\u001b[0m\u001b[1;33m.\u001b[0m\u001b[0m_get_listlike_indexer\u001b[0m\u001b[1;33m(\u001b[0m\u001b[0mobj\u001b[0m\u001b[1;33m,\u001b[0m \u001b[0maxis\u001b[0m\u001b[1;33m,\u001b[0m \u001b[1;33m**\u001b[0m\u001b[0mkwargs\u001b[0m\u001b[1;33m)\u001b[0m\u001b[1;33m[\u001b[0m\u001b[1;36m1\u001b[0m\u001b[1;33m]\u001b[0m\u001b[1;33m\u001b[0m\u001b[1;33m\u001b[0m\u001b[0m\n\u001b[0m\u001b[0;32m   1355\u001b[0m         \u001b[1;32melse\u001b[0m\u001b[1;33m:\u001b[0m\u001b[1;33m\u001b[0m\u001b[1;33m\u001b[0m\u001b[0m\n\u001b[0;32m   1356\u001b[0m             \u001b[1;32mtry\u001b[0m\u001b[1;33m:\u001b[0m\u001b[1;33m\u001b[0m\u001b[1;33m\u001b[0m\u001b[0m\n",
      "\u001b[1;32m~\\Anaconda3\\lib\\site-packages\\pandas\\core\\indexing.py\u001b[0m in \u001b[0;36m_get_listlike_indexer\u001b[1;34m(self, key, axis, raise_missing)\u001b[0m\n\u001b[0;32m   1159\u001b[0m         self._validate_read_indexer(keyarr, indexer,\n\u001b[0;32m   1160\u001b[0m                                     \u001b[0mo\u001b[0m\u001b[1;33m.\u001b[0m\u001b[0m_get_axis_number\u001b[0m\u001b[1;33m(\u001b[0m\u001b[0maxis\u001b[0m\u001b[1;33m)\u001b[0m\u001b[1;33m,\u001b[0m\u001b[1;33m\u001b[0m\u001b[1;33m\u001b[0m\u001b[0m\n\u001b[1;32m-> 1161\u001b[1;33m                                     raise_missing=raise_missing)\n\u001b[0m\u001b[0;32m   1162\u001b[0m         \u001b[1;32mreturn\u001b[0m \u001b[0mkeyarr\u001b[0m\u001b[1;33m,\u001b[0m \u001b[0mindexer\u001b[0m\u001b[1;33m\u001b[0m\u001b[1;33m\u001b[0m\u001b[0m\n\u001b[0;32m   1163\u001b[0m \u001b[1;33m\u001b[0m\u001b[0m\n",
      "\u001b[1;32m~\\Anaconda3\\lib\\site-packages\\pandas\\core\\indexing.py\u001b[0m in \u001b[0;36m_validate_read_indexer\u001b[1;34m(self, key, indexer, axis, raise_missing)\u001b[0m\n\u001b[0;32m   1244\u001b[0m                 raise KeyError(\n\u001b[0;32m   1245\u001b[0m                     u\"None of [{key}] are in the [{axis}]\".format(\n\u001b[1;32m-> 1246\u001b[1;33m                         key=key, axis=self.obj._get_axis_name(axis)))\n\u001b[0m\u001b[0;32m   1247\u001b[0m \u001b[1;33m\u001b[0m\u001b[0m\n\u001b[0;32m   1248\u001b[0m             \u001b[1;31m# We (temporarily) allow for some missing keys with .loc, except in\u001b[0m\u001b[1;33m\u001b[0m\u001b[1;33m\u001b[0m\u001b[1;33m\u001b[0m\u001b[0m\n",
      "\u001b[1;31mKeyError\u001b[0m: \"None of [Index(['Jean-Baptiste, Antoine Georgette du Buisson de La Boulaye',\\n       'Pierre, Hector Dominjon', 'Louis Robin',\\n       'Claude, Marie, Joseph Dumarché-Bolozon',\\n       'Claude, Marie, Joseph Dumarché-Bolozon', 'Joseph Chatagner',\\n       'Dominique Saint-Pierre', 'Joseph Chatagner',\\n       'Jacques, Henri, Marie Maissiat', 'Pierre, Hector Dominjon',\\n       ...\\n       'Julien Palasne de Champeaux', 'Marc, Florent Prévot',\\n       'François Armand', 'Jacques, Bernardin Colaud de la Salcette',\\n       'Jean-Baptiste Royer', 'Jean-Baptiste, Pierre dit Jean-Pierre Saurine',\\n       'Jean-Pierre Girod de Thoiry', 'Théodore Vernier de Montorient',\\n       'Jean-Marie Bion', 'Pierre, Toussaint Durand de Maillane'],\\n      dtype='object', length=36128)] are in the [columns]\""
     ]
    }
   ],
   "source": [
    "mandat_dep['âge député']=mandat_dep[df_depu['Né le'][df_depu['Nom'==mandat_dep[mandat_dep['Nom']]]]-mandat_dep['date']]"
   ]
  },
  {
   "cell_type": "code",
   "execution_count": 29,
   "metadata": {},
   "outputs": [
    {
     "data": {
      "text/plain": [
       "[' Ain',\n",
       " ' Aisne',\n",
       " ' Allier',\n",
       " ' Alpes-Maritimes',\n",
       " ' Alpes-de-Haute-Provence',\n",
       " \" Anciens départements d'Algérie\",\n",
       " ' Ardennes',\n",
       " ' Ardèche',\n",
       " ' Ariège',\n",
       " ' Aube',\n",
       " ' Aude',\n",
       " ' Aveyron',\n",
       " ' Bas-Rhin',\n",
       " ' Basses-Alpes',\n",
       " ' Basses-Pyrénées',\n",
       " ' Bouches-du-Rhône',\n",
       " ' Calvados',\n",
       " ' Cameroun',\n",
       " ' Cantal',\n",
       " ' Charente',\n",
       " ' Charente-Inférieure',\n",
       " ' Charente-Maritime',\n",
       " ' Cher',\n",
       " ' Citoyens français de Tunisie',\n",
       " ' Citoyens français du Maroc',\n",
       " ' Cochinchine française',\n",
       " ' Comores',\n",
       " ' Corrèze',\n",
       " ' Corse',\n",
       " ' Corse-du-Sud',\n",
       " ' Creuse',\n",
       " ' Côte française des Somalis',\n",
       " \" Côte-d'Ivoire\",\n",
       " \" Côte-d'Or\",\n",
       " \" Côtes d'Armor\",\n",
       " ' Côtes-du-Nord',\n",
       " ' Dahomey',\n",
       " ' Dahomey-Togo',\n",
       " ' Deux-Sèvres',\n",
       " ' Dordogne',\n",
       " ' Doubs',\n",
       " ' Drôme',\n",
       " \" Départements de l'Empire français aujourd'hui au Luxembourg\",\n",
       " \" Départements de l'Empire français aujourd'hui aux Pays-Bas\",\n",
       " \" Départements de l'Empire français aujourd'hui en Allemagne\",\n",
       " \" Départements de l'Empire français aujourd'hui en Belgique\",\n",
       " \" Départements de l'Empire français aujourd'hui en Italie\",\n",
       " \" Départements de l'Empire français aujourd'hui en Suisse\",\n",
       " ' Essonne',\n",
       " \" Etablissements français d'Océanie\",\n",
       " ' Etablissements français de l’Inde',\n",
       " ' Etranger',\n",
       " ' Eure',\n",
       " ' Eure-et-Loir',\n",
       " ' Finistère',\n",
       " ' Français établis hors de France',\n",
       " ' Gabon',\n",
       " ' Gabon-Moyen-Congo',\n",
       " ' Gard',\n",
       " ' Gers',\n",
       " ' Gironde',\n",
       " ' Guadeloupe',\n",
       " ' Guinée',\n",
       " ' Guyane',\n",
       " ' Haut-Rhin',\n",
       " ' Haute-Corse',\n",
       " ' Haute-Garonne',\n",
       " ' Haute-Loire',\n",
       " ' Haute-Marne',\n",
       " ' Haute-Savoie',\n",
       " ' Haute-Saône',\n",
       " ' Haute-Vienne',\n",
       " ' Haute-Volta',\n",
       " ' Hautes-Alpes',\n",
       " ' Hautes-Pyrénées',\n",
       " ' Hauts-de-Seine',\n",
       " ' Hérault',\n",
       " ' Ile-de-France (Maurice)',\n",
       " ' Ille-et-Vilaine',\n",
       " ' Indre',\n",
       " ' Indre-et-Loire',\n",
       " ' Isère',\n",
       " ' Jura',\n",
       " ' La Réunion',\n",
       " ' Landes',\n",
       " ' Loir-et-Cher',\n",
       " ' Loire',\n",
       " ' Loire-Atlantique',\n",
       " ' Loire-Inférieure',\n",
       " ' Loiret',\n",
       " ' Lot',\n",
       " ' Lot-et-Garonne',\n",
       " ' Lozère',\n",
       " ' Madagascar',\n",
       " ' Maine-et-Loire',\n",
       " ' Manche',\n",
       " ' Marne',\n",
       " ' Martinique',\n",
       " ' Mauritanie',\n",
       " ' Mayenne',\n",
       " ' Mayotte',\n",
       " ' Meurthe',\n",
       " ' Meurthe-et-Moselle',\n",
       " ' Meuse',\n",
       " ' Mont-Blanc',\n",
       " ' Morbihan',\n",
       " ' Moselle',\n",
       " ' Moyen-Congo',\n",
       " ' Niger',\n",
       " ' Nièvre',\n",
       " ' Nord',\n",
       " ' Nouvelle-Calédonie',\n",
       " ' Oise',\n",
       " ' Orne',\n",
       " ' Oubangui-Chari',\n",
       " ' Oubangui-Chari-Tchad',\n",
       " ' Paris',\n",
       " ' Pas-de-Calais',\n",
       " ' Polynésie française',\n",
       " ' Puy-de-Dôme',\n",
       " ' Pyrénées-Atlantiques',\n",
       " ' Pyrénées-Orientales',\n",
       " ' Rhône',\n",
       " ' Rhône-et-Loire',\n",
       " ' Saint-Barthélemy et Saint-Martin',\n",
       " ' Saint-Domingue',\n",
       " ' Saint-Pierre-et-Miquelon',\n",
       " ' Sarthe',\n",
       " ' Savoie',\n",
       " ' Saône-et-Loire',\n",
       " ' Seine',\n",
       " ' Seine-Inférieure',\n",
       " ' Seine-Maritime',\n",
       " ' Seine-St-Denis',\n",
       " ' Seine-et-Marne',\n",
       " ' Seine-et-Oise',\n",
       " ' Somme',\n",
       " ' Soudan',\n",
       " ' Soudan-Niger',\n",
       " ' Sénégal',\n",
       " ' Sénégal-Mauritanie',\n",
       " ' Tarn',\n",
       " ' Tarn-et-Garonne',\n",
       " ' Tchad',\n",
       " ' Territoire français des Affars et des Issas',\n",
       " ' Territoire-de-Belfort',\n",
       " ' Togo',\n",
       " \" Val-d'Oise\",\n",
       " ' Val-de-Marne',\n",
       " ' Var',\n",
       " ' Vaucluse',\n",
       " ' Vendée',\n",
       " ' Vienne',\n",
       " ' Vosges',\n",
       " ' Wallis-et-Futuna',\n",
       " ' Yonne',\n",
       " ' Yvelines']"
      ]
     },
     "execution_count": 29,
     "metadata": {},
     "output_type": "execute_result"
    }
   ],
   "source": [
    "dep_possible=list(mandat_dep['Département'].unique())[:-1]#une liste de tous les départements mentionnés sans les Nan\n",
    "dep_possible.remove(\" Département d'élection inconnu\")\n",
    "#dep_possible=[i[1:] for i in dep_possible]#on supprime les espaces\n",
    "dep_possible"
   ]
  },
  {
   "cell_type": "code",
   "execution_count": 30,
   "metadata": {},
   "outputs": [
    {
     "data": {
      "text/plain": [
       "Unnamed: 0          36128\n",
       "Département         35931\n",
       "Groupe              32005\n",
       "Législature         36128\n",
       "Mandat              36128\n",
       "Régime politique    36126\n",
       "Nom                 36128\n",
       "Debut Mandat        36128\n",
       "dtype: int64"
      ]
     },
     "execution_count": 30,
     "metadata": {},
     "output_type": "execute_result"
    }
   ],
   "source": [
    "mandat_dep.count()#on vérifie qu'il n'y a pas trop de manques"
   ]
  },
  {
   "cell_type": "code",
   "execution_count": 31,
   "metadata": {},
   "outputs": [],
   "source": [
    "mandat_dep.set_index('Département', inplace=True)#on met département en index pour pouvoir scinder par départements"
   ]
  },
  {
   "cell_type": "code",
   "execution_count": 32,
   "metadata": {},
   "outputs": [
    {
     "data": {
      "text/html": [
       "<div>\n",
       "<style scoped>\n",
       "    .dataframe tbody tr th:only-of-type {\n",
       "        vertical-align: middle;\n",
       "    }\n",
       "\n",
       "    .dataframe tbody tr th {\n",
       "        vertical-align: top;\n",
       "    }\n",
       "\n",
       "    .dataframe thead th {\n",
       "        text-align: right;\n",
       "    }\n",
       "</style>\n",
       "<table border=\"1\" class=\"dataframe\">\n",
       "  <thead>\n",
       "    <tr style=\"text-align: right;\">\n",
       "      <th></th>\n",
       "      <th>Ain</th>\n",
       "      <th>Aisne</th>\n",
       "      <th>Allier</th>\n",
       "      <th>Alpes-Maritimes</th>\n",
       "      <th>Alpes-de-Haute-Provence</th>\n",
       "      <th>Anciens départements d'Algérie</th>\n",
       "      <th>Ardennes</th>\n",
       "      <th>Ardèche</th>\n",
       "      <th>Ariège</th>\n",
       "      <th>Aube</th>\n",
       "      <th>...</th>\n",
       "      <th>Val-d'Oise</th>\n",
       "      <th>Val-de-Marne</th>\n",
       "      <th>Var</th>\n",
       "      <th>Vaucluse</th>\n",
       "      <th>Vendée</th>\n",
       "      <th>Vienne</th>\n",
       "      <th>Vosges</th>\n",
       "      <th>Wallis-et-Futuna</th>\n",
       "      <th>Yonne</th>\n",
       "      <th>Yvelines</th>\n",
       "    </tr>\n",
       "  </thead>\n",
       "  <tbody>\n",
       "    <tr>\n",
       "      <th>nombre_mandat</th>\n",
       "      <td>328.000000</td>\n",
       "      <td>447.000000</td>\n",
       "      <td>308.000000</td>\n",
       "      <td>257.00</td>\n",
       "      <td>9.000000</td>\n",
       "      <td>316.00000</td>\n",
       "      <td>275.000000</td>\n",
       "      <td>295.000000</td>\n",
       "      <td>192.000000</td>\n",
       "      <td>267.000000</td>\n",
       "      <td>...</td>\n",
       "      <td>87.000000</td>\n",
       "      <td>133.000000</td>\n",
       "      <td>343.000000</td>\n",
       "      <td>257.000000</td>\n",
       "      <td>351.000000</td>\n",
       "      <td>305.000000</td>\n",
       "      <td>355.000000</td>\n",
       "      <td>11.000000</td>\n",
       "      <td>327.00000</td>\n",
       "      <td>165.000000</td>\n",
       "    </tr>\n",
       "    <tr>\n",
       "      <th>nombre député</th>\n",
       "      <td>145.000000</td>\n",
       "      <td>190.000000</td>\n",
       "      <td>159.000000</td>\n",
       "      <td>100.00</td>\n",
       "      <td>7.000000</td>\n",
       "      <td>207.00000</td>\n",
       "      <td>130.000000</td>\n",
       "      <td>132.000000</td>\n",
       "      <td>88.000000</td>\n",
       "      <td>119.000000</td>\n",
       "      <td>...</td>\n",
       "      <td>39.000000</td>\n",
       "      <td>48.000000</td>\n",
       "      <td>167.000000</td>\n",
       "      <td>118.000000</td>\n",
       "      <td>147.000000</td>\n",
       "      <td>133.000000</td>\n",
       "      <td>159.000000</td>\n",
       "      <td>3.000000</td>\n",
       "      <td>147.00000</td>\n",
       "      <td>73.000000</td>\n",
       "    </tr>\n",
       "    <tr>\n",
       "      <th>nombre moyen de mandats par député</th>\n",
       "      <td>2.262069</td>\n",
       "      <td>2.352632</td>\n",
       "      <td>1.937107</td>\n",
       "      <td>2.57</td>\n",
       "      <td>1.285714</td>\n",
       "      <td>1.52657</td>\n",
       "      <td>2.115385</td>\n",
       "      <td>2.234848</td>\n",
       "      <td>2.181818</td>\n",
       "      <td>2.243697</td>\n",
       "      <td>...</td>\n",
       "      <td>2.230769</td>\n",
       "      <td>2.770833</td>\n",
       "      <td>2.053892</td>\n",
       "      <td>2.177966</td>\n",
       "      <td>2.387755</td>\n",
       "      <td>2.293233</td>\n",
       "      <td>2.232704</td>\n",
       "      <td>3.666667</td>\n",
       "      <td>2.22449</td>\n",
       "      <td>2.260274</td>\n",
       "    </tr>\n",
       "  </tbody>\n",
       "</table>\n",
       "<p>3 rows × 157 columns</p>\n",
       "</div>"
      ],
      "text/plain": [
       "                                           Ain       Aisne      Allier  \\\n",
       "nombre_mandat                       328.000000  447.000000  308.000000   \n",
       "nombre député                       145.000000  190.000000  159.000000   \n",
       "nombre moyen de mandats par député    2.262069    2.352632    1.937107   \n",
       "\n",
       "                                     Alpes-Maritimes  \\\n",
       "nombre_mandat                                 257.00   \n",
       "nombre député                                 100.00   \n",
       "nombre moyen de mandats par député              2.57   \n",
       "\n",
       "                                     Alpes-de-Haute-Provence  \\\n",
       "nombre_mandat                                       9.000000   \n",
       "nombre député                                       7.000000   \n",
       "nombre moyen de mandats par député                  1.285714   \n",
       "\n",
       "                                     Anciens départements d'Algérie  \\\n",
       "nombre_mandat                                             316.00000   \n",
       "nombre député                                             207.00000   \n",
       "nombre moyen de mandats par député                          1.52657   \n",
       "\n",
       "                                      Ardennes     Ardèche      Ariège  \\\n",
       "nombre_mandat                       275.000000  295.000000  192.000000   \n",
       "nombre député                       130.000000  132.000000   88.000000   \n",
       "nombre moyen de mandats par député    2.115385    2.234848    2.181818   \n",
       "\n",
       "                                          Aube  ...   Val-d'Oise  \\\n",
       "nombre_mandat                       267.000000  ...    87.000000   \n",
       "nombre député                       119.000000  ...    39.000000   \n",
       "nombre moyen de mandats par député    2.243697  ...     2.230769   \n",
       "\n",
       "                                     Val-de-Marne         Var    Vaucluse  \\\n",
       "nombre_mandat                          133.000000  343.000000  257.000000   \n",
       "nombre député                           48.000000  167.000000  118.000000   \n",
       "nombre moyen de mandats par député       2.770833    2.053892    2.177966   \n",
       "\n",
       "                                        Vendée      Vienne      Vosges  \\\n",
       "nombre_mandat                       351.000000  305.000000  355.000000   \n",
       "nombre député                       147.000000  133.000000  159.000000   \n",
       "nombre moyen de mandats par député    2.387755    2.293233    2.232704   \n",
       "\n",
       "                                     Wallis-et-Futuna      Yonne    Yvelines  \n",
       "nombre_mandat                               11.000000  327.00000  165.000000  \n",
       "nombre député                                3.000000  147.00000   73.000000  \n",
       "nombre moyen de mandats par député           3.666667    2.22449    2.260274  \n",
       "\n",
       "[3 rows x 157 columns]"
      ]
     },
     "execution_count": 32,
     "metadata": {},
     "output_type": "execute_result"
    }
   ],
   "source": [
    "mandat_dep.reset_index()\n",
    "x,y,z=[],[],[]\n",
    "for dep in dep_possible :\n",
    "    x+=[len(df[df['Département']==dep])]#on compte le nombre total de mandat dans le département\n",
    "    y+=[len(df[df['Département']==dep]['Nom'].unique())]#Puis le nombre de députés différent par dpt\n",
    "    z+=[x[-1]/y[-1]] #Ceci est le nombre moyen de mandat par député\n",
    "    \n",
    "carac_dep_bis=np.array([x, y, z])#on crée un dataframe avec les informations\n",
    "table = pd.DataFrame(carac_dep_bis, index=['nombre_mandat', 'nombre député','nombre moyen de mandats par député'],columns=dep_possible)\n",
    "table.head()\n",
    "\n"
   ]
  },
  {
   "cell_type": "code",
   "execution_count": 33,
   "metadata": {},
   "outputs": [
    {
     "data": {
      "text/plain": [
       "Index([' Ain', ' Aisne', ' Allier', ' Alpes-Maritimes',\n",
       "       ' Alpes-de-Haute-Provence', ' Anciens départements d'Algérie',\n",
       "       ' Ardennes', ' Ardèche', ' Ariège', ' Aube',\n",
       "       ...\n",
       "       ' Val-d'Oise', ' Val-de-Marne', ' Var', ' Vaucluse', ' Vendée',\n",
       "       ' Vienne', ' Vosges', ' Wallis-et-Futuna', ' Yonne', ' Yvelines'],\n",
       "      dtype='object', length=157)"
      ]
     },
     "execution_count": 33,
     "metadata": {},
     "output_type": "execute_result"
    }
   ],
   "source": [
    "table.columns"
   ]
  },
  {
   "cell_type": "code",
   "execution_count": 34,
   "metadata": {},
   "outputs": [
    {
     "name": "stdout",
     "output_type": "stream",
     "text": [
      "1.0\n",
      "2.8275862068965516\n",
      "2.228066883810941\n",
      "6\n"
     ]
    }
   ],
   "source": [
    "print(min(table.loc['nombre moyen de mandats par député'][table.loc['nombre député']>40]))\n",
    "print(max(table.loc['nombre moyen de mandats par député'][table.loc['nombre député']>40]))\n",
    "print((table.loc['nombre moyen de mandats par député'][table.loc['nombre député']>40]).mean())\n",
    "print((table.loc['nombre moyen de mandats par député'][table.loc['nombre moyen de mandats par député']<2][table.loc['nombre député']>40]).count())"
   ]
  },
  {
   "cell_type": "code",
   "execution_count": 35,
   "metadata": {},
   "outputs": [
    {
     "data": {
      "text/plain": [
       " Allier                                                       1.937107\n",
       " Anciens départements d'Algérie                               1.526570\n",
       " Basses-Alpes                                                 1.977778\n",
       " Départements de l'Empire français aujourd'hui en Belgique    1.180723\n",
       " Départements de l'Empire français aujourd'hui en Italie      1.000000\n",
       " Meurthe                                                      1.945946\n",
       "Name: nombre moyen de mandats par député, dtype: float64"
      ]
     },
     "execution_count": 35,
     "metadata": {},
     "output_type": "execute_result"
    }
   ],
   "source": [
    "table.loc['nombre moyen de mandats par député'][table.loc['nombre moyen de mandats par député']<2][table.loc['nombre député']>40]"
   ]
  },
  {
   "cell_type": "markdown",
   "metadata": {},
   "source": [
    "Les valeurs les plus basses sont constituées par des départements qui ont appartenu peu de temps à la France, et où les occasions de se faire réélire ont donc été peu nombreuses."
   ]
  },
  {
   "cell_type": "code",
   "execution_count": 36,
   "metadata": {},
   "outputs": [
    {
     "data": {
      "text/plain": [
       " Alpes-Maritimes      2.570000\n",
       " Charente-Maritime    2.533333\n",
       " Haute-Savoie         2.827586\n",
       " Hauts-de-Seine       2.746269\n",
       " Landes               2.548077\n",
       " Orne                 2.510949\n",
       " Savoie               2.593750\n",
       " Seine-St-Denis       2.566038\n",
       " Val-de-Marne         2.770833\n",
       "Name: nombre moyen de mandats par député, dtype: float64"
      ]
     },
     "execution_count": 36,
     "metadata": {},
     "output_type": "execute_result"
    }
   ],
   "source": [
    "table.loc['nombre moyen de mandats par député'][table.loc['nombre moyen de mandats par député']>2.5][table.loc['nombre député']>40]"
   ]
  },
  {
   "cell_type": "markdown",
   "metadata": {},
   "source": [
    "Au contraire, les départements où il y a le plus de réélections ne semblent pas avoir de problèmes de ce type."
   ]
  },
  {
   "cell_type": "code",
   "execution_count": 37,
   "metadata": {},
   "outputs": [
    {
     "data": {
      "text/plain": [
       "<matplotlib.axes._subplots.AxesSubplot at 0x4a95530>"
      ]
     },
     "execution_count": 37,
     "metadata": {},
     "output_type": "execute_result"
    },
    {
     "data": {
      "image/png": "[encoded data removed]",
      "text/plain": [
       "<Figure size 432x288 with 1 Axes>"
      ]
     },
     "metadata": {
      "needs_background": "light"
     },
     "output_type": "display_data"
    }
   ],
   "source": [
    "table.loc['nombre moyen de mandats par député'][table.loc['nombre député']>40].hist()"
   ]
  },
  {
   "cell_type": "code",
   "execution_count": 38,
   "metadata": {},
   "outputs": [],
   "source": [
    "#récupération d'une carte des départements français\n",
    "import requests\n",
    "import tempfile\n",
    "import zipfile\n"
   ]
  },
  {
   "cell_type": "code",
   "execution_count": 39,
   "metadata": {},
   "outputs": [
    {
     "name": "stdout",
     "output_type": "stream",
     "text": [
      "C:\\Users\\sylva\\AppData\\Local\\Temp\n"
     ]
    }
   ],
   "source": [
    "temporary_location = tempfile.gettempdir()\n",
    "print(temporary_location)\n",
    "def download_unzip(url, dirname =temporary_location, destname = \"borders\"):\n",
    "    myfile = requests.get(url)\n",
    "    open(dirname + '/' + destname + '.zip', 'wb').write(myfile.content)\n",
    "    with zipfile.ZipFile(dirname + '/' + destname + '.zip', 'r') as zip_ref: \n",
    "        zip_ref.extractall(dirname + '/' + destname)\n",
    "download_unzip('https://www.data.gouv.fr/fr/datasets/r/3096e551-c68d-40ce-8972-a228c94c0ad1')"
   ]
  },
  {
   "cell_type": "code",
   "execution_count": 40,
   "metadata": {},
   "outputs": [],
   "source": [
    "carte_departement = gpd.read_file(tempfile.gettempdir() + \"/borders/departements-20140306-100m.dbf\")\n",
    "carte_departement_metrop = carte_departement.loc[0:95]"
   ]
  },
  {
   "cell_type": "code",
   "execution_count": 41,
   "metadata": {},
   "outputs": [
    {
     "data": {
      "text/plain": [
       "<matplotlib.axes._subplots.AxesSubplot at 0x9b51310>"
      ]
     },
     "execution_count": 41,
     "metadata": {},
     "output_type": "execute_result"
    },
    {
     "data": {
      "image/png": "[encoded data removed]",
      "text/plain": [
       "<Figure size 432x288 with 1 Axes>"
      ]
     },
     "metadata": {
      "needs_background": "light"
     },
     "output_type": "display_data"
    }
   ],
   "source": [
    "carte_departement_metrop.plot()"
   ]
  },
  {
   "cell_type": "code",
   "execution_count": 42,
   "metadata": {},
   "outputs": [
    {
     "data": {
      "text/html": [
       "<div>\n",
       "<style scoped>\n",
       "    .dataframe tbody tr th:only-of-type {\n",
       "        vertical-align: middle;\n",
       "    }\n",
       "\n",
       "    .dataframe tbody tr th {\n",
       "        vertical-align: top;\n",
       "    }\n",
       "\n",
       "    .dataframe thead th {\n",
       "        text-align: right;\n",
       "    }\n",
       "</style>\n",
       "<table border=\"1\" class=\"dataframe\">\n",
       "  <thead>\n",
       "    <tr style=\"text-align: right;\">\n",
       "      <th></th>\n",
       "      <th>code_insee</th>\n",
       "      <th>nom</th>\n",
       "      <th>nuts3</th>\n",
       "      <th>wikipedia</th>\n",
       "      <th>geometry</th>\n",
       "    </tr>\n",
       "  </thead>\n",
       "  <tbody>\n",
       "    <tr>\n",
       "      <th>0</th>\n",
       "      <td>01</td>\n",
       "      <td>Ain</td>\n",
       "      <td>FR711</td>\n",
       "      <td>fr:Ain (département)</td>\n",
       "      <td>POLYGON ((5.25559 45.78459, 5.23987 45.77758, ...</td>\n",
       "    </tr>\n",
       "    <tr>\n",
       "      <th>1</th>\n",
       "      <td>02</td>\n",
       "      <td>Aisne</td>\n",
       "      <td>FR221</td>\n",
       "      <td>fr:Aisne (département)</td>\n",
       "      <td>POLYGON ((3.48175 48.86640, 3.48647 48.85768, ...</td>\n",
       "    </tr>\n",
       "  </tbody>\n",
       "</table>\n",
       "</div>"
      ],
      "text/plain": [
       "  code_insee    nom  nuts3               wikipedia  \\\n",
       "0         01    Ain  FR711    fr:Ain (département)   \n",
       "1         02  Aisne  FR221  fr:Aisne (département)   \n",
       "\n",
       "                                            geometry  \n",
       "0  POLYGON ((5.25559 45.78459, 5.23987 45.77758, ...  \n",
       "1  POLYGON ((3.48175 48.86640, 3.48647 48.85768, ...  "
      ]
     },
     "execution_count": 42,
     "metadata": {},
     "output_type": "execute_result"
    }
   ],
   "source": [
    "carte_departement_metrop.head(2)"
   ]
  },
  {
   "cell_type": "code",
   "execution_count": 47,
   "metadata": {},
   "outputs": [],
   "source": [
    "table.columns=[i[1:] for i in table.columns]#on enlève l'espace devant le nom des départements"
   ]
  },
  {
   "cell_type": "code",
   "execution_count": 56,
   "metadata": {},
   "outputs": [
    {
     "data": {
      "text/html": [
       "<div>\n",
       "<style scoped>\n",
       "    .dataframe tbody tr th:only-of-type {\n",
       "        vertical-align: middle;\n",
       "    }\n",
       "\n",
       "    .dataframe tbody tr th {\n",
       "        vertical-align: top;\n",
       "    }\n",
       "\n",
       "    .dataframe thead th {\n",
       "        text-align: right;\n",
       "    }\n",
       "</style>\n",
       "<table border=\"1\" class=\"dataframe\">\n",
       "  <thead>\n",
       "    <tr style=\"text-align: right;\">\n",
       "      <th></th>\n",
       "      <th>nombre_mandat</th>\n",
       "      <th>nombre député</th>\n",
       "      <th>nombre moyen de mandats par député</th>\n",
       "    </tr>\n",
       "  </thead>\n",
       "  <tbody>\n",
       "    <tr>\n",
       "      <th>Ain</th>\n",
       "      <td>328.0</td>\n",
       "      <td>145.0</td>\n",
       "      <td>2.262069</td>\n",
       "    </tr>\n",
       "    <tr>\n",
       "      <th>Aisne</th>\n",
       "      <td>447.0</td>\n",
       "      <td>190.0</td>\n",
       "      <td>2.352632</td>\n",
       "    </tr>\n",
       "    <tr>\n",
       "      <th>Allier</th>\n",
       "      <td>308.0</td>\n",
       "      <td>159.0</td>\n",
       "      <td>1.937107</td>\n",
       "    </tr>\n",
       "    <tr>\n",
       "      <th>Alpes-Maritimes</th>\n",
       "      <td>257.0</td>\n",
       "      <td>100.0</td>\n",
       "      <td>2.570000</td>\n",
       "    </tr>\n",
       "    <tr>\n",
       "      <th>Alpes-de-Haute-Provence</th>\n",
       "      <td>9.0</td>\n",
       "      <td>7.0</td>\n",
       "      <td>1.285714</td>\n",
       "    </tr>\n",
       "  </tbody>\n",
       "</table>\n",
       "</div>"
      ],
      "text/plain": [
       "                         nombre_mandat  nombre député  \\\n",
       "Ain                              328.0          145.0   \n",
       "Aisne                            447.0          190.0   \n",
       "Allier                           308.0          159.0   \n",
       "Alpes-Maritimes                  257.0          100.0   \n",
       "Alpes-de-Haute-Provence            9.0            7.0   \n",
       "\n",
       "                         nombre moyen de mandats par député  \n",
       "Ain                                                2.262069  \n",
       "Aisne                                              2.352632  \n",
       "Allier                                             1.937107  \n",
       "Alpes-Maritimes                                    2.570000  \n",
       "Alpes-de-Haute-Provence                            1.285714  "
      ]
     },
     "execution_count": 56,
     "metadata": {},
     "output_type": "execute_result"
    }
   ],
   "source": [
    "table.T.head()"
   ]
  },
  {
   "cell_type": "code",
   "execution_count": 57,
   "metadata": {},
   "outputs": [],
   "source": [
    "carte_departement_metrop.set_index('nom', inplace=True)#on met le nom du département en index pour pouvoir joindre les bases"
   ]
  },
  {
   "cell_type": "code",
   "execution_count": 59,
   "metadata": {},
   "outputs": [
    {
     "data": {
      "text/plain": [
       "<matplotlib.axes._subplots.AxesSubplot at 0x9bd4730>"
      ]
     },
     "execution_count": 59,
     "metadata": {},
     "output_type": "execute_result"
    },
    {
     "data": {
      "image/png": "[encoded data removed]",
      "text/plain": [
       "<Figure size 432x288 with 1 Axes>"
      ]
     },
     "metadata": {
      "needs_background": "light"
     },
     "output_type": "display_data"
    }
   ],
   "source": [
    "df = carte_departement_metrop.merge(table.T, how = 'inner', left_index=True, right_index=True)\n",
    "df.plot(column = 'nombre moyen de mandats par député', cmap = 'RdYlBu_r')"
   ]
  },
  {
   "cell_type": "code",
   "execution_count": null,
   "metadata": {},
   "outputs": [],
   "source": []
  }
 ],
 "metadata": {
  "kernelspec": {
   "display_name": "Python 3",
   "language": "python",
   "name": "python3"
  },
  "language_info": {
   "codemirror_mode": {
    "name": "ipython",
    "version": 3
   },
   "file_extension": ".py",
   "mimetype": "text/x-python",
   "name": "python",
   "nbconvert_exporter": "python",
   "pygments_lexer": "ipython3",
   "version": "3.7.3"
  }
 },
 "nbformat": 4,
 "nbformat_minor": 2
}

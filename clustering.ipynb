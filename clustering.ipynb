{
 "cells": [
  {
   "cell_type": "code",
   "execution_count": 1,
   "metadata": {},
   "outputs": [],
   "source": [
    "from sklearn import cluster\n",
    "import pandas as pd\n",
    "import numpy as np\n",
    "from matplotlib import pyplot as plt\n",
    "from scipy.cluster.hierarchy import dendrogram, linkage\n",
    "from sklearn.preprocessing import StandardScaler\n",
    "from sklearn.decomposition import PCA\n",
    "import geopandas as gpd\n",
    "import re as reg\n",
    "import random\n",
    "from yellowbrick.cluster import KElbowVisualizer\n",
    "kmeans = cluster.KMeans(n_clusters=2, max_iter=1000)"
   ]
  },
  {
   "cell_type": "code",
   "execution_count": 2,
   "metadata": {},
   "outputs": [],
   "source": [
    "user='S'\n",
    "\n",
    "if user=='S':\n",
    "    lien=\"C:/Users/sylva/Desktop/git/Projet-Python-deputes/\"\n",
    "elif user=='G':\n",
    "    lien=\"C:/Users/Administrateur.LAPTOP-FH8TB47B/Desktop/Projet_assemblee/\"\n",
    "    \n",
    "mandat_dep=pd.read_csv(lien+\"table_mandat.csv\")#on récupère le csv de la liste des mandats\n",
    "df_depu=pd.read_csv(lien+\"table_depute.csv\")\n",
    "table_depmt=pd.read_csv(lien+\"table_dpmt.csv\")\n",
    "lstRegime=pd.read_csv(lien+\"regime_wiki.csv\")"
   ]
  },
  {
   "cell_type": "markdown",
   "metadata": {},
   "source": [
    "Essayons de faire un clustering sur les département selon leur orientation politique sous la troisième république"
   ]
  },
  {
   "cell_type": "code",
   "execution_count": 3,
   "metadata": {},
   "outputs": [],
   "source": [
    "mandat_dep_3=mandat_dep[mandat_dep['Régime politique']=='Troisième République - Chambre des députés']#on prend la database de la Troisième\n",
    "def datagroupe(mandat_reg) :\n",
    "    liste_groupe=mandat_reg['Groupe'].unique()\n",
    "    gros_groupe=[]\n",
    "    for groupe in liste_groupe :\n",
    "        if mandat_reg[mandat_reg['Groupe']==groupe]['Groupe'].count()>10 :\n",
    "            gros_groupe+=[groupe]#on va se concentrer sur les gros groupes pour diminuer la complexité des visualisations et faciliter l'aanalyse\n",
    "    datadep=[]\n",
    "    for departement in mandat_reg['Département'].unique():\n",
    "        newdep=[]\n",
    "        dep=mandat_reg[mandat_reg['Département']==departement]\n",
    "        nbremand=dep['Groupe'].count()\n",
    "        for groupe in gros_groupe :\n",
    "            pct_groupe=dep[dep['Groupe']==groupe]['Groupe'].count()/nbremand#pourcentage de députés du département issu de ce groupe\n",
    "            newdep+=[pct_groupe]#on rajoute les données du groupe dans le dataframe du département\n",
    "        datadep+=[newdep]#on rajoute les données du département au futur dataframe général \n",
    "    datadep=np.array(datadep)#on crée un dataframe avec les informations\n",
    "    depmt_groupe = pd.DataFrame(datadep, index=mandat_reg['Département'].unique(),columns=gros_groupe)\n",
    "    return depmt_groupe, gros_groupe\n",
    "(depmt_groupe_3, gros_groupe_3)=datagroupe(mandat_dep_3)"
   ]
  },
  {
   "cell_type": "code",
   "execution_count": 9,
   "metadata": {},
   "outputs": [
    {
     "name": "stdout",
     "output_type": "stream",
     "text": [
      "0.21806700303927534\n"
     ]
    }
   ],
   "source": [
    "kmeans = cluster.KMeans(n_clusters=2, max_iter=1000)#comme il y a beaucoup de variables et pas trop de données, on peut augmenter le nombre d'itérations.\n",
    "def clustering(depmt_groupe):\n",
    "    kmeans.fit(depmt_groupe)\n",
    "    idk = np.argsort(kmeans.labels_)#on trie les index\n",
    "    #affichage des observations et leurs groupes\n",
    "    clusters=pd.DataFrame(kmeans.labels_[idk], depmt_groupe.index[idk], columns=['Appartenance'])\n",
    "    depmt_app=depmt_groupe.merge(clusters, right_index=True, left_index=True)\n",
    "    #distances aux centres de classes des observations\n",
    "    dist_centre=kmeans.transform(depmt_groupe)\n",
    "    print(dist_centre.mean())\n",
    "    return depmt_app\n",
    "depmt_app_3=clustering(depmt_groupe_3)#les départements sont en moyenne plus proches d'un centre que de l'autre : bonne nouvelle ! Deux groupes relativement distincts a priori !\n",
    "    "
   ]
  },
  {
   "cell_type": "code",
   "execution_count": 10,
   "metadata": {},
   "outputs": [
    {
     "data": {
      "text/html": [
       "<div>\n",
       "<style scoped>\n",
       "    .dataframe tbody tr th:only-of-type {\n",
       "        vertical-align: middle;\n",
       "    }\n",
       "\n",
       "    .dataframe tbody tr th {\n",
       "        vertical-align: top;\n",
       "    }\n",
       "\n",
       "    .dataframe thead th {\n",
       "        text-align: right;\n",
       "    }\n",
       "</style>\n",
       "<table border=\"1\" class=\"dataframe\">\n",
       "  <thead>\n",
       "    <tr style=\"text-align: right;\">\n",
       "      <th></th>\n",
       "      <th>Socialiste</th>\n",
       "      <th>Gauche indépendante</th>\n",
       "      <th>Fédération républicaine de France</th>\n",
       "      <th>Républicain radical et radical-socialiste</th>\n",
       "      <th>Non inscrit</th>\n",
       "      <th>Républicains indépendants et d'action sociale</th>\n",
       "      <th>Indépendants d'action populaire</th>\n",
       "      <th>Communiste</th>\n",
       "      <th>Indépendants de gauche</th>\n",
       "      <th>Gauche démocratique et radicale indépendante</th>\n",
       "      <th>Gauche radicale</th>\n",
       "      <th>Alliance des républicains de gauche et des radicaux indépendants</th>\n",
       "      <th>Parti socialiste</th>\n",
       "      <th>Députés indépendants</th>\n",
       "      <th>Indépendants</th>\n",
       "      <th>Indépendants républicains</th>\n",
       "      <th>Union républicaine démocratique</th>\n",
       "      <th>Républicains de gauche</th>\n",
       "      <th>Union socialiste et républicaine</th>\n",
       "      <th>Fédération républicaine</th>\n",
       "      <th>Démocrate populaire</th>\n",
       "      <th>Députés du centre républicain</th>\n",
       "      <th>Parti socialiste de France</th>\n",
       "      <th>Radical et radical-socialiste</th>\n",
       "      <th>Parti républicain socialiste et socialiste français</th>\n",
       "      <th>Parti républicain socialiste</th>\n",
       "      <th>Parti socialiste français</th>\n",
       "      <th>Démocrates populaires</th>\n",
       "      <th>Républicain et social</th>\n",
       "      <th>ZZZ</th>\n",
       "      <th>Démocrates</th>\n",
       "      <th>Gauche républicaine démocratique</th>\n",
       "      <th>Action démocratique et sociale</th>\n",
       "      <th>Entente républicaine démocratique</th>\n",
       "      <th>Gauche sociale et radicale</th>\n",
       "      <th>Action républicaine et sociale</th>\n",
       "      <th>Républicain socialiste</th>\n",
       "      <th>Républicain socialiste et socialiste français</th>\n",
       "      <th>Union républicaine radicale et socialiste</th>\n",
       "      <th>Parti radical et radical socialiste</th>\n",
       "      <th>Gauche démocratique</th>\n",
       "      <th>Parti républicain radical et radical socialiste</th>\n",
       "      <th>Républicains radicaux-socialistes</th>\n",
       "      <th>Action libérale</th>\n",
       "      <th>Républicain progressiste</th>\n",
       "      <th>Gauche radicale-socialiste</th>\n",
       "      <th>Socialistes parlementaires</th>\n",
       "      <th>Droites</th>\n",
       "      <th>Socialistes unifiés</th>\n",
       "      <th>Union démocratique</th>\n",
       "      <th>Gauche démocratique</th>\n",
       "      <th>Républicains progressistes</th>\n",
       "      <th>Radical-socialiste</th>\n",
       "      <th>Progressiste</th>\n",
       "      <th>Union républicaine</th>\n",
       "      <th>Défense nationale</th>\n",
       "      <th>Républicains nationalistes</th>\n",
       "      <th>Républicain radical</th>\n",
       "      <th>Union des Droites</th>\n",
       "      <th>Républicain</th>\n",
       "      <th>Républicain</th>\n",
       "      <th>Extrême-gauche</th>\n",
       "      <th>Gauche républicaine</th>\n",
       "      <th>Radical</th>\n",
       "      <th>Extreme-gauche</th>\n",
       "      <th>Appel au peuple</th>\n",
       "      <th>Centre gauche</th>\n",
       "      <th>Gauche</th>\n",
       "      <th>Union conservatrice</th>\n",
       "      <th>Opportuniste</th>\n",
       "      <th>Centre droit</th>\n",
       "      <th>Extrême-droite</th>\n",
       "      <th>Union des gauches</th>\n",
       "    </tr>\n",
       "  </thead>\n",
       "  <tbody>\n",
       "    <tr>\n",
       "      <th>0</th>\n",
       "      <td>0.026683</td>\n",
       "      <td>0.003863</td>\n",
       "      <td>0.001249</td>\n",
       "      <td>0.066091</td>\n",
       "      <td>0.018364</td>\n",
       "      <td>0.001924</td>\n",
       "      <td>5.204170e-18</td>\n",
       "      <td>0.008238</td>\n",
       "      <td>0.005269</td>\n",
       "      <td>0.004223</td>\n",
       "      <td>0.122458</td>\n",
       "      <td>0.004507</td>\n",
       "      <td>0.068131</td>\n",
       "      <td>0.003817</td>\n",
       "      <td>0.003540</td>\n",
       "      <td>0.000462</td>\n",
       "      <td>0.011460</td>\n",
       "      <td>0.021218</td>\n",
       "      <td>0.004443</td>\n",
       "      <td>0.003950</td>\n",
       "      <td>0.000735</td>\n",
       "      <td>0.002649</td>\n",
       "      <td>0.003809</td>\n",
       "      <td>0.021616</td>\n",
       "      <td>0.002261</td>\n",
       "      <td>0.001936</td>\n",
       "      <td>0.002189</td>\n",
       "      <td>0.000269</td>\n",
       "      <td>0.000901</td>\n",
       "      <td>0.001328</td>\n",
       "      <td>0.000220</td>\n",
       "      <td>0.014726</td>\n",
       "      <td>0.003120</td>\n",
       "      <td>0.015538</td>\n",
       "      <td>0.002336</td>\n",
       "      <td>0.003523</td>\n",
       "      <td>0.021308</td>\n",
       "      <td>0.007300</td>\n",
       "      <td>0.003296</td>\n",
       "      <td>0.01464</td>\n",
       "      <td>0.014663</td>\n",
       "      <td>0.024325</td>\n",
       "      <td>0.022181</td>\n",
       "      <td>0.006988</td>\n",
       "      <td>0.007901</td>\n",
       "      <td>0.028124</td>\n",
       "      <td>0.014826</td>\n",
       "      <td>0.000408</td>\n",
       "      <td>0.005496</td>\n",
       "      <td>0.016469</td>\n",
       "      <td>0.014404</td>\n",
       "      <td>0.022961</td>\n",
       "      <td>0.033503</td>\n",
       "      <td>0.005202</td>\n",
       "      <td>0.093799</td>\n",
       "      <td>0.000498</td>\n",
       "      <td>0.001982</td>\n",
       "      <td>0.014864</td>\n",
       "      <td>0.009953</td>\n",
       "      <td>0.005646</td>\n",
       "      <td>0.004197</td>\n",
       "      <td>1.858089e-02</td>\n",
       "      <td>0.060959</td>\n",
       "      <td>2.904945e-03</td>\n",
       "      <td>2.171605e-03</td>\n",
       "      <td>0.006648</td>\n",
       "      <td>0.021150</td>\n",
       "      <td>0.001367</td>\n",
       "      <td>1.734723e-18</td>\n",
       "      <td>0.003930</td>\n",
       "      <td>0.002328</td>\n",
       "      <td>0.000339</td>\n",
       "      <td>0.001884</td>\n",
       "    </tr>\n",
       "    <tr>\n",
       "      <th>1</th>\n",
       "      <td>0.008515</td>\n",
       "      <td>0.005188</td>\n",
       "      <td>0.011024</td>\n",
       "      <td>0.045902</td>\n",
       "      <td>0.036412</td>\n",
       "      <td>0.003989</td>\n",
       "      <td>1.026852e-02</td>\n",
       "      <td>0.005462</td>\n",
       "      <td>0.005539</td>\n",
       "      <td>0.004389</td>\n",
       "      <td>0.068906</td>\n",
       "      <td>0.006521</td>\n",
       "      <td>0.028437</td>\n",
       "      <td>0.011524</td>\n",
       "      <td>0.009127</td>\n",
       "      <td>0.001992</td>\n",
       "      <td>0.039216</td>\n",
       "      <td>0.033840</td>\n",
       "      <td>0.003400</td>\n",
       "      <td>0.013436</td>\n",
       "      <td>0.007658</td>\n",
       "      <td>0.004945</td>\n",
       "      <td>0.001749</td>\n",
       "      <td>0.015466</td>\n",
       "      <td>0.001664</td>\n",
       "      <td>0.001535</td>\n",
       "      <td>0.001493</td>\n",
       "      <td>0.005609</td>\n",
       "      <td>0.002934</td>\n",
       "      <td>0.000851</td>\n",
       "      <td>0.004899</td>\n",
       "      <td>0.018399</td>\n",
       "      <td>0.002682</td>\n",
       "      <td>0.034300</td>\n",
       "      <td>0.000381</td>\n",
       "      <td>0.004288</td>\n",
       "      <td>0.006936</td>\n",
       "      <td>0.002999</td>\n",
       "      <td>0.002450</td>\n",
       "      <td>0.00734</td>\n",
       "      <td>0.017482</td>\n",
       "      <td>0.017252</td>\n",
       "      <td>0.012247</td>\n",
       "      <td>0.041935</td>\n",
       "      <td>0.013308</td>\n",
       "      <td>0.010175</td>\n",
       "      <td>0.000958</td>\n",
       "      <td>0.008089</td>\n",
       "      <td>0.001958</td>\n",
       "      <td>0.016286</td>\n",
       "      <td>0.010398</td>\n",
       "      <td>0.029964</td>\n",
       "      <td>0.006792</td>\n",
       "      <td>0.009469</td>\n",
       "      <td>0.035146</td>\n",
       "      <td>0.004528</td>\n",
       "      <td>0.004247</td>\n",
       "      <td>0.004368</td>\n",
       "      <td>0.116768</td>\n",
       "      <td>0.004651</td>\n",
       "      <td>0.003717</td>\n",
       "      <td>-8.673617e-18</td>\n",
       "      <td>0.029283</td>\n",
       "      <td>4.336809e-19</td>\n",
       "      <td>-4.336809e-19</td>\n",
       "      <td>0.049346</td>\n",
       "      <td>0.029169</td>\n",
       "      <td>0.000989</td>\n",
       "      <td>3.060224e-03</td>\n",
       "      <td>0.004021</td>\n",
       "      <td>0.004321</td>\n",
       "      <td>0.002360</td>\n",
       "      <td>0.002733</td>\n",
       "    </tr>\n",
       "  </tbody>\n",
       "</table>\n",
       "</div>"
      ],
      "text/plain": [
       "    Socialiste   Gauche indépendante   Fédération républicaine de France  \\\n",
       "0     0.026683              0.003863                            0.001249   \n",
       "1     0.008515              0.005188                            0.011024   \n",
       "\n",
       "    Républicain radical et radical-socialiste   Non inscrit  \\\n",
       "0                                    0.066091      0.018364   \n",
       "1                                    0.045902      0.036412   \n",
       "\n",
       "    Républicains indépendants et d'action sociale  \\\n",
       "0                                        0.001924   \n",
       "1                                        0.003989   \n",
       "\n",
       "    Indépendants d'action populaire   Communiste   Indépendants de gauche  \\\n",
       "0                      5.204170e-18     0.008238                 0.005269   \n",
       "1                      1.026852e-02     0.005462                 0.005539   \n",
       "\n",
       "    Gauche démocratique et radicale indépendante   Gauche radicale  \\\n",
       "0                                       0.004223          0.122458   \n",
       "1                                       0.004389          0.068906   \n",
       "\n",
       "    Alliance des républicains de gauche et des radicaux indépendants  \\\n",
       "0                                           0.004507                   \n",
       "1                                           0.006521                   \n",
       "\n",
       "    Parti socialiste   Députés indépendants   Indépendants  \\\n",
       "0           0.068131               0.003817       0.003540   \n",
       "1           0.028437               0.011524       0.009127   \n",
       "\n",
       "    Indépendants républicains   Union républicaine démocratique  \\\n",
       "0                    0.000462                          0.011460   \n",
       "1                    0.001992                          0.039216   \n",
       "\n",
       "    Républicains de gauche   Union socialiste et républicaine  \\\n",
       "0                 0.021218                           0.004443   \n",
       "1                 0.033840                           0.003400   \n",
       "\n",
       "    Fédération républicaine   Démocrate populaire  \\\n",
       "0                  0.003950              0.000735   \n",
       "1                  0.013436              0.007658   \n",
       "\n",
       "    Députés du centre républicain   Parti socialiste de France  \\\n",
       "0                        0.002649                     0.003809   \n",
       "1                        0.004945                     0.001749   \n",
       "\n",
       "    Radical et radical-socialiste  \\\n",
       "0                        0.021616   \n",
       "1                        0.015466   \n",
       "\n",
       "    Parti républicain socialiste et socialiste français  \\\n",
       "0                                           0.002261      \n",
       "1                                           0.001664      \n",
       "\n",
       "    Parti républicain socialiste   Parti socialiste français  \\\n",
       "0                       0.001936                    0.002189   \n",
       "1                       0.001535                    0.001493   \n",
       "\n",
       "    Démocrates populaires   Républicain et social      ZZZ    Démocrates  \\\n",
       "0                0.000269                0.000901  0.001328     0.000220   \n",
       "1                0.005609                0.002934  0.000851     0.004899   \n",
       "\n",
       "    Gauche républicaine démocratique   Action démocratique et sociale  \\\n",
       "0                           0.014726                         0.003120   \n",
       "1                           0.018399                         0.002682   \n",
       "\n",
       "    Entente républicaine démocratique   Gauche sociale et radicale  \\\n",
       "0                            0.015538                     0.002336   \n",
       "1                            0.034300                     0.000381   \n",
       "\n",
       "    Action républicaine et sociale   Républicain socialiste  \\\n",
       "0                         0.003523                 0.021308   \n",
       "1                         0.004288                 0.006936   \n",
       "\n",
       "    Républicain socialiste et socialiste français  \\\n",
       "0                                        0.007300   \n",
       "1                                        0.002999   \n",
       "\n",
       "    Union républicaine radicale et socialiste  \\\n",
       "0                                    0.003296   \n",
       "1                                    0.002450   \n",
       "\n",
       "    Parti radical et radical socialiste   Gauche démocratique  \\\n",
       "0                               0.01464              0.014663   \n",
       "1                               0.00734              0.017482   \n",
       "\n",
       "    Parti républicain radical et radical socialiste  \\\n",
       "0                                          0.024325   \n",
       "1                                          0.017252   \n",
       "\n",
       "    Républicains radicaux-socialistes   Action libérale  \\\n",
       "0                            0.022181          0.006988   \n",
       "1                            0.012247          0.041935   \n",
       "\n",
       "    Républicain progressiste   Gauche radicale-socialiste  \\\n",
       "0                   0.007901                     0.028124   \n",
       "1                   0.013308                     0.010175   \n",
       "\n",
       "    Socialistes parlementaires   Droites   Socialistes unifiés  \\\n",
       "0                     0.014826  0.000408              0.005496   \n",
       "1                     0.000958  0.008089              0.001958   \n",
       "\n",
       "    Union démocratique   Gauche démocratique    Républicains progressistes  \\\n",
       "0             0.016469               0.014404                     0.022961   \n",
       "1             0.016286               0.010398                     0.029964   \n",
       "\n",
       "    Radical-socialiste   Progressiste   Union républicaine  \\\n",
       "0             0.033503       0.005202             0.093799   \n",
       "1             0.006792       0.009469             0.035146   \n",
       "\n",
       "    Défense nationale   Républicains nationalistes   Républicain radical  \\\n",
       "0            0.000498                     0.001982              0.014864   \n",
       "1            0.004528                     0.004247              0.004368   \n",
       "\n",
       "    Union des Droites   Républicain    Républicain   Extrême-gauche  \\\n",
       "0            0.009953       0.005646      0.004197     1.858089e-02   \n",
       "1            0.116768       0.004651      0.003717    -8.673617e-18   \n",
       "\n",
       "    Gauche républicaine       Radical   Extreme-gauche   Appel au peuple  \\\n",
       "0              0.060959  2.904945e-03     2.171605e-03          0.006648   \n",
       "1              0.029283  4.336809e-19    -4.336809e-19          0.049346   \n",
       "\n",
       "    Centre gauche    Gauche   Union conservatrice   Opportuniste  \\\n",
       "0        0.021150  0.001367          1.734723e-18       0.003930   \n",
       "1        0.029169  0.000989          3.060224e-03       0.004021   \n",
       "\n",
       "    Centre droit   Extrême-droite   Union des gauches  \n",
       "0       0.002328         0.000339            0.001884  \n",
       "1       0.004321         0.002360            0.002733  "
      ]
     },
     "metadata": {},
     "output_type": "display_data"
    }
   ],
   "source": [
    "centres=pd.DataFrame(kmeans.cluster_centers_, index=['0','1'],columns=gros_groupe_3)\n",
    "pd.set_option('display.max_columns', None)#on peut observer tous les partis ainsi\n",
    "display(centres)"
   ]
  },
  {
   "cell_type": "code",
   "execution_count": 11,
   "metadata": {},
   "outputs": [
    {
     "data": {
      "text/html": [
       "<div>\n",
       "<style scoped>\n",
       "    .dataframe tbody tr th:only-of-type {\n",
       "        vertical-align: middle;\n",
       "    }\n",
       "\n",
       "    .dataframe tbody tr th {\n",
       "        vertical-align: top;\n",
       "    }\n",
       "\n",
       "    .dataframe thead th {\n",
       "        text-align: right;\n",
       "    }\n",
       "</style>\n",
       "<table border=\"1\" class=\"dataframe\">\n",
       "  <thead>\n",
       "    <tr style=\"text-align: right;\">\n",
       "      <th></th>\n",
       "      <th>0</th>\n",
       "      <th>1</th>\n",
       "      <th>ecart</th>\n",
       "    </tr>\n",
       "  </thead>\n",
       "  <tbody>\n",
       "    <tr>\n",
       "      <th>Union des Droites</th>\n",
       "      <td>0.009953</td>\n",
       "      <td>0.116768</td>\n",
       "      <td>-0.106815</td>\n",
       "    </tr>\n",
       "    <tr>\n",
       "      <th>Appel au peuple</th>\n",
       "      <td>0.006648</td>\n",
       "      <td>0.049346</td>\n",
       "      <td>-0.042697</td>\n",
       "    </tr>\n",
       "    <tr>\n",
       "      <th>Action libérale</th>\n",
       "      <td>0.006988</td>\n",
       "      <td>0.041935</td>\n",
       "      <td>-0.034947</td>\n",
       "    </tr>\n",
       "    <tr>\n",
       "      <th>Union républicaine démocratique</th>\n",
       "      <td>0.011460</td>\n",
       "      <td>0.039216</td>\n",
       "      <td>-0.027756</td>\n",
       "    </tr>\n",
       "    <tr>\n",
       "      <th>Entente républicaine démocratique</th>\n",
       "      <td>0.015538</td>\n",
       "      <td>0.034300</td>\n",
       "      <td>-0.018762</td>\n",
       "    </tr>\n",
       "    <tr>\n",
       "      <th>...</th>\n",
       "      <td>...</td>\n",
       "      <td>...</td>\n",
       "      <td>...</td>\n",
       "    </tr>\n",
       "    <tr>\n",
       "      <th>Radical-socialiste</th>\n",
       "      <td>0.033503</td>\n",
       "      <td>0.006792</td>\n",
       "      <td>0.026711</td>\n",
       "    </tr>\n",
       "    <tr>\n",
       "      <th>Gauche républicaine</th>\n",
       "      <td>0.060959</td>\n",
       "      <td>0.029283</td>\n",
       "      <td>0.031676</td>\n",
       "    </tr>\n",
       "    <tr>\n",
       "      <th>Parti socialiste</th>\n",
       "      <td>0.068131</td>\n",
       "      <td>0.028437</td>\n",
       "      <td>0.039694</td>\n",
       "    </tr>\n",
       "    <tr>\n",
       "      <th>Gauche radicale</th>\n",
       "      <td>0.122458</td>\n",
       "      <td>0.068906</td>\n",
       "      <td>0.053552</td>\n",
       "    </tr>\n",
       "    <tr>\n",
       "      <th>Union républicaine</th>\n",
       "      <td>0.093799</td>\n",
       "      <td>0.035146</td>\n",
       "      <td>0.058653</td>\n",
       "    </tr>\n",
       "  </tbody>\n",
       "</table>\n",
       "<p>73 rows × 3 columns</p>\n",
       "</div>"
      ],
      "text/plain": [
       "                                           0         1     ecart\n",
       " Union des Droites                  0.009953  0.116768 -0.106815\n",
       " Appel au peuple                    0.006648  0.049346 -0.042697\n",
       " Action libérale                    0.006988  0.041935 -0.034947\n",
       " Union républicaine démocratique    0.011460  0.039216 -0.027756\n",
       " Entente républicaine démocratique  0.015538  0.034300 -0.018762\n",
       "...                                      ...       ...       ...\n",
       " Radical-socialiste                 0.033503  0.006792  0.026711\n",
       " Gauche républicaine                0.060959  0.029283  0.031676\n",
       " Parti socialiste                   0.068131  0.028437  0.039694\n",
       " Gauche radicale                    0.122458  0.068906  0.053552\n",
       " Union républicaine                 0.093799  0.035146  0.058653\n",
       "\n",
       "[73 rows x 3 columns]"
      ]
     },
     "execution_count": 11,
     "metadata": {},
     "output_type": "execute_result"
    }
   ],
   "source": [
    "plusgrandecart=centres.T\n",
    "plusgrandecart['ecart']=plusgrandecart['0']-plusgrandecart['1']\n",
    "plusgrandecart.sort_values(by='ecart')"
   ]
  },
  {
   "cell_type": "markdown",
   "metadata": {},
   "source": [
    "Les écarts les plus importants en faveur de l'un des centres correspondent à des partis à droite, tandis que ceux en faveur de l'autre correspondent à des partis de gauche : le clustering semble donc avoir séparé un groupe de départements plus à droite et un autre plus à gauche. "
   ]
  },
  {
   "cell_type": "code",
   "execution_count": 12,
   "metadata": {},
   "outputs": [],
   "source": [
    "#récupération d'une carte des départements français\n",
    "import requests\n",
    "import tempfile\n",
    "import zipfile\n",
    "temporary_location = tempfile.gettempdir()\n",
    "def download_unzip(url, dirname =temporary_location, destname = \"borders\"):#fonction qui dézippe\n",
    "    myfile = requests.get(url)\n",
    "    open(dirname + '/' + destname + '.zip', 'wb').write(myfile.content)\n",
    "    with zipfile.ZipFile(dirname + '/' + destname + '.zip', 'r') as zip_ref: \n",
    "        zip_ref.extractall(dirname + '/' + destname)\n",
    "download_unzip('https://www.data.gouv.fr/fr/datasets/r/3096e551-c68d-40ce-8972-a228c94c0ad1')#l'URL où on trouve les départements\n",
    "carte_departement = gpd.read_file(tempfile.gettempdir() + \"/borders/departements-20140306-100m.dbf\")#on va chercher le fichier là où on l'a stocké\n",
    "carte_metrop = carte_departement.loc[0:95]#on enlève les départements d'outre-mer pour avoir une carte lisible\n",
    "carte_metrop.set_index('nom', inplace=True)#on met le nom du département en index pour pouvoir joindre les bases\n",
    "carte_metrop_5=carte_metrop.copy()"
   ]
  },
  {
   "cell_type": "code",
   "execution_count": 13,
   "metadata": {},
   "outputs": [],
   "source": [
    "depmt_app_3.index=[i[1:] for i in depmt_app_3.index]#on commence par enlever l'espace qui est au début du nom des départements\n",
    "ind_val=carte_metrop.index.values#on remplace les anciens noms de département par les actuels\n",
    "ind_val[ind_val==\"Côtes-d'Armor\"]='Côtes-du-Nord'#et on traite chaque cas de changement de nom\n",
    "ind_val[ind_val==\"Seine-Maritime\"]='Seine-Inférieure'\n",
    "ind_val[ind_val==\"Alpes-de-Haute-Provence\"]='Basses-Alpes'\n",
    "ind_val[ind_val==\"Loire-Atlantique\"]='Loire-Inférieure'\n",
    "ind_val[ind_val==\"Pyrénées-Atlantiques\"]='Basses-Pyrénées'\n",
    "ind_val[ind_val==\"Charente-Maritime\"]='Charente-Inférieure'\n",
    "ind_val[ind_val==\"Hauts-de-Seine\"]='Seine'\n",
    "ind_val[ind_val==\"Paris\"]='Seine'\n",
    "ind_val[ind_val==\"Seine-Saint-Denis\"]='Seine'\n",
    "ind_val[ind_val==\"Val-de-Marne\"]='Seine'\n",
    "ind_val[ind_val==\"Haute-Corse\"]='Corse'\n",
    "ind_val[ind_val==\"Corse-du-Sud\"]='Corse'\n",
    "ind_val[ind_val==\"Essonne\"]='Seine-et-Oise'\n",
    "ind_val[ind_val==\"Val-d'Oise\"]='Seine-et-Oise'\n",
    "ind_val[ind_val==\"Yvelines\"]='Seine-et-Oise'"
   ]
  },
  {
   "cell_type": "code",
   "execution_count": 14,
   "metadata": {},
   "outputs": [
    {
     "data": {
      "text/plain": [
       "<AxesSubplot:>"
      ]
     },
     "execution_count": 14,
     "metadata": {},
     "output_type": "execute_result"
    },
    {
     "data": {
      "image/png": "[encoded data removed]",
      "text/plain": [
       "<Figure size 576x396 with 2 Axes>"
      ]
     },
     "metadata": {},
     "output_type": "display_data"
    }
   ],
   "source": [
    "df = carte_metrop.merge(depmt_app_3, how = 'inner', left_index=True, right_index=True)\n",
    "df.plot(column = 'Appartenance', cmap = 'RdYlBu_r', legend=True)#on crée une carte"
   ]
  },
  {
   "cell_type": "markdown",
   "metadata": {},
   "source": [
    "On peut représenter ces résultats avec une ACP."
   ]
  },
  {
   "cell_type": "code",
   "execution_count": 16,
   "metadata": {},
   "outputs": [],
   "source": [
    "acp=PCA(n_components=2)#une ACP sur deux axes afin de pouvoir la visualiser\n",
    "proj=acp.fit_transform(depmt_groupe_3)\n",
    "#Fit et réduit"
   ]
  },
  {
   "cell_type": "code",
   "execution_count": 17,
   "metadata": {},
   "outputs": [
    {
     "data": {
      "image/png": "[encoded data removed]",
      "text/plain": [
       "<Figure size 576x396 with 1 Axes>"
      ]
     },
     "metadata": {},
     "output_type": "display_data"
    }
   ],
   "source": [
    "def nuagepoint(base, nbre_cluster=2) :\n",
    "    proj0=[i[0] for i in proj]#on prend la projection sur l'axe des abcisses\n",
    "    proj1=[i[1] for i in proj]#puis des ordonnées\n",
    "    appartenance=np.array(base['Appartenance'])\n",
    "    if nbre_cluster>2 :#avec des couleurs aléatoires\n",
    "        for num_cluster in range(nbre_cluster) :\n",
    "            appartenance=np.array((base['Appartenance']==num_cluster).astype(float))\n",
    "            plt.scatter(proj0*appartenance, proj1*appartenance)#on projette les données du cluster\n",
    "    else :#on prend les couleurs rouge et bleu\n",
    "        plt.scatter(proj0*appartenance, proj1*appartenance, color='red')#on projette en rouge les membres du cluster 1\n",
    "        plt.scatter(proj0*(1-appartenance), proj1*(1-appartenance))#en bleu ceux du 0\n",
    "nuagepoint(depmt_app_3)#il y a juste n points en plus en (0,0), mais ils ne gênent pas la vision "
   ]
  },
  {
   "cell_type": "markdown",
   "metadata": {},
   "source": [
    "Le clustering semble bien avoir séparé deux groupes différents, dont un qui semble expliquer une très grande part des différences et qui semble bien être l'axe droite-gauche."
   ]
  },
  {
   "cell_type": "markdown",
   "metadata": {},
   "source": [
    "On refait pour la Cinquième République"
   ]
  },
  {
   "cell_type": "code",
   "execution_count": 18,
   "metadata": {},
   "outputs": [
    {
     "name": "stderr",
     "output_type": "stream",
     "text": [
      "C:\\Users\\sylva\\Anaconda3\\lib\\site-packages\\ipykernel_launcher.py:14: RuntimeWarning: invalid value encountered in long_scalars\n",
      "  \n"
     ]
    }
   ],
   "source": [
    "mandat_dep_5=mandat_dep[mandat_dep['Régime politique']=='Cinquième République - Assemblée nationale']\n",
    "(depmt_groupe_5, gros_groupe_5)=datagroupe(mandat_dep_5)"
   ]
  },
  {
   "cell_type": "code",
   "execution_count": 19,
   "metadata": {},
   "outputs": [
    {
     "name": "stdout",
     "output_type": "stream",
     "text": [
      "0.4631566592959512\n"
     ]
    },
    {
     "data": {
      "text/html": [
       "<div>\n",
       "<style scoped>\n",
       "    .dataframe tbody tr th:only-of-type {\n",
       "        vertical-align: middle;\n",
       "    }\n",
       "\n",
       "    .dataframe tbody tr th {\n",
       "        vertical-align: top;\n",
       "    }\n",
       "\n",
       "    .dataframe thead th {\n",
       "        text-align: right;\n",
       "    }\n",
       "</style>\n",
       "<table border=\"1\" class=\"dataframe\">\n",
       "  <thead>\n",
       "    <tr style=\"text-align: right;\">\n",
       "      <th></th>\n",
       "      <th>Union pour la majorité présidentielle</th>\n",
       "      <th>Union pour un mouvement populaire</th>\n",
       "      <th>La République en Marche</th>\n",
       "      <th>Socialiste</th>\n",
       "      <th>Union pour un Mouvement Populaire</th>\n",
       "      <th>Les Républicains</th>\n",
       "      <th>Nouvelle Gauche</th>\n",
       "      <th>Rassemblement pour la République</th>\n",
       "      <th>Mouvement Démocrate et apparentés</th>\n",
       "      <th>Non inscrit</th>\n",
       "      <th>Union des démocrates et indépendants</th>\n",
       "      <th>Communiste</th>\n",
       "      <th>Union pour la démocratie française</th>\n",
       "      <th>Nouveau Centre</th>\n",
       "      <th>Union pour la démocratie française et du centre</th>\n",
       "      <th>Gauche démocrate et républicaine</th>\n",
       "      <th>Socialiste</th>\n",
       "      <th>Front national</th>\n",
       "      <th>Communistes et républicains</th>\n",
       "      <th>Apparenté socialiste</th>\n",
       "      <th>République et liberté</th>\n",
       "      <th>Union du centre</th>\n",
       "      <th>Parti socialiste et radicaux de gauche</th>\n",
       "      <th>Union des démocrates pour la République</th>\n",
       "      <th>Union centriste</th>\n",
       "      <th>Républicains indépendants</th>\n",
       "      <th>Union des démocrates pour la République</th>\n",
       "      <th>Union démocratique pour la V° République</th>\n",
       "      <th>Réformateurs démocrates sociaux</th>\n",
       "      <th>Fédération de la gauche démocrate et socialiste</th>\n",
       "      <th>Progrès et démocratie moderne</th>\n",
       "      <th>Union pour la nouvelle République-UDT</th>\n",
       "      <th>Centre démocratique</th>\n",
       "      <th>Union pour la nouvelle République</th>\n",
       "      <th>Républicains populaires et centre démocratique</th>\n",
       "      <th>Unité de la République</th>\n",
       "      <th>Indépendants et paysans d'action sociale</th>\n",
       "      <th>Entente démocratique</th>\n",
       "      <th>Rassemblement démocratique</th>\n",
       "    </tr>\n",
       "  </thead>\n",
       "  <tbody>\n",
       "    <tr>\n",
       "      <th>0</th>\n",
       "      <td>0.040764</td>\n",
       "      <td>5.694960e-02</td>\n",
       "      <td>0.011309</td>\n",
       "      <td>0.045948</td>\n",
       "      <td>5.208749e-03</td>\n",
       "      <td>0.017162</td>\n",
       "      <td>0.001913</td>\n",
       "      <td>0.116901</td>\n",
       "      <td>0.003028</td>\n",
       "      <td>0.033867</td>\n",
       "      <td>0.003511</td>\n",
       "      <td>0.036117</td>\n",
       "      <td>7.219167e-02</td>\n",
       "      <td>0.00287</td>\n",
       "      <td>2.759765e-02</td>\n",
       "      <td>0.004182</td>\n",
       "      <td>0.079885</td>\n",
       "      <td>0.002384</td>\n",
       "      <td>1.663933e-03</td>\n",
       "      <td>1.140434e-02</td>\n",
       "      <td>0.003418</td>\n",
       "      <td>0.002785</td>\n",
       "      <td>0.008555</td>\n",
       "      <td>0.066399</td>\n",
       "      <td>0.006368</td>\n",
       "      <td>2.868889e-02</td>\n",
       "      <td>2.388692e-03</td>\n",
       "      <td>3.189787e-02</td>\n",
       "      <td>0.004893</td>\n",
       "      <td>0.015714</td>\n",
       "      <td>0.011297</td>\n",
       "      <td>0.028657</td>\n",
       "      <td>0.010414</td>\n",
       "      <td>0.023678</td>\n",
       "      <td>0.007615</td>\n",
       "      <td>0.006277</td>\n",
       "      <td>0.013603</td>\n",
       "      <td>0.003822</td>\n",
       "      <td>0.005450</td>\n",
       "    </tr>\n",
       "    <tr>\n",
       "      <th>1</th>\n",
       "      <td>0.024429</td>\n",
       "      <td>2.274527e-02</td>\n",
       "      <td>0.013360</td>\n",
       "      <td>0.205806</td>\n",
       "      <td>2.024291e-03</td>\n",
       "      <td>0.003317</td>\n",
       "      <td>0.004336</td>\n",
       "      <td>0.071223</td>\n",
       "      <td>0.005480</td>\n",
       "      <td>0.016206</td>\n",
       "      <td>0.000835</td>\n",
       "      <td>0.028402</td>\n",
       "      <td>2.638526e-02</td>\n",
       "      <td>0.00000</td>\n",
       "      <td>2.409303e-02</td>\n",
       "      <td>0.001949</td>\n",
       "      <td>0.267869</td>\n",
       "      <td>0.000261</td>\n",
       "      <td>6.497726e-04</td>\n",
       "      <td>8.577236e-03</td>\n",
       "      <td>0.003193</td>\n",
       "      <td>0.001406</td>\n",
       "      <td>0.047837</td>\n",
       "      <td>0.031345</td>\n",
       "      <td>0.001170</td>\n",
       "      <td>6.856032e-03</td>\n",
       "      <td>3.550543e-03</td>\n",
       "      <td>7.087766e-03</td>\n",
       "      <td>0.003630</td>\n",
       "      <td>0.072466</td>\n",
       "      <td>0.008628</td>\n",
       "      <td>0.013381</td>\n",
       "      <td>0.001170</td>\n",
       "      <td>0.015268</td>\n",
       "      <td>0.009519</td>\n",
       "      <td>0.000000</td>\n",
       "      <td>0.010416</td>\n",
       "      <td>0.007754</td>\n",
       "      <td>0.014932</td>\n",
       "    </tr>\n",
       "    <tr>\n",
       "      <th>2</th>\n",
       "      <td>0.000000</td>\n",
       "      <td>6.938894e-18</td>\n",
       "      <td>0.000000</td>\n",
       "      <td>0.028042</td>\n",
       "      <td>8.673617e-19</td>\n",
       "      <td>0.000000</td>\n",
       "      <td>0.000000</td>\n",
       "      <td>0.000000</td>\n",
       "      <td>0.000000</td>\n",
       "      <td>0.000000</td>\n",
       "      <td>0.000000</td>\n",
       "      <td>0.042328</td>\n",
       "      <td>1.387779e-17</td>\n",
       "      <td>0.00000</td>\n",
       "      <td>3.469447e-18</td>\n",
       "      <td>0.000000</td>\n",
       "      <td>0.000000</td>\n",
       "      <td>0.000000</td>\n",
       "      <td>2.168404e-19</td>\n",
       "      <td>1.734723e-18</td>\n",
       "      <td>0.000000</td>\n",
       "      <td>0.000000</td>\n",
       "      <td>0.000000</td>\n",
       "      <td>0.000000</td>\n",
       "      <td>0.000000</td>\n",
       "      <td>3.469447e-18</td>\n",
       "      <td>4.336809e-19</td>\n",
       "      <td>3.469447e-18</td>\n",
       "      <td>0.000000</td>\n",
       "      <td>0.000000</td>\n",
       "      <td>0.000000</td>\n",
       "      <td>0.028571</td>\n",
       "      <td>0.000000</td>\n",
       "      <td>0.741799</td>\n",
       "      <td>0.000000</td>\n",
       "      <td>0.000000</td>\n",
       "      <td>0.103704</td>\n",
       "      <td>0.055556</td>\n",
       "      <td>0.000000</td>\n",
       "    </tr>\n",
       "  </tbody>\n",
       "</table>\n",
       "</div>"
      ],
      "text/plain": [
       "    Union pour la majorité présidentielle   Union pour un mouvement populaire  \\\n",
       "0                                0.040764                        5.694960e-02   \n",
       "1                                0.024429                        2.274527e-02   \n",
       "2                                0.000000                        6.938894e-18   \n",
       "\n",
       "    La République en Marche   Socialiste   Union pour un Mouvement Populaire  \\\n",
       "0                  0.011309     0.045948                        5.208749e-03   \n",
       "1                  0.013360     0.205806                        2.024291e-03   \n",
       "2                  0.000000     0.028042                        8.673617e-19   \n",
       "\n",
       "    Les Républicains   Nouvelle Gauche   Rassemblement pour la République  \\\n",
       "0           0.017162          0.001913                           0.116901   \n",
       "1           0.003317          0.004336                           0.071223   \n",
       "2           0.000000          0.000000                           0.000000   \n",
       "\n",
       "    Mouvement Démocrate et apparentés   Non inscrit  \\\n",
       "0                            0.003028      0.033867   \n",
       "1                            0.005480      0.016206   \n",
       "2                            0.000000      0.000000   \n",
       "\n",
       "    Union des démocrates et indépendants   Communiste  \\\n",
       "0                               0.003511     0.036117   \n",
       "1                               0.000835     0.028402   \n",
       "2                               0.000000     0.042328   \n",
       "\n",
       "    Union pour la démocratie française   Nouveau Centre  \\\n",
       "0                         7.219167e-02          0.00287   \n",
       "1                         2.638526e-02          0.00000   \n",
       "2                         1.387779e-17          0.00000   \n",
       "\n",
       "    Union pour la démocratie française et du centre  \\\n",
       "0                                      2.759765e-02   \n",
       "1                                      2.409303e-02   \n",
       "2                                      3.469447e-18   \n",
       "\n",
       "    Gauche démocrate et républicaine   Socialiste    Front national  \\\n",
       "0                           0.004182      0.079885         0.002384   \n",
       "1                           0.001949      0.267869         0.000261   \n",
       "2                           0.000000      0.000000         0.000000   \n",
       "\n",
       "    Communistes et républicains   Apparenté socialiste  \\\n",
       "0                  1.663933e-03           1.140434e-02   \n",
       "1                  6.497726e-04           8.577236e-03   \n",
       "2                  2.168404e-19           1.734723e-18   \n",
       "\n",
       "    République et liberté   Union du centre  \\\n",
       "0                0.003418          0.002785   \n",
       "1                0.003193          0.001406   \n",
       "2                0.000000          0.000000   \n",
       "\n",
       "    Parti socialiste et radicaux de gauche  \\\n",
       "0                                 0.008555   \n",
       "1                                 0.047837   \n",
       "2                                 0.000000   \n",
       "\n",
       "    Union des démocrates pour la République   Union centriste  \\\n",
       "0                                  0.066399          0.006368   \n",
       "1                                  0.031345          0.001170   \n",
       "2                                  0.000000          0.000000   \n",
       "\n",
       "    Républicains indépendants   Union des démocrates pour la République   \\\n",
       "0                2.868889e-02                               2.388692e-03   \n",
       "1                6.856032e-03                               3.550543e-03   \n",
       "2                3.469447e-18                               4.336809e-19   \n",
       "\n",
       "    Union démocratique pour la V° République  \\\n",
       "0                               3.189787e-02   \n",
       "1                               7.087766e-03   \n",
       "2                               3.469447e-18   \n",
       "\n",
       "    Réformateurs démocrates sociaux  \\\n",
       "0                          0.004893   \n",
       "1                          0.003630   \n",
       "2                          0.000000   \n",
       "\n",
       "    Fédération de la gauche démocrate et socialiste  \\\n",
       "0                                          0.015714   \n",
       "1                                          0.072466   \n",
       "2                                          0.000000   \n",
       "\n",
       "    Progrès et démocratie moderne   Union pour la nouvelle République-UDT  \\\n",
       "0                        0.011297                                0.028657   \n",
       "1                        0.008628                                0.013381   \n",
       "2                        0.000000                                0.028571   \n",
       "\n",
       "    Centre démocratique   Union pour la nouvelle République  \\\n",
       "0              0.010414                            0.023678   \n",
       "1              0.001170                            0.015268   \n",
       "2              0.000000                            0.741799   \n",
       "\n",
       "    Républicains populaires et centre démocratique   Unité de la République  \\\n",
       "0                                         0.007615                 0.006277   \n",
       "1                                         0.009519                 0.000000   \n",
       "2                                         0.000000                 0.000000   \n",
       "\n",
       "    Indépendants et paysans d'action sociale   Entente démocratique  \\\n",
       "0                                   0.013603               0.003822   \n",
       "1                                   0.010416               0.007754   \n",
       "2                                   0.103704               0.055556   \n",
       "\n",
       "    Rassemblement démocratique  \n",
       "0                     0.005450  \n",
       "1                     0.014932  \n",
       "2                     0.000000  "
      ]
     },
     "metadata": {},
     "output_type": "display_data"
    }
   ],
   "source": [
    "kmeans = cluster.KMeans(n_clusters=3, max_iter=1000)\n",
    "depmt_app_5=clustering(depmt_groupe_5.fillna(0))\n",
    "centres=pd.DataFrame(kmeans.cluster_centers_, index=['0','1', '2'],columns=gros_groupe_5)\n",
    "pd.set_option('display.max_columns', None)\n",
    "display(centres)"
   ]
  },
  {
   "cell_type": "markdown",
   "metadata": {},
   "source": [
    "Pour la Cinquième République, les résultats sont beaucoup moins encourageants. Il y a beaucoup plus de valeurs manquantes, ce qui enlève de l'intérêt au clustering : les valeurs sont artificiellement proches de 0. On va essayer d'en refaire un en se concentrant sur les premières législatures."
   ]
  },
  {
   "cell_type": "code",
   "execution_count": 20,
   "metadata": {},
   "outputs": [
    {
     "name": "stderr",
     "output_type": "stream",
     "text": [
      "C:\\Users\\sylva\\Anaconda3\\lib\\site-packages\\ipykernel_launcher.py:14: RuntimeWarning: invalid value encountered in long_scalars\n",
      "  \n"
     ]
    }
   ],
   "source": [
    "listeLegis=['Ire','IIe', 'IIIe', 'IVe', 'Ve', 'VIe', 'VIIe', 'VIIIe', 'IXe', 'Xe', 'XIe', 'XIIe']\n",
    "listeLegislature=[' '+i+' législature ' for i in listeLegis]#on crée une liste des législatures dans le bon ordre\n",
    "mandat_dep_5b=mandat_dep[mandat_dep['Régime politique']=='Cinquième République - Assemblée nationale']\n",
    "mandat_dep_prems=mandat_dep_5b[mandat_dep_5b['Législature']==listeLegislature[0]]\n",
    "for legislature in listeLegislature :#on concatène les bases des douze premières législatures\n",
    "    mandat_dep_prems=pd.concat((mandat_dep_prems, mandat_dep_5b[mandat_dep_5b['Législature']==legislature]))\n",
    "    \n",
    "(depmt_groupe_5b, gros_groupe_5b)=datagroupe(mandat_dep_prems)"
   ]
  },
  {
   "cell_type": "code",
   "execution_count": 21,
   "metadata": {},
   "outputs": [],
   "source": [
    "depmt_groupe_5b=depmt_groupe_5b[depmt_groupe_5b.index.notna()]\n",
    "depmt_groupe_5b.index=[i[1:] for i in depmt_groupe_5b.index]#on commence par enlever l'espace qui est au début du nom des départements\n",
    "depmt_groupe_5metr=carte_metrop_5.merge(depmt_groupe_5b, how = 'inner', left_index=True, right_index=True)#on enlève les députés hors france métropolitaine\n",
    "depmt_groupe_5metr.drop(['code_insee', 'nuts3', 'wikipedia', 'geometry'], axis='columns', inplace=True)#on enlève les colonnes inutiles\n"
   ]
  },
  {
   "cell_type": "code",
   "execution_count": 22,
   "metadata": {},
   "outputs": [
    {
     "name": "stderr",
     "output_type": "stream",
     "text": [
      "C:\\Users\\sylva\\Anaconda3\\lib\\site-packages\\sklearn\\base.py:213: FutureWarning: From version 0.24, get_params will raise an AttributeError if a parameter cannot be retrieved as an instance attribute. Previously it would return None.\n",
      "  FutureWarning)\n"
     ]
    },
    {
     "data": {
      "text/plain": [
       "KElbowVisualizer(ax=<AxesSubplot:>, k=None, model=None)"
      ]
     },
     "execution_count": 22,
     "metadata": {},
     "output_type": "execute_result"
    },
    {
     "data": {
      "image/png": "[encoded data removed]",
      "text/plain": [
       "<Figure size 576x396 with 2 Axes>"
      ]
     },
     "metadata": {},
     "output_type": "display_data"
    }
   ],
   "source": [
    "visualizer = KElbowVisualizer(kmeans, k=(2,12))\n",
    "visualizer.fit(depmt_groupe_5metr)   "
   ]
  },
  {
   "cell_type": "code",
   "execution_count": 23,
   "metadata": {},
   "outputs": [
    {
     "name": "stdout",
     "output_type": "stream",
     "text": [
      "0.3883105428006415\n"
     ]
    },
    {
     "data": {
      "text/html": [
       "<div>\n",
       "<style scoped>\n",
       "    .dataframe tbody tr th:only-of-type {\n",
       "        vertical-align: middle;\n",
       "    }\n",
       "\n",
       "    .dataframe tbody tr th {\n",
       "        vertical-align: top;\n",
       "    }\n",
       "\n",
       "    .dataframe thead th {\n",
       "        text-align: right;\n",
       "    }\n",
       "</style>\n",
       "<table border=\"1\" class=\"dataframe\">\n",
       "  <thead>\n",
       "    <tr style=\"text-align: right;\">\n",
       "      <th></th>\n",
       "      <th>Union pour la nouvelle République</th>\n",
       "      <th>Républicains populaires et centre démocratique</th>\n",
       "      <th>Unité de la République</th>\n",
       "      <th>Non inscrit</th>\n",
       "      <th>Indépendants et paysans d'action sociale</th>\n",
       "      <th>Entente démocratique</th>\n",
       "      <th>Socialiste</th>\n",
       "      <th>Communiste</th>\n",
       "      <th>Union pour la nouvelle République-UDT</th>\n",
       "      <th>Centre démocratique</th>\n",
       "      <th>Rassemblement démocratique</th>\n",
       "      <th>Républicains indépendants</th>\n",
       "      <th>Union démocratique pour la V° République</th>\n",
       "      <th>Progrès et démocratie moderne</th>\n",
       "      <th>Fédération de la gauche démocrate et socialiste</th>\n",
       "      <th>Union des démocrates pour la République</th>\n",
       "      <th>Parti socialiste et radicaux de gauche</th>\n",
       "      <th>Union centriste</th>\n",
       "      <th>Union des démocrates pour la République</th>\n",
       "      <th>Réformateurs démocrates sociaux</th>\n",
       "      <th>Rassemblement pour la République</th>\n",
       "      <th>Union pour la démocratie française</th>\n",
       "      <th>Socialiste</th>\n",
       "      <th>Apparenté socialiste</th>\n",
       "      <th>Front national</th>\n",
       "      <th>Union du centre</th>\n",
       "      <th>Union pour la démocratie française et du centre</th>\n",
       "      <th>République et liberté</th>\n",
       "      <th>Union pour un mouvement populaire</th>\n",
       "      <th>Union pour la majorité présidentielle</th>\n",
       "      <th>Communistes et républicains</th>\n",
       "    </tr>\n",
       "  </thead>\n",
       "  <tbody>\n",
       "    <tr>\n",
       "      <th>0</th>\n",
       "      <td>0.069724</td>\n",
       "      <td>0.025001</td>\n",
       "      <td>7.256894e-04</td>\n",
       "      <td>0.022758</td>\n",
       "      <td>0.040555</td>\n",
       "      <td>0.011095</td>\n",
       "      <td>0.045083</td>\n",
       "      <td>0.012325</td>\n",
       "      <td>0.039963</td>\n",
       "      <td>0.016621</td>\n",
       "      <td>8.472120e-03</td>\n",
       "      <td>0.048541</td>\n",
       "      <td>0.045898</td>\n",
       "      <td>1.864636e-02</td>\n",
       "      <td>0.017414</td>\n",
       "      <td>0.081291</td>\n",
       "      <td>0.008833</td>\n",
       "      <td>1.125719e-02</td>\n",
       "      <td>2.215534e-03</td>\n",
       "      <td>0.006668</td>\n",
       "      <td>1.454481e-01</td>\n",
       "      <td>0.112547</td>\n",
       "      <td>9.132538e-02</td>\n",
       "      <td>0.005010</td>\n",
       "      <td>0.001953</td>\n",
       "      <td>5.126811e-03</td>\n",
       "      <td>0.037034</td>\n",
       "      <td>2.215620e-03</td>\n",
       "      <td>0.003549</td>\n",
       "      <td>0.054206</td>\n",
       "      <td>0.000544</td>\n",
       "    </tr>\n",
       "    <tr>\n",
       "      <th>1</th>\n",
       "      <td>0.045500</td>\n",
       "      <td>0.014176</td>\n",
       "      <td>-2.710505e-19</td>\n",
       "      <td>0.019335</td>\n",
       "      <td>0.025871</td>\n",
       "      <td>0.014955</td>\n",
       "      <td>0.162008</td>\n",
       "      <td>0.073682</td>\n",
       "      <td>0.019345</td>\n",
       "      <td>0.003131</td>\n",
       "      <td>1.224010e-02</td>\n",
       "      <td>0.011879</td>\n",
       "      <td>0.010110</td>\n",
       "      <td>8.247797e-03</td>\n",
       "      <td>0.063988</td>\n",
       "      <td>0.047990</td>\n",
       "      <td>0.040118</td>\n",
       "      <td>1.464878e-03</td>\n",
       "      <td>3.729311e-03</td>\n",
       "      <td>0.004900</td>\n",
       "      <td>6.993767e-02</td>\n",
       "      <td>0.040015</td>\n",
       "      <td>2.066957e-01</td>\n",
       "      <td>0.011194</td>\n",
       "      <td>0.003757</td>\n",
       "      <td>1.139836e-03</td>\n",
       "      <td>0.030343</td>\n",
       "      <td>2.957684e-03</td>\n",
       "      <td>0.004615</td>\n",
       "      <td>0.032319</td>\n",
       "      <td>0.002930</td>\n",
       "    </tr>\n",
       "    <tr>\n",
       "      <th>2</th>\n",
       "      <td>0.628643</td>\n",
       "      <td>0.000000</td>\n",
       "      <td>0.000000e+00</td>\n",
       "      <td>0.000000</td>\n",
       "      <td>0.167022</td>\n",
       "      <td>0.071429</td>\n",
       "      <td>0.040867</td>\n",
       "      <td>0.066453</td>\n",
       "      <td>0.025586</td>\n",
       "      <td>0.000000</td>\n",
       "      <td>-1.734723e-18</td>\n",
       "      <td>0.000000</td>\n",
       "      <td>0.000000</td>\n",
       "      <td>1.734723e-18</td>\n",
       "      <td>0.000000</td>\n",
       "      <td>0.000000</td>\n",
       "      <td>0.000000</td>\n",
       "      <td>8.673617e-19</td>\n",
       "      <td>4.336809e-19</td>\n",
       "      <td>0.000000</td>\n",
       "      <td>1.387779e-17</td>\n",
       "      <td>0.000000</td>\n",
       "      <td>2.775558e-17</td>\n",
       "      <td>0.000000</td>\n",
       "      <td>0.000000</td>\n",
       "      <td>8.673617e-19</td>\n",
       "      <td>0.000000</td>\n",
       "      <td>4.336809e-19</td>\n",
       "      <td>0.000000</td>\n",
       "      <td>0.000000</td>\n",
       "      <td>0.000000</td>\n",
       "    </tr>\n",
       "  </tbody>\n",
       "</table>\n",
       "</div>"
      ],
      "text/plain": [
       "    Union pour la nouvelle République  \\\n",
       "0                            0.069724   \n",
       "1                            0.045500   \n",
       "2                            0.628643   \n",
       "\n",
       "    Républicains populaires et centre démocratique   Unité de la République  \\\n",
       "0                                         0.025001             7.256894e-04   \n",
       "1                                         0.014176            -2.710505e-19   \n",
       "2                                         0.000000             0.000000e+00   \n",
       "\n",
       "    Non inscrit   Indépendants et paysans d'action sociale  \\\n",
       "0      0.022758                                   0.040555   \n",
       "1      0.019335                                   0.025871   \n",
       "2      0.000000                                   0.167022   \n",
       "\n",
       "    Entente démocratique   Socialiste   Communiste  \\\n",
       "0               0.011095     0.045083     0.012325   \n",
       "1               0.014955     0.162008     0.073682   \n",
       "2               0.071429     0.040867     0.066453   \n",
       "\n",
       "    Union pour la nouvelle République-UDT   Centre démocratique  \\\n",
       "0                                0.039963              0.016621   \n",
       "1                                0.019345              0.003131   \n",
       "2                                0.025586              0.000000   \n",
       "\n",
       "    Rassemblement démocratique   Républicains indépendants  \\\n",
       "0                 8.472120e-03                    0.048541   \n",
       "1                 1.224010e-02                    0.011879   \n",
       "2                -1.734723e-18                    0.000000   \n",
       "\n",
       "    Union démocratique pour la V° République   Progrès et démocratie moderne  \\\n",
       "0                                   0.045898                    1.864636e-02   \n",
       "1                                   0.010110                    8.247797e-03   \n",
       "2                                   0.000000                    1.734723e-18   \n",
       "\n",
       "    Fédération de la gauche démocrate et socialiste  \\\n",
       "0                                          0.017414   \n",
       "1                                          0.063988   \n",
       "2                                          0.000000   \n",
       "\n",
       "    Union des démocrates pour la République  \\\n",
       "0                                  0.081291   \n",
       "1                                  0.047990   \n",
       "2                                  0.000000   \n",
       "\n",
       "    Parti socialiste et radicaux de gauche   Union centriste  \\\n",
       "0                                 0.008833      1.125719e-02   \n",
       "1                                 0.040118      1.464878e-03   \n",
       "2                                 0.000000      8.673617e-19   \n",
       "\n",
       "    Union des démocrates pour la République   \\\n",
       "0                               2.215534e-03   \n",
       "1                               3.729311e-03   \n",
       "2                               4.336809e-19   \n",
       "\n",
       "    Réformateurs démocrates sociaux   Rassemblement pour la République  \\\n",
       "0                          0.006668                       1.454481e-01   \n",
       "1                          0.004900                       6.993767e-02   \n",
       "2                          0.000000                       1.387779e-17   \n",
       "\n",
       "    Union pour la démocratie française   Socialiste    Apparenté socialiste  \\\n",
       "0                             0.112547  9.132538e-02               0.005010   \n",
       "1                             0.040015  2.066957e-01               0.011194   \n",
       "2                             0.000000  2.775558e-17               0.000000   \n",
       "\n",
       "    Front national   Union du centre  \\\n",
       "0         0.001953      5.126811e-03   \n",
       "1         0.003757      1.139836e-03   \n",
       "2         0.000000      8.673617e-19   \n",
       "\n",
       "    Union pour la démocratie française et du centre   République et liberté  \\\n",
       "0                                          0.037034            2.215620e-03   \n",
       "1                                          0.030343            2.957684e-03   \n",
       "2                                          0.000000            4.336809e-19   \n",
       "\n",
       "    Union pour un mouvement populaire   Union pour la majorité présidentielle  \\\n",
       "0                            0.003549                                0.054206   \n",
       "1                            0.004615                                0.032319   \n",
       "2                            0.000000                                0.000000   \n",
       "\n",
       "    Communistes et républicains  \n",
       "0                      0.000544  \n",
       "1                      0.002930  \n",
       "2                      0.000000  "
      ]
     },
     "metadata": {},
     "output_type": "display_data"
    }
   ],
   "source": [
    "kmeans = cluster.KMeans(n_clusters=3, max_iter=1000)#on choisit trois clusters car le gain du troisième est considérable\n",
    "depmt_app_5b=clustering(depmt_groupe_5metr.fillna(0))\n",
    "depmt_app_5b=depmt_app_5b.drop_duplicates()#on supprime les doublons créés par les changements de nom\n",
    "depmt_groupe_5metr=depmt_groupe_5metr.drop_duplicates()#de même ici\n",
    "\n",
    "centres=pd.DataFrame(kmeans.cluster_centers_, index=['0','1','2'],columns=gros_groupe_5b)\n",
    "pd.set_option('display.max_columns', None)\n",
    "display(centres)"
   ]
  },
  {
   "cell_type": "markdown",
   "metadata": {},
   "source": [
    "Les résultats sont ici plus intéressants, avec un groupe très lié à l'Union pour la nouvelle République (parti gaulliste)."
   ]
  },
  {
   "cell_type": "code",
   "execution_count": 27,
   "metadata": {},
   "outputs": [
    {
     "data": {
      "text/plain": [
       "<AxesSubplot:>"
      ]
     },
     "execution_count": 27,
     "metadata": {},
     "output_type": "execute_result"
    },
    {
     "data": {
      "image/png": "[encoded data removed]",
      "text/plain": [
       "<Figure size 576x396 with 2 Axes>"
      ]
     },
     "metadata": {},
     "output_type": "display_data"
    }
   ],
   "source": [
    "depmt_app_5b=depmt_app_5b[depmt_app_5b.index.notna()]\n",
    "df = carte_metrop_5.merge(depmt_app_5b, how = 'inner', left_index=True, right_index=True)\n",
    "df.plot(column = 'Appartenance', cmap = 'viridis', legend=True)#on crée la carte"
   ]
  },
  {
   "cell_type": "code",
   "execution_count": 36,
   "metadata": {},
   "outputs": [
    {
     "data": {
      "image/png": "[encoded data removed]",
      "text/plain": [
       "<Figure size 576x396 with 1 Axes>"
      ]
     },
     "metadata": {},
     "output_type": "display_data"
    }
   ],
   "source": [
    "proj=acp.fit_transform(depmt_groupe_5metr)\n",
    "nuagepoint(depmt_app_5b, nbre_cluster=3)"
   ]
  },
  {
   "cell_type": "markdown",
   "metadata": {},
   "source": [
    "On a toujours le groupe parisien votant Union pour la Nouvelle République qui se détache, le reste est plus fluctuant"
   ]
  },
  {
   "cell_type": "markdown",
   "metadata": {},
   "source": [
    "Pour l'Empire !"
   ]
  },
  {
   "cell_type": "code",
   "execution_count": 28,
   "metadata": {},
   "outputs": [
    {
     "name": "stdout",
     "output_type": "stream",
     "text": [
      "0.2522591131733693\n"
     ]
    },
    {
     "data": {
      "text/html": [
       "<div>\n",
       "<style scoped>\n",
       "    .dataframe tbody tr th:only-of-type {\n",
       "        vertical-align: middle;\n",
       "    }\n",
       "\n",
       "    .dataframe tbody tr th {\n",
       "        vertical-align: top;\n",
       "    }\n",
       "\n",
       "    .dataframe thead th {\n",
       "        text-align: right;\n",
       "    }\n",
       "</style>\n",
       "<table border=\"1\" class=\"dataframe\">\n",
       "  <thead>\n",
       "    <tr style=\"text-align: right;\">\n",
       "      <th></th>\n",
       "      <th>Centre droit</th>\n",
       "      <th>Opposition</th>\n",
       "      <th>Centre gauche</th>\n",
       "      <th>Gauche</th>\n",
       "      <th>Majorité dynastique</th>\n",
       "      <th>Tiers-parti</th>\n",
       "      <th>Majorité dynastique</th>\n",
       "      <th>Indépendant</th>\n",
       "    </tr>\n",
       "  </thead>\n",
       "  <tbody>\n",
       "    <tr>\n",
       "      <th>0</th>\n",
       "      <td>0.109686</td>\n",
       "      <td>0.002311</td>\n",
       "      <td>0.017651</td>\n",
       "      <td>0.013935</td>\n",
       "      <td>0.810457</td>\n",
       "      <td>0.011329</td>\n",
       "      <td>0.001956</td>\n",
       "      <td>0.017547</td>\n",
       "    </tr>\n",
       "    <tr>\n",
       "      <th>1</th>\n",
       "      <td>0.107732</td>\n",
       "      <td>0.038921</td>\n",
       "      <td>0.058156</td>\n",
       "      <td>0.052971</td>\n",
       "      <td>0.523471</td>\n",
       "      <td>0.027082</td>\n",
       "      <td>0.035065</td>\n",
       "      <td>0.133162</td>\n",
       "    </tr>\n",
       "  </tbody>\n",
       "</table>\n",
       "</div>"
      ],
      "text/plain": [
       "    Centre droit   Opposition   Centre gauche    Gauche   Majorité dynastique  \\\n",
       "0       0.109686     0.002311        0.017651  0.013935              0.810457   \n",
       "1       0.107732     0.038921        0.058156  0.052971              0.523471   \n",
       "\n",
       "    Tiers-parti   Majorité dynastique    Indépendant  \n",
       "0      0.011329               0.001956      0.017547  \n",
       "1      0.027082               0.035065      0.133162  "
      ]
     },
     "metadata": {},
     "output_type": "display_data"
    }
   ],
   "source": [
    "kmeans = cluster.KMeans(n_clusters=2, max_iter=1000)#vu le faible nombre de grands partis, deux clusters sont suffisants\n",
    "mandat_dep_emp2=mandat_dep[mandat_dep['Régime politique']=='Second Empire - Corps législatif']\n",
    "(depmt_groupe_emp2, gros_groupe_emp2)=datagroupe(mandat_dep_emp2)\n",
    "depmt_app_emp2=clustering(depmt_groupe_emp2.fillna(0))\n",
    "centres=pd.DataFrame(kmeans.cluster_centers_, index=['0','1'],columns=gros_groupe_emp2)\n",
    "pd.set_option('display.max_columns', None)\n",
    "display(centres)"
   ]
  },
  {
   "cell_type": "code",
   "execution_count": 29,
   "metadata": {},
   "outputs": [
    {
     "data": {
      "text/html": [
       "<div>\n",
       "<style scoped>\n",
       "    .dataframe tbody tr th:only-of-type {\n",
       "        vertical-align: middle;\n",
       "    }\n",
       "\n",
       "    .dataframe tbody tr th {\n",
       "        vertical-align: top;\n",
       "    }\n",
       "\n",
       "    .dataframe thead th {\n",
       "        text-align: right;\n",
       "    }\n",
       "</style>\n",
       "<table border=\"1\" class=\"dataframe\">\n",
       "  <thead>\n",
       "    <tr style=\"text-align: right;\">\n",
       "      <th></th>\n",
       "      <th>0</th>\n",
       "      <th>1</th>\n",
       "      <th>ecart</th>\n",
       "    </tr>\n",
       "  </thead>\n",
       "  <tbody>\n",
       "    <tr>\n",
       "      <th>Indépendant</th>\n",
       "      <td>0.017547</td>\n",
       "      <td>0.133162</td>\n",
       "      <td>-0.115615</td>\n",
       "    </tr>\n",
       "    <tr>\n",
       "      <th>Centre gauche</th>\n",
       "      <td>0.017651</td>\n",
       "      <td>0.058156</td>\n",
       "      <td>-0.040504</td>\n",
       "    </tr>\n",
       "    <tr>\n",
       "      <th>Gauche</th>\n",
       "      <td>0.013935</td>\n",
       "      <td>0.052971</td>\n",
       "      <td>-0.039036</td>\n",
       "    </tr>\n",
       "    <tr>\n",
       "      <th>Opposition</th>\n",
       "      <td>0.002311</td>\n",
       "      <td>0.038921</td>\n",
       "      <td>-0.036610</td>\n",
       "    </tr>\n",
       "    <tr>\n",
       "      <th>Majorité dynastique</th>\n",
       "      <td>0.001956</td>\n",
       "      <td>0.035065</td>\n",
       "      <td>-0.033109</td>\n",
       "    </tr>\n",
       "    <tr>\n",
       "      <th>Tiers-parti</th>\n",
       "      <td>0.011329</td>\n",
       "      <td>0.027082</td>\n",
       "      <td>-0.015753</td>\n",
       "    </tr>\n",
       "    <tr>\n",
       "      <th>Centre droit</th>\n",
       "      <td>0.109686</td>\n",
       "      <td>0.107732</td>\n",
       "      <td>0.001954</td>\n",
       "    </tr>\n",
       "    <tr>\n",
       "      <th>Majorité dynastique</th>\n",
       "      <td>0.810457</td>\n",
       "      <td>0.523471</td>\n",
       "      <td>0.286985</td>\n",
       "    </tr>\n",
       "  </tbody>\n",
       "</table>\n",
       "</div>"
      ],
      "text/plain": [
       "                              0         1     ecart\n",
       " Indépendant           0.017547  0.133162 -0.115615\n",
       " Centre gauche         0.017651  0.058156 -0.040504\n",
       " Gauche                0.013935  0.052971 -0.039036\n",
       " Opposition            0.002311  0.038921 -0.036610\n",
       " Majorité dynastique   0.001956  0.035065 -0.033109\n",
       " Tiers-parti           0.011329  0.027082 -0.015753\n",
       " Centre droit          0.109686  0.107732  0.001954\n",
       " Majorité dynastique   0.810457  0.523471  0.286985"
      ]
     },
     "execution_count": 29,
     "metadata": {},
     "output_type": "execute_result"
    }
   ],
   "source": [
    "plusgrandecart=centres.T\n",
    "plusgrandecart['ecart']=plusgrandecart['0']-plusgrandecart['1']\n",
    "plusgrandecart.sort_values(by='ecart')"
   ]
  },
  {
   "cell_type": "markdown",
   "metadata": {},
   "source": [
    "Un groupe clairement pro-pouvoir, l'autre qui regroupe les mécontents (le centre droit faisant office d'entre-deux)"
   ]
  },
  {
   "cell_type": "code",
   "execution_count": 30,
   "metadata": {},
   "outputs": [
    {
     "data": {
      "text/plain": [
       "<AxesSubplot:>"
      ]
     },
     "execution_count": 30,
     "metadata": {},
     "output_type": "execute_result"
    },
    {
     "data": {
      "image/png": "[encoded data removed]",
      "text/plain": [
       "<Figure size 576x396 with 2 Axes>"
      ]
     },
     "metadata": {},
     "output_type": "display_data"
    }
   ],
   "source": [
    "depmt_app_emp2.index=[i[1:] for i in depmt_app_emp2.index]#on commence par enlever l'espace qui est au début du nom des départements\n",
    "df = carte_metrop.merge(depmt_app_emp2, how = 'inner', left_index=True, right_index=True)\n",
    "df.plot(column = 'Appartenance', cmap = 'RdYlBu_r', legend=True)#on crée la carte"
   ]
  },
  {
   "cell_type": "code",
   "execution_count": 40,
   "metadata": {},
   "outputs": [
    {
     "data": {
      "image/png": "[encoded data removed]",
      "text/plain": [
       "<Figure size 576x396 with 1 Axes>"
      ]
     },
     "metadata": {},
     "output_type": "display_data"
    }
   ],
   "source": [
    "proj=acp.fit_transform(depmt_groupe_emp2)\n",
    "nuagepoint(depmt_app_emp2)"
   ]
  },
  {
   "cell_type": "code",
   "execution_count": 84,
   "metadata": {},
   "outputs": [
    {
     "data": {
      "text/plain": [
       "array([[-0.01245552,  0.09971621,  0.12341285,  0.12435676, -0.89625841,\n",
       "         0.08970181,  0.070648  ,  0.37800728],\n",
       "       [ 0.83922823, -0.05123824, -0.18827126, -0.12595902, -0.20966967,\n",
       "        -0.12329484,  0.22178893, -0.36524726]])"
      ]
     },
     "execution_count": 84,
     "metadata": {},
     "output_type": "execute_result"
    }
   ],
   "source": [
    "acp.components_#comme il y a peu de grands partis, on peut regarder facilement les vecteurs propres de l'ACP."
   ]
  },
  {
   "cell_type": "markdown",
   "metadata": {},
   "source": [
    "Le vote pour la majorité dynastique est largement l'élément le plus contributif au plus grand vecteur propre : il est donc correct d'analyser la séparation opérée par le clustering comme une séparation entre départements pro-régime et ceux davantage liés à l'opposition."
   ]
  },
  {
   "cell_type": "markdown",
   "metadata": {},
   "source": [
    "### Analyse des départements selon leur caractéristiques électorales"
   ]
  },
  {
   "cell_type": "code",
   "execution_count": 32,
   "metadata": {},
   "outputs": [],
   "source": [
    "dpartement=table_depmt.set_index('Unnamed: 0')[0:4]"
   ]
  },
  {
   "cell_type": "code",
   "execution_count": 33,
   "metadata": {},
   "outputs": [],
   "source": [
    "dpartement=dpartement.dropna(axis=1)\n",
    "dpartement=dpartement.T[dpartement.T[\"nombre_mandat\"]>40]"
   ]
  },
  {
   "cell_type": "code",
   "execution_count": 34,
   "metadata": {},
   "outputs": [],
   "source": [
    "sc = StandardScaler()\n",
    "centre_red=sc.fit_transform(dpartement)#on centre et réduit les données pour éviter l'effet de taille \n",
    "#du nombre de députés par rapport aux ratios par exemple"
   ]
  },
  {
   "cell_type": "code",
   "execution_count": 35,
   "metadata": {},
   "outputs": [],
   "source": [
    "centre_red=pd.DataFrame(centre_red, index=dpartement.index)"
   ]
  },
  {
   "cell_type": "code",
   "execution_count": 36,
   "metadata": {},
   "outputs": [
    {
     "name": "stderr",
     "output_type": "stream",
     "text": [
      "C:\\Users\\sylva\\Anaconda3\\lib\\site-packages\\sklearn\\base.py:213: FutureWarning: From version 0.24, get_params will raise an AttributeError if a parameter cannot be retrieved as an instance attribute. Previously it would return None.\n",
      "  FutureWarning)\n"
     ]
    },
    {
     "data": {
      "text/plain": [
       "KElbowVisualizer(ax=<AxesSubplot:>, k=None, model=None)"
      ]
     },
     "execution_count": 36,
     "metadata": {},
     "output_type": "execute_result"
    },
    {
     "data": {
      "image/png": "[encoded data removed]",
      "text/plain": [
       "<Figure size 576x396 with 2 Axes>"
      ]
     },
     "metadata": {},
     "output_type": "display_data"
    }
   ],
   "source": [
    "visualizer = KElbowVisualizer(kmeans, k=(2,12))\n",
    "visualizer.fit(centre_red)   "
   ]
  },
  {
   "cell_type": "markdown",
   "metadata": {},
   "source": [
    "Il semble qu'utiliser 5 clusters est optimal."
   ]
  },
  {
   "cell_type": "code",
   "execution_count": 37,
   "metadata": {},
   "outputs": [
    {
     "name": "stdout",
     "output_type": "stream",
     "text": [
      "3.6379149692712556\n"
     ]
    }
   ],
   "source": [
    "kmeans = cluster.KMeans(n_clusters=5, max_iter=10000)\n",
    "centre_red_clust=clustering(centre_red.fillna(0))"
   ]
  },
  {
   "cell_type": "code",
   "execution_count": 38,
   "metadata": {},
   "outputs": [],
   "source": [
    "centre_red_clust.index=[i[1:] for i in centre_red.index]#on commence par enlever l'espace qui est au début du nom des départements"
   ]
  },
  {
   "cell_type": "code",
   "execution_count": 39,
   "metadata": {},
   "outputs": [],
   "source": [
    "df = carte_metrop.merge(centre_red_clust, how = 'inner', left_index=True, right_index=True)"
   ]
  },
  {
   "cell_type": "code",
   "execution_count": 40,
   "metadata": {},
   "outputs": [
    {
     "data": {
      "text/plain": [
       "<AxesSubplot:>"
      ]
     },
     "execution_count": 40,
     "metadata": {},
     "output_type": "execute_result"
    },
    {
     "data": {
      "image/png": "[encoded data removed]",
      "text/plain": [
       "<Figure size 576x396 with 2 Axes>"
      ]
     },
     "metadata": {},
     "output_type": "display_data"
    }
   ],
   "source": [
    "df.plot(column = 'Appartenance', legend=True, cmap='gist_rainbow')#on crée la carte"
   ]
  },
  {
   "cell_type": "code",
   "execution_count": 95,
   "metadata": {},
   "outputs": [],
   "source": [
    "dpartement.index=[i[1:] for i in dpartement.index]"
   ]
  },
  {
   "cell_type": "code",
   "execution_count": 96,
   "metadata": {},
   "outputs": [],
   "source": [
    "analyse=dpartement.join(df[\"Appartenance\"],how='inner')"
   ]
  },
  {
   "cell_type": "code",
   "execution_count": 97,
   "metadata": {},
   "outputs": [
    {
     "data": {
      "text/html": [
       "<div>\n",
       "<style scoped>\n",
       "    .dataframe tbody tr th:only-of-type {\n",
       "        vertical-align: middle;\n",
       "    }\n",
       "\n",
       "    .dataframe tbody tr th {\n",
       "        vertical-align: top;\n",
       "    }\n",
       "\n",
       "    .dataframe thead th {\n",
       "        text-align: right;\n",
       "    }\n",
       "</style>\n",
       "<table border=\"1\" class=\"dataframe\">\n",
       "  <thead>\n",
       "    <tr style=\"text-align: right;\">\n",
       "      <th></th>\n",
       "      <th>age moyen des deputes</th>\n",
       "      <th>nombre_mandat</th>\n",
       "      <th>nombre député</th>\n",
       "      <th>nombre moyen de mandats par député</th>\n",
       "    </tr>\n",
       "    <tr>\n",
       "      <th>Appartenance</th>\n",
       "      <th></th>\n",
       "      <th></th>\n",
       "      <th></th>\n",
       "      <th></th>\n",
       "    </tr>\n",
       "  </thead>\n",
       "  <tbody>\n",
       "    <tr>\n",
       "      <th>0</th>\n",
       "      <td>48.768821</td>\n",
       "      <td>1635.0</td>\n",
       "      <td>804.0</td>\n",
       "      <td>2.033582</td>\n",
       "    </tr>\n",
       "    <tr>\n",
       "      <th>1</th>\n",
       "      <td>48.358941</td>\n",
       "      <td>276.0</td>\n",
       "      <td>125.0</td>\n",
       "      <td>2.262069</td>\n",
       "    </tr>\n",
       "    <tr>\n",
       "      <th>2</th>\n",
       "      <td>52.509394</td>\n",
       "      <td>299.0</td>\n",
       "      <td>118.0</td>\n",
       "      <td>2.568654</td>\n",
       "    </tr>\n",
       "    <tr>\n",
       "      <th>3</th>\n",
       "      <td>49.147059</td>\n",
       "      <td>479.5</td>\n",
       "      <td>207.5</td>\n",
       "      <td>2.253323</td>\n",
       "    </tr>\n",
       "  </tbody>\n",
       "</table>\n",
       "</div>"
      ],
      "text/plain": [
       "              age moyen des deputes  nombre_mandat  nombre député  \\\n",
       "Appartenance                                                        \n",
       "0                         48.768821         1635.0          804.0   \n",
       "1                         48.358941          276.0          125.0   \n",
       "2                         52.509394          299.0          118.0   \n",
       "3                         49.147059          479.5          207.5   \n",
       "\n",
       "              nombre moyen de mandats par député  \n",
       "Appartenance                                      \n",
       "0                                       2.033582  \n",
       "1                                       2.262069  \n",
       "2                                       2.568654  \n",
       "3                                       2.253323  "
      ]
     },
     "execution_count": 97,
     "metadata": {},
     "output_type": "execute_result"
    }
   ],
   "source": [
    "analyse.groupby(\"Appartenance\").median()"
   ]
  },
  {
   "cell_type": "markdown",
   "metadata": {},
   "source": [
    "On peut remarquer un groupe concentrant les départements ayant le plus de députés, et un autre ayant des députés plus âgés et plus souvent réélus, que l'on peut interpréter comme des départements \"conservateurs\" au sens où ils ont moins de renouvellement de leurs élus."
   ]
  },
  {
   "cell_type": "markdown",
   "metadata": {},
   "source": [
    "On voit assez bien que deux groupes ont des caractéristiques assez extrêmes, alors que les autres sont plus centrés"
   ]
  }
 ],
 "metadata": {
  "kernelspec": {
   "display_name": "Python 3",
   "language": "python",
   "name": "python3"
  },
  "language_info": {
   "codemirror_mode": {
    "name": "ipython",
    "version": 3
   },
   "file_extension": ".py",
   "mimetype": "text/x-python",
   "name": "python",
   "nbconvert_exporter": "python",
   "pygments_lexer": "ipython3",
   "version": "3.7.3"
  }
 },
 "nbformat": 4,
 "nbformat_minor": 2
}
